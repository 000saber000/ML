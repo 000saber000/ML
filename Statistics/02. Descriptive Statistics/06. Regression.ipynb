{
 "cells": [
  {
   "cell_type": "markdown",
   "id": "fd393ca0-eef4-42a4-ad13-524c5f050b99",
   "metadata": {},
   "source": [
    "<img src=\"../../images/banners/descriptive-statistics.png\" width=\"600\"/>"
   ]
  },
  {
   "cell_type": "markdown",
   "id": "4523d39a-22b9-4a08-89c1-92fe35aa7760",
   "metadata": {},
   "source": [
    "# <img src=\"../../images/logos/python.png\" width=\"23\"/> Describing Relationships: Correlation "
   ]
  },
  {
   "cell_type": "markdown",
   "id": "3b84d83f-d15a-4ac5-abc0-04c960503713",
   "metadata": {},
   "source": [
    "## <img src=\"../../images/logos/toc.png\" width=\"20\"/> Table of Contents \n",
    "\n",
    "---"
   ]
  },
  {
   "cell_type": "markdown",
   "id": "a07de879-a2ad-4863-bace-ba9007962043",
   "metadata": {},
   "source": [
    "If two variables are correlated, description can lead to prediction. For\n",
    "example, if computer skills and GPAs are related, level of computer skills\n",
    "can be used to predict GPAs. Predictive accuracy increases with the\n",
    "strength of the underlying correlation."
   ]
  },
  {
   "cell_type": "markdown",
   "id": "48602ed2-c96b-4349-9b1a-73a60f9cf28c",
   "metadata": {},
   "source": [
    "Problem followed in the entire lecture:\n",
    "> A correlation analysis of the exchange of greeting cards by five friends for the most\n",
    "recent holiday season suggests a strong positive relationship between cards sent and\n",
    "cards received. When informed of these results, another friend, Emma, who enjoys\n",
    "receiving greeting cards, asks you to predict how many cards she will receive during\n",
    "the next holiday season, assuming that she plans to send 11 cards."
   ]
  },
  {
   "cell_type": "markdown",
   "id": "77fd5f7e-1e7f-464d-b933-b889d4620926",
   "metadata": {},
   "source": [
    "## Regression"
   ]
  },
  {
   "cell_type": "markdown",
   "id": "df6e5e12-108d-4d78-9649-31ad41570722",
   "metadata": {},
   "source": [
    "The term \"regression\" was used by Francis Galton in his 1886 paper \"Regression towards mediocrity in hereditary stature\". To my knowledge he only used the term in the context of regression toward the mean. The term was then adopted by others to get more or less the meaning it has today as a general statistical method."
   ]
  },
  {
   "cell_type": "code",
   "execution_count": 6,
   "id": "0d628315-59f8-43a6-a090-610650010dd7",
   "metadata": {},
   "outputs": [],
   "source": []
  }
 ],
 "metadata": {
  "kernelspec": {
   "display_name": "Python 3",
   "language": "python",
   "name": "python3"
  },
  "language_info": {
   "codemirror_mode": {
    "name": "ipython",
    "version": 3
   },
   "file_extension": ".py",
   "mimetype": "text/x-python",
   "name": "python",
   "nbconvert_exporter": "python",
   "pygments_lexer": "ipython3",
   "version": "3.8.11"
  }
 },
 "nbformat": 4,
 "nbformat_minor": 5
}
