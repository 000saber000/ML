{
 "cells": [
  {
   "cell_type": "markdown",
   "id": "f4c741f0-88c0-4a53-9e57-fd735619c2bf",
   "metadata": {},
   "source": [
    "# Package overview"
   ]
  },
  {
   "cell_type": "markdown",
   "id": "9b125ec4-dd24-4b26-91bb-ce0f6655884c",
   "metadata": {},
   "source": [
    "pandas is a Python package providing fast, flexible, and expressive data structures designed to make working with “relational” or “labeled” data both easy and intuitive. It aims to be the fundamental high-level building block for doing practical, real-world data analysis in Python. Additionally, it has the broader goal of becoming the most powerful and flexible open source data analysis/manipulation tool available in any language. It is already well on its way toward this goal."
   ]
  },
  {
   "cell_type": "code",
   "execution_count": null,
   "id": "ce3a6250-c48a-4839-bd4d-ea04d9a9033c",
   "metadata": {},
   "outputs": [],
   "source": []
  }
 ],
 "metadata": {
  "kernelspec": {
   "display_name": "Python 3",
   "language": "python",
   "name": "python3"
  },
  "language_info": {
   "codemirror_mode": {
    "name": "ipython",
    "version": 3
   },
   "file_extension": ".py",
   "mimetype": "text/x-python",
   "name": "python",
   "nbconvert_exporter": "python",
   "pygments_lexer": "ipython3",
   "version": "3.8.11"
  }
 },
 "nbformat": 4,
 "nbformat_minor": 5
}
