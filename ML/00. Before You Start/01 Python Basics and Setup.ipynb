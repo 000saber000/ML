{
 "cells": [
  {
   "cell_type": "markdown",
   "id": "4a97df34-5639-4e4f-8088-320f4ac00436",
   "metadata": {},
   "source": [
    "<img src=\"../../images/banners/python-before-start.png\" width=\"600\"/>"
   ]
  },
  {
   "cell_type": "markdown",
   "id": "49809804-7e9a-42a9-bf3e-bb6b440bc00e",
   "metadata": {},
   "source": [
    "# <img src=\"../../images/logos/python.png\" width=\"23\"/> Python Basics and Setup"
   ]
  },
  {
   "cell_type": "markdown",
   "id": "949b1a19-730b-4563-a806-7f58149e025a",
   "metadata": {},
   "source": [
    "Python has been largely used for numerical and scientific applications in the last years. However, to perform numerical computations in an efficient manner, Python relies on external libraries, sometimes implemented in other languages, such as the NumPy library, which is partly implemented using the Fortran language."
   ]
  },
  {
   "cell_type": "markdown",
   "id": "d80a9edb-eecf-4eab-b7a1-57d3870f56a3",
   "metadata": {},
   "source": [
    "Due to these dependencies, sometimes it isn’t trivial to set up an environment for numerical computations, linking all the necessary libraries. It’s common for people to struggle to get things working in workshops involving the use of Python for machine learning, especially when they are using an operating system that lacks a package management system, such as Windows."
   ]
  },
  {
   "cell_type": "markdown",
   "id": "17054fcb-bb13-4345-ba31-22520f0c4e6b",
   "metadata": {},
   "source": [
    "<img src=\"../../images/logos/warning.png\" width=\"20\"/> To walk through the details for setting up a Python environment for numerical computations, read **Before You Start** section from [Python Course](https://github.com/pytopia/Python/tree/main/Python/00.%20Before%20You%20Start)"
   ]
  },
  {
   "cell_type": "markdown",
   "id": "9163e6ee-c102-4f27-bee5-d19da3f5e06c",
   "metadata": {},
   "source": [
    "You will be introduced to Anaconda, a Python distribution proposed to circumvent these setup problems\n",
    "See how to install the distribution on Windows/Linux/Mac machines and use its tools to manage packages and environments"
   ]
  },
  {
   "cell_type": "markdown",
   "id": "313ce843-578f-476a-aeba-2a9a42187af9",
   "metadata": {},
   "source": [
    "We will use the installed Python stack to build machine learning pipelines and solve exciting data science problems."
   ]
  }
 ],
 "metadata": {
  "kernelspec": {
   "display_name": "Python 3",
   "language": "python",
   "name": "python3"
  },
  "language_info": {
   "codemirror_mode": {
    "name": "ipython",
    "version": 3
   },
   "file_extension": ".py",
   "mimetype": "text/x-python",
   "name": "python",
   "nbconvert_exporter": "python",
   "pygments_lexer": "ipython3",
   "version": "3.8.11"
  }
 },
 "nbformat": 4,
 "nbformat_minor": 5
}
