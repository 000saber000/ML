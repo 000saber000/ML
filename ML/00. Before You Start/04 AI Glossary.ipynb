{
 "cells": [
  {
   "cell_type": "markdown",
   "id": "7f7b20e8",
   "metadata": {},
   "source": [
    "<img src=\"../../images/banners/python-before-start.png\" width=\"600\"/>"
   ]
  },
  {
   "cell_type": "markdown",
   "id": "72b7e659-0ef0-4448-904a-bcf5356795fb",
   "metadata": {},
   "source": [
    "# <img src=\"../../images/logos/ml-logo.png\" width=\"23\"/> AI Glossary \n"
   ]
  },
  {
   "cell_type": "markdown",
   "id": "249523d4",
   "metadata": {},
   "source": [
    "## <img src=\"../../images/logos/toc.png\" width=\"20\"/> Table of Contents \n",
    "* [Weak AI](#weak_ai)\n",
    "* [Strong AI](#strong_ai)\n",
    "* [Turing test](#turing_test)\n",
    "* [Data](#data)\n",
    "    * [Signal](#signal)\n",
    "    * [Noise](#noise)\n",
    "    * [Structured Data](#structured_data)\n",
    "    * [Unstructured Data](#unstructured_data)\n",
    "    * [Data Lake](#data_lake)\n",
    "* [Brute Force Search](#brute_force_search)\n",
    "* [Heuristics](#heuristics)\n",
    "* [Machine Learning](#machine_learning)\n",
    "* [Data mining](#data_mining)\n",
    "* [Model](#model)\n",
    "* [Parameter](#parameter)\n",
    "    * [Hyperparameter](#hyperparameter)\n",
    "* [Feature Extraction](#feature_extraction)\n",
    "* [Supervised Learning](#supervised_learning)\n",
    "* [Label](#label)\n",
    "* [Unsupervised Learning](#unsupervised_learning)\n",
    "* [Regression](#regression)\n",
    "* [Classification](#classification)\n",
    "* [Clustering](#clustering)\n",
    "* [Reinforcement Learning](#reinforcement_learning)\n",
    "* [Deep learning](#deep_learning)\n",
    "    * [Deep Neural Network](#deep_neural_network)\n",
    "    * [Weights](#weights)\n",
    "* [Data Set Split](#data_set_split)\n",
    "    * [Test Data Set](#test_data_set)\n",
    "    * [Training Data Set](#training_data_set)\n",
    "    * [Validation Data Set](#validation_data_set)\n",
    "* [GPU (Graphics Processing Unit)](#gpu_(graphics_processing_unit))\n",
    "* [Natural language processing (NLP)](#natural_language_processing_(nlp))\n",
    "    * [Natural language understanding (NLU)](#natural_language_understanding_(nlu))\n",
    "    * [Natural language generation (NLG)](#natural_language_generation_(nlg))\n",
    "* [Chatbot](#chatbot)\n",
    "* [Image Recognition](#image_recognition)\n",
    "* [Image Segmentation](#image_segmentation)\n",
    "* [ImageNet](#imagenet)\n",
    "* [Convolutional Neural Network](#convolutional_neural_network)\n",
    "* [Transfer Learning](#transfer_learning)\n",
    "* [Overfitting](#overfitting)\n",
    "* [Underfitting](#underfitting)\n",
    "* [Bias-Variance Tradeoff](#bias-variance_tradeoff)\n",
    "    * [Bias](#bias)\n",
    "    * [Variance](#variance)\n",
    "    * [Regularization](#regularization)\n",
    "* [Evaluation](#evaluation)\n",
    "    * [False Positives (Type I Error)](#false_positives_(type_i_error))\n",
    "    * [False Negatives (Type II Error)](#false_negatives_(type_ii_error))\n",
    "    * [True Negatives](#true_negatives)\n",
    "    * [True Positives](#true_positives)\n",
    "    * [Accuracy](#accuracy)\n",
    "    * [A/B Testing](#a/b_testing)\n",
    "* [ML-Ops](#ml-ops)\n",
    "\n",
    "---"
   ]
  },
  {
   "cell_type": "markdown",
   "id": "873b0d79-5812-4331-bebe-578280be1099",
   "metadata": {},
   "source": [
    "Artificial intelligence as a discipline consists of hundreds of individual technologies, concepts, and applications. It is important to have the big picture before doing a deep dive. So let's have a review."
   ]
  },
  {
   "cell_type": "markdown",
   "id": "ac23ca65-f675-4b5b-82c5-ee751a46b495",
   "metadata": {},
   "source": [
    "Artificial intelligence (AI) is a blanket term that often refers to a suite of technologies and concepts. When we talk about self-learning machines in any form, it’s usually tagged with “AI.” What AI really refers to is **\"weak AI\"** or the simulation of human intelligence to complete a very narrow task. Broader ability to perform tasks within the realm of human intelligence is **Artificial General Intelligence (AGI)** and is more commonly what we are referring to when describing chatbots, voice systems, or medical bots."
   ]
  },
  {
   "cell_type": "markdown",
   "id": "44f70482-765d-4a45-a49c-74cc8a472561",
   "metadata": {},
   "source": [
    "<a class=\"anchor\" id=\"weak_ai\"></a>\n",
    "\n",
    "\n",
    "## Weak AI"
   ]
  },
  {
   "cell_type": "markdown",
   "id": "f84e543a-cd91-47e9-9e95-537b79f527a0",
   "metadata": {},
   "source": [
    "Also known as narrow AI, weak AI refers to a non-sentient computer system that operates within a predetermined range of skills and usually focuses on a singular task or small set of tasks. Most AI in use today is weak AI."
   ]
  },
  {
   "cell_type": "markdown",
   "id": "365ba807-0601-4506-9a10-9e1da198c9e4",
   "metadata": {},
   "source": [
    "<a class=\"anchor\" id=\"strong_ai\"></a>\n",
    "\n",
    "\n",
    "## Strong AI"
   ]
  },
  {
   "cell_type": "markdown",
   "id": "d8c8fb36-bc69-431c-bd44-52a943375146",
   "metadata": {},
   "source": [
    "An area of AI development that is working toward the goal of making AI systems that are as useful and skilled as the human mind."
   ]
  },
  {
   "cell_type": "markdown",
   "id": "1dc8160f-45c0-40b4-b843-2c8413bb254c",
   "metadata": {},
   "source": [
    "<img src=\"./images/ai-glossary/weak-strong-ai.png\" width=\"500\"/>"
   ]
  },
  {
   "cell_type": "markdown",
   "id": "3fda495e-1e62-4e68-833e-539490cc795e",
   "metadata": {},
   "source": [
    "<a class=\"anchor\" id=\"turing_test\"></a>\n",
    "\n",
    "\n",
    "## Turing test"
   ]
  },
  {
   "cell_type": "markdown",
   "id": "8698be09-83e1-4ad8-8693-0ec4f0e4a2b3",
   "metadata": {},
   "source": [
    "A test developed by Alan Turing that tests the ability of a machine to mimic human behavior. The test involves a human evaluator who undertakes natural language conversations with another human and a machine and rates the conversations."
   ]
  },
  {
   "cell_type": "markdown",
   "id": "0d4c4caa-a8d2-4214-ba61-ab55cd944dda",
   "metadata": {},
   "source": [
    "<a class=\"anchor\" id=\"data\"></a>\n",
    "\n",
    "\n",
    "## Data"
   ]
  },
  {
   "cell_type": "markdown",
   "id": "17edd958-3e2f-41ab-99e8-20e0ae8a6832",
   "metadata": {},
   "source": [
    "Any collection of information converted into a digital form."
   ]
  },
  {
   "cell_type": "markdown",
   "id": "48e81607-1201-4f8d-a21d-c5a5886f8da8",
   "metadata": {},
   "source": [
    "<a class=\"anchor\" id=\"signal\"></a>\n",
    "\n",
    "\n",
    "### Signal"
   ]
  },
  {
   "cell_type": "markdown",
   "id": "dd73b65a-08c0-4c88-bb65-2f985afccce6",
   "metadata": {},
   "source": [
    "A signal represents the way you communicate: Say AM/FM radio, smoke, a hand gesture, etc."
   ]
  },
  {
   "cell_type": "markdown",
   "id": "8b59796e-55c1-4d0e-abe4-e2e97d86a0fc",
   "metadata": {},
   "source": [
    "Note that data denotes the information conveyed in the signal. But data may also be stored. So a signal may convey information (data), but not all data is signaled. Data is usually associated with digital storage of information . Signal on the other hand need not contain any information . It is possible to derive information from some signals and store for further processing . For example a white noise that come out of any source (like thermal noise from electronic devices, sound from traffic etc) is a signal, but may or may not be converted in to useful data , depending of subject of interest"
   ]
  },
  {
   "cell_type": "markdown",
   "id": "01c29fb1-a00f-45f5-8b5b-3f159e8af243",
   "metadata": {},
   "source": [
    "<a class=\"anchor\" id=\"noise\"></a>\n",
    "\n",
    "\n",
    "### Noise"
   ]
  },
  {
   "cell_type": "markdown",
   "id": "3611bd8b-fb56-4af4-9d0e-df4ee5c737ca",
   "metadata": {},
   "source": [
    "Signals with no causal relation to the target function."
   ]
  },
  {
   "cell_type": "markdown",
   "id": "8213def2-68ae-4929-8a06-aa0441a8c441",
   "metadata": {},
   "source": [
    "<a class=\"anchor\" id=\"structured_data\"></a>\n",
    "\n",
    "\n",
    "### Structured Data"
   ]
  },
  {
   "cell_type": "markdown",
   "id": "70f90680-10b9-4ba3-9ffa-4a243ce8b361",
   "metadata": {},
   "source": [
    "Data in any form that is generated, captured, analyzed in a linear, tabular, organized format would be considered structured data, i.e., business data generated within organizations within traditional applications are typically structured data."
   ]
  },
  {
   "cell_type": "markdown",
   "id": "2aa87801-96ec-4e93-982d-1bb6e2cac6ab",
   "metadata": {},
   "source": [
    "<a class=\"anchor\" id=\"unstructured_data\"></a>\n",
    "\n",
    "\n",
    "### Unstructured Data"
   ]
  },
  {
   "cell_type": "markdown",
   "id": "6cee1f42-79f9-4667-9e68-ae67ceb72b9e",
   "metadata": {},
   "source": [
    "Unstructured data is defined as the type of data that can have multiple origins from online digital files, text documents, SMS, video, images, voice, sensors, pings, etc.—anything that is not available in a traditional row, column, or table format. Most of the data being generated today is unstructured data and is one of the driving forces behind the rise of AI."
   ]
  },
  {
   "cell_type": "markdown",
   "id": "67e25e38-c48e-4b06-b2d0-54506c12a4ed",
   "metadata": {},
   "source": [
    "### Database"
   ]
  },
  {
   "cell_type": "markdown",
   "id": "05abfc87-dedd-44f5-a2ce-de44f95c3e80",
   "metadata": {},
   "source": [
    "<img src=\"./images/ai-glossary/database_datalake_datawarehouse.jpeg\" width=\"400\"/>"
   ]
  },
  {
   "cell_type": "markdown",
   "id": "b43912d3-b0b1-4607-bc33-7ed33a1734ef",
   "metadata": {},
   "source": [
    "A database is a storage location that houses structured data. We usually think of a database on a computer—holding data, easily accessible in a number of ways. Arguably, you could consider your smartphone a database on its own, thanks to all the data it stores about you."
   ]
  },
  {
   "cell_type": "markdown",
   "id": "fd7e0be8-4a6b-43fb-a251-7a91ba140876",
   "metadata": {},
   "source": [
    "Popular databases are:\n",
    "\n",
    "- Oracle\n",
    "- PostgreSQL\n",
    "- MongoDB\n",
    "- Redis\n",
    "- Elasticsearch\n",
    "- Apache Cassandra"
   ]
  },
  {
   "cell_type": "markdown",
   "id": "b0027d6e-510a-4e6b-a3ca-20c8be64984b",
   "metadata": {},
   "source": [
    "### Data Warehouse"
   ]
  },
  {
   "cell_type": "markdown",
   "id": "92d9a228-5fc7-478e-ab8a-5d0ea3d26ab9",
   "metadata": {},
   "source": [
    "The next step up from a database is a data warehouse. Data warehouses are large storage locations for data that you accumulate from a wide range of sources. For decades, the foundation for business intelligence and data discovery/storage rested on data warehouses. Their specific, static structures dictate what data analysis you could perform."
   ]
  },
  {
   "cell_type": "markdown",
   "id": "27da1e34-022d-408e-896e-228e33c0f46e",
   "metadata": {},
   "source": [
    "Data warehouses are popular with mid- and large-size businesses as a way of sharing data and content across the team- or department-siloed databases. Data warehouses help organizations become more efficient. Organizations that use data warehouses often do so to guide management decisions—all those “data-driven” decisions you always hear about."
   ]
  },
  {
   "cell_type": "markdown",
   "id": "9f9de5d4-7b02-4296-89a6-7c8d20098d9f",
   "metadata": {},
   "source": [
    "Popular companies that offer data warehouses include:\n",
    "\n",
    "- Snowflake\n",
    "- Yellowbrick\n",
    "- Teradata"
   ]
  },
  {
   "cell_type": "markdown",
   "id": "65e0de12-069d-47b1-9500-1edf24dba1d9",
   "metadata": {},
   "source": [
    "<a class=\"anchor\" id=\"data_lake\"></a>\n",
    "\n",
    "\n",
    "### Data Lake"
   ]
  },
  {
   "cell_type": "markdown",
   "id": "7a6f4ec6-bfb6-40e5-b121-441124a4ab3b",
   "metadata": {},
   "source": [
    "A data lake is a large storage repository that holds a huge amount of raw data in its original format until you need it. Data lakes exploit the biggest limitation of data warehouses: their ability to be more flexible."
   ]
  },
  {
   "cell_type": "markdown",
   "id": "6db987a8-dd79-4701-9257-96283d9b37fa",
   "metadata": {},
   "source": [
    "As we’ll see below, the use cases for data lakes are generally limited to data science research and testing—so the primary users of data lakes are data scientists and engineers. For a company that actually builds data warehouses, for instance, the data lake is a place to dump and temporarily store all the data until the data warehouse is up and running. Small and medium sized organizations likely have little to no reason to use a data lake."
   ]
  },
  {
   "cell_type": "markdown",
   "id": "b102f226-9c12-4252-9a83-8abc6f808f77",
   "metadata": {},
   "source": [
    "Popular data lake companies are:\n",
    "\n",
    "- Hadoop\n",
    "- Azure\n",
    "- Amazon S3"
   ]
  },
  {
   "cell_type": "markdown",
   "id": "0f201b18-174d-4623-b662-fc1e8c0b2b52",
   "metadata": {},
   "source": [
    "<img src=\"./images/ai-glossary/Data-Lake-vs-Data-Warehouse-vs-Database-Explained.png\" width=\"400\"/>"
   ]
  },
  {
   "cell_type": "markdown",
   "id": "98a237f4-3431-496f-973e-290851d1d90b",
   "metadata": {},
   "source": [
    "<img src=\"./images/ai-glossary/datalake_datawarehouse.png\" width=\"600\"/>"
   ]
  },
  {
   "cell_type": "markdown",
   "id": "bde4a861-f6db-4c99-8c9c-7fa3e996efb6",
   "metadata": {},
   "source": [
    "<a class=\"anchor\" id=\"brute_force_search\"></a>\n",
    "\n",
    "\n",
    "## Brute Force Search"
   ]
  },
  {
   "cell_type": "markdown",
   "id": "062264db-f6fb-416f-83e1-68bbe18fd2b9",
   "metadata": {},
   "source": [
    "A search that isn’t limited by clustering/ approximations; it searches across all inputs. Often more time-consuming and expensive but more thorough."
   ]
  },
  {
   "cell_type": "markdown",
   "id": "8cfbfda3-e18c-4ebf-b27e-9699a5cad2c8",
   "metadata": {},
   "source": [
    "<a class=\"anchor\" id=\"heuristics\"></a>\n",
    "\n",
    "\n",
    "## Heuristics"
   ]
  },
  {
   "cell_type": "markdown",
   "id": "aecb3b0c-20cc-4e62-b581-c23043c34944",
   "metadata": {},
   "source": [
    "These are rules drawn from experience used to solve a problem more quickly than traditional problem-solving methods in AI. While faster, a heuristic approach typically is less optimal than the classic methods it replaces.\n",
    "\n",
    "In other words, a heuristic, or heuristic technique, is any approach to problem-solving that uses a practical method or various shortcuts in order to produce solutions that may not be optimal but are sufficient given a limited timeframe or deadline"
   ]
  },
  {
   "cell_type": "markdown",
   "id": "b59ffc5e-5909-45bd-adb0-698156855b8c",
   "metadata": {},
   "source": [
    "<a class=\"anchor\" id=\"machine_learning\"></a>\n",
    "\n",
    "\n",
    "## Machine Learning"
   ]
  },
  {
   "cell_type": "markdown",
   "id": "0bfa33da-21cf-45ae-a95e-745138a11dc8",
   "metadata": {},
   "source": [
    "<img src=\"./images/ai-glossary/ml-dl-ai.png\" width=\"400\"/>"
   ]
  },
  {
   "cell_type": "markdown",
   "id": "f495c729-373f-4dcf-8e2b-9edd7beba70f",
   "metadata": {},
   "source": [
    "A field of AI focused on getting machines to act without being programmed to do so. Machines “learn” from patterns they recognize and adjust their behavior accordingly."
   ]
  },
  {
   "cell_type": "markdown",
   "id": "cf276647-a95b-4953-80a0-b06abb82204f",
   "metadata": {},
   "source": [
    "<a class=\"anchor\" id=\"data_mining\"></a>\n",
    "\n",
    "\n",
    "## Data mining"
   ]
  },
  {
   "cell_type": "markdown",
   "id": "6709d86f-2a6c-4fd1-9dc9-7f6c6a984ee8",
   "metadata": {},
   "source": [
    "The process by which patterns are discovered within large sets of data with the goal of extracting useful information from it."
   ]
  },
  {
   "cell_type": "markdown",
   "id": "00ab7fbf-fba9-41ac-aee4-7112f2948d21",
   "metadata": {},
   "source": [
    "It is different to machine learning. Data mining is designed to extract the rules from large quantities of data, while machine learning teaches a computer how to learn and comprehend the given parameters. Or to put it another way, data mining is simply a method of researching to determine a particular outcome based on the total of the gathered data. On the other side of the coin, we have machine learning, which trains a system to perform complex tasks and uses harvested data and experience to become smarter."
   ]
  },
  {
   "cell_type": "markdown",
   "id": "c7f2c5dc-f921-4177-9e47-feb69b6d8ea5",
   "metadata": {},
   "source": [
    "Broadly speaking, data mining is the computer-driven process of exploring data sets, pinpointing key trends and anomalies, and subsequently analyzing these findings to form conclusions and make better decisions. Data mining is used in countless industries as a means of improving efficiency, developing crucial consumer insights, and innovating on existing business models. "
   ]
  },
  {
   "cell_type": "markdown",
   "id": "96bd4db3-327f-4a03-bf0b-7ce230ce67d1",
   "metadata": {},
   "source": [
    "<img src=\"./images/ai-glossary/data-mining-Venn-diagram.png\" width=\"400\"/>"
   ]
  },
  {
   "cell_type": "markdown",
   "id": "8d236b31-b62f-4bca-ba1b-9f22c1dfd07e",
   "metadata": {
    "tags": []
   },
   "source": [
    "<a class=\"anchor\" id=\"model\"></a>\n",
    "\n",
    "\n",
    "## Model"
   ]
  },
  {
   "cell_type": "markdown",
   "id": "517fa14d-3fe8-4384-835f-7105ac18f2ab",
   "metadata": {},
   "source": [
    "<img src=\"./images/ai-glossary/ml-model.png\" width=\"400\"/>"
   ]
  },
  {
   "cell_type": "markdown",
   "id": "81cb03ee-2cdc-4f2b-a0f6-1eb8262438fb",
   "metadata": {},
   "source": [
    "A processing block that takes inputs, such as images or videos, and returns predicted concepts."
   ]
  },
  {
   "cell_type": "markdown",
   "id": "12f53e5c-4187-4fae-b43b-5e56efa29666",
   "metadata": {},
   "source": [
    "<a class=\"anchor\" id=\"parameter\"></a>\n",
    "\n",
    "\n",
    "## Parameter"
   ]
  },
  {
   "cell_type": "markdown",
   "id": "4aa8effe-ce16-44a3-b1b6-7096172c6bf8",
   "metadata": {},
   "source": [
    "Any characteristic that can be used to help define or classify a system. In AI, they are used to clarify exactly what an algorithm should be seeking to identify as important data when performing its target function."
   ]
  },
  {
   "cell_type": "markdown",
   "id": "4ad3abe1-a0f7-4ac3-b2ba-8a24004c76be",
   "metadata": {},
   "source": [
    "<a class=\"anchor\" id=\"hyperparameter\"></a>\n",
    "\n",
    "\n",
    "### Hyperparameter"
   ]
  },
  {
   "cell_type": "markdown",
   "id": "a96a0ea2-5ec2-4205-8174-95c40b3be245",
   "metadata": {},
   "source": [
    "Occasionally used interchangeably with parameter, although the terms have some subtle differences. Hyperparameters are values that affect the way your model learns. They are usually set manually outside the model."
   ]
  },
  {
   "cell_type": "markdown",
   "id": "f24e6bd8-2143-4b16-943a-17a0e5779f8e",
   "metadata": {},
   "source": [
    "<img src=\"./images/ai-glossary/parameter-hyperparameter.png\" width=\"400\"/>"
   ]
  },
  {
   "cell_type": "markdown",
   "id": "5a601772-a83b-490f-afd8-c4c145c3f8ad",
   "metadata": {},
   "source": [
    "<a class=\"anchor\" id=\"feature_extraction\"></a>\n",
    "\n",
    "\n",
    "## Feature Extraction"
   ]
  },
  {
   "cell_type": "markdown",
   "id": "1a801d9e-56b5-44fd-9deb-884980630d92",
   "metadata": {},
   "source": [
    "The process by which data that is too large to be processed is transformed into a reduced representation set of features such as a car features: speed, number of wheels, price, etc."
   ]
  },
  {
   "cell_type": "markdown",
   "id": "f3753290-962c-43a8-9a9a-efb571245dcf",
   "metadata": {},
   "source": [
    "<a class=\"anchor\" id=\"supervised_learning\"></a>\n",
    "\n",
    "\n",
    "## Supervised Learning"
   ]
  },
  {
   "cell_type": "markdown",
   "id": "4e72741c-5ab1-4e87-9f56-d4eb8261e24e",
   "metadata": {},
   "source": [
    "A type of machine learning in which human input and supervision are an integral part of the machine learning process on an ongoing basis. In supervised learning, there is a clear outcome to the machine’s data mining and its target function is to achieve this outcome, nothing more."
   ]
  },
  {
   "cell_type": "markdown",
   "id": "6b707263-994d-421e-91c8-8572ba54de68",
   "metadata": {},
   "source": [
    "<a class=\"anchor\" id=\"label\"></a>\n",
    "\n",
    "\n",
    "## Label"
   ]
  },
  {
   "cell_type": "markdown",
   "id": "987623fd-ea51-4958-9045-b37675ca37a5",
   "metadata": {},
   "source": [
    "A part of training data that identifies the desired output for that particular piece of data."
   ]
  },
  {
   "cell_type": "markdown",
   "id": "7f364202-c4e1-46f0-bbd5-1e99394302fa",
   "metadata": {},
   "source": [
    "<a class=\"anchor\" id=\"unsupervised_learning\"></a>\n",
    "\n",
    "\n",
    "## Unsupervised Learning"
   ]
  },
  {
   "cell_type": "markdown",
   "id": "5329915e-e144-42e5-ac5d-e426e034d440",
   "metadata": {},
   "source": [
    "A class of machine learning algorithms that learns patterns in data without knowing outcomes. Here, the machine is presented with totally unlabelled data, then asked to find the intrinsic patterns in or draw its own conclusions from the data."
   ]
  },
  {
   "cell_type": "markdown",
   "id": "1ea73180-6675-4ae1-b6bf-a1baefc97e16",
   "metadata": {},
   "source": [
    "<a class=\"anchor\" id=\"regression\"></a>\n",
    "\n",
    "\n",
    "## Regression"
   ]
  },
  {
   "cell_type": "markdown",
   "id": "dd98da25-a4fb-46c0-9b45-89e97a8123f4",
   "metadata": {},
   "source": [
    "A statistical measure used to determine the strength of the relationships between dependent and independent variables."
   ]
  },
  {
   "cell_type": "markdown",
   "id": "8c8b53d6-37f2-4eba-9679-bdf1934706d4",
   "metadata": {},
   "source": [
    "<a class=\"anchor\" id=\"classification\"></a>\n",
    "\n",
    "\n",
    "## Classification"
   ]
  },
  {
   "cell_type": "markdown",
   "id": "66add101-d160-4684-87bb-e602c02f52da",
   "metadata": {},
   "source": [
    "Classification is the task of predicting a discrete class label. Regression is the task of predicting a continuous quantity."
   ]
  },
  {
   "cell_type": "markdown",
   "id": "19543f37-4e44-4878-b672-13acd37f42e1",
   "metadata": {},
   "source": [
    "<img src=\"./images/ai-glossary/regression-classification.png\" width=\"600\"/>"
   ]
  },
  {
   "cell_type": "markdown",
   "id": "83ba41c3-bff9-4539-8291-d865e2fceedc",
   "metadata": {},
   "source": [
    "<a class=\"anchor\" id=\"clustering\"></a>\n",
    "\n",
    "\n",
    "## Clustering"
   ]
  },
  {
   "cell_type": "markdown",
   "id": "441eb464-dc0b-41c5-979c-fc244a463c22",
   "metadata": {},
   "source": [
    "In Machine Learning, the unsupervised task of grouping a set of objects so that objects within the same group (called a cluster) are more “similar” to each other than they are to those in other groups."
   ]
  },
  {
   "cell_type": "markdown",
   "id": "8095c948-2b8b-4476-838c-f8e9ed47a8f4",
   "metadata": {},
   "source": [
    "<img src=\"./images/ai-glossary/supervised-unsupervised.jpeg\" width=\"500\"/>"
   ]
  },
  {
   "cell_type": "markdown",
   "id": "ab7312d0-dfd5-4b19-96f9-a5d223de3234",
   "metadata": {},
   "source": [
    "<a class=\"anchor\" id=\"reinforcement_learning\"></a>\n",
    "\n",
    "\n",
    "## Reinforcement Learning"
   ]
  },
  {
   "cell_type": "markdown",
   "id": "19d18989-6379-4aab-82f7-8e436adf3491",
   "metadata": {},
   "source": [
    "A type of machine learning in which machines are “taught” to achieve their target function through a process of experimentation and reward receiving positive reinforcement when its processes produce the desired result and negative reinforcement when they do not. This is differentiated from supervised learning, which would require an annotation for every individual action the algorithm would take."
   ]
  },
  {
   "cell_type": "markdown",
   "id": "269ada57-e953-4ed1-85fb-0ba3ea7fc6f1",
   "metadata": {},
   "source": [
    "<img src=\"./images/ai-glossary/ml-categories.png\" width=\"500\"/>"
   ]
  },
  {
   "cell_type": "markdown",
   "id": "89f9b836-4e4d-468c-bd32-1d3883315b4f",
   "metadata": {},
   "source": [
    "<a class=\"anchor\" id=\"deep_learning\"></a>\n",
    "\n",
    "\n",
    "## Deep learning"
   ]
  },
  {
   "cell_type": "markdown",
   "id": "b8735395-9b68-4b5f-a9c9-df4982a6061f",
   "metadata": {},
   "source": [
    "A subset of machine learning that uses specialized algorithms to model and understand complex structures and relationships among data and datasets."
   ]
  },
  {
   "cell_type": "markdown",
   "id": "cc22b080-4d98-4b43-a521-eab37612834a",
   "metadata": {},
   "source": [
    "<img src=\"./images/ai-glossary/deep-learning.png\" width=\"600\"/>"
   ]
  },
  {
   "cell_type": "markdown",
   "id": "4622dd49-556f-4001-8a08-6b3f694a95e8",
   "metadata": {},
   "source": [
    "<a class=\"anchor\" id=\"deep_neural_network\"></a>\n",
    "\n",
    "\n",
    "### Deep Neural Network"
   ]
  },
  {
   "cell_type": "markdown",
   "id": "0e75f5fb-9a27-4ffa-9085-aa44f6c2e83a",
   "metadata": {},
   "source": [
    "An artificial neural network (ANN) with multiple layers between the input and output layers. It uses sophisticated mathematical modelling to process data in complex ways."
   ]
  },
  {
   "cell_type": "markdown",
   "id": "27c75549-bd8d-4593-b881-9ea126d659a9",
   "metadata": {},
   "source": [
    "<a class=\"anchor\" id=\"weights\"></a>\n",
    "\n",
    "\n",
    "### Weights"
   ]
  },
  {
   "cell_type": "markdown",
   "id": "07d8aae6-9014-4bd1-beac-2014ee6df3ab",
   "metadata": {},
   "source": [
    "The connection strength between units, or nodes, in a neural network. These weights can be adjusted in a process called learning."
   ]
  },
  {
   "cell_type": "markdown",
   "id": "5a85fb53-730b-42da-b27d-eb9fc4beb918",
   "metadata": {},
   "source": [
    "<a class=\"anchor\" id=\"data_set_split\"></a>\n",
    "\n",
    "\n",
    "## Data Set Split"
   ]
  },
  {
   "cell_type": "markdown",
   "id": "fd3b62de-f4c8-4f77-812d-50bbed3aa066",
   "metadata": {},
   "source": [
    "<a class=\"anchor\" id=\"test_data_set\"></a>\n",
    "\n",
    "\n",
    "### Test Data Set"
   ]
  },
  {
   "cell_type": "markdown",
   "id": "17bc2f1b-2fe8-49fa-a1b6-eebc9133453e",
   "metadata": {},
   "source": [
    "In machine learning, the test data set is the data given to the machine after the training and validation phases have been completed. This data set is used to check the performance characteristics of the algorithms produced after the completion of the first two phases when presented with unknown data. This will give a good indication of the accuracy, sensitivity, and specificity of the algorithm’s predictive powers."
   ]
  },
  {
   "cell_type": "markdown",
   "id": "ba379d1a-e6db-40a9-a32a-201a91f68b87",
   "metadata": {},
   "source": [
    "<a class=\"anchor\" id=\"training_data_set\"></a>\n",
    "\n",
    "\n",
    "### Training Data Set\n",
    "In machine learning, the training data set is the data given to the machine during the initial “learning” or “training” phase. From this data set the machine is meant to gain some insight into options for the efficient completion of its assigned task through identifying relationships between the data."
   ]
  },
  {
   "cell_type": "markdown",
   "id": "3487556c-e6bd-45b2-aa13-9e92a17ad81b",
   "metadata": {},
   "source": [
    "<a class=\"anchor\" id=\"validation_data_set\"></a>\n",
    "\n",
    "\n",
    "### Validation Data Set"
   ]
  },
  {
   "cell_type": "markdown",
   "id": "94de91e0-2113-4f70-af4c-602af5fb77d0",
   "metadata": {},
   "source": [
    "The sample of data used to provide an unbiased evaluation of a model fit on the training dataset while tuning model hyper parameters. The evaluation becomes more biased as skill on the validation dataset is incorporated into the model configuration."
   ]
  },
  {
   "cell_type": "markdown",
   "id": "3ee87759-e14c-4fbe-b5fc-a713d8ffcde7",
   "metadata": {},
   "source": [
    "<img src=\"./images/ai-glossary/training-validation-test-data-set.png\" width=\"500\"/>"
   ]
  },
  {
   "cell_type": "markdown",
   "id": "3d949782-c182-4bb7-8f2c-c37986a97e41",
   "metadata": {},
   "source": [
    "<a class=\"anchor\" id=\"gpu_(graphics_processing_unit)\"></a>\n",
    "\n",
    "\n",
    "## GPU (Graphics Processing Unit)"
   ]
  },
  {
   "cell_type": "markdown",
   "id": "1f1f9b29-eb29-4e47-a4ed-cb5a4bb52f88",
   "metadata": {},
   "source": [
    "A specialized electronic circuit designed to rapidly manipulate and alter memory to accelerate the creation of images in a frame buffer intended for output to a display device. GPUs are used in embedded systems, mobile phones, personal computers, workstations, game consoles."
   ]
  },
  {
   "cell_type": "markdown",
   "id": "0e6362f0-472a-4de5-b331-643bad4102f8",
   "metadata": {},
   "source": [
    "<a class=\"anchor\" id=\"natural_language_processing_(nlp)\"></a>\n",
    "\n",
    "\n",
    "## Natural language processing (NLP)"
   ]
  },
  {
   "cell_type": "markdown",
   "id": "d9c16e91-d027-4d6e-b8e9-8013728c6b1b",
   "metadata": {},
   "source": [
    "The umbrella term for any machine’s ability to perform conversational tasks, such as recognizing what is said to it, understanding the intended meaning and responding intelligibly."
   ]
  },
  {
   "cell_type": "markdown",
   "id": "c49070d9-93ff-4bcf-a2d0-ed8e1ab2f1af",
   "metadata": {},
   "source": [
    "<a class=\"anchor\" id=\"natural_language_understanding_(nlu)\"></a>\n",
    "\n",
    "\n",
    "### Natural language understanding (NLU)"
   ]
  },
  {
   "cell_type": "markdown",
   "id": "ba41d5d4-b220-46fc-a1f8-d514a5d7ce40",
   "metadata": {},
   "source": [
    "As a subset of natural language processing, natural language understanding deals with helping machines to recognize the intended meaning of language — taking into account its subtle nuances and any grammatical errors."
   ]
  },
  {
   "cell_type": "markdown",
   "id": "5d6996eb-c442-4e77-8386-4879b21f9871",
   "metadata": {},
   "source": [
    "<a class=\"anchor\" id=\"natural_language_generation_(nlg)\"></a>\n",
    "\n",
    "\n",
    "### Natural language generation (NLG)"
   ]
  },
  {
   "cell_type": "markdown",
   "id": "b6b81756-0153-46fb-bc16-c2e1bec26c4e",
   "metadata": {},
   "source": [
    "This refers to the process by which a machine turns structured data into text or speech that humans can understand. Essentially, NLG is concerned with what a machine writes or says as the end part of the communication process."
   ]
  },
  {
   "cell_type": "markdown",
   "id": "cf90d9df-3947-4c77-aede-b6456f7b3304",
   "metadata": {},
   "source": [
    "<img src=\"./images/ai-glossary/nlp-nlu-nlg.jpeg\" width=\"300\"/>"
   ]
  },
  {
   "cell_type": "markdown",
   "id": "81024418-4384-4c43-ae58-038f11efeb97",
   "metadata": {},
   "source": [
    "<a class=\"anchor\" id=\"chatbot\"></a>\n",
    "\n",
    "\n",
    "## Chatbot"
   ]
  },
  {
   "cell_type": "markdown",
   "id": "88410e8f-1ed2-4a5f-af6b-b9d90fb9c193",
   "metadata": {},
   "source": [
    "A chatbot is program that is designed to communicate with people through text or voice commands in a way that mimics human-to-human conversation."
   ]
  },
  {
   "cell_type": "markdown",
   "id": "8f81989e-b2dd-4855-acac-b5e8b7c6bd40",
   "metadata": {},
   "source": [
    "<a class=\"anchor\" id=\"image_recognition\"></a>\n",
    "\n",
    "\n",
    "## Image Recognition"
   ]
  },
  {
   "cell_type": "markdown",
   "id": "8508c2d9-7aeb-40f9-9676-18ce9a188b41",
   "metadata": {},
   "source": [
    "The ability of software to identify objects, places, people, writing, and actions in images."
   ]
  },
  {
   "cell_type": "markdown",
   "id": "41bcedcf-04b0-420e-94c5-2ef44437b427",
   "metadata": {},
   "source": [
    "<a class=\"anchor\" id=\"image_segmentation\"></a>\n",
    "\n",
    "\n",
    "## Image Segmentation"
   ]
  },
  {
   "cell_type": "markdown",
   "id": "b200b1e4-5495-4dde-a888-4f60ba030477",
   "metadata": {},
   "source": [
    "The process of dividing a digital image into multiple segments/fragments, with the goal of simplifying or changing the representation of an image into something that is easier to analyze. Segmentation divides whole images into pixel groupings, which can then be labelled and classified. Put simply, segmentation is to put a bounding box around the desired object in an image and do a pixel-by-pixel outline of that object, removing the background."
   ]
  },
  {
   "cell_type": "markdown",
   "id": "64625cb8-a22c-49fb-8b09-8ce776cd330f",
   "metadata": {},
   "source": [
    "<img src=\"./images/ai-glossary/vision-tasks.jpeg\" width=\"500\"/>"
   ]
  },
  {
   "cell_type": "markdown",
   "id": "93de0bc5-2d46-4776-98fc-a5b3ba5f22e0",
   "metadata": {},
   "source": [
    "<a class=\"anchor\" id=\"imagenet\"></a>\n",
    "\n",
    "\n",
    "## ImageNet"
   ]
  },
  {
   "cell_type": "markdown",
   "id": "b2fed52c-2db1-4da1-b47a-9cbcd5b3be9c",
   "metadata": {},
   "source": [
    "A large visual database designed for use in visual object recognition software research. Over 14 million URLs of images have been hand-annotated by ImageNet to indicate what objects are pictured; in at least one million of the images, bounding boxes are also provided."
   ]
  },
  {
   "cell_type": "markdown",
   "id": "9ecb7e6a-60f4-4713-aaf6-97ab8d43f87e",
   "metadata": {},
   "source": [
    "<img src=\"./images/ai-glossary/imagenet.jpeg\" width=\"300\"/>"
   ]
  },
  {
   "cell_type": "markdown",
   "id": "b964cd67-6ba6-4a3b-b6ec-746612e9b4a6",
   "metadata": {},
   "source": [
    "<a class=\"anchor\" id=\"convolutional_neural_network\"></a>\n",
    "\n",
    "\n",
    "## Convolutional Neural Network"
   ]
  },
  {
   "cell_type": "markdown",
   "id": "43895d2d-d093-445b-b4e7-c81eff036a1d",
   "metadata": {},
   "source": [
    "Convolutional neural networks are deep artificial neural networks that are used primarily to classify images (e.g. name what they see), cluster them by similarity (photo search), and perform object recognition within scenes."
   ]
  },
  {
   "cell_type": "markdown",
   "id": "b1b03d06-4d2f-4002-a436-30c7aa112cab",
   "metadata": {},
   "source": [
    "<a class=\"anchor\" id=\"transfer_learning\"></a>\n",
    "\n",
    "\n",
    "## Transfer Learning"
   ]
  },
  {
   "cell_type": "markdown",
   "id": "612e8203-d665-4f37-a4ff-ef8f38a6b53b",
   "metadata": {},
   "source": [
    "This method of learning involves spending time teaching a machine to do a related task, then allowing it to return to its original work with improved accuracy. One potential example of this is taking a model that analyzes sentiment in product reviews and asking it to analyze tweets for a week."
   ]
  },
  {
   "cell_type": "markdown",
   "id": "d1f4bf8e-75fe-4b3b-bd8a-ca99909aa4da",
   "metadata": {},
   "source": [
    "<img src=\"./images/ai-glossary/transfer-learning.jpeg\" width=\"400\"/>"
   ]
  },
  {
   "cell_type": "markdown",
   "id": "e1deff82-cd31-4ba1-8623-a2c98bad719f",
   "metadata": {},
   "source": [
    "<a class=\"anchor\" id=\"overfitting\"></a>\n",
    "\n",
    "\n",
    "## Overfitting"
   ]
  },
  {
   "cell_type": "markdown",
   "id": "b630ae95-a172-4c4b-b717-dda03a83daa4",
   "metadata": {},
   "source": [
    "A machine learning problem where an algorithm is unable to discern information that is relevant to its assigned task from information which is irrelevant within training data. Overfitting inhibits the algorithm’s predictive performance when dealing with new data."
   ]
  },
  {
   "cell_type": "markdown",
   "id": "23ca97b6-ecfe-4943-aaa2-31ac820ef924",
   "metadata": {},
   "source": [
    "<a class=\"anchor\" id=\"underfitting\"></a>\n",
    "\n",
    "\n",
    "## Underfitting"
   ]
  },
  {
   "cell_type": "markdown",
   "id": "d676fc39-1809-43eb-96e3-37c5e0aaecb1",
   "metadata": {},
   "source": [
    "The fact that a Machine Learning algorithm fails to capture the underlying structure of the data properly, typically because the model is either not sophisticated enough, or not appropriate for the task at hand; opposite of Overfitting."
   ]
  },
  {
   "cell_type": "markdown",
   "id": "5e3e493f-ba35-47f4-b363-c8fe51093dde",
   "metadata": {},
   "source": [
    "<img src=\"./images/ai-glossary/overfitting-underfitting.png\" width=\"500\"/>"
   ]
  },
  {
   "cell_type": "markdown",
   "id": "5ed03dc5-833d-42e1-b985-a13215850e16",
   "metadata": {},
   "source": [
    "<a class=\"anchor\" id=\"bias-variance_tradeoff\"></a>\n",
    "\n",
    "\n",
    "## Bias-Variance Tradeoff"
   ]
  },
  {
   "cell_type": "markdown",
   "id": "376f4f94-8a83-4f9c-8174-e928247858f8",
   "metadata": {},
   "source": [
    "A conflict arising when data scientists try to simultaneously minimize bias and variance, that prevents supervised algorithms from generalizing beyond their training set."
   ]
  },
  {
   "cell_type": "markdown",
   "id": "444bcf8b-d63d-4c91-977b-434b28f503b1",
   "metadata": {},
   "source": [
    "<a class=\"anchor\" id=\"bias\"></a>\n",
    "\n",
    "\n",
    "### Bias"
   ]
  },
  {
   "cell_type": "markdown",
   "id": "b552e317-1f62-4986-a6f0-899ff5d0821c",
   "metadata": {},
   "source": [
    "Assumptions made by a model that simplify the process of learning to do its assigned task. Most supervised machine learning models perform better with low bias, as these assumptions can negatively affect results."
   ]
  },
  {
   "cell_type": "markdown",
   "id": "3b8ae542-b49b-4410-8936-27eba5e9fbb7",
   "metadata": {},
   "source": [
    "<a class=\"anchor\" id=\"variance\"></a>\n",
    "\n",
    "\n",
    "### Variance"
   ]
  },
  {
   "cell_type": "markdown",
   "id": "1eac6581-435c-417a-bc81-df3201644942",
   "metadata": {},
   "source": [
    "The amount that the intended function of a machine learning model changes while it’s being trained. Despite being flexible, models with high variance are prone to overfitting and low predictive accuracy because they are reliant on their training data."
   ]
  },
  {
   "cell_type": "markdown",
   "id": "18125916-ebdf-4acb-9351-2c7a887cf0fc",
   "metadata": {},
   "source": [
    "<img src=\"./images/ai-glossary/bias-variance-tradeoff.jpeg\" width=\"500\"/>"
   ]
  },
  {
   "cell_type": "markdown",
   "id": "824ad40f-2c8e-4137-91db-7ca240067fb3",
   "metadata": {},
   "source": [
    "<a class=\"anchor\" id=\"regularization\"></a>\n",
    "\n",
    "\n",
    "### Regularization"
   ]
  },
  {
   "cell_type": "markdown",
   "id": "d2821c26-c083-4770-a106-007f6aee447e",
   "metadata": {},
   "source": [
    "The process of introducing additional information in order to prevent overfitting."
   ]
  },
  {
   "cell_type": "markdown",
   "id": "92ce314c-90f8-4a57-bd55-a12443bd7dd8",
   "metadata": {},
   "source": [
    "<a class=\"anchor\" id=\"evaluation\"></a>\n",
    "\n",
    "## Evaluation"
   ]
  },
  {
   "cell_type": "markdown",
   "id": "dfbdb832-75fb-4495-95d6-d476f14ce4f0",
   "metadata": {},
   "source": [
    "<a class=\"anchor\" id=\"false_positives_(type_i_error)\"></a>\n",
    "\n",
    "\n",
    "### False Positives (Type I Error)"
   ]
  },
  {
   "cell_type": "markdown",
   "id": "c0230daf-9325-434a-b1d2-11093a9df790",
   "metadata": {},
   "source": [
    "An error where a model falsely predicts the presence of the desired outcome in an input, when in reality it is not present (Actual No, Predicted Yes)."
   ]
  },
  {
   "cell_type": "markdown",
   "id": "9a6d1af2-bcc3-472d-947b-da9fbbec7bd1",
   "metadata": {},
   "source": [
    "<a class=\"anchor\" id=\"false_negatives_(type_ii_error)\"></a>\n",
    "\n",
    "\n",
    "### False Negatives (Type II Error)"
   ]
  },
  {
   "cell_type": "markdown",
   "id": "d23f8c17-25d3-42c6-9f6b-5ffa8040aeab",
   "metadata": {},
   "source": [
    "An error where a model falsely predicts an input as not having a desired outcome, when one is actually present. (Actual Yes, Predicted No)."
   ]
  },
  {
   "cell_type": "markdown",
   "id": "5a4a8453-5ee7-4681-9603-c30c8e5ca890",
   "metadata": {},
   "source": [
    "<a class=\"anchor\" id=\"true_negatives\"></a>\n",
    "\n",
    "\n",
    "### True Negatives"
   ]
  },
  {
   "cell_type": "markdown",
   "id": "88f9a722-0fcb-4019-8e57-112179e06b5b",
   "metadata": {},
   "source": [
    "Actual negatives that are correctly identified as such (Actual No, Predicted No)."
   ]
  },
  {
   "cell_type": "markdown",
   "id": "ef9988ae-6aa2-458b-810d-54554e896225",
   "metadata": {},
   "source": [
    "<a class=\"anchor\" id=\"true_positives\"></a>\n",
    "\n",
    "\n",
    "### True Positives"
   ]
  },
  {
   "cell_type": "markdown",
   "id": "edfe1f2c-36d2-41d1-a4b2-4ebf851ad7a8",
   "metadata": {},
   "source": [
    "Actual positives that are correctly identified as such (Actual Yes, Predicted Yes)."
   ]
  },
  {
   "cell_type": "markdown",
   "id": "018cb395-e77f-4207-8bb0-9d72ee80ae80",
   "metadata": {},
   "source": [
    "<img src=\"./images/ai-glossary/evaluation-table.png\" width=\"500\"/>"
   ]
  },
  {
   "cell_type": "markdown",
   "id": "bae1a595-ec18-4907-ad91-7f445c502087",
   "metadata": {},
   "source": [
    "<a class=\"anchor\" id=\"accuracy\"></a>\n",
    "\n",
    "\n",
    "### Accuracy"
   ]
  },
  {
   "cell_type": "markdown",
   "id": "b651e65b-7f29-48fc-99a7-68b4bde07c1b",
   "metadata": {},
   "source": [
    "Refers to the percentage of correct predictions the classifier made."
   ]
  },
  {
   "cell_type": "markdown",
   "id": "2deb0bd4-3156-4485-8997-84bf9931227a",
   "metadata": {},
   "source": [
    "<img src=\"./images/ai-glossary/precision-accuracy.png\" width=\"500\"/>"
   ]
  },
  {
   "cell_type": "markdown",
   "id": "31aa620b-2ec5-48d5-aa7c-b079e4bf404c",
   "metadata": {},
   "source": [
    "<img src=\"./images/ai-glossary/precision-recall.png\" width=\"600\"/>"
   ]
  },
  {
   "cell_type": "markdown",
   "id": "641f9fab-21ea-4453-9e14-1df33a7bf332",
   "metadata": {},
   "source": [
    "<a class=\"anchor\" id=\"a/b_testing\"></a>\n",
    "\n",
    "\n",
    "### A/B Testing"
   ]
  },
  {
   "cell_type": "markdown",
   "id": "d34a1a69-498b-4a8a-a647-f8d129704ddc",
   "metadata": {},
   "source": [
    "A controlled, real-life experiment designed to compare two variants of a system or a model, A and B."
   ]
  },
  {
   "cell_type": "markdown",
   "id": "81e2b460-3793-4638-aeb5-6559898dbf5e",
   "metadata": {},
   "source": [
    "<img src=\"./images/ai-glossary/ab-testing.png\" width=\"400\"/>"
   ]
  },
  {
   "cell_type": "markdown",
   "id": "0255ac68-76c6-4e09-a252-c1fed0a5a66c",
   "metadata": {},
   "source": [
    "<a class=\"anchor\" id=\"ml-ops\"></a>\n",
    "\n",
    "\n",
    "## ML-Ops"
   ]
  },
  {
   "cell_type": "markdown",
   "id": "51ba3684-9a38-441c-a989-bf1a347dc65e",
   "metadata": {},
   "source": [
    "ML-ops or machine learning operations is the process of taking an experimental machine learning model into a production web system. Machine learning models are tested and developed in isolated experimental systems. When an algorithm is ready to be launched, ML ops is practiced between data scientists, DevOps, and machine learning engineers to transition the algorithm to production systems.1"
   ]
  },
  {
   "cell_type": "markdown",
   "id": "c09a9849-1816-4b60-a1c6-3b6732db7866",
   "metadata": {},
   "source": [
    "<img src=\"./images/ai-glossary/mlops-cycle.png\" width=\"400\"/>"
   ]
  }
 ],
 "metadata": {
  "kernelspec": {
   "display_name": "Python 3",
   "language": "python",
   "name": "python3"
  },
  "language_info": {
   "codemirror_mode": {
    "name": "ipython",
    "version": 3
   },
   "file_extension": ".py",
   "mimetype": "text/x-python",
   "name": "python",
   "nbconvert_exporter": "python",
   "pygments_lexer": "ipython3",
   "version": "3.8.11"
  }
 },
 "nbformat": 4,
 "nbformat_minor": 5
}
