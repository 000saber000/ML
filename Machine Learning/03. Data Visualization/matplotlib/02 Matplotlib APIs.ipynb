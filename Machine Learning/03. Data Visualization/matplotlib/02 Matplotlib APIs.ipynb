{
 "cells": [
  {
   "cell_type": "markdown",
   "id": "d52c1526",
   "metadata": {},
   "source": [
    "<img src=\"../../../images/banners/pandas-cropped.jpeg\" width=\"600\"/>"
   ]
  },
  {
   "cell_type": "markdown",
   "id": "d02be1c1",
   "metadata": {},
   "source": [
    "<a class=\"anchor\" id=\"matplotlib_application_interfaces_(apis)\"></a>\n",
    "# <img src=\"../../../images/logos/pandas.png\" width=\"23\"/>  Matplotlib Application Interfaces (APIs)"
   ]
  },
  {
   "cell_type": "markdown",
   "id": "ab4febfe",
   "metadata": {},
   "source": [
    "## <img src=\"../../../images/logos/toc.png\" width=\"20\"/> Table of Contents \n",
    "* [Matplotlib Application Interfaces (APIs)](#matplotlib_application_interfaces_(apis))\n",
    "    * [Native Matplotlib interfaces](#native_matplotlib_interfaces)\n",
    "        * [The explicit \"Axes\" interface](#the_explicit_axes_interface)\n",
    "        * [The implicit \"pyplot\" interface](#the_implicit_pyplot_interface)\n",
    "            * [Why be explicit?](#why_be_explicit?)\n",
    "    * [Third-party library \"Data-object\" interfaces](#third-party_library_data-object_interfaces)\n",
    "    * [Summary](#summary)\n",
    "    * [Appendix: \"Axes\" interface with data structures](#appendix:_\"axes\"_interface_with_data_structures)\n",
    "    * [Appendix: \"pylab\" interface](#appendix:_\"pylab\"_interface)\n",
    "\n",
    "---"
   ]
  },
  {
   "cell_type": "code",
   "execution_count": 2,
   "id": "ffc5ba7a-92c4-4901-b329-94506d984145",
   "metadata": {},
   "outputs": [],
   "source": [
    "import matplotlib.pyplot as plt\n",
    "%matplotlib inline"
   ]
  },
  {
   "cell_type": "markdown",
   "id": "f0384714",
   "metadata": {},
   "source": [
    "Matplotlib has two major application interfaces, or styles of using the library:\n",
    "- An explicit \"Axes\" interface that uses methods on a Figure or Axes object to create other Artists, and build a visualization step by step. This has also been called an \"object-oriented\" interface.\n",
    "- An implicit \"pyplot\" interface that keeps track of the last Figure and Axes created, and adds Artists to the object it thinks the user wants."
   ]
  },
  {
   "cell_type": "markdown",
   "id": "b3f01749",
   "metadata": {},
   "source": [
    "In addition, a number of downstream libraries (like [`pandas`](https://pandas.pydata.org/pandas-docs/stable/index.html#module-pandas \"(in pandas v1.5.1)\") and [xarray](https://xarray.pydata.org)) offer\n",
    "a `plot` method implemented directly on their data classes so that users can\n",
    "call `data.plot()`."
   ]
  },
  {
   "cell_type": "markdown",
   "id": "77f91ad7",
   "metadata": {},
   "source": [
    "The difference between these interfaces can be a bit confusing, particularly\n",
    "given snippets on the web that use one or the other, or sometimes multiple\n",
    "interfaces in the same example. Here we attempt to point out how the \"pyplot\"\n",
    "and downstream interfaces relate to the explicit \"Axes\" interface to help users\n",
    "better navigate the library."
   ]
  },
  {
   "cell_type": "markdown",
   "id": "c9318412",
   "metadata": {},
   "source": [
    "<a class=\"anchor\" id=\"native_matplotlib_interfaces\"></a>\n",
    "## Native Matplotlib interfaces"
   ]
  },
  {
   "cell_type": "markdown",
   "id": "6dcd5092",
   "metadata": {},
   "source": [
    "<a class=\"anchor\" id=\"the_explicit_axes_interface\"></a>\n",
    "### The explicit \"Axes\" interface"
   ]
  },
  {
   "cell_type": "markdown",
   "id": "c9ed4dd4",
   "metadata": {},
   "source": [
    "The \"Axes\" interface is how Matplotlib is implemented, and many customizations\n",
    "and fine-tuning end up being done at this level."
   ]
  },
  {
   "cell_type": "markdown",
   "id": "a7766c89",
   "metadata": {},
   "source": [
    "This interface works by instantiating an instance of a\n",
    "[`Figure`](https://matplotlib.org/stable/api/figure_api.html#matplotlib.figure.Figure \"matplotlib.figure.Figure\") class (`fig` below), using a method\n",
    "[`subplots`](https://matplotlib.org/stable/api/figure_api.html#matplotlib.figure.Figure.subplots \"matplotlib.figure.Figure.subplots\") method (or similar) on that object to create one or more\n",
    "[`Axes`](https://matplotlib.org/stable/api/axes_api.html#matplotlib.axes.Axes \"matplotlib.axes.Axes\") objects (`ax` below), and then calling drawing\n",
    "methods on the Axes (`plot` in this example):"
   ]
  },
  {
   "cell_type": "code",
   "execution_count": 3,
   "id": "72a9a89f-c06c-4cca-b073-86a0b256ccad",
   "metadata": {},
   "outputs": [
    {
     "data": {
      "text/plain": [
       "[<matplotlib.lines.Line2D at 0x7f9fd063deb0>]"
      ]
     },
     "execution_count": 3,
     "metadata": {},
     "output_type": "execute_result"
    },
    {
     "data": {
      "image/png": "[encoded data removed]",
      "text/plain": [
       "<Figure size 432x288 with 1 Axes>"
      ]
     },
     "metadata": {
      "needs_background": "light"
     },
     "output_type": "display_data"
    }
   ],
   "source": [
    "import matplotlib.pyplot as plt\n",
    "\n",
    "fig = plt.figure()\n",
    "ax = fig.subplots()\n",
    "ax.plot([1, 2, 3, 4], [0, 0.5, 1, 0.2])"
   ]
  },
  {
   "cell_type": "markdown",
   "id": "db43ced5",
   "metadata": {},
   "source": [
    "We call this an \"explicit\" interface because each object is explicitly\n",
    "referenced, and used to make the next object. Keeping references to the objects\n",
    "is very flexible, and allows us to customize the objects after they are created,\n",
    "but before they are displayed."
   ]
  },
  {
   "cell_type": "markdown",
   "id": "2db09e4b",
   "metadata": {},
   "source": [
    "<a class=\"anchor\" id=\"the_implicit_pyplot_interface\"></a>\n",
    "### The implicit \"pyplot\" interface"
   ]
  },
  {
   "cell_type": "markdown",
   "id": "ca0dd7b9",
   "metadata": {},
   "source": [
    "The [`pyplot`](https://matplotlib.org/stable/api/pyplot_summary.html#module-matplotlib.pyplot \"matplotlib.pyplot\") module shadows most of the\n",
    "[`Axes`](https://matplotlib.org/stable/api/axes_api.html#matplotlib.axes.Axes \"matplotlib.axes.Axes\") plotting methods to give the equivalent of\n",
    "the above, where the creation of the Figure and Axes is done for the user:"
   ]
  },
  {
   "cell_type": "code",
   "execution_count": 4,
   "id": "3d20acc3-f1f3-4fa1-9753-39a0c2f0322f",
   "metadata": {},
   "outputs": [
    {
     "data": {
      "text/plain": [
       "[<matplotlib.lines.Line2D at 0x7f9f8048e4c0>]"
      ]
     },
     "execution_count": 4,
     "metadata": {},
     "output_type": "execute_result"
    },
    {
     "data": {
      "image/png": "[encoded data removed]",
      "text/plain": [
       "<Figure size 432x288 with 1 Axes>"
      ]
     },
     "metadata": {
      "needs_background": "light"
     },
     "output_type": "display_data"
    }
   ],
   "source": [
    "import matplotlib.pyplot as plt\n",
    "\n",
    "plt.plot([1, 2, 3, 4], [0, 0.5, 1, 0.2])"
   ]
  },
  {
   "cell_type": "markdown",
   "id": "e38caa8c",
   "metadata": {},
   "source": [
    "This can be convenient, particularly when doing interactive work or simple\n",
    "scripts. A reference to the current Figure can be retrieved using\n",
    "[`gcf` (get current figure)](https://matplotlib.org/stable/api/_as_gen/matplotlib.pyplot.gcf.html#matplotlib.pyplot.gcf \"matplotlib.pyplot.gcf\") and to the current Axes by [`gca` (get current axes)](https://matplotlib.org/stable/api/_as_gen/matplotlib.pyplot.gca.html#matplotlib.pyplot.gca \"matplotlib.pyplot.gca\"). The [`pyplot`](https://matplotlib.org/stable/api/pyplot_summary.html#module-matplotlib.pyplot \"matplotlib.pyplot\") module\n",
    "retains a list of Figures, and each Figure retains a list of Axes on the figure\n",
    "for the user so that the following:"
   ]
  },
  {
   "cell_type": "code",
   "execution_count": 8,
   "id": "689444de-7c00-48eb-8e22-e268db08af14",
   "metadata": {},
   "outputs": [
    {
     "data": {
      "text/plain": [
       "[<matplotlib.lines.Line2D at 0x7f9f6044ef70>]"
      ]
     },
     "execution_count": 8,
     "metadata": {},
     "output_type": "execute_result"
    },
    {
     "data": {
      "image/png": "[encoded data removed]",
      "text/plain": [
       "<Figure size 432x288 with 2 Axes>"
      ]
     },
     "metadata": {
      "needs_background": "light"
     },
     "output_type": "display_data"
    }
   ],
   "source": [
    "import matplotlib.pyplot as plt\n",
    "\n",
    "plt.subplot(1, 2, 1)\n",
    "plt.plot([1, 2, 3], [0, 0.5, 0.2])\n",
    "\n",
    "plt.subplot(1, 2, 2)\n",
    "plt.plot([3, 2, 1], [0, 0.5, 0.2])"
   ]
  },
  {
   "cell_type": "markdown",
   "id": "435e40c1",
   "metadata": {},
   "source": [
    "is equivalent to:"
   ]
  },
  {
   "cell_type": "code",
   "execution_count": 9,
   "id": "65457f5a-379c-4c79-b5a3-ceb442d2e0dc",
   "metadata": {},
   "outputs": [
    {
     "data": {
      "text/plain": [
       "[<matplotlib.lines.Line2D at 0x7f9fb061de20>]"
      ]
     },
     "execution_count": 9,
     "metadata": {},
     "output_type": "execute_result"
    },
    {
     "data": {
      "image/png": "[encoded data removed]",
      "text/plain": [
       "<Figure size 432x288 with 2 Axes>"
      ]
     },
     "metadata": {
      "needs_background": "light"
     },
     "output_type": "display_data"
    }
   ],
   "source": [
    "import matplotlib.pyplot as plt\n",
    "\n",
    "plt.subplot(1, 2, 1)\n",
    "ax = plt.gca()\n",
    "ax.plot([1, 2, 3], [0, 0.5, 0.2])\n",
    "\n",
    "plt.subplot(1, 2, 2)\n",
    "ax = plt.gca()\n",
    "ax.plot([3, 2, 1], [0, 0.5, 0.2])"
   ]
  },
  {
   "cell_type": "markdown",
   "id": "07028191",
   "metadata": {},
   "source": [
    "In the explicit interface, this would be:"
   ]
  },
  {
   "cell_type": "code",
   "execution_count": 10,
   "id": "13345f6e-72cc-4ca1-a738-37e97a26f665",
   "metadata": {},
   "outputs": [
    {
     "data": {
      "text/plain": [
       "[<matplotlib.lines.Line2D at 0x7f9fb04792b0>]"
      ]
     },
     "execution_count": 10,
     "metadata": {},
     "output_type": "execute_result"
    },
    {
     "data": {
      "image/png": "[encoded data removed]",
      "text/plain": [
       "<Figure size 432x288 with 2 Axes>"
      ]
     },
     "metadata": {
      "needs_background": "light"
     },
     "output_type": "display_data"
    }
   ],
   "source": [
    "import matplotlib.pyplot as plt\n",
    "\n",
    "fig, axs = plt.subplots(1, 2)\n",
    "axs[0].plot([1, 2, 3], [0, 0.5, 0.2])\n",
    "axs[1].plot([3, 2, 1], [0, 0.5, 0.2])"
   ]
  },
  {
   "cell_type": "markdown",
   "id": "24784745",
   "metadata": {},
   "source": [
    "<a class=\"anchor\" id=\"why_be_explicit?\"></a>\n",
    "#### Why be explicit?"
   ]
  },
  {
   "cell_type": "markdown",
   "id": "0b307c1f",
   "metadata": {},
   "source": [
    "What happens if you have to backtrack, and operate on an old axes that is not\n",
    "referenced by `plt.gca()`? One simple way is to call `subplot` again with\n",
    "the same arguments. However, that quickly becomes inelegant. You can also\n",
    "inspect the Figure object and get its list of Axes objects, however, that can be\n",
    "misleading (colorbars are Axes too!). The best solution is probably to save a\n",
    "handle to every Axes you create, but if you do that, why not simply create the\n",
    "all the Axes objects at the start?"
   ]
  },
  {
   "cell_type": "markdown",
   "id": "ac5038dd",
   "metadata": {},
   "source": [
    "The first approach is to call `plt.subplot` again:"
   ]
  },
  {
   "cell_type": "code",
   "execution_count": 11,
   "id": "1b8048e8-23db-4512-b43c-29113fec554c",
   "metadata": {},
   "outputs": [
    {
     "data": {
      "image/png": "[encoded data removed]",
      "text/plain": [
       "<Figure size 432x288 with 2 Axes>"
      ]
     },
     "metadata": {
      "needs_background": "light"
     },
     "output_type": "display_data"
    }
   ],
   "source": [
    "import matplotlib.pyplot as plt\n",
    "\n",
    "plt.subplot(1, 2, 1)\n",
    "plt.plot([1, 2, 3], [0, 0.5, 0.2])\n",
    "\n",
    "plt.subplot(1, 2, 2)\n",
    "plt.plot([3, 2, 1], [0, 0.5, 0.2])\n",
    "\n",
    "plt.suptitle('Implicit Interface: re-call subplot')\n",
    "\n",
    "for i in range(1, 3):\n",
    "    plt.subplot(1, 2, i)\n",
    "    plt.xlabel('Boo')"
   ]
  },
  {
   "cell_type": "markdown",
   "id": "792c58aa",
   "metadata": {},
   "source": [
    "The second is to save a handle:"
   ]
  },
  {
   "cell_type": "code",
   "execution_count": 12,
   "id": "c495dd90-640b-45cb-a07d-f80b3c5983ff",
   "metadata": {},
   "outputs": [
    {
     "data": {
      "image/png": "[encoded data removed]",
      "text/plain": [
       "<Figure size 432x288 with 2 Axes>"
      ]
     },
     "metadata": {
      "needs_background": "light"
     },
     "output_type": "display_data"
    }
   ],
   "source": [
    "import matplotlib.pyplot as plt\n",
    "\n",
    "axs = []\n",
    "ax = plt.subplot(1, 2, 1)\n",
    "axs += [ax]\n",
    "plt.plot([1, 2, 3], [0, 0.5, 0.2])\n",
    "\n",
    "ax = plt.subplot(1, 2, 2)\n",
    "axs += [ax]\n",
    "plt.plot([3, 2, 1], [0, 0.5, 0.2])\n",
    "\n",
    "plt.suptitle('Implicit Interface: save handles')\n",
    "\n",
    "for i in range(2):\n",
    "    plt.sca(axs[i])\n",
    "    plt.xlabel('Boo')"
   ]
  },
  {
   "cell_type": "markdown",
   "id": "03b283bb",
   "metadata": {},
   "source": [
    "However, the recommended way would be to be explicit from the outset:"
   ]
  },
  {
   "cell_type": "code",
   "execution_count": 13,
   "id": "468f5cba-6c50-4bba-9cb6-7ea91c8d2c33",
   "metadata": {},
   "outputs": [
    {
     "data": {
      "image/png": "[encoded data removed]",
      "text/plain": [
       "<Figure size 432x288 with 2 Axes>"
      ]
     },
     "metadata": {
      "needs_background": "light"
     },
     "output_type": "display_data"
    }
   ],
   "source": [
    "import matplotlib.pyplot as plt\n",
    "\n",
    "fig, axs = plt.subplots(1, 2)\n",
    "axs[0].plot([1, 2, 3], [0, 0.5, 0.2])\n",
    "axs[1].plot([3, 2, 1], [0, 0.5, 0.2])\n",
    "fig.suptitle('Explicit Interface')\n",
    "for i in range(2):\n",
    "    axs[i].set_xlabel('Boo')"
   ]
  },
  {
   "cell_type": "markdown",
   "id": "31ed3c7d",
   "metadata": {},
   "source": [
    "<a class=\"anchor\" id=\"third-party_library_data-object_interfaces\"></a>\n",
    "## Third-party library \"Data-object\" interfaces"
   ]
  },
  {
   "cell_type": "markdown",
   "id": "eed8aebb",
   "metadata": {},
   "source": [
    "Some third party libraries have chosen to implement plotting for their data\n",
    "objects, e.g. `data.plot()`, is seen in [`pandas`](https://pandas.pydata.org/pandas-docs/stable/index.html#module-pandas \"(in pandas v1.5.1)\"), [xarray](https://xarray.pydata.org), and other\n",
    "third-party libraries. For illustrative purposes, a downstream library may\n",
    "implement a simple data container that has `x` and `y` data stored together,\n",
    "and then implements a `plot` method:"
   ]
  },
  {
   "cell_type": "code",
   "execution_count": 14,
   "id": "cbdb0b6c-6163-4902-9904-17ef00958081",
   "metadata": {},
   "outputs": [
    {
     "data": {
      "text/plain": [
       "<AxesSubplot:title={'center':'Plotted from DataClass!'}>"
      ]
     },
     "execution_count": 14,
     "metadata": {},
     "output_type": "execute_result"
    },
    {
     "data": {
      "image/png": "[encoded data removed]",
      "text/plain": [
       "<Figure size 432x288 with 1 Axes>"
      ]
     },
     "metadata": {
      "needs_background": "light"
     },
     "output_type": "display_data"
    }
   ],
   "source": [
    "import matplotlib.pyplot as plt\n",
    "\n",
    "# supplied by downstream library:\n",
    "class DataContainer:\n",
    "\n",
    "    def __init__(self, x, y):\n",
    "        \"\"\"\n",
    "        Proper docstring here!\n",
    "        \"\"\"\n",
    "        self._x = x\n",
    "        self._y = y\n",
    "\n",
    "    def plot(self, ax=None, **kwargs):\n",
    "        if ax is None:\n",
    "            ax = plt.gca()\n",
    "        ax.plot(self._x, self._y, **kwargs)\n",
    "        ax.set_title('Plotted from DataClass!')\n",
    "        return ax\n",
    "\n",
    "\n",
    "# what the user usually calls:\n",
    "data = DataContainer([0, 1, 2, 3], [0, 0.2, 0.5, 0.3])\n",
    "data.plot()"
   ]
  },
  {
   "cell_type": "code",
   "execution_count": 26,
   "id": "aac7c53a-b8cd-4f21-a391-10be9de43e9e",
   "metadata": {},
   "outputs": [
    {
     "data": {
      "text/html": [
       "<div>\n",
       "<style scoped>\n",
       "    .dataframe tbody tr th:only-of-type {\n",
       "        vertical-align: middle;\n",
       "    }\n",
       "\n",
       "    .dataframe tbody tr th {\n",
       "        vertical-align: top;\n",
       "    }\n",
       "\n",
       "    .dataframe thead th {\n",
       "        text-align: right;\n",
       "    }\n",
       "</style>\n",
       "<table border=\"1\" class=\"dataframe\">\n",
       "  <thead>\n",
       "    <tr style=\"text-align: right;\">\n",
       "      <th></th>\n",
       "      <th>sepal_length</th>\n",
       "      <th>sepal_width</th>\n",
       "      <th>petal_length</th>\n",
       "      <th>petal_width</th>\n",
       "      <th>species</th>\n",
       "    </tr>\n",
       "  </thead>\n",
       "  <tbody>\n",
       "    <tr>\n",
       "      <th>0</th>\n",
       "      <td>5.1</td>\n",
       "      <td>3.5</td>\n",
       "      <td>1.4</td>\n",
       "      <td>0.2</td>\n",
       "      <td>setosa</td>\n",
       "    </tr>\n",
       "    <tr>\n",
       "      <th>1</th>\n",
       "      <td>4.9</td>\n",
       "      <td>3.0</td>\n",
       "      <td>1.4</td>\n",
       "      <td>0.2</td>\n",
       "      <td>setosa</td>\n",
       "    </tr>\n",
       "    <tr>\n",
       "      <th>2</th>\n",
       "      <td>4.7</td>\n",
       "      <td>3.2</td>\n",
       "      <td>1.3</td>\n",
       "      <td>0.2</td>\n",
       "      <td>setosa</td>\n",
       "    </tr>\n",
       "    <tr>\n",
       "      <th>3</th>\n",
       "      <td>4.6</td>\n",
       "      <td>3.1</td>\n",
       "      <td>1.5</td>\n",
       "      <td>0.2</td>\n",
       "      <td>setosa</td>\n",
       "    </tr>\n",
       "    <tr>\n",
       "      <th>4</th>\n",
       "      <td>5.0</td>\n",
       "      <td>3.6</td>\n",
       "      <td>1.4</td>\n",
       "      <td>0.2</td>\n",
       "      <td>setosa</td>\n",
       "    </tr>\n",
       "  </tbody>\n",
       "</table>\n",
       "</div>"
      ],
      "text/plain": [
       "   sepal_length  sepal_width  petal_length  petal_width species\n",
       "0           5.1          3.5           1.4          0.2  setosa\n",
       "1           4.9          3.0           1.4          0.2  setosa\n",
       "2           4.7          3.2           1.3          0.2  setosa\n",
       "3           4.6          3.1           1.5          0.2  setosa\n",
       "4           5.0          3.6           1.4          0.2  setosa"
      ]
     },
     "execution_count": 26,
     "metadata": {},
     "output_type": "execute_result"
    }
   ],
   "source": [
    "import seaborn as sns\n",
    "\n",
    "# Pandas Data-object interface\n",
    "df = sns.load_dataset('iris')\n",
    "df.head()"
   ]
  },
  {
   "cell_type": "code",
   "execution_count": 27,
   "id": "df74fa61-1f24-4e38-bc29-db025c6099fb",
   "metadata": {},
   "outputs": [
    {
     "data": {
      "image/png": "[encoded data removed]",
      "text/plain": [
       "<Figure size 432x288 with 1 Axes>"
      ]
     },
     "metadata": {
      "needs_background": "light"
     },
     "output_type": "display_data"
    }
   ],
   "source": [
    "df.plot('sepal_length', 'petal_length', kind='scatter');"
   ]
  },
  {
   "cell_type": "markdown",
   "id": "2400c80f",
   "metadata": {},
   "source": [
    "So the library can hide all the nitty-gritty from the user, and can make a\n",
    "visualization appropriate to the data type, often with good labels, choices of\n",
    "colormaps, and other convenient features."
   ]
  },
  {
   "cell_type": "markdown",
   "id": "efc38d69",
   "metadata": {},
   "source": [
    "In the above, however, we may not have liked the title the library provided.\n",
    "Thankfully, they pass us back the Axes from the `plot()` method, and\n",
    "understanding the explicit Axes interface, we could call:\n",
    "`ax.set_title('My preferred title')` to customize the title."
   ]
  },
  {
   "cell_type": "markdown",
   "id": "a01c4ab4",
   "metadata": {},
   "source": [
    "Many libraries also allow their `plot` methods to accept an optional *ax*\n",
    "argument. This allows us to place the visualization in an Axes that we have\n",
    "placed and perhaps customized."
   ]
  },
  {
   "cell_type": "markdown",
   "id": "88e27b19",
   "metadata": {},
   "source": [
    "<a class=\"anchor\" id=\"summary\"></a>\n",
    "## Summary"
   ]
  },
  {
   "cell_type": "markdown",
   "id": "818fbfb8",
   "metadata": {},
   "source": [
    "Overall, it is useful to understand the explicit \"Axes\" interface since it is\n",
    "the most flexible and underlies the other interfaces. A user can usually\n",
    "figure out how to drop down to the explicit interface and operate on the\n",
    "underlying objects. While the explicit interface can be a bit more verbose\n",
    "to setup, complicated plots will often end up simpler than trying to use\n",
    "the implicit \"pyplot\" interface."
   ]
  },
  {
   "cell_type": "markdown",
   "id": "cdf7443c-6507-4930-9c22-0f63f76c6308",
   "metadata": {},
   "source": [
    "> **Note:** It is sometimes confusing to people that we import `pyplot` for both\n",
    "interfaces. Currently, the `pyplot` module implements the \"pyplot\"\n",
    "interface, but it also provides top-level Figure and Axes creation\n",
    "methods, and ultimately spins up the graphical user interface, if one\n",
    "is being used. So `pyplot` is still needed regardless of the\n",
    "interface chosen."
   ]
  },
  {
   "cell_type": "markdown",
   "id": "c1c7817e",
   "metadata": {},
   "source": [
    "Similarly, the declarative interfaces provided by partner libraries use the\n",
    "objects accessible by the \"Axes\" interface, and often accept these as arguments\n",
    "or pass them back from methods. It is usually essential to use the explicit\n",
    "\"Axes\" interface to perform any customization of the default visualization, or\n",
    "to unpack the data into NumPy arrays and pass directly to Matplotlib."
   ]
  },
  {
   "cell_type": "markdown",
   "id": "fb10f2f5",
   "metadata": {},
   "source": [
    "<a class=\"anchor\" id=\"appendix:_axes_interface_with_data_structures\"></a>\n",
    "## Appendix: \"Axes\" interface with data structures"
   ]
  },
  {
   "cell_type": "markdown",
   "id": "62f3e07f",
   "metadata": {},
   "source": [
    "Most [`Axes`](https://matplotlib.org/stable/api/axes_api.html#matplotlib.axes.Axes \"matplotlib.axes.Axes\") methods allow yet another API addressing by passing a\n",
    "*data* object to the method and specifying the arguments as strings:"
   ]
  },
  {
   "cell_type": "code",
   "execution_count": 28,
   "id": "415371b3-760d-41b9-aed0-b220a765ccc2",
   "metadata": {},
   "outputs": [
    {
     "data": {
      "text/plain": [
       "[<matplotlib.lines.Line2D at 0x7f9fc16a03a0>]"
      ]
     },
     "execution_count": 28,
     "metadata": {},
     "output_type": "execute_result"
    },
    {
     "data": {
      "image/png": "[encoded data removed]",
      "text/plain": [
       "<Figure size 144x144 with 1 Axes>"
      ]
     },
     "metadata": {
      "needs_background": "light"
     },
     "output_type": "display_data"
    }
   ],
   "source": [
    "import matplotlib.pyplot as plt\n",
    "\n",
    "data = {'xdat': [0, 1, 2, 3], 'ydat': [0, 0.2, 0.4, 0.1]}\n",
    "fig, ax = plt.subplots(figsize=(2, 2))\n",
    "ax.plot('xdat', 'ydat', data=data)"
   ]
  }
 ],
 "metadata": {
  "kernelspec": {
   "display_name": "Python 3",
   "language": "python",
   "name": "python3"
  },
  "language_info": {
   "codemirror_mode": {
    "name": "ipython",
    "version": 3
   },
   "file_extension": ".py",
   "mimetype": "text/x-python",
   "name": "python",
   "nbconvert_exporter": "python",
   "pygments_lexer": "ipython3",
   "version": "3.8.11"
  }
 },
 "nbformat": 4,
 "nbformat_minor": 5
}
