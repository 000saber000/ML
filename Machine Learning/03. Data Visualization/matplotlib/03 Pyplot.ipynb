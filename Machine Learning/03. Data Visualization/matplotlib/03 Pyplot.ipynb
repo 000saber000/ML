{
 "cells": [
  {
   "cell_type": "markdown",
   "id": "971b84fb-e639-45cd-ac98-e51442c5a922",
   "metadata": {},
   "source": [
    "<img src=\"../../../images/banners/mpl.jpg\" width=\"500\"/>"
   ]
  },
  {
   "cell_type": "markdown",
   "id": "810392aa-f647-4daa-9b42-c4774645ef76",
   "metadata": {},
   "source": [
    "<a class=\"anchor\" id=\"pyplot_tutorial\"></a>\n",
    "# <img src=\"../../../images/logos/mpl.png\" width=\"25\"/> Pyplot tutorial"
   ]
  },
  {
   "cell_type": "markdown",
   "id": "71231edd-2a63-4ba1-9b0b-585dffbd05b6",
   "metadata": {},
   "source": [
    "## <img src=\"../../../images/logos/toc.png\" width=\"20\"/> Table of Contents \n",
    "* [Pyplot tutorial](#pyplot_tutorial)\n",
    "    * [Intro to pyplot](#intro_to_pyplot)\n",
    "        * [Formatting the style of your plot](#formatting_the_style_of_your_plot)\n",
    "    * [Plotting with keyword strings](#plotting_with_keyword_strings)\n",
    "    * [Plotting with categorical variables](#plotting_with_categorical_variables)\n",
    "    * [Controlling line properties](#controlling_line_properties)\n",
    "    * [Working with multiple figures and axes](#working_with_multiple_figures_and_axes)\n",
    "    * [Working with text](#working_with_text)\n",
    "        * [Using mathematical expressions in text](#using_mathematical_expressions_in_text)\n",
    "        * [Annotating text](#annotating_text)\n",
    "    * [Logarithmic and other nonlinear axes](#logarithmic_and_other_nonlinear_axes)\n",
    "\n",
    "---"
   ]
  },
  {
   "cell_type": "markdown",
   "id": "09b0d861-dd62-4d75-a903-f1e5b87847d4",
   "metadata": {},
   "source": [
    "An introduction to the pyplot interface. Please also see\n",
    "[Quick start guide](quick_start.html) for an overview of how Matplotlib\n",
    "works and [Matplotlib Application Interfaces (APIs)](https://matplotlib.org/stable/users/explain/api_interfaces.html#api-interfaces) for an explanation of the trade-offs between the\n",
    "supported user APIs."
   ]
  },
  {
   "cell_type": "markdown",
   "id": "6af20e35-0139-4172-a703-4978ee505f4b",
   "metadata": {},
   "source": [
    "<a class=\"anchor\" id=\"intro_to_pyplot\"></a>\n",
    "## Intro to pyplot"
   ]
  },
  {
   "cell_type": "markdown",
   "id": "d9a9302c-9491-4441-beaf-d96865213b64",
   "metadata": {},
   "source": [
    "[`matplotlib.pyplot`](https://matplotlib.org/stable/api/pyplot_summary.html#module-matplotlib.pyplot \"matplotlib.pyplot\") is a collection of functions that make matplotlib\n",
    "work like MATLAB. Each `pyplot` function makes some change to a figure:\n",
    "e.g., creates a figure, creates a plotting area in a figure, plots some lines\n",
    "in a plotting area, decorates the plot with labels, etc."
   ]
  },
  {
   "cell_type": "markdown",
   "id": "6bbc8b53-8a6d-4394-82c5-9369eeaa1c13",
   "metadata": {},
   "source": [
    "In [`matplotlib.pyplot`](https://matplotlib.org/stable/api/pyplot_summary.html#module-matplotlib.pyplot \"matplotlib.pyplot\") various states are preserved\n",
    "across function calls, so that it keeps track of things like\n",
    "the current figure and plotting area, and the plotting\n",
    "functions are directed to the current axes (please note that \"axes\" here\n",
    "and in most places in the documentation refers to the *axes*\n",
    "[part of a figure](quick_start.html#figure-parts)\n",
    "and not the strict mathematical term for more than one axis)."
   ]
  },
  {
   "cell_type": "markdown",
   "id": "0ee22823-0cf4-46c4-a217-2b8789f53c6e",
   "metadata": {},
   "source": [
    "> **Note:** the implicit pyplot API is generally less verbose but also not as flexible as the\n",
    "explicit API. Most of the function calls you see here can also be called\n",
    "as methods from an `Axes` object. We recommend browsing the tutorials\n",
    "and examples to see how this works. See [Matplotlib Application Interfaces (APIs)](https://matplotlib.org/stable/users/explain/api_interfaces.html#api-interfaces) for an\n",
    "explanation of the trade off of the supported user APIs."
   ]
  },
  {
   "cell_type": "markdown",
   "id": "37fd2fde-6972-4b5f-ba3e-56dfd75af7d4",
   "metadata": {},
   "source": [
    "Generating visualizations with pyplot is very quick:"
   ]
  },
  {
   "cell_type": "markdown",
   "id": "8449c622-c021-4f3d-ba00-2ca8d2592c06",
   "metadata": {},
   "source": [
    "You may be wondering why the x-axis ranges from 0-3 and the y-axis\n",
    "from 1-4. If you provide a single list or array to\n",
    "[`plot`](https://matplotlib.org/stable/api/_as_gen/matplotlib.pyplot.plot.html#matplotlib.pyplot.plot \"matplotlib.pyplot.plot\"), matplotlib assumes it is a\n",
    "sequence of y values, and automatically generates the x values for\n",
    "you. Since python ranges start with 0, the default x vector has the\n",
    "same length as y but starts with 0. Hence the x data are\n",
    "`[0, 1, 2, 3]`."
   ]
  },
  {
   "cell_type": "markdown",
   "id": "dbf8b3f4-8938-4bdf-8904-602940893632",
   "metadata": {},
   "source": [
    "[`plot`](https://matplotlib.org/stable/api/_as_gen/matplotlib.pyplot.plot.html#matplotlib.pyplot.plot \"matplotlib.pyplot.plot\") is a versatile function, and will take an arbitrary number of\n",
    "arguments. For example, to plot x versus y, you can write:"
   ]
  },
  {
   "cell_type": "markdown",
   "id": "d9df3582-f631-4fd1-bbab-313be7e5d699",
   "metadata": {},
   "source": [
    "<a class=\"anchor\" id=\"formatting_the_style_of_your_plot\"></a>\n",
    "### Formatting the style of your plot"
   ]
  },
  {
   "cell_type": "markdown",
   "id": "f4c5c8b7-cea6-47fd-840e-fb5caecd93a8",
   "metadata": {},
   "source": [
    "For every x, y pair of arguments, there is an optional third argument\n",
    "which is the format string that indicates the color and line type of\n",
    "the plot. The letters and symbols of the format string are from\n",
    "MATLAB, and you concatenate a color string with a line style string.\n",
    "The default format string is 'b-', which is a solid blue line. For\n",
    "example, to plot the above with red circles, you would issue"
   ]
  },
  {
   "cell_type": "markdown",
   "id": "4bd561be-b911-44b3-a214-5d638f15ac6f",
   "metadata": {},
   "source": [
    "<img src=\"../../_images/sphx_glr_pyplot_003.png\" width=\"500px\">"
   ]
  },
  {
   "cell_type": "markdown",
   "id": "38b5ed05-e6a3-4b98-9756-976e52f8e8ab",
   "metadata": {},
   "source": [
    "See the [`plot`](https://matplotlib.org/stable/api/_as_gen/matplotlib.pyplot.plot.html#matplotlib.pyplot.plot \"matplotlib.pyplot.plot\") documentation for a complete\n",
    "list of line styles and format strings. The\n",
    "[`axis`](https://matplotlib.org/stable/api/_as_gen/matplotlib.pyplot.axis.html#matplotlib.pyplot.axis \"matplotlib.pyplot.axis\") function in the example above takes a\n",
    "list of `[xmin, xmax, ymin, ymax]` and specifies the viewport of the\n",
    "axes."
   ]
  },
  {
   "cell_type": "markdown",
   "id": "58535ac1-7625-4d07-bb05-0613e2a912b3",
   "metadata": {},
   "source": [
    "If matplotlib were limited to working with lists, it would be fairly\n",
    "useless for numeric processing. Generally, you will use [numpy](https://numpy.org/) arrays. In fact, all sequences are\n",
    "converted to numpy arrays internally. The example below illustrates\n",
    "plotting several lines with different format styles in one function call\n",
    "using arrays."
   ]
  },
  {
   "cell_type": "markdown",
   "id": "98c7802f-cb58-42ca-b07b-d824cbd9e65b",
   "metadata": {},
   "source": [
    "<img src=\"../../_images/sphx_glr_pyplot_004.png\" width=\"500px\">"
   ]
  },
  {
   "cell_type": "markdown",
   "id": "ebe9bccd-c7b1-4e7b-a426-52be5100b6fa",
   "metadata": {},
   "source": [
    "<a class=\"anchor\" id=\"plotting_with_keyword_strings\"></a>\n",
    "## Plotting with keyword strings"
   ]
  },
  {
   "cell_type": "markdown",
   "id": "8987ec37-7454-4c8a-a37e-1a9b5bb27295",
   "metadata": {},
   "source": [
    "There are some instances where you have data in a format that lets you\n",
    "access particular variables with strings. For example, with\n",
    "[`numpy.recarray`](https://numpy.org/doc/stable/reference/generated/numpy.recarray.html#numpy.recarray \"(in NumPy v1.23)\") or [`pandas.DataFrame`](https://pandas.pydata.org/pandas-docs/stable/reference/api/pandas.DataFrame.html#pandas.DataFrame \"(in pandas v1.5.1)\")."
   ]
  },
  {
   "cell_type": "markdown",
   "id": "fa03dfd3-396b-461c-8e4a-867075450777",
   "metadata": {},
   "source": [
    "Matplotlib allows you provide such an object with\n",
    "the `data` keyword argument. If provided, then you may generate plots with\n",
    "the strings corresponding to these variables."
   ]
  },
  {
   "cell_type": "markdown",
   "id": "b88cbd5d-1449-4bf3-b6fa-d4d0bd706a3f",
   "metadata": {},
   "source": [
    "<img src=\"../../_images/sphx_glr_pyplot_005.png\" width=\"500px\">"
   ]
  },
  {
   "cell_type": "markdown",
   "id": "01c5c872-9189-4065-a73b-856cca4ca793",
   "metadata": {},
   "source": [
    "<a class=\"anchor\" id=\"plotting_with_categorical_variables\"></a>\n",
    "## Plotting with categorical variables"
   ]
  },
  {
   "cell_type": "markdown",
   "id": "b6edcecb-a939-4737-8db6-991d9327955b",
   "metadata": {},
   "source": [
    "It is also possible to create a plot using categorical variables.\n",
    "Matplotlib allows you to pass categorical variables directly to\n",
    "many plotting functions. For example:"
   ]
  },
  {
   "cell_type": "markdown",
   "id": "ebc8dd09-c0a0-469a-86b4-666ae3b744ca",
   "metadata": {},
   "source": [
    "<img src=\"../../_images/sphx_glr_pyplot_006.png\" width=\"500px\">"
   ]
  },
  {
   "cell_type": "markdown",
   "id": "b80179e1-ab43-4a62-8b4f-4ed4cb26fcd0",
   "metadata": {},
   "source": [
    "<a class=\"anchor\" id=\"controlling_line_properties\"></a>\n",
    "## Controlling line properties"
   ]
  },
  {
   "cell_type": "markdown",
   "id": "1287dca1-be92-42e7-b3d0-5c55b636446a",
   "metadata": {},
   "source": [
    "Lines have many attributes that you can set: linewidth, dash style,\n",
    "antialiased, etc; see [`matplotlib.lines.Line2D`](https://matplotlib.org/stable/api/_as_gen/matplotlib.lines.Line2D.html#matplotlib.lines.Line2D \"matplotlib.lines.Line2D\"). There are\n",
    "several ways to set line properties"
   ]
  },
  {
   "cell_type": "markdown",
   "id": "29a78b4f-27a6-48e4-9696-dd20cc79d1ba",
   "metadata": {},
   "source": [
    "Here are the available [`Line2D`](https://matplotlib.org/stable/api/_as_gen/matplotlib.lines.Line2D.html#matplotlib.lines.Line2D \"matplotlib.lines.Line2D\") properties."
   ]
  },
  {
   "cell_type": "markdown",
   "id": "5269e7a4-5377-463b-b28d-359dcedd3444",
   "metadata": {},
   "source": [
    "To get a list of settable line properties, call the\n",
    "[`setp`](https://matplotlib.org/stable/api/_as_gen/matplotlib.pyplot.setp.html#matplotlib.pyplot.setp \"matplotlib.pyplot.setp\") function with a line or lines as argument"
   ]
  },
  {
   "cell_type": "code",
   "execution_count": null,
   "id": "56404665-1d52-41c6-be74-d83b671a5e9f",
   "metadata": {},
   "outputs": [],
   "source": [
    "lines = [plt.plot](../../api/_as_gen/matplotlib.pyplot.plot.html#matplotlib.pyplot.plot \"matplotlib.pyplot.plot\")([1, 2, 3])\n",
    "plt.setp(lines)"
   ]
  },
  {
   "cell_type": "markdown",
   "id": "06cedaaa-2d20-4754-bab4-e37f782bfd9d",
   "metadata": {},
   "source": [
    "<a class=\"anchor\" id=\"working_with_multiple_figures_and_axes\"></a>\n",
    "## Working with multiple figures and axes"
   ]
  },
  {
   "cell_type": "markdown",
   "id": "f43bef09-001e-426a-b353-5c6bea9dd796",
   "metadata": {},
   "source": [
    "MATLAB, and [`pyplot`](https://matplotlib.org/stable/api/pyplot_summary.html#module-matplotlib.pyplot \"matplotlib.pyplot\"), have the concept of the current figure\n",
    "and the current axes. All plotting functions apply to the current\n",
    "axes. The function [`gca`](https://matplotlib.org/stable/api/_as_gen/matplotlib.pyplot.gca.html#matplotlib.pyplot.gca \"matplotlib.pyplot.gca\") returns the current axes (a\n",
    "[`matplotlib.axes.Axes`](https://matplotlib.org/stable/api/axes_api.html#matplotlib.axes.Axes \"matplotlib.axes.Axes\") instance), and [`gcf`](https://matplotlib.org/stable/api/_as_gen/matplotlib.pyplot.gcf.html#matplotlib.pyplot.gcf \"matplotlib.pyplot.gcf\") returns the current\n",
    "figure (a [`matplotlib.figure.Figure`](https://matplotlib.org/stable/api/figure_api.html#matplotlib.figure.Figure \"matplotlib.figure.Figure\") instance). Normally, you don't have to\n",
    "worry about this, because it is all taken care of behind the scenes. Below\n",
    "is a script to create two subplots."
   ]
  },
  {
   "cell_type": "markdown",
   "id": "7c28e24c-2633-46e7-ab4b-3355cf34a8e5",
   "metadata": {},
   "source": [
    "<img src=\"../../_images/sphx_glr_pyplot_007.png\" width=\"500px\">"
   ]
  },
  {
   "cell_type": "markdown",
   "id": "fff9de9b-129a-4954-8c8a-8a3f56815c93",
   "metadata": {},
   "source": [
    "The [`figure`](https://matplotlib.org/stable/api/_as_gen/matplotlib.pyplot.figure.html#matplotlib.pyplot.figure \"matplotlib.pyplot.figure\") call here is optional because a figure will be created\n",
    "if none exists, just as an Axes will be created (equivalent to an explicit\n",
    "`subplot()` call) if none exists.\n",
    "The [`subplot`](https://matplotlib.org/stable/api/_as_gen/matplotlib.pyplot.subplot.html#matplotlib.pyplot.subplot \"matplotlib.pyplot.subplot\") call specifies `numrows,\n",
    "numcols, plot_number` where `plot_number` ranges from 1 to\n",
    "`numrows*numcols`. The commas in the `subplot` call are\n",
    "optional if `numrows*numcols<10`. So `subplot(211)` is identical\n",
    "to `subplot(2, 1, 1)`."
   ]
  },
  {
   "cell_type": "markdown",
   "id": "557966e0-a939-44c7-9eca-2486f8ecd3f3",
   "metadata": {},
   "source": [
    "You can create an arbitrary number of subplots\n",
    "and axes. If you want to place an Axes manually, i.e., not on a\n",
    "rectangular grid, use [`axes`](https://matplotlib.org/stable/api/_as_gen/matplotlib.pyplot.axes.html#matplotlib.pyplot.axes \"matplotlib.pyplot.axes\"),\n",
    "which allows you to specify the location as `axes([left, bottom,\n",
    "width, height])` where all values are in fractional (0 to 1)\n",
    "coordinates. See [Axes Demo](https://matplotlib.org/stable/gallery/subplots_axes_and_figures/axes_demo.html) for an example of\n",
    "placing axes manually and [Multiple subplots](https://matplotlib.org/stable/gallery/subplots_axes_and_figures/subplot.html) for an\n",
    "example with lots of subplots."
   ]
  },
  {
   "cell_type": "markdown",
   "id": "02766e86-bfb5-4f3c-bdbd-aa37a8afd0ad",
   "metadata": {},
   "source": [
    "You can create multiple figures by using multiple\n",
    "[`figure`](https://matplotlib.org/stable/api/_as_gen/matplotlib.pyplot.figure.html#matplotlib.pyplot.figure \"matplotlib.pyplot.figure\") calls with an increasing figure\n",
    "number. Of course, each figure can contain as many axes and subplots\n",
    "as your heart desires:"
   ]
  },
  {
   "cell_type": "markdown",
   "id": "b84b7cf7-f0ba-49e1-986e-e07921a6d5d0",
   "metadata": {},
   "source": [
    "You can clear the current figure with [`clf`](https://matplotlib.org/stable/api/_as_gen/matplotlib.pyplot.clf.html#matplotlib.pyplot.clf \"matplotlib.pyplot.clf\")\n",
    "and the current axes with [`cla`](https://matplotlib.org/stable/api/_as_gen/matplotlib.pyplot.cla.html#matplotlib.pyplot.cla \"matplotlib.pyplot.cla\"). If you find\n",
    "it annoying that states (specifically the current image, figure and axes)\n",
    "are being maintained for you behind the scenes, don't despair: this is just a thin\n",
    "stateful wrapper around an object-oriented API, which you can use\n",
    "instead (see [Artist tutorial](../intermediate/artists.html))"
   ]
  },
  {
   "cell_type": "markdown",
   "id": "247dd1f7-2502-44b4-a4cd-263fa60eef5e",
   "metadata": {},
   "source": [
    "If you are making lots of figures, you need to be aware of one\n",
    "more thing: the memory required for a figure is not completely\n",
    "released until the figure is explicitly closed with\n",
    "[`close`](https://matplotlib.org/stable/api/_as_gen/matplotlib.pyplot.close.html#matplotlib.pyplot.close \"matplotlib.pyplot.close\"). Deleting all references to the\n",
    "figure, and/or using the window manager to kill the window in which\n",
    "the figure appears on the screen, is not enough, because pyplot\n",
    "maintains internal references until [`close`](https://matplotlib.org/stable/api/_as_gen/matplotlib.pyplot.close.html#matplotlib.pyplot.close \"matplotlib.pyplot.close\")\n",
    "is called."
   ]
  },
  {
   "cell_type": "markdown",
   "id": "fe3d988e-b2f9-4938-adf0-eef214e1c327",
   "metadata": {},
   "source": [
    "<a class=\"anchor\" id=\"working_with_text\"></a>\n",
    "## Working with text"
   ]
  },
  {
   "cell_type": "markdown",
   "id": "92b18fb4-e905-4b07-8c9b-97326a365990",
   "metadata": {},
   "source": [
    "[`text`](https://matplotlib.org/stable/api/_as_gen/matplotlib.pyplot.text.html#matplotlib.pyplot.text \"matplotlib.pyplot.text\") can be used to add text in an arbitrary location, and\n",
    "[`xlabel`](https://matplotlib.org/stable/api/_as_gen/matplotlib.pyplot.xlabel.html#matplotlib.pyplot.xlabel \"matplotlib.pyplot.xlabel\"), [`ylabel`](https://matplotlib.org/stable/api/_as_gen/matplotlib.pyplot.ylabel.html#matplotlib.pyplot.ylabel \"matplotlib.pyplot.ylabel\") and [`title`](https://matplotlib.org/stable/api/_as_gen/matplotlib.pyplot.title.html#matplotlib.pyplot.title \"matplotlib.pyplot.title\") are used to add\n",
    "text in the indicated locations (see [Text in Matplotlib Plots](../text/text_intro.html) for a\n",
    "more detailed example)"
   ]
  },
  {
   "cell_type": "markdown",
   "id": "07b5da44-f1e8-4dfd-8abe-917228c9d895",
   "metadata": {},
   "source": [
    "<img src=\"../../_images/sphx_glr_pyplot_008.png\" width=\"500px\">"
   ]
  },
  {
   "cell_type": "markdown",
   "id": "68e8bea2-3df9-4c0a-885d-7061a58e3d01",
   "metadata": {},
   "source": [
    "All of the [`text`](https://matplotlib.org/stable/api/_as_gen/matplotlib.pyplot.text.html#matplotlib.pyplot.text \"matplotlib.pyplot.text\") functions return a [`matplotlib.text.Text`](https://matplotlib.org/stable/api/text_api.html#matplotlib.text.Text \"matplotlib.text.Text\")\n",
    "instance. Just as with lines above, you can customize the properties by\n",
    "passing keyword arguments into the text functions or using [`setp`](https://matplotlib.org/stable/api/_as_gen/matplotlib.pyplot.setp.html#matplotlib.pyplot.setp \"matplotlib.pyplot.setp\"):"
   ]
  },
  {
   "cell_type": "markdown",
   "id": "c6c93365-b2d0-416b-b896-4af91a35274e",
   "metadata": {},
   "source": [
    "These properties are covered in more detail in [Text properties and layout](../text/text_props.html)."
   ]
  },
  {
   "cell_type": "markdown",
   "id": "adea08fc-5a30-4229-b5dc-d8605b6f83f0",
   "metadata": {},
   "source": [
    "<a class=\"anchor\" id=\"using_mathematical_expressions_in_text\"></a>\n",
    "### Using mathematical expressions in text"
   ]
  },
  {
   "cell_type": "markdown",
   "id": "38995d0f-2603-4930-bd1a-c4fb2f2de99c",
   "metadata": {},
   "source": [
    "matplotlib accepts TeX equation expressions in any text expression.\n",
    "For example to write the expression \\(\\sigma_i=15\\) in the title,\n",
    "you can write a TeX expression surrounded by dollar signs:"
   ]
  },
  {
   "cell_type": "markdown",
   "id": "97d4944e-964e-4586-9369-ae1c54ad090e",
   "metadata": {},
   "source": [
    "The `r` preceding the title string is important -- it signifies\n",
    "that the string is a *raw* string and not to treat backslashes as\n",
    "python escapes. matplotlib has a built-in TeX expression parser and\n",
    "layout engine, and ships its own math fonts -- for details see\n",
    "[Writing mathematical expressions](../text/mathtext.html). Thus you can use mathematical text across platforms\n",
    "without requiring a TeX installation. For those who have LaTeX and\n",
    "dvipng installed, you can also use LaTeX to format your text and\n",
    "incorporate the output directly into your display figures or saved\n",
    "postscript -- see [Text rendering with LaTeX](../text/usetex.html)."
   ]
  },
  {
   "cell_type": "markdown",
   "id": "4249f98d-d1de-4158-968a-1e30dc5ed8c6",
   "metadata": {},
   "source": [
    "<a class=\"anchor\" id=\"annotating_text\"></a>\n",
    "### Annotating text"
   ]
  },
  {
   "cell_type": "markdown",
   "id": "5f9ebfa3-026e-489c-b27f-0998be85fdb1",
   "metadata": {},
   "source": [
    "The uses of the basic [`text`](https://matplotlib.org/stable/api/_as_gen/matplotlib.pyplot.text.html#matplotlib.pyplot.text \"matplotlib.pyplot.text\") function above\n",
    "place text at an arbitrary position on the Axes. A common use for\n",
    "text is to annotate some feature of the plot, and the\n",
    "[`annotate`](https://matplotlib.org/stable/api/_as_gen/matplotlib.pyplot.annotate.html#matplotlib.pyplot.annotate \"matplotlib.pyplot.annotate\") method provides helper\n",
    "functionality to make annotations easy. In an annotation, there are\n",
    "two points to consider: the location being annotated represented by\n",
    "the argument `xy` and the location of the text `xytext`. Both of\n",
    "these arguments are `(x, y)` tuples."
   ]
  },
  {
   "cell_type": "markdown",
   "id": "3fec80f6-2e18-4dbd-9661-d45ce5486205",
   "metadata": {},
   "source": [
    "<img src=\"../../_images/sphx_glr_pyplot_009.png\" width=\"500px\">"
   ]
  },
  {
   "cell_type": "markdown",
   "id": "157ef052-1c49-42c0-bac8-3713fc8aad70",
   "metadata": {},
   "source": [
    "In this basic example, both the `xy` (arrow tip) and `xytext`\n",
    "locations (text location) are in data coordinates. There are a\n",
    "variety of other coordinate systems one can choose -- see\n",
    "[Basic annotation](../text/annotations.html#annotations-tutorial) and [Advanced Annotations](../text/annotations.html#plotting-guide-annotation) for\n",
    "details. More examples can be found in\n",
    "[Annotating Plots](https://matplotlib.org/stable/gallery/text_labels_and_annotations/annotation_demo.html)."
   ]
  },
  {
   "cell_type": "markdown",
   "id": "c4933e57-501a-43d1-9bc1-979ba3586f6c",
   "metadata": {},
   "source": [
    "<a class=\"anchor\" id=\"logarithmic_and_other_nonlinear_axes\"></a>\n",
    "## Logarithmic and other nonlinear axes"
   ]
  },
  {
   "cell_type": "markdown",
   "id": "b961c2d1-4dbe-4810-9741-51212b0b8ce9",
   "metadata": {},
   "source": [
    "[`matplotlib.pyplot`](https://matplotlib.org/stable/api/pyplot_summary.html#module-matplotlib.pyplot \"matplotlib.pyplot\") supports not only linear axis scales, but also\n",
    "logarithmic and logit scales. This is commonly used if data spans many orders\n",
    "of magnitude. Changing the scale of an axis is easy:"
   ]
  },
  {
   "cell_type": "markdown",
   "id": "b94aba07-9131-4250-88a4-78a825f72aac",
   "metadata": {},
   "source": [
    "> \n",
    "> plt.xscale('log')\n",
    "> \n",
    "> \n",
    ">"
   ]
  },
  {
   "cell_type": "markdown",
   "id": "b61bb652-5d97-4bb6-b38d-877ec6f25e1c",
   "metadata": {},
   "source": [
    "An example of four plots with the same data and different scales for the y axis\n",
    "is shown below."
   ]
  },
  {
   "cell_type": "markdown",
   "id": "d303b879-5b74-43dd-98c7-8c37d1fecc63",
   "metadata": {},
   "source": [
    "<img src=\"../../_images/sphx_glr_pyplot_010.png\" width=\"500px\">"
   ]
  },
  {
   "cell_type": "markdown",
   "id": "2d429218-1411-499c-8a43-8cc7b70e3606",
   "metadata": {},
   "source": [
    "It is also possible to add your own scale, see [`matplotlib.scale`](https://matplotlib.org/stable/api/scale_api.html#module-matplotlib.scale \"matplotlib.scale\") for\n",
    "details."
   ]
  },
  {
   "cell_type": "markdown",
   "id": "fcc9862a-390f-451a-8c3d-0c105c649309",
   "metadata": {},
   "source": [
    "**Total running time of the script:** ( 0 minutes 4.101 seconds)"
   ]
  },
  {
   "cell_type": "markdown",
   "id": "b1233861-3a16-42c7-88ad-15c3977badea",
   "metadata": {},
   "source": [
    "[`Download Python source code: pyplot.py`](https://matplotlib.org/stable/_downloads/c95c51c685ba2e2186f17d8368f80504/pyplot.py)"
   ]
  },
  {
   "cell_type": "markdown",
   "id": "a3e34dfa-b584-440d-a7c5-48bc93403558",
   "metadata": {},
   "source": [
    "[`Download Jupyter notebook: pyplot.ipynb`](https://matplotlib.org/stable/_downloads/8f46e9733d1ce7f9830abea476d2fecb/pyplot.ipynb)"
   ]
  },
  {
   "cell_type": "markdown",
   "id": "8b978c87-aebb-4e84-ae44-2e2f15e485fc",
   "metadata": {},
   "source": [
    "[Gallery generated by Sphinx-Gallery](https://sphinx-gallery.github.io)"
   ]
  }
 ],
 "metadata": {
  "kernelspec": {
   "display_name": "Python 3",
   "language": "python",
   "name": "python3"
  },
  "language_info": {
   "codemirror_mode": {
    "name": "ipython",
    "version": 3
   },
   "file_extension": ".py",
   "mimetype": "text/x-python",
   "name": "python",
   "nbconvert_exporter": "python",
   "pygments_lexer": "ipython3",
   "version": "3.8.11"
  }
 },
 "nbformat": 4,
 "nbformat_minor": 5
}
