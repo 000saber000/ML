{
  "cells": [
    {
      "cell_type": "markdown",
      "source": [
        "<img src=\"../../../images/banners/pandas-cropped.jpeg\" width=\"600\"/>"
      ],
      "metadata": {}
    },
    {
      "cell_type": "markdown",
      "source": [
        "<a class=\"anchor\" id=\"visualizing_categorical_data\"></a>\n",
        "# <img src=\"../../../images/logos/pandas.png\" width=\"23\"/>  Visualizing categorical data"
      ],
      "metadata": {}
    },
    {
      "cell_type": "markdown",
      "source": [
        "## <img src=\"../../../images/logos/toc.png\" width=\"20\"/> Table of Contents \n",
        "* [Visualizing categorical data](#visualizing_categorical_data)\n",
        "    * [Categorical scatterplots](#categorical_scatterplots)\n",
        "    * [Comparing distributions](#comparing_distributions)\n",
        "        * [Boxplots](#boxplots)\n",
        "        * [Violinplots](#violinplots)\n",
        "    * [Estimating central tendency](#estimating_central_tendency)\n",
        "        * [Bar plots](#bar_plots)\n",
        "        * [Point plots](#point_plots)\n",
        "    * [Showing additional dimensions](#showing_additional_dimensions)\n",
        "\n",
        "---"
      ],
      "metadata": {}
    },
    {
      "cell_type": "markdown",
      "source": [
        "In the [relational plot tutorial](https://seaborn.pydata.org/tutorial/relational.html#relational-tutorial) we saw how to use different visual representations to show the relationship between multiple variables in a dataset. In the examples, we focused on cases where the main relationship was between two numerical variables. If one of the main variables is \u201ccategorical\u201d (divided into discrete groups) it may be helpful to use a more specialized approach to visualization."
      ],
      "metadata": {}
    },
    {
      "cell_type": "markdown",
      "source": [
        "In seaborn, there are several different ways to visualize a relationship involving categorical data. Similar to the relationship between [`relplot()`](https://seaborn.pydata.org/tutorial/../generated/seaborn.relplot.html#seaborn.relplot \"seaborn.relplot\") and either [`scatterplot()`](https://seaborn.pydata.org/tutorial/../generated/seaborn.scatterplot.html#seaborn.scatterplot \"seaborn.scatterplot\") or [`lineplot()`](https://seaborn.pydata.org/tutorial/../generated/seaborn.lineplot.html#seaborn.lineplot \"seaborn.lineplot\"), there are two ways to make these plots. There are a number of axes-level functions for plotting categorical data in different ways and a figure-level interface, [`catplot()`](https://seaborn.pydata.org/tutorial/../generated/seaborn.catplot.html#seaborn.catplot \"seaborn.catplot\"), that gives unified higher-level access to them."
      ],
      "metadata": {}
    },
    {
      "cell_type": "markdown",
      "source": [
        "It\u2019s helpful to think of the different categorical plot kinds as belonging to three different families, which we\u2019ll discuss in detail below. They are:"
      ],
      "metadata": {}
    },
    {
      "cell_type": "markdown",
      "source": [
        "Categorical scatterplots:"
      ],
      "metadata": {}
    },
    {
      "cell_type": "markdown",
      "source": [
        "Categorical distribution plots:"
      ],
      "metadata": {}
    },
    {
      "cell_type": "markdown",
      "source": [
        "Categorical estimate plots:"
      ],
      "metadata": {}
    },
    {
      "cell_type": "markdown",
      "source": [
        "These families represent the data using different levels of granularity. When deciding which to use, you\u2019ll have to think about the question that you want to answer. The unified API makes it easy to switch between different kinds and see your data from several perspectives."
      ],
      "metadata": {}
    },
    {
      "cell_type": "markdown",
      "source": [
        "In this tutorial, we\u2019ll mostly focus on the figure-level interface, [`catplot()`](https://seaborn.pydata.org/tutorial/../generated/seaborn.catplot.html#seaborn.catplot \"seaborn.catplot\"). Remember that this function is a higher-level interface each of the functions above, so we\u2019ll reference them when we show each kind of plot, keeping the more verbose kind-specific API documentation at hand."
      ],
      "metadata": {}
    },
    {
      "cell_type": "markdown",
      "source": [
        "<a class=\"anchor\" id=\"categorical_scatterplots\"></a>\n",
        "## Categorical scatterplots"
      ],
      "metadata": {}
    },
    {
      "cell_type": "markdown",
      "source": [
        "The default representation of the data in [`catplot()`](https://seaborn.pydata.org/tutorial/../generated/seaborn.catplot.html#seaborn.catplot \"seaborn.catplot\") uses a scatterplot. There are actually two different categorical scatter plots in seaborn. They take different approaches to resolving the main challenge in representing categorical data with a scatter plot, which is that all of the points belonging to one category would fall on the same position along the axis corresponding to the categorical variable. The approach used by [`stripplot()`](https://seaborn.pydata.org/tutorial/../generated/seaborn.stripplot.html#seaborn.stripplot \"seaborn.stripplot\"), which is the default \u201ckind\u201d in [`catplot()`](https://seaborn.pydata.org/tutorial/../generated/seaborn.catplot.html#seaborn.catplot \"seaborn.catplot\") is to adjust the positions of points on the categorical axis with a small amount of random \u201cjitter\u201d:"
      ],
      "metadata": {}
    },
    {
      "cell_type": "markdown",
      "source": [
        "The `jitter` parameter controls the magnitude of jitter or disables it altogether:"
      ],
      "metadata": {}
    },
    {
      "cell_type": "markdown",
      "source": [
        "The second approach adjusts the points along the categorical axis using an algorithm that prevents them from overlapping. It can give a better representation of the distribution of observations, although it only works well for relatively small datasets. This kind of plot is sometimes called a \u201cbeeswarm\u201d and is drawn in seaborn by [`swarmplot()`](https://seaborn.pydata.org/tutorial/../generated/seaborn.swarmplot.html#seaborn.swarmplot \"seaborn.swarmplot\"), which is activated by setting `kind=\"swarm\"` in [`catplot()`](https://seaborn.pydata.org/tutorial/../generated/seaborn.catplot.html#seaborn.catplot \"seaborn.catplot\"):"
      ],
      "metadata": {}
    },
    {
      "cell_type": "markdown",
      "source": [
        "<img src=\"../_images/categorical_7_0.png\" width=\"500px\">"
      ],
      "metadata": {}
    },
    {
      "cell_type": "markdown",
      "source": [
        "Similar to the relational plots, it\u2019s possible to add another dimension to a categorical plot by using a `hue` semantic. (The categorical plots do not currently support `size` or `style` semantics). Each different categorical plotting function handles the `hue` semantic differently. For the scatter plots, it is only necessary to change the color of the points:"
      ],
      "metadata": {}
    },
    {
      "cell_type": "markdown",
      "source": [
        "<img src=\"../_images/categorical_9_0.png\" width=\"500px\">"
      ],
      "metadata": {}
    },
    {
      "cell_type": "markdown",
      "source": [
        "Unlike with numerical data, it is not always obvious how to order the levels of the categorical variable along its axis. In general, the seaborn categorical plotting functions try to infer the order of categories from the data. If your data have a pandas `Categorical` datatype, then the default order of the categories can be set there. If the variable passed to the categorical axis looks numerical, the levels will be sorted. But the data are still treated as categorical and drawn at ordinal positions on the categorical axes (specifically, at 0, 1, \u2026) even when numbers are used to label them:"
      ],
      "metadata": {}
    },
    {
      "cell_type": "markdown",
      "source": [
        "<img src=\"../_images/categorical_11_0.png\" width=\"500px\">"
      ],
      "metadata": {}
    },
    {
      "cell_type": "markdown",
      "source": [
        "The other option for choosing a default ordering is to take the levels of the category as they appear in the dataset. The ordering can also be controlled on a plot-specific basis using the `order` parameter. This can be important when drawing multiple categorical plots in the same figure, which we\u2019ll see more of below:"
      ],
      "metadata": {}
    },
    {
      "cell_type": "markdown",
      "source": [
        "<img src=\"../_images/categorical_13_0.png\" width=\"500px\">"
      ],
      "metadata": {}
    },
    {
      "cell_type": "markdown",
      "source": [
        "We\u2019ve referred to the idea of \u201ccategorical axis\u201d. In these examples, that\u2019s always corresponded to the horizontal axis. But it\u2019s often helpful to put the categorical variable on the vertical axis (particularly when the category names are relatively long or there are many categories). To do this, swap the assignment of variables to axes:"
      ],
      "metadata": {}
    },
    {
      "cell_type": "markdown",
      "source": [
        "<img src=\"../_images/categorical_15_0.png\" width=\"500px\">"
      ],
      "metadata": {}
    },
    {
      "cell_type": "markdown",
      "source": [
        "<a class=\"anchor\" id=\"comparing_distributions\"></a>\n",
        "## Comparing distributions"
      ],
      "metadata": {}
    },
    {
      "cell_type": "markdown",
      "source": [
        "As the size of the dataset grows, categorical scatter plots become limited in the information they can provide about the distribution of values within each category. When this happens, there are several approaches for summarizing the distributional information in ways that facilitate easy comparisons across the category levels."
      ],
      "metadata": {}
    },
    {
      "cell_type": "markdown",
      "source": [
        "<a class=\"anchor\" id=\"boxplots\"></a>\n",
        "### Boxplots"
      ],
      "metadata": {}
    },
    {
      "cell_type": "markdown",
      "source": [
        "The first is the familiar [`boxplot()`](https://seaborn.pydata.org/tutorial/../generated/seaborn.boxplot.html#seaborn.boxplot \"seaborn.boxplot\"). This kind of plot shows the three quartile values of the distribution along with extreme values. The \u201cwhiskers\u201d extend to points that lie within 1.5 IQRs of the lower and upper quartile, and then observations that fall outside this range are displayed independently. This means that each value in the boxplot corresponds to an actual observation in the data."
      ],
      "metadata": {}
    },
    {
      "cell_type": "markdown",
      "source": [
        "<img src=\"../_images/categorical_17_0.png\" width=\"500px\">"
      ],
      "metadata": {}
    },
    {
      "cell_type": "markdown",
      "source": [
        "When adding a `hue` semantic, the box for each level of the semantic variable is moved along the categorical axis so they don\u2019t overlap:"
      ],
      "metadata": {}
    },
    {
      "cell_type": "markdown",
      "source": [
        "<img src=\"../_images/categorical_19_0.png\" width=\"500px\">"
      ],
      "metadata": {}
    },
    {
      "cell_type": "markdown",
      "source": [
        "This behavior is called \u201cdodging\u201d and is turned on by default because it is assumed that the semantic variable is nested within the main categorical variable. If that\u2019s not the case, you can disable the dodging:"
      ],
      "metadata": {}
    },
    {
      "cell_type": "markdown",
      "source": [
        "<img src=\"../_images/categorical_21_0.png\" width=\"500px\">"
      ],
      "metadata": {}
    },
    {
      "cell_type": "markdown",
      "source": [
        "A related function, [`boxenplot()`](https://seaborn.pydata.org/tutorial/../generated/seaborn.boxenplot.html#seaborn.boxenplot \"seaborn.boxenplot\"), draws a plot that is similar to a box plot but optimized for showing more information about the shape of the distribution. It is best suited for larger datasets:"
      ],
      "metadata": {}
    },
    {
      "cell_type": "markdown",
      "source": [
        "<img src=\"../_images/categorical_23_0.png\" width=\"500px\">"
      ],
      "metadata": {}
    },
    {
      "cell_type": "markdown",
      "source": [
        "<a class=\"anchor\" id=\"violinplots\"></a>\n",
        "### Violinplots"
      ],
      "metadata": {}
    },
    {
      "cell_type": "markdown",
      "source": [
        "A different approach is a [`violinplot()`](https://seaborn.pydata.org/tutorial/../generated/seaborn.violinplot.html#seaborn.violinplot \"seaborn.violinplot\"), which combines a boxplot with the kernel density estimation procedure described in the [distributions](https://seaborn.pydata.org/tutorial/distributions.html#distribution-tutorial) tutorial:"
      ],
      "metadata": {}
    },
    {
      "cell_type": "markdown",
      "source": [
        "<img src=\"../_images/categorical_25_0.png\" width=\"500px\">"
      ],
      "metadata": {}
    },
    {
      "cell_type": "markdown",
      "source": [
        "This approach uses the kernel density estimate to provide a richer description of the distribution of values. Additionally, the quartile and whisker values from the boxplot are shown inside the violin. The downside is that, because the violinplot uses a KDE, there are some other parameters that may need tweaking, adding some complexity relative to the straightforward boxplot:"
      ],
      "metadata": {}
    },
    {
      "cell_type": "markdown",
      "source": [
        "<img src=\"../_images/categorical_27_0.png\" width=\"500px\">"
      ],
      "metadata": {}
    },
    {
      "cell_type": "markdown",
      "source": [
        "It\u2019s also possible to \u201csplit\u201d the violins when the hue parameter has only two levels, which can allow for a more efficient use of space:"
      ],
      "metadata": {}
    },
    {
      "cell_type": "markdown",
      "source": [
        "<img src=\"../_images/categorical_29_0.png\" width=\"500px\">"
      ],
      "metadata": {}
    },
    {
      "cell_type": "markdown",
      "source": [
        "Finally, there are several options for the plot that is drawn on the interior of the violins, including ways to show each individual observation instead of the summary boxplot values:"
      ],
      "metadata": {}
    },
    {
      "cell_type": "markdown",
      "source": [
        "<img src=\"../_images/categorical_31_0.png\" width=\"500px\">"
      ],
      "metadata": {}
    },
    {
      "cell_type": "markdown",
      "source": [
        "It can also be useful to combine [`swarmplot()`](https://seaborn.pydata.org/tutorial/../generated/seaborn.swarmplot.html#seaborn.swarmplot \"seaborn.swarmplot\") or [`stripplot()`](https://seaborn.pydata.org/tutorial/../generated/seaborn.stripplot.html#seaborn.stripplot \"seaborn.stripplot\") with a box plot or violin plot to show each observation along with a summary of the distribution:"
      ],
      "metadata": {}
    },
    {
      "cell_type": "markdown",
      "source": [
        "<img src=\"../_images/categorical_33_0.png\" width=\"500px\">"
      ],
      "metadata": {}
    },
    {
      "cell_type": "markdown",
      "source": [
        "<a class=\"anchor\" id=\"estimating_central_tendency\"></a>\n",
        "## Estimating central tendency"
      ],
      "metadata": {}
    },
    {
      "cell_type": "markdown",
      "source": [
        "For other applications, rather than showing the distribution within each category, you might want to show an estimate of the central tendency of the values. Seaborn has two main ways to show this information. Importantly, the basic API for these functions is identical to that for the ones discussed above."
      ],
      "metadata": {}
    },
    {
      "cell_type": "markdown",
      "source": [
        "<a class=\"anchor\" id=\"bar_plots\"></a>\n",
        "### Bar plots"
      ],
      "metadata": {}
    },
    {
      "cell_type": "markdown",
      "source": [
        "A familiar style of plot that accomplishes this goal is a bar plot. In seaborn, the [`barplot()`](https://seaborn.pydata.org/tutorial/../generated/seaborn.barplot.html#seaborn.barplot \"seaborn.barplot\") function operates on a full dataset and applies a function to obtain the estimate (taking the mean by default). When there are multiple observations in each category, it also uses bootstrapping to compute a confidence interval around the estimate, which is plotted using error bars:"
      ],
      "metadata": {}
    },
    {
      "cell_type": "markdown",
      "source": [
        "<img src=\"../_images/categorical_35_0.png\" width=\"500px\">"
      ],
      "metadata": {}
    },
    {
      "cell_type": "markdown",
      "source": [
        "The default error bars show 95% confidence intervals, but (starting in\n",
        "v0.12), it is possible to select from a number of other representations:"
      ],
      "metadata": {}
    },
    {
      "cell_type": "markdown",
      "source": [
        "<img src=\"../_images/categorical_37_0.png\" width=\"500px\">"
      ],
      "metadata": {}
    },
    {
      "cell_type": "markdown",
      "source": [
        "A special case for the bar plot is when you want to show the number of observations in each category rather than computing a statistic for a second variable. This is similar to a histogram over a categorical, rather than quantitative, variable. In seaborn, it\u2019s easy to do so with the [`countplot()`](https://seaborn.pydata.org/tutorial/../generated/seaborn.countplot.html#seaborn.countplot \"seaborn.countplot\") function:"
      ],
      "metadata": {}
    },
    {
      "cell_type": "markdown",
      "source": [
        "<img src=\"../_images/categorical_39_0.png\" width=\"500px\">"
      ],
      "metadata": {}
    },
    {
      "cell_type": "markdown",
      "source": [
        "Both [`barplot()`](https://seaborn.pydata.org/tutorial/../generated/seaborn.barplot.html#seaborn.barplot \"seaborn.barplot\") and [`countplot()`](https://seaborn.pydata.org/tutorial/../generated/seaborn.countplot.html#seaborn.countplot \"seaborn.countplot\") can be invoked with all of the options discussed above, along with others that are demonstrated in the detailed documentation for each function:"
      ],
      "metadata": {}
    },
    {
      "cell_type": "markdown",
      "source": [
        "<img src=\"../_images/categorical_41_0.png\" width=\"500px\">"
      ],
      "metadata": {}
    },
    {
      "cell_type": "markdown",
      "source": [
        "<a class=\"anchor\" id=\"point_plots\"></a>\n",
        "### Point plots"
      ],
      "metadata": {}
    },
    {
      "cell_type": "markdown",
      "source": [
        "An alternative style for visualizing the same information is offered by the [`pointplot()`](https://seaborn.pydata.org/tutorial/../generated/seaborn.pointplot.html#seaborn.pointplot \"seaborn.pointplot\") function. This function also encodes the value of the estimate with height on the other axis, but rather than showing a full bar, it plots the point estimate and confidence interval. Additionally, [`pointplot()`](https://seaborn.pydata.org/tutorial/../generated/seaborn.pointplot.html#seaborn.pointplot \"seaborn.pointplot\") connects points from the same `hue` category. This makes it easy to see how the main relationship is changing as a function of the hue semantic, because your eyes are quite good at picking up on differences of slopes:"
      ],
      "metadata": {}
    },
    {
      "cell_type": "markdown",
      "source": [
        "<img src=\"../_images/categorical_43_0.png\" width=\"500px\">"
      ],
      "metadata": {}
    },
    {
      "cell_type": "markdown",
      "source": [
        "While the categorical functions lack the `style` semantic of the relational functions, it can still be a good idea to vary the marker and/or linestyle along with the hue to make figures that are maximally accessible and reproduce well in black and white:"
      ],
      "metadata": {}
    },
    {
      "cell_type": "markdown",
      "source": [
        "<img src=\"../_images/categorical_45_0.png\" width=\"500px\">"
      ],
      "metadata": {}
    },
    {
      "cell_type": "markdown",
      "source": [
        "<a class=\"anchor\" id=\"showing_additional_dimensions\"></a>\n",
        "## Showing additional dimensions"
      ],
      "metadata": {}
    },
    {
      "cell_type": "markdown",
      "source": [
        "Just like [`relplot()`](https://seaborn.pydata.org/tutorial/../generated/seaborn.relplot.html#seaborn.relplot \"seaborn.relplot\"), the fact that [`catplot()`](https://seaborn.pydata.org/tutorial/../generated/seaborn.catplot.html#seaborn.catplot \"seaborn.catplot\") is built on a [`FacetGrid`](https://seaborn.pydata.org/tutorial/../generated/seaborn.FacetGrid.html#seaborn.FacetGrid \"seaborn.FacetGrid\") means that it is easy to add faceting variables to visualize higher-dimensional relationships:"
      ],
      "metadata": {}
    },
    {
      "cell_type": "markdown",
      "source": [
        "<img src=\"../_images/categorical_47_0.png\" width=\"500px\">"
      ],
      "metadata": {}
    },
    {
      "cell_type": "markdown",
      "source": [
        "For further customization of the plot, you can use the methods on the [`FacetGrid`](https://seaborn.pydata.org/tutorial/../generated/seaborn.FacetGrid.html#seaborn.FacetGrid \"seaborn.FacetGrid\") object that it returns:"
      ],
      "metadata": {}
    },
    {
      "cell_type": "markdown",
      "source": [
        "<img src=\"../_images/categorical_49_0.png\" width=\"500px\">"
      ],
      "metadata": {}
    }
  ],
  "metadata": {
    "kernelspec": {
      "display_name": "Python 3 (ipykernel)",
      "language": "python",
      "name": "python3"
    },
    "language_info": {
      "codemirror_mode": {
        "name": "ipython",
        "version": 3
      },
      "file_extension": ".py",
      "mimetype": "text/x-python",
      "name": "python",
      "nbconvert_exporter": "python",
      "pygments_lexer": "ipython3",
      "version": "3.7.10"
    }
  },
  "nbformat": 4,
  "nbformat_minor": 5
}