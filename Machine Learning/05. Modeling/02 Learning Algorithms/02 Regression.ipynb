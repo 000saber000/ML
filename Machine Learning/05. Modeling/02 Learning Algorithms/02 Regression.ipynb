{
 "cells": [
  {
   "cell_type": "markdown",
   "id": "12cf7f7a-23de-4524-8d28-d4f2cc7265fc",
   "metadata": {},
   "source": [
    "<img src=\"../../../images/banners/ml-algorithms.jpg\" width=\"600\"/>"
   ]
  },
  {
   "cell_type": "markdown",
   "id": "6180b914-8b5b-4272-b30e-e7eb4864f60f",
   "metadata": {},
   "source": [
    "<a class=\"anchor\" id=\"intro_to_data_structures\"></a>\n",
    "# <img src=\"../../../images/logos/ml-logo.png\" width=\"23\"/> Machine Learning Algorithms"
   ]
  },
  {
   "cell_type": "markdown",
   "id": "fcb8d041-386c-4d95-a2fa-44a2eabf6a69",
   "metadata": {},
   "source": [
    "## <img src=\"../../../images/logos/toc.png\" width=\"20\"/> Table of Contents\n",
    "* [Linear Regression](#)\n",
    "* [What is Maximum Likelihood?](#)\n",
    "\n",
    "---"
   ]
  },
  {
   "cell_type": "markdown",
   "id": "5b2e08d3-6f4e-4177-9595-f5dd5e52e0ca",
   "metadata": {},
   "source": [
    "We turn now to a discussion of supervised learning, starting with regression. The goal of regression is to predict the value of one or more continuous target variables $t$ given the value of a D-dimensional vector $x$ of input variables."
   ]
  },
  {
   "cell_type": "markdown",
   "id": "a3406125-acfe-46f9-a357-c2575ea8c9c5",
   "metadata": {},
   "source": [
    "Given a training data set comprising $N$ observations ${x_n}$, where $n = 1, ... , N$,\n",
    "together with corresponding target values ${t_n}$, the goal is to predict the value of $t$ for a new value of $x$. In the simplest approach, this can be done by directly constructing an appropriate function $y(x)$ whose values for new inputs $x$ constitute the predictions for the corresponding values of $t$."
   ]
  },
  {
   "cell_type": "markdown",
   "id": "c4d2543b-fbef-4c34-aa48-cfb8e4d44ab1",
   "metadata": {},
   "source": [
    "More generally, from a probabilistic perspective, we aim to model the predictive distribution $p(t|x)$ because this expresses our uncertainty about the value of $t$ for each value of $x$. From this conditional distribution we can make predictions of $t$, for any new value of $x$, in such a way as to minimize the expected value of a suitably chosen loss function. A common choice of loss function for real-valued variables is the squared loss, for which the optimal solution is given by the conditional expectation of $t$."
   ]
  },
  {
   "cell_type": "markdown",
   "id": "41739471-9ecd-4d05-89ed-40bd0019431a",
   "metadata": {},
   "source": [
    "Although linear models have significant limitations as practical techniques for\n",
    "pattern recognition, particularly for problems involving input spaces of high dimensionality, they have nice analytical properties and form the foundation for more sophisticated models to be discussed in later sections."
   ]
  },
  {
   "cell_type": "markdown",
   "id": "350ff49a-fc42-4662-90ca-70bd731ff83c",
   "metadata": {},
   "source": [
    "<img src=\"../images/linear-nonlinear.png\" width=\"500\"/>"
   ]
  },
  {
   "cell_type": "markdown",
   "id": "aef797f4-7ff3-4b81-97e9-4d05fd8fb52c",
   "metadata": {},
   "source": [
    "## Linear Regression"
   ]
  },
  {
   "cell_type": "markdown",
   "id": "f0318214-06bd-4678-a799-75fcb59d2ddc",
   "metadata": {},
   "source": [
    "The simplest linear model for regression is one that involves a linear combination of the input variables:\n",
    "\n",
    "\\begin{equation}\n",
    "y(x,w) = w_0 + w_1x_1 + \\cdots + w_Dx_D\n",
    "\\end{equation}\n",
    "\n",
    "where $x = (x_1, \\cdots , x_D)^T$. This is often simply known as linear regression. The key property of this model is that it is a linear function of the parameters $w_0, \\cdots , w_D$. It is also, however, a linear function of the input variables $x_i$, and this imposes significant limitations on the model. We therefore extend the class of models by considering linear combinations of fixed nonlinear functions of the input variables, of the form:\n",
    "\n",
    "\\begin{equation}\n",
    "y(x,w) = w_0 + \\frac{1}{M} \\sum_{j=1}^{M} w_j X_j(x)\n",
    "\\end{equation}\n",
    "\n",
    "By denoting the maximum value of the index j by M − 1, the total number of parameters in this model will be M."
   ]
  },
  {
   "cell_type": "markdown",
   "id": "e1392056-a8c1-4545-9601-4a618222defa",
   "metadata": {},
   "source": [
    "The parameter $w_0$ allows for any fixed offset in the data and is sometimes called a bias parameter (not to be confused with ‘bias’ in a statistical sense)."
   ]
  },
  {
   "cell_type": "markdown",
   "id": "78a4d08a-6dd4-4c66-8f00-1f4223dbd675",
   "metadata": {},
   "source": [
    "It is often convenient to define an additional dummy feature $X_0 = 1$ so that\n",
    "\n",
    "\\begin{equation}\n",
    "y(x,w) = \\sum_{j=0}^{M-1} w_j X_j = w^T X(x)\n",
    "\\end{equation}\n",
    "\n",
    "where $w = (w_0, \\cdots, w_{M-1})^T$ and $X = (X_0, \\cdots, X_{M-1})^T$."
   ]
  },
  {
   "cell_type": "markdown",
   "id": "932a629d-3bc7-4f60-9127-3ed5b57baf04",
   "metadata": {
    "tags": []
   },
   "source": [
    "<img src=\"../images/linear-model-formula.webp\" width=\"200\"/>"
   ]
  },
  {
   "cell_type": "markdown",
   "id": "ffc820e8-fdf3-4f95-838b-a18d71b3c418",
   "metadata": {},
   "source": [
    "## What is Maximum Likelihood?"
   ]
  },
  {
   "cell_type": "markdown",
   "id": "50d84088-42b3-4831-abfb-46a5508f00e5",
   "metadata": {},
   "source": [
    "In statistics, maximum likelihood estimation (MLE) is a method of estimating the parameters of an assumed probability distribution, given some observed data. This is achieved by maximizing a likelihood function so that, under the assumed statistical model, the observed data is most probable."
   ]
  },
  {
   "cell_type": "markdown",
   "id": "55d1caac-7c8f-49fa-9b45-d5e4ede83eaf",
   "metadata": {},
   "source": [
    "Note that maximum likelihood is not probability. Probability corresponds to finding the chance of something given a sample distribution of the data, while on the other hand, Likelihood refers to finding the best distribution of the data given a particular value of some feature or some situation in the data. While probability is used to find the chance of occurrence of a particular situation, likelihood is used to generally maximizing the chances of a particular situation to occur. To learn more, watch:\n",
    "\n",
    "- <img src=\"../../../images/logos/youtube.png\" width=\"15\"/> [Probability is not Likelihood](https://www.youtube.com/watch?v=pYxNSUDSFH4&t=1s)"
   ]
  },
  {
   "cell_type": "markdown",
   "id": "0a40eb20-d964-46e4-9a11-1ddfab2d6b2a",
   "metadata": {},
   "source": [
    "## Maximum Likelihood Formulation"
   ]
  },
  {
   "cell_type": "markdown",
   "id": "2ea7e481-6bc4-4904-a99d-ad870825dd86",
   "metadata": {},
   "source": [
    "This section is covered by:\n",
    "- <img src=\"../../../images/logos/book.png\" width=\"16\"/> [Chapter 5 of Machine Learning Handbook by Martha White](https://marthawhite.github.io/mlcourse/notes.pdf)\n",
    "\n",
    "Read:\n",
    "- 5 Linear Regression\n",
    "- 5.1 Maximum likelihood formulation\n",
    "- 5.2 Ordinary Least-Squares (OLS) Regression\n",
    "- 5.3 Linear regression for non-linear problems\n",
    "\n",
    "Also read:\n",
    "- [Independent and identically distributed random variables (i.i.d)](https://en.wikipedia.org/wiki/Independent_and_identically_distributed_random_variables)\n",
    "- [Vector Norms](https://builtin.com/data-science/vector-norms) which are a way to measure the size of a vector, a matrix, or a tensor. In other words, norms are a class of functions that enable us to quantify the magnitude of a vector."
   ]
  },
  {
   "cell_type": "code",
   "execution_count": 42,
   "id": "672cf856-624a-4d3e-bb69-87bf9df74504",
   "metadata": {},
   "outputs": [
    {
     "data": {
      "text/plain": [
       "<matplotlib.collections.PathCollection at 0x7fc4508d1370>"
      ]
     },
     "execution_count": 42,
     "metadata": {},
     "output_type": "execute_result"
    },
    {
     "data": {
      "image/png": "[encoded data removed]",
      "text/plain": [
       "<Figure size 432x288 with 1 Axes>"
      ]
     },
     "metadata": {
      "needs_background": "light"
     },
     "output_type": "display_data"
    }
   ],
   "source": [
    "import numpy as np\n",
    "import matplotlib.pyplot as plt\n",
    "%matplotlib inline\n",
    "\n",
    "x = np.array(sorted(np.random.rand(10)))\n",
    "y = 2 * x + 3\n",
    "plt.plot(y, x, color='red')\n",
    "plt.scatter(y + np.random.randn(10) / 3, x)"
   ]
  },
  {
   "cell_type": "markdown",
   "id": "4660f84f-a843-41e3-b62d-831e63e14f40",
   "metadata": {},
   "source": [
    "<img src=\"../images/convex-non-convex.png\" width=\"400\"/>"
   ]
  },
  {
   "cell_type": "code",
   "execution_count": 44,
   "id": "fc011b5b-3682-4bab-bfb8-07401c3034b5",
   "metadata": {},
   "outputs": [],
   "source": [
    "import seaborn as sns"
   ]
  },
  {
   "cell_type": "code",
   "execution_count": 45,
   "id": "f1909ce9-dce8-4fa3-94e6-a7668176ebf6",
   "metadata": {},
   "outputs": [
    {
     "data": {
      "text/html": [
       "<div>\n",
       "<style scoped>\n",
       "    .dataframe tbody tr th:only-of-type {\n",
       "        vertical-align: middle;\n",
       "    }\n",
       "\n",
       "    .dataframe tbody tr th {\n",
       "        vertical-align: top;\n",
       "    }\n",
       "\n",
       "    .dataframe thead th {\n",
       "        text-align: right;\n",
       "    }\n",
       "</style>\n",
       "<table border=\"1\" class=\"dataframe\">\n",
       "  <thead>\n",
       "    <tr style=\"text-align: right;\">\n",
       "      <th></th>\n",
       "      <th>sepal_length</th>\n",
       "      <th>sepal_width</th>\n",
       "      <th>petal_length</th>\n",
       "      <th>petal_width</th>\n",
       "      <th>species</th>\n",
       "    </tr>\n",
       "  </thead>\n",
       "  <tbody>\n",
       "    <tr>\n",
       "      <th>0</th>\n",
       "      <td>5.1</td>\n",
       "      <td>3.5</td>\n",
       "      <td>1.4</td>\n",
       "      <td>0.2</td>\n",
       "      <td>setosa</td>\n",
       "    </tr>\n",
       "    <tr>\n",
       "      <th>1</th>\n",
       "      <td>4.9</td>\n",
       "      <td>3.0</td>\n",
       "      <td>1.4</td>\n",
       "      <td>0.2</td>\n",
       "      <td>setosa</td>\n",
       "    </tr>\n",
       "    <tr>\n",
       "      <th>2</th>\n",
       "      <td>4.7</td>\n",
       "      <td>3.2</td>\n",
       "      <td>1.3</td>\n",
       "      <td>0.2</td>\n",
       "      <td>setosa</td>\n",
       "    </tr>\n",
       "    <tr>\n",
       "      <th>3</th>\n",
       "      <td>4.6</td>\n",
       "      <td>3.1</td>\n",
       "      <td>1.5</td>\n",
       "      <td>0.2</td>\n",
       "      <td>setosa</td>\n",
       "    </tr>\n",
       "    <tr>\n",
       "      <th>4</th>\n",
       "      <td>5.0</td>\n",
       "      <td>3.6</td>\n",
       "      <td>1.4</td>\n",
       "      <td>0.2</td>\n",
       "      <td>setosa</td>\n",
       "    </tr>\n",
       "    <tr>\n",
       "      <th>...</th>\n",
       "      <td>...</td>\n",
       "      <td>...</td>\n",
       "      <td>...</td>\n",
       "      <td>...</td>\n",
       "      <td>...</td>\n",
       "    </tr>\n",
       "    <tr>\n",
       "      <th>145</th>\n",
       "      <td>6.7</td>\n",
       "      <td>3.0</td>\n",
       "      <td>5.2</td>\n",
       "      <td>2.3</td>\n",
       "      <td>virginica</td>\n",
       "    </tr>\n",
       "    <tr>\n",
       "      <th>146</th>\n",
       "      <td>6.3</td>\n",
       "      <td>2.5</td>\n",
       "      <td>5.0</td>\n",
       "      <td>1.9</td>\n",
       "      <td>virginica</td>\n",
       "    </tr>\n",
       "    <tr>\n",
       "      <th>147</th>\n",
       "      <td>6.5</td>\n",
       "      <td>3.0</td>\n",
       "      <td>5.2</td>\n",
       "      <td>2.0</td>\n",
       "      <td>virginica</td>\n",
       "    </tr>\n",
       "    <tr>\n",
       "      <th>148</th>\n",
       "      <td>6.2</td>\n",
       "      <td>3.4</td>\n",
       "      <td>5.4</td>\n",
       "      <td>2.3</td>\n",
       "      <td>virginica</td>\n",
       "    </tr>\n",
       "    <tr>\n",
       "      <th>149</th>\n",
       "      <td>5.9</td>\n",
       "      <td>3.0</td>\n",
       "      <td>5.1</td>\n",
       "      <td>1.8</td>\n",
       "      <td>virginica</td>\n",
       "    </tr>\n",
       "  </tbody>\n",
       "</table>\n",
       "<p>150 rows × 5 columns</p>\n",
       "</div>"
      ],
      "text/plain": [
       "     sepal_length  sepal_width  petal_length  petal_width    species\n",
       "0             5.1          3.5           1.4          0.2     setosa\n",
       "1             4.9          3.0           1.4          0.2     setosa\n",
       "2             4.7          3.2           1.3          0.2     setosa\n",
       "3             4.6          3.1           1.5          0.2     setosa\n",
       "4             5.0          3.6           1.4          0.2     setosa\n",
       "..            ...          ...           ...          ...        ...\n",
       "145           6.7          3.0           5.2          2.3  virginica\n",
       "146           6.3          2.5           5.0          1.9  virginica\n",
       "147           6.5          3.0           5.2          2.0  virginica\n",
       "148           6.2          3.4           5.4          2.3  virginica\n",
       "149           5.9          3.0           5.1          1.8  virginica\n",
       "\n",
       "[150 rows x 5 columns]"
      ]
     },
     "execution_count": 45,
     "metadata": {},
     "output_type": "execute_result"
    }
   ],
   "source": [
    "sns.load_dataset('iris')"
   ]
  },
  {
   "cell_type": "markdown",
   "id": "a7244c3f-9349-40f4-b5a2-8265177e5f8d",
   "metadata": {},
   "source": [
    "### Example 01"
   ]
  },
  {
   "cell_type": "code",
   "execution_count": 1,
   "id": "10cf717f-4dac-4bcd-b839-388b659d9741",
   "metadata": {},
   "outputs": [],
   "source": [
    "import numpy as np\n",
    "from numpy.linalg import inv"
   ]
  },
  {
   "cell_type": "code",
   "execution_count": 2,
   "id": "b30a6364-8d96-45a2-bc2b-2bd7d0468ee7",
   "metadata": {},
   "outputs": [],
   "source": [
    "X = np.array(\n",
    "    [\n",
    "        [1, 1],\n",
    "        [1, 2],\n",
    "        [1, 3],\n",
    "        [1, 4],\n",
    "    ]\n",
    ")\n",
    "\n",
    "y = np.array([1.2, 2.3, 2.3, 3.3])"
   ]
  },
  {
   "cell_type": "code",
   "execution_count": 3,
   "id": "d40c6943-c141-414d-bd0b-d8e336a79083",
   "metadata": {},
   "outputs": [],
   "source": [
    "w_mle = inv(X.T @ X) @ X.T @ y"
   ]
  },
  {
   "cell_type": "code",
   "execution_count": 4,
   "id": "f266d2c5-f19d-4361-8dcd-19ea75b6b347",
   "metadata": {},
   "outputs": [
    {
     "data": {
      "text/plain": [
       "array([0.7 , 0.63])"
      ]
     },
     "execution_count": 4,
     "metadata": {},
     "output_type": "execute_result"
    }
   ],
   "source": [
    "w_mle"
   ]
  },
  {
   "cell_type": "markdown",
   "id": "5756401a-0a8d-4735-97a4-7bfc785ad8e4",
   "metadata": {},
   "source": [
    "### Example 02: $w$ vs. $w_{mle}$"
   ]
  },
  {
   "cell_type": "code",
   "execution_count": 5,
   "id": "19d085b6-b878-4d05-ad86-1ae86a36d7b6",
   "metadata": {},
   "outputs": [],
   "source": [
    "e = [-0.3, 0.3, -0.2, 0.3]"
   ]
  },
  {
   "cell_type": "code",
   "execution_count": 6,
   "id": "cd546151-9ac1-4df0-9bef-d1c3ed216555",
   "metadata": {},
   "outputs": [],
   "source": [
    "w = np.array([1, 0.5])\n",
    "y = X @ w + e"
   ]
  },
  {
   "cell_type": "code",
   "execution_count": 7,
   "id": "8b8df58e-ce80-4dde-9f9f-ca2ea53e5cd9",
   "metadata": {},
   "outputs": [
    {
     "data": {
      "text/plain": [
       "(array([1. , 0.5]), array([0.7 , 0.63]))"
      ]
     },
     "execution_count": 7,
     "metadata": {},
     "output_type": "execute_result"
    }
   ],
   "source": [
    "w, w_mle"
   ]
  },
  {
   "cell_type": "code",
   "execution_count": 8,
   "id": "a5a510e5-ad4c-4982-afe8-fb1a77c7d416",
   "metadata": {},
   "outputs": [
    {
     "data": {
      "text/plain": [
       "array([1.2, 2.3, 2.3, 3.3])"
      ]
     },
     "execution_count": 8,
     "metadata": {},
     "output_type": "execute_result"
    }
   ],
   "source": [
    "y"
   ]
  },
  {
   "cell_type": "markdown",
   "id": "d611f34a-d513-4ba2-8388-00a977b87835",
   "metadata": {},
   "source": [
    "### Example 03: Polynomial Curve Fitting"
   ]
  },
  {
   "cell_type": "markdown",
   "id": "1092029e-709c-4941-9958-5b2bb162927e",
   "metadata": {},
   "source": [
    "#### $p = 2$ (Train)"
   ]
  },
  {
   "cell_type": "code",
   "execution_count": 17,
   "id": "9e493f9f-1cc1-4353-b5e3-ad350f79c505",
   "metadata": {},
   "outputs": [],
   "source": [
    "PHI2 = np.array([\n",
    "    [1, 1, 1],\n",
    "    [1, 2, 4],\n",
    "    [1, 3, 9],\n",
    "    [1, 4, 16],\n",
    "])"
   ]
  },
  {
   "cell_type": "code",
   "execution_count": 18,
   "id": "8f6d571c-809f-46aa-92de-2f64331d1fc0",
   "metadata": {},
   "outputs": [],
   "source": [
    "w_mle = inv(PHI2.T @ PHI2) @ PHI2.T @ y"
   ]
  },
  {
   "cell_type": "code",
   "execution_count": 19,
   "id": "14b4f5bd-fc26-4885-97e8-a741662e5007",
   "metadata": {},
   "outputs": [
    {
     "data": {
      "text/plain": [
       "array([ 0.575,  0.755, -0.025])"
      ]
     },
     "execution_count": 19,
     "metadata": {},
     "output_type": "execute_result"
    }
   ],
   "source": [
    "w_mle"
   ]
  },
  {
   "cell_type": "code",
   "execution_count": 20,
   "id": "4f77f06d-6aa8-402d-b8c7-42919fa682bf",
   "metadata": {},
   "outputs": [],
   "source": [
    "e_train = np.sum((y - PHI2 @ w_mle) ** 2)"
   ]
  },
  {
   "cell_type": "code",
   "execution_count": 21,
   "id": "dbcca8ff-2e33-45ad-8b07-3f57e5105362",
   "metadata": {},
   "outputs": [
    {
     "data": {
      "text/plain": [
       "0.2205000000000002"
      ]
     },
     "execution_count": 21,
     "metadata": {},
     "output_type": "execute_result"
    }
   ],
   "source": [
    "e_train"
   ]
  },
  {
   "cell_type": "markdown",
   "id": "4324ba97-ee3a-4314-988f-f04fd1be93aa",
   "metadata": {},
   "source": [
    "#### $p=3$"
   ]
  },
  {
   "cell_type": "code",
   "execution_count": 22,
   "id": "43b225b1-3b7f-4a5b-826c-65d56c5af0aa",
   "metadata": {},
   "outputs": [],
   "source": [
    "PHI3 = np.array([\n",
    "    [1, 1, 1, 1],\n",
    "    [1, 2, 4, 8],\n",
    "    [1, 3, 9, 27],\n",
    "    [1, 4, 16, 64],\n",
    "])"
   ]
  },
  {
   "cell_type": "code",
   "execution_count": 23,
   "id": "98d36b08-9795-46e1-8a83-b49b5de3da29",
   "metadata": {},
   "outputs": [],
   "source": [
    "w_mle = inv(PHI3.T @ PHI3) @ PHI3.T @ y"
   ]
  },
  {
   "cell_type": "code",
   "execution_count": 24,
   "id": "d1c71c84-62da-4dd9-a8dc-d135cabc18b2",
   "metadata": {},
   "outputs": [
    {
     "data": {
      "text/plain": [
       "array([-3.1 ,  6.6 , -2.65,  0.35])"
      ]
     },
     "execution_count": 24,
     "metadata": {},
     "output_type": "execute_result"
    }
   ],
   "source": [
    "w_mle"
   ]
  },
  {
   "cell_type": "code",
   "execution_count": 25,
   "id": "2c59bbd4-1fab-4b50-a41b-d77154ae3bd9",
   "metadata": {},
   "outputs": [
    {
     "data": {
      "text/plain": [
       "1.3286854124644085e-22"
      ]
     },
     "execution_count": 25,
     "metadata": {},
     "output_type": "execute_result"
    }
   ],
   "source": [
    "e = np.sum((y - PHI3 @ w_mle) ** 2)\n",
    "e"
   ]
  },
  {
   "cell_type": "code",
   "execution_count": 26,
   "id": "7e3e7097-c25f-4d69-bd82-7f42280ff9e4",
   "metadata": {},
   "outputs": [
    {
     "data": {
      "text/plain": [
       "True"
      ]
     },
     "execution_count": 26,
     "metadata": {},
     "output_type": "execute_result"
    }
   ],
   "source": [
    "# overfitting\n",
    "np.isclose(e, 0)"
   ]
  }
 ],
 "metadata": {
  "kernelspec": {
   "display_name": "Python 3",
   "language": "python",
   "name": "python3"
  },
  "language_info": {
   "codemirror_mode": {
    "name": "ipython",
    "version": 3
   },
   "file_extension": ".py",
   "mimetype": "text/x-python",
   "name": "python",
   "nbconvert_exporter": "python",
   "pygments_lexer": "ipython3",
   "version": "3.8.11"
  }
 },
 "nbformat": 4,
 "nbformat_minor": 5
}
