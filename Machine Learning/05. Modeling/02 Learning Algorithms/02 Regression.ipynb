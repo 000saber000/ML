{
 "cells": [
  {
   "cell_type": "markdown",
   "id": "12cf7f7a-23de-4524-8d28-d4f2cc7265fc",
   "metadata": {},
   "source": [
    "<img src=\"../../../images/banners/ml-algorithms.jpg\" width=\"600\"/>"
   ]
  },
  {
   "cell_type": "markdown",
   "id": "6180b914-8b5b-4272-b30e-e7eb4864f60f",
   "metadata": {},
   "source": [
    "<a class=\"anchor\" id=\"intro_to_data_structures\"></a>\n",
    "# <img src=\"../../../images/logos/ml-logo.png\" width=\"23\"/> Machine Learning Algorithms"
   ]
  },
  {
   "cell_type": "markdown",
   "id": "fcb8d041-386c-4d95-a2fa-44a2eabf6a69",
   "metadata": {},
   "source": [
    "## <img src=\"../../../images/logos/toc.png\" width=\"20\"/> Table of Contents \n",
    "* [](#)\n",
    "\n",
    "---"
   ]
  },
  {
   "cell_type": "markdown",
   "id": "5b2e08d3-6f4e-4177-9595-f5dd5e52e0ca",
   "metadata": {},
   "source": [
    "We turn now to a discussion of supervised learning, starting with regression. The goal of regression is to predict the value of one or more continuous target variables $t$ given the value of a D-dimensional vector $x$ of input variables."
   ]
  },
  {
   "cell_type": "markdown",
   "id": "a3406125-acfe-46f9-a357-c2575ea8c9c5",
   "metadata": {},
   "source": [
    "Given a training data set comprising $N$ observations ${x_n}$, where $n = 1, ... , N$,\n",
    "together with corresponding target values ${t_n}$, the goal is to predict the value of $t$ for a new value of $x$. In the simplest approach, this can be done by directly constructing an appropriate function $y(x)$ whose values for new inputs $x$ constitute the predictions for the corresponding values of $t$."
   ]
  },
  {
   "cell_type": "markdown",
   "id": "c4d2543b-fbef-4c34-aa48-cfb8e4d44ab1",
   "metadata": {},
   "source": [
    "More generally, from a probabilistic perspective, we aim to model the predictive distribution $p(t|x)$ because this expresses our uncertainty about the value of $t$ for each value of $x$. From this conditional distribution we can make predictions of $t$, for any new value of $x$, in such a way as to minimize the expected value of a suitably chosen loss function. A common choice of loss function for real-valued variables is the squared loss, for which the optimal solution is given by the conditional expectation of $t$."
   ]
  },
  {
   "cell_type": "markdown",
   "id": "41739471-9ecd-4d05-89ed-40bd0019431a",
   "metadata": {},
   "source": [
    "Although linear models have significant limitations as practical techniques for\n",
    "pattern recognition, particularly for problems involving input spaces of high dimensionality, they have nice analytical properties and form the foundation for more sophisticated models to be discussed in later sections."
   ]
  },
  {
   "cell_type": "markdown",
   "id": "350ff49a-fc42-4662-90ca-70bd731ff83c",
   "metadata": {},
   "source": [
    "<img src=\"../images/linear-nonlinear.png\" width=\"500\"/>"
   ]
  },
  {
   "cell_type": "markdown",
   "id": "aef797f4-7ff3-4b81-97e9-4d05fd8fb52c",
   "metadata": {},
   "source": [
    "## Linear Models"
   ]
  },
  {
   "cell_type": "markdown",
   "id": "f0318214-06bd-4678-a799-75fcb59d2ddc",
   "metadata": {},
   "source": [
    "The simplest linear model for regression is one that involves a linear combination of the input variables:\n",
    "\n",
    "\\begin{equation}\n",
    "y(x,w) = w_0 + w_1x_1 + \\cdots + w_Dx_D\n",
    "\\end{equation}\n",
    "\n",
    "where $x = (x_1, \\cdots , x_D)^T$. This is often simply known as linear regression. The key property of this model is that it is a linear function of the parameters $w_0, \\cdots , w_D$. It is also, however, a linear function of the input variables $x_i$, and this imposes significant limitations on the model. We therefore extend the class of models by considering linear combinations of fixed nonlinear functions of the input variables, of the form:\n",
    "\n",
    "\\begin{equation}\n",
    "y(x,w) = w_0 + \\frac{1}{M} \\sum_{j=1}^{M} w_j X_j(x)\n",
    "\\end{equation}\n",
    "\n",
    "By denoting the maximum value of the index j by M − 1, the total number of parameters in this model will be M."
   ]
  },
  {
   "cell_type": "markdown",
   "id": "e1392056-a8c1-4545-9601-4a618222defa",
   "metadata": {},
   "source": [
    "The parameter $w_0$ allows for any fixed offset in the data and is sometimes called a bias parameter (not to be confused with ‘bias’ in a statistical sense)."
   ]
  },
  {
   "cell_type": "markdown",
   "id": "78a4d08a-6dd4-4c66-8f00-1f4223dbd675",
   "metadata": {},
   "source": [
    "It is often convenient to define an additional dummy feature $X_0 = 1$ so that\n",
    "\n",
    "\\begin{equation}\n",
    "y(x,w) = \\sum_{j=0}^{M-1} w_j X_j = w^T X(x)\n",
    "\\end{equation}\n",
    "\n",
    "where $w = (w_0, \\cdots, w_{M-1})^T$ and $X = (X_0, \\cdots, X_{M-1})^T$."
   ]
  },
  {
   "cell_type": "markdown",
   "id": "932a629d-3bc7-4f60-9127-3ed5b57baf04",
   "metadata": {
    "tags": []
   },
   "source": [
    "<img src=\"../images/linear-model-formula.webp\" width=\"200\"/>"
   ]
  },
  {
   "cell_type": "markdown",
   "id": "ffc820e8-fdf3-4f95-838b-a18d71b3c418",
   "metadata": {},
   "source": [
    "## What is Maximum Likelihood?"
   ]
  },
  {
   "cell_type": "markdown",
   "id": "50d84088-42b3-4831-abfb-46a5508f00e5",
   "metadata": {},
   "source": [
    "In statistics, maximum likelihood estimation (MLE) is a method of estimating the parameters of an assumed probability distribution, given some observed data. This is achieved by maximizing a likelihood function so that, under the assumed statistical model, the observed data is most probable."
   ]
  },
  {
   "cell_type": "markdown",
   "id": "55d1caac-7c8f-49fa-9b45-d5e4ede83eaf",
   "metadata": {},
   "source": [
    "Note that maximum likelihood is not probability. Probability corresponds to finding the chance of something given a sample distribution of the data, while on the other hand, Likelihood refers to finding the best distribution of the data given a particular value of some feature or some situation in the data. While probability is used to find the chance of occurrence of a particular situation, likelihood is used to generally maximizing the chances of a particular situation to occur. To learn more, watch:\n",
    "\n",
    "- <img src=\"../../../images/logos/youtube.png\" width=\"15\"/> [Probability is not Likelihood](https://www.youtube.com/watch?v=pYxNSUDSFH4&t=1s)"
   ]
  },
  {
   "cell_type": "markdown",
   "id": "0a40eb20-d964-46e4-9a11-1ddfab2d6b2a",
   "metadata": {},
   "source": [
    "## Maximum likelihood and Least Squares Problem"
   ]
  },
  {
   "cell_type": "markdown",
   "id": "5f6b4578-33b8-4977-bf8b-a1f20c7f5843",
   "metadata": {},
   "source": [
    "We begin by introducing a simple regression problem. Suppose\n",
    "we observe a real-valued input variable $x$ and we wish to use this observation to predict the value of a real-valued target variable $t$. For the present purposes, it is instructive\n",
    "to consider an artificial example using synthetically generated data because we then know the precise process that generated the data for comparison against any learned model."
   ]
  },
  {
   "cell_type": "code",
   "execution_count": 32,
   "id": "672cf856-624a-4d3e-bb69-87bf9df74504",
   "metadata": {},
   "outputs": [],
   "source": [
    "import numpy as np\n",
    "import matplotlib.pyplot as plt\n",
    "%matplotlib inline\n",
    "\n",
    "x = np.array(sorted(np.random.rand(10)))"
   ]
  },
  {
   "cell_type": "code",
   "execution_count": 33,
   "id": "f2464157-3f14-4fc9-bf86-6d389e78c597",
   "metadata": {},
   "outputs": [
    {
     "data": {
      "text/plain": [
       "0.4797210159295514"
      ]
     },
     "execution_count": 33,
     "metadata": {},
     "output_type": "execute_result"
    }
   ],
   "source": [
    "np.random.rand()"
   ]
  },
  {
   "cell_type": "code",
   "execution_count": 34,
   "id": "e81d0855-cecf-4a9f-a6c1-b344e83a62f7",
   "metadata": {},
   "outputs": [
    {
     "data": {
      "text/plain": [
       "[<matplotlib.lines.Line2D at 0x7ff1b042a400>]"
      ]
     },
     "execution_count": 34,
     "metadata": {},
     "output_type": "execute_result"
    },
    {
     "data": {
      "image/png": "[encoded data removed]",
      "text/plain": [
       "<Figure size 432x288 with 1 Axes>"
      ]
     },
     "metadata": {
      "needs_background": "light"
     },
     "output_type": "display_data"
    }
   ],
   "source": [
    "y = 2*x + 3 + np.random.rand() * 10\n",
    "plt.plot(y, x)"
   ]
  },
  {
   "cell_type": "markdown",
   "id": "339b46d7-23e1-4566-8cd8-d0bfd044c8a5",
   "metadata": {},
   "source": [
    "Given a data set $D = \\{(x_i, y_i)\\}_{i=1}^n$ the objective is to learn the relationship between features and the target such as:\n",
    "\n",
    "\\begin{equation}\n",
    "f(x) = w_0 + w_1x_1 + w_2x_2\n",
    "\\end{equation}\n",
    "\n",
    "where $w = (w0,w1,w2)$ is a set of parameters that need to be determined (learned) and $x = (x_1, x_2)$."
   ]
  },
  {
   "cell_type": "markdown",
   "id": "24737800-8fb7-4171-b3f4-9a33dee42c9c",
   "metadata": {},
   "source": [
    "Finding the best parameters $w$ is then referred to as linear regression problem, whereas all other types of relationship between the features and the target fall into a category of non-linear regression. In either situation, the regression problem can be presented as a probabilistic modeling approach that reduces to parameter estimation: to an optimization problem with the goal of maximizing or minimizing some performance criterion between target values $\\{y_i\\}{i=1}^{n}$ and predictions $\\{f(x_i)\\}{i=1}^{n}$. We can think of a particular optimization algorithm as the _learning_ or _training algorithm_."
   ]
  },
  {
   "cell_type": "markdown",
   "id": "d25009a8-0ceb-47b3-8958-326f9dac5adf",
   "metadata": {},
   "source": [
    "We assume that the target variable $t$ is given by a deterministic function $y(x,w)$ with additive Gaussian noise so that\n",
    "\n",
    "\\begin{equation}\n",
    "t = y(x,w) +  \\epsilon\n",
    "\\end{equation}"
   ]
  },
  {
   "cell_type": "markdown",
   "id": "50965be1-2875-41f9-adcd-0179c6626122",
   "metadata": {},
   "source": [
    "## Linear Basis Function Models"
   ]
  },
  {
   "cell_type": "markdown",
   "id": "e947a7bf-b608-49ba-b970-7b78a1839893",
   "metadata": {},
   "source": [
    "The simplest form of linear regression models are also linear functions of the input variables. However, we can obtain a much more useful class of functions by taking linear combinations of a fixed set of nonlinear functions of the input variables, known as basis functions."
   ]
  },
  {
   "cell_type": "markdown",
   "id": "7fabcc9a-1dac-4656-9375-f5814481e5e8",
   "metadata": {},
   "source": [
    " In many practical applications of pattern recognition, we will apply some form of fixed pre-processing or feature extraction, to the original data variables. If the original variables comprise the vector $x$, then the features can be expressed in terms of the basis functions ${\\phi_j(x)}$."
   ]
  },
  {
   "cell_type": "markdown",
   "id": "8e45ab4f-fd9e-4773-89f4-0f5bb7632063",
   "metadata": {},
   "source": [
    "By using nonlinear basis functions, we allow the function $y(x,w)$ to be a nonlinear\n",
    "function of the input vector $x$. Functions of the form $y(x,w) = w_0 + \\frac{1}{M} \\sum_{j=1}^{M} w_j X_j$ are called linear models, however, because this function is linear in w. It is this linearity in the parameters that will greatly simplify the analysis of this class of models. However, it also leads to some significant limitations, as we discuss later."
   ]
  },
  {
   "cell_type": "markdown",
   "id": "d17cb516-472e-4115-9e70-b5fd1a2d3c1d",
   "metadata": {},
   "source": [
    "If the original variables comprise the vector $x$, then the features can be expressed in terms of the basis functions ${\\phi_j(x)}$."
   ]
  },
  {
   "cell_type": "markdown",
   "id": "3d98e57b-d925-4f54-87c2-b3278dcff6f3",
   "metadata": {},
   "source": []
  }
 ],
 "metadata": {
  "kernelspec": {
   "display_name": "Python 3",
   "language": "python",
   "name": "python3"
  },
  "language_info": {
   "codemirror_mode": {
    "name": "ipython",
    "version": 3
   },
   "file_extension": ".py",
   "mimetype": "text/x-python",
   "name": "python",
   "nbconvert_exporter": "python",
   "pygments_lexer": "ipython3",
   "version": "3.8.11"
  }
 },
 "nbformat": 4,
 "nbformat_minor": 5
}
