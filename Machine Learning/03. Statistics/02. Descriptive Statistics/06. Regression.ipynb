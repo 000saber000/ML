{
 "cells": [
  {
   "cell_type": "markdown",
   "id": "fd393ca0-eef4-42a4-ad13-524c5f050b99",
   "metadata": {},
   "source": [
    "<img src=\"../../images/banners/descriptive-statistics.png\" width=\"600\"/>"
   ]
  },
  {
   "cell_type": "markdown",
   "id": "4523d39a-22b9-4a08-89c1-92fe35aa7760",
   "metadata": {},
   "source": [
    "# <img src=\"../../images/logos/python.png\" width=\"23\"/> Describing Relationships: Correlation "
   ]
  },
  {
   "cell_type": "markdown",
   "id": "3b84d83f-d15a-4ac5-abc0-04c960503713",
   "metadata": {},
   "source": [
    "## <img src=\"../../images/logos/toc.png\" width=\"20\"/> Table of Contents \n",
    "\n",
    "---"
   ]
  },
  {
   "cell_type": "markdown",
   "id": "a07de879-a2ad-4863-bace-ba9007962043",
   "metadata": {},
   "source": [
    "If two variables are correlated, description can lead to prediction. For\n",
    "example, if computer skills and GPAs are related, level of computer skills\n",
    "can be used to predict GPAs. Predictive accuracy increases with the\n",
    "strength of the underlying correlation."
   ]
  },
  {
   "cell_type": "markdown",
   "id": "48602ed2-c96b-4349-9b1a-73a60f9cf28c",
   "metadata": {},
   "source": [
    "Problem followed in the entire lecture:\n",
    "> A correlation analysis of the exchange of greeting cards by five friends for the most\n",
    "recent holiday season suggests a strong positive relationship between cards sent and\n",
    "cards received. When informed of these results, another friend, Emma, who enjoys\n",
    "receiving greeting cards, asks you to predict how many cards she will receive during\n",
    "the next holiday season, assuming that she plans to send 11 cards."
   ]
  },
  {
   "cell_type": "markdown",
   "id": "77fd5f7e-1e7f-464d-b933-b889d4620926",
   "metadata": {},
   "source": [
    "## Regression"
   ]
  },
  {
   "cell_type": "markdown",
   "id": "df6e5e12-108d-4d78-9649-31ad41570722",
   "metadata": {},
   "source": [
    "The term \"regression\" was used by Francis Galton in his 1886 paper \"Regression towards mediocrity in hereditary stature\". To my knowledge he only used the term in the context of regression toward the mean. The term was then adopted by others to get more or less the meaning it has today as a general statistical method."
   ]
  },
  {
   "cell_type": "code",
   "execution_count": 6,
   "id": "0d628315-59f8-43a6-a090-610650010dd7",
   "metadata": {},
   "outputs": [],
   "source": [
    "- Regression line\n",
    "- Least squares regression line (best line)\n",
    "- Predictive Error\n",
    "- Loss: Total Predictive Error\n",
    "- drivative(loss) = 0  --> a, b"
   ]
  },
  {
   "cell_type": "code",
   "execution_count": 16,
   "id": "e0898c8d-3845-44f9-99fc-9247a83d09cd",
   "metadata": {},
   "outputs": [],
   "source": [
    "import seaborn as sns"
   ]
  },
  {
   "cell_type": "code",
   "execution_count": 17,
   "id": "7877610a-9900-435d-9e3f-d00ffbffdbc8",
   "metadata": {},
   "outputs": [],
   "source": [
    "df = sns.load_dataset('iris')"
   ]
  },
  {
   "cell_type": "code",
   "execution_count": 18,
   "id": "7812e7c6-5154-4262-8e93-3f1c843d80d0",
   "metadata": {},
   "outputs": [
    {
     "data": {
      "text/html": [
       "<div>\n",
       "<style scoped>\n",
       "    .dataframe tbody tr th:only-of-type {\n",
       "        vertical-align: middle;\n",
       "    }\n",
       "\n",
       "    .dataframe tbody tr th {\n",
       "        vertical-align: top;\n",
       "    }\n",
       "\n",
       "    .dataframe thead th {\n",
       "        text-align: right;\n",
       "    }\n",
       "</style>\n",
       "<table border=\"1\" class=\"dataframe\">\n",
       "  <thead>\n",
       "    <tr style=\"text-align: right;\">\n",
       "      <th></th>\n",
       "      <th>sepal_length</th>\n",
       "      <th>sepal_width</th>\n",
       "      <th>petal_length</th>\n",
       "      <th>petal_width</th>\n",
       "      <th>species</th>\n",
       "    </tr>\n",
       "  </thead>\n",
       "  <tbody>\n",
       "    <tr>\n",
       "      <th>0</th>\n",
       "      <td>5.1</td>\n",
       "      <td>3.5</td>\n",
       "      <td>1.4</td>\n",
       "      <td>0.2</td>\n",
       "      <td>setosa</td>\n",
       "    </tr>\n",
       "    <tr>\n",
       "      <th>1</th>\n",
       "      <td>4.9</td>\n",
       "      <td>3.0</td>\n",
       "      <td>1.4</td>\n",
       "      <td>0.2</td>\n",
       "      <td>setosa</td>\n",
       "    </tr>\n",
       "    <tr>\n",
       "      <th>2</th>\n",
       "      <td>4.7</td>\n",
       "      <td>3.2</td>\n",
       "      <td>1.3</td>\n",
       "      <td>0.2</td>\n",
       "      <td>setosa</td>\n",
       "    </tr>\n",
       "    <tr>\n",
       "      <th>3</th>\n",
       "      <td>4.6</td>\n",
       "      <td>3.1</td>\n",
       "      <td>1.5</td>\n",
       "      <td>0.2</td>\n",
       "      <td>setosa</td>\n",
       "    </tr>\n",
       "    <tr>\n",
       "      <th>4</th>\n",
       "      <td>5.0</td>\n",
       "      <td>3.6</td>\n",
       "      <td>1.4</td>\n",
       "      <td>0.2</td>\n",
       "      <td>setosa</td>\n",
       "    </tr>\n",
       "    <tr>\n",
       "      <th>...</th>\n",
       "      <td>...</td>\n",
       "      <td>...</td>\n",
       "      <td>...</td>\n",
       "      <td>...</td>\n",
       "      <td>...</td>\n",
       "    </tr>\n",
       "    <tr>\n",
       "      <th>145</th>\n",
       "      <td>6.7</td>\n",
       "      <td>3.0</td>\n",
       "      <td>5.2</td>\n",
       "      <td>2.3</td>\n",
       "      <td>virginica</td>\n",
       "    </tr>\n",
       "    <tr>\n",
       "      <th>146</th>\n",
       "      <td>6.3</td>\n",
       "      <td>2.5</td>\n",
       "      <td>5.0</td>\n",
       "      <td>1.9</td>\n",
       "      <td>virginica</td>\n",
       "    </tr>\n",
       "    <tr>\n",
       "      <th>147</th>\n",
       "      <td>6.5</td>\n",
       "      <td>3.0</td>\n",
       "      <td>5.2</td>\n",
       "      <td>2.0</td>\n",
       "      <td>virginica</td>\n",
       "    </tr>\n",
       "    <tr>\n",
       "      <th>148</th>\n",
       "      <td>6.2</td>\n",
       "      <td>3.4</td>\n",
       "      <td>5.4</td>\n",
       "      <td>2.3</td>\n",
       "      <td>virginica</td>\n",
       "    </tr>\n",
       "    <tr>\n",
       "      <th>149</th>\n",
       "      <td>5.9</td>\n",
       "      <td>3.0</td>\n",
       "      <td>5.1</td>\n",
       "      <td>1.8</td>\n",
       "      <td>virginica</td>\n",
       "    </tr>\n",
       "  </tbody>\n",
       "</table>\n",
       "<p>150 rows × 5 columns</p>\n",
       "</div>"
      ],
      "text/plain": [
       "     sepal_length  sepal_width  petal_length  petal_width    species\n",
       "0             5.1          3.5           1.4          0.2     setosa\n",
       "1             4.9          3.0           1.4          0.2     setosa\n",
       "2             4.7          3.2           1.3          0.2     setosa\n",
       "3             4.6          3.1           1.5          0.2     setosa\n",
       "4             5.0          3.6           1.4          0.2     setosa\n",
       "..            ...          ...           ...          ...        ...\n",
       "145           6.7          3.0           5.2          2.3  virginica\n",
       "146           6.3          2.5           5.0          1.9  virginica\n",
       "147           6.5          3.0           5.2          2.0  virginica\n",
       "148           6.2          3.4           5.4          2.3  virginica\n",
       "149           5.9          3.0           5.1          1.8  virginica\n",
       "\n",
       "[150 rows x 5 columns]"
      ]
     },
     "execution_count": 18,
     "metadata": {},
     "output_type": "execute_result"
    }
   ],
   "source": [
    "df"
   ]
  },
  {
   "cell_type": "code",
   "execution_count": 14,
   "id": "7bc2f25b-65c9-40ed-b0a7-5adb75a7a537",
   "metadata": {},
   "outputs": [],
   "source": [
    "df.loc[df['species'] == 'setosa', 'sepal_length'] = df[df['species'] == 'setosa'].sepal_length * 1.1"
   ]
  },
  {
   "cell_type": "code",
   "execution_count": 23,
   "id": "f254af51-0938-418d-ab97-12c8f0a5a15a",
   "metadata": {},
   "outputs": [
    {
     "data": {
      "text/plain": [
       "'1.235e+26'"
      ]
     },
     "execution_count": 23,
     "metadata": {},
     "output_type": "execute_result"
    }
   ],
   "source": [
    "f'{1.2349999999999999e+26:.4}'"
   ]
  },
  {
   "cell_type": "code",
   "execution_count": null,
   "id": "38c0474a-5942-4d86-bc00-9316b9599549",
   "metadata": {},
   "outputs": [],
   "source": []
  }
 ],
 "metadata": {
  "kernelspec": {
   "display_name": "Python 3",
   "language": "python",
   "name": "python3"
  },
  "language_info": {
   "codemirror_mode": {
    "name": "ipython",
    "version": 3
   },
   "file_extension": ".py",
   "mimetype": "text/x-python",
   "name": "python",
   "nbconvert_exporter": "python",
   "pygments_lexer": "ipython3",
   "version": "3.8.11"
  }
 },
 "nbformat": 4,
 "nbformat_minor": 5
}
