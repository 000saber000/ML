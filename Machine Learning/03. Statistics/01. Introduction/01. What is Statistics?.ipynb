{
 "cells": [
  {
   "cell_type": "markdown",
   "id": "b1a92733-4e21-49af-87f7-9fecfe2fb1cb",
   "metadata": {},
   "source": [
    "<img src=\"../../images/banners/intoroduction.png\" width=\"600\"/>"
   ]
  },
  {
   "cell_type": "markdown",
   "id": "7b9e4da7-af76-4b0a-87a7-ba0e359cea3d",
   "metadata": {},
   "source": [
    "# <img src=\"../../images/logos/statistics-logo.jpeg\" width=\"27\"/> AI Glossary \n"
   ]
  },
  {
   "cell_type": "markdown",
   "id": "da435fbc",
   "metadata": {},
   "source": [
    "## <img src=\"../../images/logos/toc.png\" width=\"20\"/> Table of Contents \n",
    "* [Descriptive Statistics](#descriptive_statistics)\n",
    "* [Inferential Statistics](#inferential_statistics)\n",
    "* [Population vs. Sample](#population_vs._sample)\n",
    "    * [Surveys (Random Sampling) vs. Experiments (Random Assignment)](#surveys_(random_sampling)_vs._experiments_(random_assignment))\n",
    "* [Three Types of Data](#three_types_of_data)\n",
    "* [Levels of Measurement](#levels_of_measurement)\n",
    "    * [Qualitative Data and Nominal Measurement](#qualitative_data_and_nominal_measurement)\n",
    "    * [Ranked Data and Ordinal Measurement](#ranked_data_and_ordinal_measurement)\n",
    "    * [Quantitative Data and Interval/Ratio Measurement](#quantitative_data_and_interval/ratio_measurement)\n",
    "    * [Summary](#summary)\n",
    "* [Types of Variables](#types_of_variables)\n",
    "    * [Discrete and Continuous Variables](#discrete_and_continuous_variables)\n",
    "    * [Independent and Dependent Variables](#independent_and_dependent_variables)\n",
    "* [Observational Studies](#observational_studies)\n",
    "* [Confounding Variable](#confounding_variable)\n",
    "\n",
    "---"
   ]
  },
  {
   "cell_type": "markdown",
   "id": "signal-bookmark",
   "metadata": {},
   "source": [
    "<i class=\"fas fa-book\" style=\"color:green !important;\"></i> Reference: Statistics (Eleventh Edition) by Robert S. Witte"
   ]
  },
  {
   "cell_type": "markdown",
   "id": "generic-preview",
   "metadata": {},
   "source": [
    "Statistics is the discipline that concerns the collection, organization, analysis, interpretation, and presentation of data."
   ]
  },
  {
   "cell_type": "markdown",
   "id": "earned-brooklyn",
   "metadata": {},
   "source": [
    "<a class=\"anchor\" id=\"descriptive_statistics\"></a>\n",
    "\n",
    "## Descriptive Statistics\n",
    "Statistics exists because of the prevalence of variability in the real world. In its simplest form, known as descriptive statistics, statistics provides us with tools—tables, graphs, averages, ranges, correlations—for organizing and summarizing the inevitable variability in collections of actual observations or scores\n",
    "\n",
    "Examples:\n",
    "1. A graph showing the annual change in global temperature during the last 30 years\n",
    "2. A report that describes the average difference in grade point average (GPA) between college students who regularly drink alcoholic beverages and those who don’t."
   ]
  },
  {
   "cell_type": "markdown",
   "id": "available-specification",
   "metadata": {},
   "source": [
    "<a class=\"anchor\" id=\"inferential_statistics\"></a>\n",
    "\n",
    "## Inferential Statistics\n",
    "Statistics also provides tools—a variety of tests and estimates—for generalizing beyond collections of actual observations. This more advanced area is known as inferential statistics. Tools from inferential statistics permit us to use a relatively small collection of actual observations\n",
    "\n",
    "Examples:\n",
    "1. A researcher’s hypothesis that, on average, meditators report fewer headaches than do nonmeditators\n",
    "2. An assertion about the relationship between job satisfaction and overall happiness."
   ]
  },
  {
   "cell_type": "markdown",
   "id": "83c964c1-5e46-48a4-b0ae-d77319795a9f",
   "metadata": {},
   "source": [
    "<img src=\"./images/what-is-statistics/descriptive-inferential.webp\" alt=\"sample-population\" width=400 align=\"left\" />"
   ]
  },
  {
   "cell_type": "markdown",
   "id": "remarkable-buddy",
   "metadata": {},
   "source": [
    "<a class=\"anchor\" id=\"population_vs._sample\"></a>\n",
    "\n",
    "## Population vs. Sample\n",
    "Inferential statistics is concerned with generalizing beyond sets of actual observations, that is, with generalizing from a sample to a population. In statistics, a population refers to any complete collection of observations or potential observations, whereas a sample refers to any smaller collection of actual observations drawn from a population.\n",
    "\n",
    "<img src=\"../images/sample-population.png\" alt=\"sample-population\" width=500 align=\"left\" />"
   ]
  },
  {
   "cell_type": "markdown",
   "id": "packed-savannah",
   "metadata": {},
   "source": [
    "<a class=\"anchor\" id=\"surveys_(random_sampling)_vs._experiments_(random_assignment)\"></a>\n",
    "\n",
    "### Surveys (Random Sampling) vs. Experiments (Random Assignment)\n",
    "\n",
    "**Random sampling (Survey)** is a procedure designed to ensure that each potential observation in the population has an equal chance of being selected in a survey.\n",
    "\n",
    "Estimating the average anxiety score for all college students probably would not generate much interest. Instead, we might be interested in determining whether relaxation training causes, on average, a reduction in anxiety scores between two groups of otherwise similar college students.\n",
    "\n",
    "College students in the relaxation experiment probably are not a random sample from any intact population of interest, but rather a convenience sample consisting of volunteers from a limited pool of students fulfilling a course requirement. Accordingly, our focus shifts from random sampling to the random assignment of volunteers to the two groups.\n",
    "\n",
    "**Random assignment (Experiment)** is procedure designed to ensure that each person has an equal chance of being assigned to any group in an experiment.\n",
    "\n",
    "<img src=\"../images/assignment-survey.png\" alt=\"assignment-survey\" width=500 align=\"left\" />"
   ]
  },
  {
   "cell_type": "markdown",
   "id": "filled-brighton",
   "metadata": {},
   "source": [
    "Indicate whether each of the following terms is associated primarily with a survey (S) or an experiment (E).\n",
    "\n",
    "- Random assignment\n",
    "- Representative\n",
    "- Generalization to the population\n",
    "- Control group\n",
    "- Real difference\n",
    "- Random selection\n",
    "- Volunteers"
   ]
  },
  {
   "cell_type": "markdown",
   "id": "working-favor",
   "metadata": {},
   "source": [
    "<a class=\"anchor\" id=\"three_types_of_data\"></a>\n",
    "\n",
    "## Three Types of Data\n",
    "\n",
    "The precise form of a statistical analysis often depends on whether data are **qualitative**, **ranked**, or **quantitative**.\n",
    "\n",
    "- **Qualitative data** consist of words (Yes or No), letters (Y or N), or numerical codes (0 or 1) that represent a class or category.\n",
    "- **Ranked data** consist of numbers (1st, 2nd, . . . 40th place) that represent relative standing within a group.\n",
    "- **Quantitative data** consist of numbers (weights of 238, 170, . . . 185 lbs) that represent an amount or a count."
   ]
  },
  {
   "cell_type": "markdown",
   "id": "incorrect-recipe",
   "metadata": {},
   "source": [
    "Indicate whether each of the following terms is qualitative, ranked, or quantitative.\n",
    "\n",
    "- Ethnic group\n",
    "- Age\n",
    "- Family size\n",
    "- Academic major\n",
    "- Sexual preference\n",
    "- IQ score\n",
    "- Net worth (dollars)\n",
    "- Gender\n",
    "- Temperature"
   ]
  },
  {
   "cell_type": "markdown",
   "id": "coupled-rings",
   "metadata": {},
   "source": [
    "<a class=\"anchor\" id=\"levels_of_measurement\"></a>\n",
    "\n",
    "## Levels of Measurement\n",
    "\n",
    "The level of measurement specifies the extent to which a number (or word or letter) actually represents some attribute and, therefore, has implications for the appropriateness of various arithmetic operations and statistical procedures.\n",
    "\n",
    "For our purposes, there are three levels of measurement—**nominal**, **ordinal**, and **interval/ratio**—and these levels are paired with **qualitative**, **ranked**, and **quantitative** data, respectively."
   ]
  },
  {
   "cell_type": "markdown",
   "id": "833c39be-dd22-4555-9503-ae7bbcc1c0b5",
   "metadata": {},
   "source": [
    "<a class=\"anchor\" id=\"qualitative_data_and_nominal_measurement\"></a>\n",
    "\n",
    "### Qualitative Data and Nominal Measurement"
   ]
  },
  {
   "cell_type": "markdown",
   "id": "68b064de-87f2-40b2-84a9-da900a7d600f",
   "metadata": {},
   "source": [
    "If people are classified as either male or female (or coded as 1 or 2), the data are qualitative and measurement is nominal. The single property of nominal measurement is **classification**—that is, sorting observations into different classes or categories."
   ]
  },
  {
   "cell_type": "markdown",
   "id": "2bdeb153-76f1-4a08-b58f-2941ecb78428",
   "metadata": {},
   "source": [
    "**A distinctive feature of nominal measurement is its bare-bones representation of any attribute**. For instance, a student is either male or female. Even with the introduction of arbitrary numerical codes, such as 1 for male and 2 for female, it would never be appropriate to claim that, because female is 2 and male is 1, females have twice as much gender as males. Similarly, **calculating an average with these numbers would be meaningless**."
   ]
  },
  {
   "cell_type": "markdown",
   "id": "disciplinary-mexico",
   "metadata": {},
   "source": [
    "<a class=\"anchor\" id=\"ranked_data_and_ordinal_measurement\"></a>\n",
    "\n",
    "### Ranked Data and Ordinal Measurement\n",
    "\n",
    "When any single number indicates only relative standing, such as first, second, or tenth place in a horse race or in a class of graduating seniors, the data are ranked and the level of measurement is ordinal. The distinctive property of ordinal measurement is **order**.\n",
    "\n",
    "Since ordinal measurement fails to reflect the actual distance between adjacent ranks, **simple arithmetic operations with ranks are inappropriate**. For example, it’s inappropriate to conclude that the arithmetic mean of ranks 1 and 3 equals rank 2, since this assumes that the actual distance between ranks 1 and 2 equals the distance between ranks 2 and 3."
   ]
  },
  {
   "cell_type": "markdown",
   "id": "354d296b-71bc-4079-be48-2a1bd8705964",
   "metadata": {},
   "source": [
    "<a class=\"anchor\" id=\"quantitative_data_and_interval/ratio_measurement\"></a>\n",
    "\n",
    "### Quantitative Data and Interval/Ratio Measurement"
   ]
  },
  {
   "cell_type": "markdown",
   "id": "17b6c474-370d-468e-981c-a2af5f59f616",
   "metadata": {},
   "source": [
    "The distinctive properties of interval/ratio measurement are **equal intervals** and a **true zero**.\n",
    "\n",
    "- **Equal intervals** imply that hefting a 10-lb weight while on the bathroom scale always registers your actual weight plus 10 lbs.\n",
    "\n",
    "- A **true zero** signifies that the bathroom scale registers 0 when not in use—that is,\n",
    "when weight is completely absent."
   ]
  },
  {
   "cell_type": "markdown",
   "id": "27801709-c87e-4a51-ae41-68e917ce7129",
   "metadata": {},
   "source": [
    "**In the absence of a true zero, numbers—much like the exposed tips of icebergs— fail to reflect the total amount being measured**. For example, a reading of 0 on the Fahrenheit temperature scale does not reflect the complete absence of heat—that is, the absence of any molecular motion. In fact, true zero equals −459.4°F on this scale. It would be inappropriate, therefore, to claim that 80°F is twice as hot as 40°F. An appropriate claim could be salvaged by adding 459.4°F to each of these numbers: 80° becomes 539.4° and 40° becomes 499.4°. **Clearly, 539.4°F is not twice as hot as 499.4°F**."
   ]
  },
  {
   "cell_type": "markdown",
   "id": "79b01c57-5399-465f-b208-d17d0a494ba5",
   "metadata": {},
   "source": [
    "In the absence of a true zero, it would be inappropriate to claim that an IQ score of 140 represents twice as much intellectual aptitude as an IQ score of 70."
   ]
  },
  {
   "cell_type": "markdown",
   "id": "0ff1e96f-280d-4558-8b0f-eba9996ee924",
   "metadata": {},
   "source": [
    "Other interpretations are possible. One possibility is to treat IQ scores as attaining only ordinal measurement—that is, for example, a score of 140 represents more intellectual aptitude than a score of 130—without specifying the actual size of this difference."
   ]
  },
  {
   "cell_type": "markdown",
   "id": "valuable-joint",
   "metadata": {},
   "source": [
    "<img src=\"../images/data-types.png\" alt=\"data-types\" width=500 align=\"left\" />"
   ]
  },
  {
   "cell_type": "markdown",
   "id": "e9ed3bf0-88a7-4498-ae2d-e6217285d889",
   "metadata": {},
   "source": [
    "<a class=\"anchor\" id=\"types_of_variables\"></a>\n",
    "\n",
    "## Types of Variables"
   ]
  },
  {
   "cell_type": "markdown",
   "id": "7578556e-17ec-419f-8a25-826026498ab9",
   "metadata": {},
   "source": [
    "A variable is a characteristic or property that can take on different values."
   ]
  },
  {
   "cell_type": "markdown",
   "id": "d3e6f730-cd15-4156-a750-b0e70bc5675f",
   "metadata": {},
   "source": [
    "<a class=\"anchor\" id=\"discrete_and_continuous_variables\"></a>\n",
    "\n",
    "### Discrete and Continuous Variables"
   ]
  },
  {
   "cell_type": "markdown",
   "id": "1506bba6-fe77-4eb0-b1bc-a3130f0a7262",
   "metadata": {},
   "source": [
    "- A **discrete variable** consists of isolated numbers separated by gaps.\n",
    "- A **continuous variable** consists of numbers whose values, at least in theory, have no restrictions."
   ]
  },
  {
   "cell_type": "markdown",
   "id": "2d853dc9-e3a4-49a1-86a5-f3aa76257c1f",
   "metadata": {},
   "source": [
    "<a class=\"anchor\" id=\"independent_and_dependent_variables\"></a>\n",
    "\n",
    "### Independent and Dependent Variables"
   ]
  },
  {
   "cell_type": "markdown",
   "id": "93862761-dedc-4793-97b7-7bcf4020ea5d",
   "metadata": {},
   "source": [
    "- In an experiment, an **independent variable** is the treatment manipulated by the investigator.\n",
    "- When a variable is believed to have been **influenced by the independent variable**, it is called a **dependent variable**. "
   ]
  },
  {
   "cell_type": "markdown",
   "id": "15fd06f6-7ae9-488c-9c5c-ca1be24abc75",
   "metadata": {},
   "source": [
    "Unlike the independent variable, the dependent variable isn’t manipulated by the investigator. Instead, it represents an outcome: the data produced by the experiment."
   ]
  },
  {
   "cell_type": "markdown",
   "id": "34e0dc0d-9dba-4811-b7f6-d6a7d8b0842c",
   "metadata": {},
   "source": [
    "<img src=\"./images/what-is-statistics/dependent-independent-var.jpeg\" width=500/>"
   ]
  },
  {
   "cell_type": "markdown",
   "id": "lucky-jenny",
   "metadata": {},
   "source": [
    "With just a little practice, you should be able to identify these two types of variables. In an experiment, what is being manipulated by the investigator at the outset and, therefore, qualifies as the independent variable? What is measured, counted, or recorded by the investigator at the completion of the study and, therefore, qualifies as the dependent variable? Once these two variables have been identified, they can be used to describe the problem posed by the study; that is, does the independent variable cause a change in the dependent variable?"
   ]
  },
  {
   "cell_type": "markdown",
   "id": "61fc985e-7ba8-4e07-a8fd-6c0f7d48a22a",
   "metadata": {},
   "source": [
    "<a class=\"anchor\" id=\"observational_studies\"></a>\n",
    "\n",
    "## Observational Studies"
   ]
  },
  {
   "cell_type": "markdown",
   "id": "afb20b64-8893-4af7-85a5-f00e55d90d82",
   "metadata": {},
   "source": [
    "Instead of undertaking an experiment, an investigator might simply observe the relation between two variables. For example, a sociologist might collect paired mea- sures of poverty level and crime rate for each individual in some group. If a statistical analysis reveals that these two variables are related or correlated, then, given some person’s poverty level, the sociologist can better predict that person’s crime rate or vice versa. Having established the existence of this relationship, however, the sociologist can only speculate about cause and effect. Poverty might cause crime or vice versa. On the other hand, both poverty and crime might be caused by one or some combination of more basic variables, such as inadequate education, racial discrimination, unstable family environment, and so on. Such studies are often referred to as observational stud- ies. **An observational study focuses on detecting relationships between variables not manipulated by the investigator, and it yields less clear-cut conclusions about cause- effect relationships than does an experiment**."
   ]
  },
  {
   "cell_type": "markdown",
   "id": "80b0a1ec-3d9d-47b0-94e2-9504d7785ffe",
   "metadata": {},
   "source": [
    "<img src=\"./images/what-is-statistics/correlation-causation-2.jpeg\" width=500/>"
   ]
  },
  {
   "cell_type": "markdown",
   "id": "775ab4cb-6b3d-4b94-bf8c-521479e98166",
   "metadata": {},
   "source": [
    "For example, in an experiment that studies relation betweek couples having active-listening therapy and number of breakdowns, couples already possessing high active-listening scores might also tend to be more seriously committed to each other, and this more serious commitment itself might cause both the higher active-listening score and fewer break- downs in communication. In this case, any special training in active listening, without regard to the existing degree of a couple’s commitment, would not reduce the number of breakdowns in communication."
   ]
  },
  {
   "cell_type": "markdown",
   "id": "immediate-village",
   "metadata": {},
   "source": [
    "<img src=\"../images/obs-experiment.png\" alt=\"observation-experiment\" width=500 />"
   ]
  },
  {
   "cell_type": "markdown",
   "id": "477e5fdc-49d5-4658-b5a0-79506bbf1da4",
   "metadata": {},
   "source": [
    "<a class=\"anchor\" id=\"confounding_variable\"></a>\n",
    "\n",
    "## Confounding Variable"
   ]
  },
  {
   "cell_type": "markdown",
   "id": "40da94d9-144b-4bb4-b35b-e056d75d3eb0",
   "metadata": {},
   "source": [
    "Whenever groups differ not just because of the independent variable but also because some uncontrolled variable co-varies with the independent variable, any con- clusion about a cause-effect relationship is suspect. If, instead of random assignment, each couple in an experiment is free to choose whether to undergo special training in active listening or to be in the less demanding control group, any conclusion must be qualified. A difference between groups might be due not to the independent variable but to a confounding variable. For instance, couples willing to devote extra effort to special training might already possess a deeper commitment that co-varies with more active-listening skills. **An uncontrolled variable that compromises the interpretation of a study is known as a confounding variable**. You can avoid confounding variables, as in the present case, by assigning subjects randomly to the various groups in the experi- ment and also by standardizing all experimental conditions, other than the independent variable, for subjects in both groups."
   ]
  },
  {
   "cell_type": "markdown",
   "id": "9c0c4eed-55d1-439c-a599-50dc9a5cdb2d",
   "metadata": {},
   "source": [
    "<img src=\"./images/what-is-statistics/confounding-variable.webp\" width=500 />"
   ]
  },
  {
   "cell_type": "markdown",
   "id": "94b518e1-3326-4729-91a7-2e7b954eca73",
   "metadata": {},
   "source": [
    "Sometimes a confounding variable occurs because it’s impossible to assign subjects randomly to different conditions. For instance, if we’re interested in possible differ- ences in active-listening skills between males and females, we can’t assign the sub- ject’s gender randomly. Consequently, any difference between these two preexisting groups must be interpreted cautiously. For example, if females, on average, are better listeners than males, this difference could be caused by confounding variables that co-vary with gender, such as preexisting disparities in active-listening skills attribut- able not merely to gender, but also to cultural stereotypes, social training, vocational interests, academic majors, and so on."
   ]
  },
  {
   "cell_type": "markdown",
   "id": "888ff09c-90e4-47e5-a768-3a8e2a4c817b",
   "metadata": {},
   "source": [
    "TO ADD: Case study\n",
    "\n"
   ]
  },
  {
   "cell_type": "code",
   "execution_count": null,
   "id": "21ccc37f-9842-4ca4-84a6-1998e5fe428b",
   "metadata": {},
   "outputs": [],
   "source": []
  }
 ],
 "metadata": {
  "kernelspec": {
   "display_name": "Python 3",
   "language": "python",
   "name": "python3"
  },
  "language_info": {
   "codemirror_mode": {
    "name": "ipython",
    "version": 3
   },
   "file_extension": ".py",
   "mimetype": "text/x-python",
   "name": "python",
   "nbconvert_exporter": "python",
   "pygments_lexer": "ipython3",
   "version": "3.8.11"
  }
 },
 "nbformat": 4,
 "nbformat_minor": 5
}
