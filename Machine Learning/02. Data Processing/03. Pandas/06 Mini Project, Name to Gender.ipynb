{
 "cells": [
  {
   "cell_type": "markdown",
   "id": "4039bbde-4673-47ec-9941-97756c9563ad",
   "metadata": {},
   "source": [
    "<img src=\"../../../images/banners/pandas-cropped.jpeg\" width=\"600\"/>"
   ]
  },
  {
   "cell_type": "markdown",
   "id": "a832408b-93d8-46c0-a2da-0c4db3550357",
   "metadata": {},
   "source": [
    "<a class=\"anchor\" id=\"intro_to_data_structures\"></a>\n",
    "# <img src=\"../../../images/logos/pandas.png\" width=\"23\"/> DataFrame Mini Project: Predict Gender from Name"
   ]
  },
  {
   "cell_type": "markdown",
   "id": "4ab79a70-e266-419c-a451-a212f441a978",
   "metadata": {
    "tags": []
   },
   "source": [
    "## <img src=\"../../../images/logos/toc.png\" width=\"20\"/> Table of Contents\n",
    "* [Required Libraries](#required-libraries)\n",
    "* [Generate Fake Data](#generate-fake-data)\n",
    "* [Extract First name and Last name](#extract-firstname-and-lastname)\n",
    "* [Predict Gender](#predict-gender)\n",
    "* [Your Turn!](#your-turn)\n",
    "\n",
    "---"
   ]
  },
  {
   "cell_type": "markdown",
   "id": "84e79821-adf4-4905-9af7-6bb042203e4e",
   "metadata": {},
   "source": [
    "In this project we want to generate a fake dataset and predict gender from their names. For example a name like 'سیامک' looks like Male."
   ]
  },
  {
   "cell_type": "markdown",
   "id": "755a9576-8cd7-46f5-924b-3d7215b9c269",
   "metadata": {},
   "source": [
    "<a class=\"anchor\" id=\"required-libraries\"></a>\n",
    "\n",
    "## Required Libraries"
   ]
  },
  {
   "cell_type": "markdown",
   "id": "adf6d0da-1c05-4765-bc9f-572a24c52453",
   "metadata": {},
   "source": [
    "To do so, we use the following libraries:\n",
    "- [`Faker`](https://github.com/joke2k/faker): To generate fake names\n",
    "- [`names-dataset`](https://github.com/philipperemy/name-dataset): To get gender and country info"
   ]
  },
  {
   "cell_type": "markdown",
   "id": "1942232d-5454-4a2a-a06f-e06a369eaeb7",
   "metadata": {},
   "source": [
    "So Let's first install the libraries by running:"
   ]
  },
  {
   "cell_type": "code",
   "execution_count": 1,
   "id": "3797f743-6cc8-4f93-81dc-517d146da0de",
   "metadata": {},
   "outputs": [
    {
     "name": "stdout",
     "output_type": "stream",
     "text": [
      "Requirement already satisfied: Faker in /Users/ali/opt/anaconda3/envs/py38/lib/python3.8/site-packages (14.2.0)\n",
      "Requirement already satisfied: python-dateutil>=2.4 in /Users/ali/opt/anaconda3/envs/py38/lib/python3.8/site-packages (from Faker) (2.8.2)\n",
      "Requirement already satisfied: six>=1.5 in /Users/ali/opt/anaconda3/envs/py38/lib/python3.8/site-packages (from python-dateutil>=2.4->Faker) (1.16.0)\n",
      "Requirement already satisfied: names-dataset in /Users/ali/opt/anaconda3/envs/py38/lib/python3.8/site-packages (3.0.2)\n",
      "Requirement already satisfied: pycountry in /Users/ali/opt/anaconda3/envs/py38/lib/python3.8/site-packages (from names-dataset) (22.1.10)\n",
      "Requirement already satisfied: setuptools in /Users/ali/opt/anaconda3/envs/py38/lib/python3.8/site-packages (from pycountry->names-dataset) (40.3.0)\n"
     ]
    }
   ],
   "source": [
    "!pip install Faker\n",
    "!pip install names-dataset"
   ]
  },
  {
   "cell_type": "markdown",
   "id": "6714f678-d05d-47b1-93d4-714f4bf4858b",
   "metadata": {},
   "source": [
    "Using faker we can generate fake names in different languages:"
   ]
  },
  {
   "cell_type": "code",
   "execution_count": 18,
   "id": "3acfd3b3-dee2-4365-909e-6c04186a8d17",
   "metadata": {},
   "outputs": [],
   "source": [
    "from faker import Faker"
   ]
  },
  {
   "cell_type": "code",
   "execution_count": 3,
   "id": "5d27686e-7b8a-469e-923f-b23c1158eba7",
   "metadata": {},
   "outputs": [],
   "source": [
    "en_fake = Faker()\n",
    "fa_fake = Faker('Fa')"
   ]
  },
  {
   "cell_type": "code",
   "execution_count": 4,
   "id": "93f843d1-0a9f-4a7f-a757-d249967626d4",
   "metadata": {},
   "outputs": [
    {
     "data": {
      "text/plain": [
       "'Alyssa Vargas'"
      ]
     },
     "execution_count": 4,
     "metadata": {},
     "output_type": "execute_result"
    }
   ],
   "source": [
    "en_fake.name()"
   ]
  },
  {
   "cell_type": "code",
   "execution_count": 7,
   "id": "14685d9a-474e-401a-9da2-6c967fa38f72",
   "metadata": {},
   "outputs": [
    {
     "data": {
      "text/plain": [
       "'آرمین جلیلی'"
      ]
     },
     "execution_count": 7,
     "metadata": {},
     "output_type": "execute_result"
    }
   ],
   "source": [
    "fa_fake.name()"
   ]
  },
  {
   "cell_type": "markdown",
   "id": "0606a14e-b0d1-48a1-bf16-1d780c391f84",
   "metadata": {},
   "source": [
    "And using names dataset you can get gender and country info from a name:"
   ]
  },
  {
   "cell_type": "code",
   "execution_count": 10,
   "id": "d464626d-d790-4085-a01d-b65bb8980d6b",
   "metadata": {},
   "outputs": [],
   "source": [
    "from names_dataset import NameDataset\n",
    "\n",
    "# This line takes time some time as the database is massive.\n",
    "nd = NameDataset()"
   ]
  },
  {
   "cell_type": "code",
   "execution_count": 11,
   "id": "c0b91b4c-7b76-4134-a2c8-30feed904f2c",
   "metadata": {},
   "outputs": [
    {
     "data": {
      "text/plain": [
       "{'first_name': {'country': {'United Arab Emirates': 0.005,\n",
       "   'Afghanistan': 0.019,\n",
       "   'Austria': 0.005,\n",
       "   'Germany': 0.009,\n",
       "   'Georgia': 0.005,\n",
       "   'Iraq': 0.042,\n",
       "   'Iran, Islamic Republic of': 0.87,\n",
       "   'Sweden': 0.005,\n",
       "   'Syrian Arab Republic': 0.005,\n",
       "   'Turkey': 0.037},\n",
       "  'gender': {'Female': 0.025, 'Male': 0.975},\n",
       "  'rank': {'Afghanistan': 9456,\n",
       "   'Georgia': 2689,\n",
       "   'Iran, Islamic Republic of': 1200,\n",
       "   'United Arab Emirates': None,\n",
       "   'Austria': None,\n",
       "   'Germany': None,\n",
       "   'Iraq': None,\n",
       "   'Sweden': None,\n",
       "   'Syrian Arab Republic': None,\n",
       "   'Turkey': None}},\n",
       " 'last_name': None}"
      ]
     },
     "execution_count": 11,
     "metadata": {},
     "output_type": "execute_result"
    }
   ],
   "source": [
    "nd.search('سیامک')"
   ]
  },
  {
   "cell_type": "markdown",
   "id": "2da5d5bb-19fa-4867-8f06-2c0e54115688",
   "metadata": {},
   "source": [
    "Note that by providing an input name, names-dataset generates the stats for both first name and last name separately. If your input is a first name, you can extract the first name results:"
   ]
  },
  {
   "cell_type": "code",
   "execution_count": 13,
   "id": "981aac3c-b9c8-4310-a120-2f433f14d819",
   "metadata": {},
   "outputs": [
    {
     "data": {
      "text/plain": [
       "{'Female': 0.025, 'Male': 0.975}"
      ]
     },
     "execution_count": 13,
     "metadata": {},
     "output_type": "execute_result"
    }
   ],
   "source": [
    "# سیامک is 97.5% likely to be Male\n",
    "nd.search('سیامک')['first_name']['gender']"
   ]
  },
  {
   "cell_type": "markdown",
   "id": "71a6f3fb-4149-4109-9a2f-027b4a69ef7a",
   "metadata": {},
   "source": [
    "<a class=\"anchor\" id=\"generate-fake-data\"></a>\n",
    "\n",
    "## Generate Fake Data"
   ]
  },
  {
   "cell_type": "markdown",
   "id": "422ae8f1-8836-408c-874c-0e3c5580629c",
   "metadata": {},
   "source": [
    "Let's first define a function that randomly genrates English or Iranian names."
   ]
  },
  {
   "cell_type": "code",
   "execution_count": 19,
   "id": "0a1abddd-98c8-468c-8cc3-91133d5795f1",
   "metadata": {},
   "outputs": [],
   "source": [
    "import pandas as pd\n",
    "import numpy as np"
   ]
  },
  {
   "cell_type": "code",
   "execution_count": 20,
   "id": "0112cfcc-12f5-41f0-a5e1-1a08158cde76",
   "metadata": {},
   "outputs": [],
   "source": [
    "def make_name():\n",
    "    \"\"\"\n",
    "    This function generate an Iranian name in 50% of the times and\n",
    "    an English name in the other 50% of the times.\n",
    "    \"\"\"\n",
    "    if np.random.rand() > 0.5:\n",
    "        return en_fake.name()\n",
    "    \n",
    "    return fa_fake.name()"
   ]
  },
  {
   "cell_type": "markdown",
   "id": "026d69e2-3eb4-4e5c-9c56-9d7eea8b5111",
   "metadata": {},
   "source": [
    "Now it is so easy to generate random Iranian and English names."
   ]
  },
  {
   "cell_type": "code",
   "execution_count": 30,
   "id": "4129678d-2b1a-4024-a44a-a2ceafbcb95c",
   "metadata": {},
   "outputs": [
    {
     "data": {
      "text/plain": [
       "['فاطمه عبدالعلی',\n",
       " 'Nicholas Mendez',\n",
       " 'دانيال هدایت',\n",
       " 'نرگس زارعی',\n",
       " 'محمد محمدی',\n",
       " 'معصومه رودگر',\n",
       " 'ثنا سعیدی',\n",
       " 'Kayla Fleming DDS',\n",
       " 'مبينا بهمنی',\n",
       " 'Kimberly Castillo']"
      ]
     },
     "execution_count": 30,
     "metadata": {},
     "output_type": "execute_result"
    }
   ],
   "source": [
    "[make_name() for _ in range(10)]"
   ]
  },
  {
   "cell_type": "markdown",
   "id": "1f2c5249-6598-4dac-9a9c-0dbc0b990b96",
   "metadata": {},
   "source": [
    "So let's build our dataset now:"
   ]
  },
  {
   "cell_type": "code",
   "execution_count": 47,
   "id": "8ae81a78-6c59-43c8-be74-ff1807f45eab",
   "metadata": {},
   "outputs": [],
   "source": [
    "df = pd.DataFrame({\n",
    "    'Name': [make_name() for _ in range(10)]\n",
    "})"
   ]
  },
  {
   "cell_type": "code",
   "execution_count": 48,
   "id": "5e6ea097-f081-4c1f-a419-8c978e4a5642",
   "metadata": {},
   "outputs": [
    {
     "data": {
      "text/html": [
       "<div>\n",
       "<style scoped>\n",
       "    .dataframe tbody tr th:only-of-type {\n",
       "        vertical-align: middle;\n",
       "    }\n",
       "\n",
       "    .dataframe tbody tr th {\n",
       "        vertical-align: top;\n",
       "    }\n",
       "\n",
       "    .dataframe thead th {\n",
       "        text-align: right;\n",
       "    }\n",
       "</style>\n",
       "<table border=\"1\" class=\"dataframe\">\n",
       "  <thead>\n",
       "    <tr style=\"text-align: right;\">\n",
       "      <th></th>\n",
       "      <th>Name</th>\n",
       "    </tr>\n",
       "  </thead>\n",
       "  <tbody>\n",
       "    <tr>\n",
       "      <th>0</th>\n",
       "      <td>محمدمهدي جنتی</td>\n",
       "    </tr>\n",
       "    <tr>\n",
       "      <th>1</th>\n",
       "      <td>Emily Gray</td>\n",
       "    </tr>\n",
       "    <tr>\n",
       "      <th>2</th>\n",
       "      <td>Nicole Atkins</td>\n",
       "    </tr>\n",
       "    <tr>\n",
       "      <th>3</th>\n",
       "      <td>ماهان شمشیری</td>\n",
       "    </tr>\n",
       "    <tr>\n",
       "      <th>4</th>\n",
       "      <td>Michael Frost</td>\n",
       "    </tr>\n",
       "    <tr>\n",
       "      <th>5</th>\n",
       "      <td>Tonya Kirby</td>\n",
       "    </tr>\n",
       "    <tr>\n",
       "      <th>6</th>\n",
       "      <td>محمدحسین سلطانی</td>\n",
       "    </tr>\n",
       "    <tr>\n",
       "      <th>7</th>\n",
       "      <td>Anthony Elliott</td>\n",
       "    </tr>\n",
       "    <tr>\n",
       "      <th>8</th>\n",
       "      <td>سرکار خانم زینب شمشیری</td>\n",
       "    </tr>\n",
       "    <tr>\n",
       "      <th>9</th>\n",
       "      <td>سينا عقیلی</td>\n",
       "    </tr>\n",
       "  </tbody>\n",
       "</table>\n",
       "</div>"
      ],
      "text/plain": [
       "                     Name\n",
       "0           محمدمهدي جنتی\n",
       "1              Emily Gray\n",
       "2           Nicole Atkins\n",
       "3            ماهان شمشیری\n",
       "4           Michael Frost\n",
       "5             Tonya Kirby\n",
       "6         محمدحسین سلطانی\n",
       "7         Anthony Elliott\n",
       "8  سرکار خانم زینب شمشیری\n",
       "9              سينا عقیلی"
      ]
     },
     "execution_count": 48,
     "metadata": {},
     "output_type": "execute_result"
    }
   ],
   "source": [
    "df"
   ]
  },
  {
   "cell_type": "markdown",
   "id": "3cd5848c-1867-4ce9-b665-1dc14bb5c8d2",
   "metadata": {},
   "source": [
    "<a class=\"anchor\" id=\"extract-firstname-and-lastname\"></a>\n",
    "\n",
    "## Extract First name and Last name"
   ]
  },
  {
   "cell_type": "markdown",
   "id": "99021447-dc05-411a-bb8b-5486f1bf5cca",
   "metadata": {},
   "source": [
    "To predict gender and country using a name, we need the first name and last names separate. We can simply assume that the first part of a name is the first name and the last par is last name. For example:"
   ]
  },
  {
   "cell_type": "code",
   "execution_count": 53,
   "id": "dc373486-127d-4b6b-914a-554054d10fb5",
   "metadata": {},
   "outputs": [
    {
     "data": {
      "text/plain": [
       "'امیررضا فرجی'"
      ]
     },
     "execution_count": 53,
     "metadata": {},
     "output_type": "execute_result"
    }
   ],
   "source": [
    "full_name = fa_fake.name()\n",
    "full_name"
   ]
  },
  {
   "cell_type": "code",
   "execution_count": 54,
   "id": "164b3b2e-0b79-4db6-919f-a06b832c2088",
   "metadata": {},
   "outputs": [],
   "source": [
    "first_name, *_, last_name = full_name.split()"
   ]
  },
  {
   "cell_type": "code",
   "execution_count": 55,
   "id": "46a8d265-e58d-49ea-906a-73dadbb0c22b",
   "metadata": {},
   "outputs": [
    {
     "data": {
      "text/plain": [
       "'امیررضا'"
      ]
     },
     "execution_count": 55,
     "metadata": {},
     "output_type": "execute_result"
    }
   ],
   "source": [
    "first_name"
   ]
  },
  {
   "cell_type": "code",
   "execution_count": 56,
   "id": "fda03446-e878-4aee-8f24-69030d3c1866",
   "metadata": {},
   "outputs": [
    {
     "data": {
      "text/plain": [
       "'فرجی'"
      ]
     },
     "execution_count": 56,
     "metadata": {},
     "output_type": "execute_result"
    }
   ],
   "source": [
    "last_name"
   ]
  },
  {
   "cell_type": "markdown",
   "id": "69855daa-c2a9-437b-b038-625759a68ac2",
   "metadata": {},
   "source": [
    "So let's split the names using `apply`.\n",
    "\n",
    "`apply` method is used to apply a function on a column or a row of a dataframe. It is very useful when you want to apply a function on a column or a row and create another column or row based on the result of the function."
   ]
  },
  {
   "cell_type": "code",
   "execution_count": 58,
   "id": "13fb2657-aa69-4477-beda-bd5dfa82f348",
   "metadata": {},
   "outputs": [],
   "source": [
    "df['First Name'] = df['Name'].apply(lambda full_name: full_name.split()[0])"
   ]
  },
  {
   "cell_type": "code",
   "execution_count": 59,
   "id": "b5803830-afc7-429f-a183-0efd148a350d",
   "metadata": {},
   "outputs": [],
   "source": [
    "df['Last Name'] = df['Name'].apply(lambda full_name: full_name.split()[-1])"
   ]
  },
  {
   "cell_type": "code",
   "execution_count": 60,
   "id": "912669a0-59f7-4504-9de0-020cc2d72dde",
   "metadata": {},
   "outputs": [
    {
     "data": {
      "text/html": [
       "<div>\n",
       "<style scoped>\n",
       "    .dataframe tbody tr th:only-of-type {\n",
       "        vertical-align: middle;\n",
       "    }\n",
       "\n",
       "    .dataframe tbody tr th {\n",
       "        vertical-align: top;\n",
       "    }\n",
       "\n",
       "    .dataframe thead th {\n",
       "        text-align: right;\n",
       "    }\n",
       "</style>\n",
       "<table border=\"1\" class=\"dataframe\">\n",
       "  <thead>\n",
       "    <tr style=\"text-align: right;\">\n",
       "      <th></th>\n",
       "      <th>Name</th>\n",
       "      <th>First Name</th>\n",
       "      <th>Last Name</th>\n",
       "    </tr>\n",
       "  </thead>\n",
       "  <tbody>\n",
       "    <tr>\n",
       "      <th>0</th>\n",
       "      <td>محمدمهدي جنتی</td>\n",
       "      <td>محمدمهدي</td>\n",
       "      <td>جنتی</td>\n",
       "    </tr>\n",
       "    <tr>\n",
       "      <th>1</th>\n",
       "      <td>Emily Gray</td>\n",
       "      <td>Emily</td>\n",
       "      <td>Gray</td>\n",
       "    </tr>\n",
       "    <tr>\n",
       "      <th>2</th>\n",
       "      <td>Nicole Atkins</td>\n",
       "      <td>Nicole</td>\n",
       "      <td>Atkins</td>\n",
       "    </tr>\n",
       "    <tr>\n",
       "      <th>3</th>\n",
       "      <td>ماهان شمشیری</td>\n",
       "      <td>ماهان</td>\n",
       "      <td>شمشیری</td>\n",
       "    </tr>\n",
       "    <tr>\n",
       "      <th>4</th>\n",
       "      <td>Michael Frost</td>\n",
       "      <td>Michael</td>\n",
       "      <td>Frost</td>\n",
       "    </tr>\n",
       "    <tr>\n",
       "      <th>5</th>\n",
       "      <td>Tonya Kirby</td>\n",
       "      <td>Tonya</td>\n",
       "      <td>Kirby</td>\n",
       "    </tr>\n",
       "    <tr>\n",
       "      <th>6</th>\n",
       "      <td>محمدحسین سلطانی</td>\n",
       "      <td>محمدحسین</td>\n",
       "      <td>سلطانی</td>\n",
       "    </tr>\n",
       "    <tr>\n",
       "      <th>7</th>\n",
       "      <td>Anthony Elliott</td>\n",
       "      <td>Anthony</td>\n",
       "      <td>Elliott</td>\n",
       "    </tr>\n",
       "    <tr>\n",
       "      <th>8</th>\n",
       "      <td>سرکار خانم زینب شمشیری</td>\n",
       "      <td>سرکار</td>\n",
       "      <td>شمشیری</td>\n",
       "    </tr>\n",
       "    <tr>\n",
       "      <th>9</th>\n",
       "      <td>سينا عقیلی</td>\n",
       "      <td>سينا</td>\n",
       "      <td>عقیلی</td>\n",
       "    </tr>\n",
       "  </tbody>\n",
       "</table>\n",
       "</div>"
      ],
      "text/plain": [
       "                     Name First Name Last Name\n",
       "0           محمدمهدي جنتی   محمدمهدي      جنتی\n",
       "1              Emily Gray      Emily      Gray\n",
       "2           Nicole Atkins     Nicole    Atkins\n",
       "3            ماهان شمشیری      ماهان    شمشیری\n",
       "4           Michael Frost    Michael     Frost\n",
       "5             Tonya Kirby      Tonya     Kirby\n",
       "6         محمدحسین سلطانی   محمدحسین    سلطانی\n",
       "7         Anthony Elliott    Anthony   Elliott\n",
       "8  سرکار خانم زینب شمشیری      سرکار    شمشیری\n",
       "9              سينا عقیلی       سينا     عقیلی"
      ]
     },
     "execution_count": 60,
     "metadata": {},
     "output_type": "execute_result"
    }
   ],
   "source": [
    "df"
   ]
  },
  {
   "cell_type": "markdown",
   "id": "0b124072-9b6f-4c8c-a7cd-88d4f35c7e5d",
   "metadata": {},
   "source": [
    "Of course this is not a perfect separation and you can see that some first name and last name splits are not correct. This is because the data is not perfect and some names include titles like سر کار خانم or Mr.\n",
    "\n",
    "You can write a function to fix these errors but for now we will just ignore them."
   ]
  },
  {
   "cell_type": "markdown",
   "id": "9cdebd2c-2569-4910-a3d5-ee36e9ca8659",
   "metadata": {},
   "source": [
    "<a class=\"anchor\" id=\"predict-gender\"></a>\n",
    "\n",
    "## Predict Gender"
   ]
  },
  {
   "cell_type": "markdown",
   "id": "73bb0641-5020-4887-a421-1be67aca76d7",
   "metadata": {},
   "source": [
    "Now let's generate gender and country info from a name. Let's write a function that given a first name, returns gender and country.\n",
    "\n",
    "**Note:** We use first name to generate gender as it is more accurate than last name. Last names can be used for other purposes like finding the origin country of the person. You can try it with the last name and compare the results."
   ]
  },
  {
   "cell_type": "code",
   "execution_count": 111,
   "id": "92f53ff2-fc29-4bd0-80b9-fc27d3ddf998",
   "metadata": {},
   "outputs": [],
   "source": [
    "def name_to_gender(first_name):\n",
    "    info = nd.search(first_name)['first_name']\n",
    "    if info is None:\n",
    "        return None\n",
    "    \n",
    "    return max(info['gender'], key=info['gender'].get)"
   ]
  },
  {
   "cell_type": "code",
   "execution_count": 87,
   "id": "33d90da9-33fa-4322-b593-6fea75926fb5",
   "metadata": {},
   "outputs": [
    {
     "data": {
      "text/plain": [
       "'Male'"
      ]
     },
     "execution_count": 87,
     "metadata": {},
     "output_type": "execute_result"
    }
   ],
   "source": [
    "name_to_gender('سیامک')"
   ]
  },
  {
   "cell_type": "code",
   "execution_count": 88,
   "id": "e441ee5e-d7d4-45da-9489-de7aa488ad57",
   "metadata": {},
   "outputs": [
    {
     "name": "stdout",
     "output_type": "stream",
     "text": [
      "None\n"
     ]
    }
   ],
   "source": [
    "# For unknown names, it returns None\n",
    "print(name_to_gender('abc'))"
   ]
  },
  {
   "cell_type": "markdown",
   "id": "deb349d2-bdfd-419e-b554-c324dd37b6b7",
   "metadata": {},
   "source": [
    "Let's apply this function on our dataframe and extract gender:"
   ]
  },
  {
   "cell_type": "code",
   "execution_count": 89,
   "id": "b92cecab-5fc2-4623-95c1-453099983c9f",
   "metadata": {},
   "outputs": [],
   "source": [
    "df['Gender'] = df['First Name'].apply(lambda fn: name_to_gender(fn))"
   ]
  },
  {
   "cell_type": "code",
   "execution_count": 90,
   "id": "3ff2745c-2258-4831-a75b-fc5580c0f2f1",
   "metadata": {},
   "outputs": [
    {
     "data": {
      "text/html": [
       "<div>\n",
       "<style scoped>\n",
       "    .dataframe tbody tr th:only-of-type {\n",
       "        vertical-align: middle;\n",
       "    }\n",
       "\n",
       "    .dataframe tbody tr th {\n",
       "        vertical-align: top;\n",
       "    }\n",
       "\n",
       "    .dataframe thead th {\n",
       "        text-align: right;\n",
       "    }\n",
       "</style>\n",
       "<table border=\"1\" class=\"dataframe\">\n",
       "  <thead>\n",
       "    <tr style=\"text-align: right;\">\n",
       "      <th></th>\n",
       "      <th>Name</th>\n",
       "      <th>First Name</th>\n",
       "      <th>Last Name</th>\n",
       "      <th>Gender</th>\n",
       "    </tr>\n",
       "  </thead>\n",
       "  <tbody>\n",
       "    <tr>\n",
       "      <th>0</th>\n",
       "      <td>محمدمهدي جنتی</td>\n",
       "      <td>محمدمهدي</td>\n",
       "      <td>جنتی</td>\n",
       "      <td>Male</td>\n",
       "    </tr>\n",
       "    <tr>\n",
       "      <th>1</th>\n",
       "      <td>Emily Gray</td>\n",
       "      <td>Emily</td>\n",
       "      <td>Gray</td>\n",
       "      <td>Female</td>\n",
       "    </tr>\n",
       "    <tr>\n",
       "      <th>2</th>\n",
       "      <td>Nicole Atkins</td>\n",
       "      <td>Nicole</td>\n",
       "      <td>Atkins</td>\n",
       "      <td>Female</td>\n",
       "    </tr>\n",
       "    <tr>\n",
       "      <th>3</th>\n",
       "      <td>ماهان شمشیری</td>\n",
       "      <td>ماهان</td>\n",
       "      <td>شمشیری</td>\n",
       "      <td>Male</td>\n",
       "    </tr>\n",
       "    <tr>\n",
       "      <th>4</th>\n",
       "      <td>Michael Frost</td>\n",
       "      <td>Michael</td>\n",
       "      <td>Frost</td>\n",
       "      <td>Male</td>\n",
       "    </tr>\n",
       "    <tr>\n",
       "      <th>5</th>\n",
       "      <td>Tonya Kirby</td>\n",
       "      <td>Tonya</td>\n",
       "      <td>Kirby</td>\n",
       "      <td>Female</td>\n",
       "    </tr>\n",
       "    <tr>\n",
       "      <th>6</th>\n",
       "      <td>محمدحسین سلطانی</td>\n",
       "      <td>محمدحسین</td>\n",
       "      <td>سلطانی</td>\n",
       "      <td>Male</td>\n",
       "    </tr>\n",
       "    <tr>\n",
       "      <th>7</th>\n",
       "      <td>Anthony Elliott</td>\n",
       "      <td>Anthony</td>\n",
       "      <td>Elliott</td>\n",
       "      <td>Male</td>\n",
       "    </tr>\n",
       "    <tr>\n",
       "      <th>8</th>\n",
       "      <td>سرکار خانم زینب شمشیری</td>\n",
       "      <td>سرکار</td>\n",
       "      <td>شمشیری</td>\n",
       "      <td>None</td>\n",
       "    </tr>\n",
       "    <tr>\n",
       "      <th>9</th>\n",
       "      <td>سينا عقیلی</td>\n",
       "      <td>سينا</td>\n",
       "      <td>عقیلی</td>\n",
       "      <td>Male</td>\n",
       "    </tr>\n",
       "  </tbody>\n",
       "</table>\n",
       "</div>"
      ],
      "text/plain": [
       "                     Name First Name Last Name  Gender\n",
       "0           محمدمهدي جنتی   محمدمهدي      جنتی    Male\n",
       "1              Emily Gray      Emily      Gray  Female\n",
       "2           Nicole Atkins     Nicole    Atkins  Female\n",
       "3            ماهان شمشیری      ماهان    شمشیری    Male\n",
       "4           Michael Frost    Michael     Frost    Male\n",
       "5             Tonya Kirby      Tonya     Kirby  Female\n",
       "6         محمدحسین سلطانی   محمدحسین    سلطانی    Male\n",
       "7         Anthony Elliott    Anthony   Elliott    Male\n",
       "8  سرکار خانم زینب شمشیری      سرکار    شمشیری    None\n",
       "9              سينا عقیلی       سينا     عقیلی    Male"
      ]
     },
     "execution_count": 90,
     "metadata": {},
     "output_type": "execute_result"
    }
   ],
   "source": [
    "df"
   ]
  },
  {
   "cell_type": "markdown",
   "id": "508a8789-b80f-4adf-9968-494a6cf63c71",
   "metadata": {},
   "source": [
    "<a class=\"anchor\" id=\"your-turn\"></a>\n",
    "\n",
    "## Your Turn!"
   ]
  },
  {
   "cell_type": "markdown",
   "id": "822682c6-6242-4d04-a081-5d2700036f0e",
   "metadata": {},
   "source": [
    "Now it's your turn to do some data extraction."
   ]
  },
  {
   "cell_type": "markdown",
   "id": "c4316817-f93b-427c-9b8f-f319819c893f",
   "metadata": {},
   "source": [
    "Write a code that adds 3 more columns to the dataframe:\n",
    "- Gender Probability\n",
    "- Country\n",
    "- Country Probability"
   ]
  },
  {
   "cell_type": "markdown",
   "id": "4fc8539c-02e6-4708-9fc9-e543c086b812",
   "metadata": {},
   "source": [
    "The final dataframe should look like this:"
   ]
  },
  {
   "cell_type": "markdown",
   "id": "63d06e4f-ae25-495c-a389-8ab38df07737",
   "metadata": {},
   "source": [
    "<img src=\"../images/pandas/gender-country-from-name.png\" width=\"800\"/>"
   ]
  }
 ],
 "metadata": {
  "kernelspec": {
   "display_name": "Python 3",
   "language": "python",
   "name": "python3"
  },
  "language_info": {
   "codemirror_mode": {
    "name": "ipython",
    "version": 3
   },
   "file_extension": ".py",
   "mimetype": "text/x-python",
   "name": "python",
   "nbconvert_exporter": "python",
   "pygments_lexer": "ipython3",
   "version": "3.8.11"
  }
 },
 "nbformat": 4,
 "nbformat_minor": 5
}
