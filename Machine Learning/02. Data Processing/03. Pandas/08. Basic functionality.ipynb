{
 "cells": [
  {
   "cell_type": "markdown",
   "id": "fb3747d7",
   "metadata": {},
   "source": [
    "<img src=\"../../../images/banners/pandas-cropped.jpeg\" width=\"600\"/>"
   ]
  },
  {
   "cell_type": "markdown",
   "id": "a56b541d",
   "metadata": {},
   "source": [
    "<a class=\"anchor\" id=\"essential_basic_functionality\"></a>\n",
    "# <img src=\"../../../images/logos/pandas.png\" width=\"23\"/>  Essential Basic Functionality"
   ]
  },
  {
   "cell_type": "markdown",
   "id": "e967bee5",
   "metadata": {},
   "source": [
    "## <img src=\"../../../images/logos/toc.png\" width=\"20\"/> Table of Contents \n",
    "* [Essential basic functionality](#essential_basic_functionality)\n",
    "    * [Head and tail](#head_and_tail)\n",
    "    * [Attributes](#attributes)\n",
    "    * [Accelerated operations](#accelerated_operations)\n",
    "    * [Flexible binary operations](#flexible_binary_operations)\n",
    "        * [Matching / broadcasting behavior](#matching_/_broadcasting_behavior)\n",
    "        * [Missing data / operations with fill values](#missing_data_/_operations_with_fill_values)\n",
    "        * [Flexible comparisons](#flexible_comparisons)\n",
    "        * [Boolean reductions](#boolean_reductions)\n",
    "        * [Comparing if objects are equivalent](#comparing_if_objects_are_equivalent)\n",
    "        * [Comparing array-like objects](#comparing_array-like_objects)\n",
    "        * [Combining overlapping data sets](#combining_overlapping_data_sets)\n",
    "        * [General DataFrame combine](#general_dataframe_combine)\n",
    "\n",
    "---"
   ]
  },
  {
   "cell_type": "code",
   "execution_count": 2,
   "id": "01fe676a-c16a-424d-8d22-40fb9467673b",
   "metadata": {},
   "outputs": [],
   "source": [
    "import pandas as pd\n",
    "import numpy as np"
   ]
  },
  {
   "cell_type": "markdown",
   "id": "39baffa0",
   "metadata": {},
   "source": [
    "Here we discuss a lot of the essential functionality common to the pandas data\n",
    "structures. To begin, let’s create some example objects:"
   ]
  },
  {
   "cell_type": "code",
   "execution_count": 3,
   "id": "a4ec9250",
   "metadata": {},
   "outputs": [],
   "source": [
    "index = pd.date_range(\"1/1/2000\", periods=8)\n",
    "s = pd.Series(\n",
    "    np.random.randn(5),\n",
    "    index=[\"a\", \"b\", \"c\", \"d\", \"e\"]\n",
    ")\n",
    "df = pd.DataFrame(\n",
    "    np.random.randn(8, 3),\n",
    "    index=index,\n",
    "    columns=[\"A\", \"B\", \"C\"]\n",
    ")"
   ]
  },
  {
   "cell_type": "code",
   "execution_count": 4,
   "id": "8f192b89-99a0-431c-8c49-145d46c9bbae",
   "metadata": {},
   "outputs": [
    {
     "data": {
      "text/plain": [
       "DatetimeIndex(['2000-01-01', '2000-01-02', '2000-01-03', '2000-01-04',\n",
       "               '2000-01-05', '2000-01-06', '2000-01-07', '2000-01-08'],\n",
       "              dtype='datetime64[ns]', freq='D')"
      ]
     },
     "execution_count": 4,
     "metadata": {},
     "output_type": "execute_result"
    }
   ],
   "source": [
    "index"
   ]
  },
  {
   "cell_type": "code",
   "execution_count": 5,
   "id": "6d4edd31-1e66-4be5-8737-2df91b5c41d7",
   "metadata": {},
   "outputs": [
    {
     "data": {
      "text/plain": [
       "a    0.798479\n",
       "b   -0.080978\n",
       "c    1.333688\n",
       "d    1.759824\n",
       "e   -0.290226\n",
       "dtype: float64"
      ]
     },
     "execution_count": 5,
     "metadata": {},
     "output_type": "execute_result"
    }
   ],
   "source": [
    "s"
   ]
  },
  {
   "cell_type": "code",
   "execution_count": 6,
   "id": "ceef7216-6de9-4254-a440-a38cb50b8656",
   "metadata": {},
   "outputs": [
    {
     "data": {
      "text/html": [
       "<div>\n",
       "<style scoped>\n",
       "    .dataframe tbody tr th:only-of-type {\n",
       "        vertical-align: middle;\n",
       "    }\n",
       "\n",
       "    .dataframe tbody tr th {\n",
       "        vertical-align: top;\n",
       "    }\n",
       "\n",
       "    .dataframe thead th {\n",
       "        text-align: right;\n",
       "    }\n",
       "</style>\n",
       "<table border=\"1\" class=\"dataframe\">\n",
       "  <thead>\n",
       "    <tr style=\"text-align: right;\">\n",
       "      <th></th>\n",
       "      <th>A</th>\n",
       "      <th>B</th>\n",
       "      <th>C</th>\n",
       "    </tr>\n",
       "  </thead>\n",
       "  <tbody>\n",
       "    <tr>\n",
       "      <th>2000-01-01</th>\n",
       "      <td>0.802625</td>\n",
       "      <td>-0.487963</td>\n",
       "      <td>-1.124748</td>\n",
       "    </tr>\n",
       "    <tr>\n",
       "      <th>2000-01-02</th>\n",
       "      <td>-0.088593</td>\n",
       "      <td>0.788093</td>\n",
       "      <td>1.196199</td>\n",
       "    </tr>\n",
       "    <tr>\n",
       "      <th>2000-01-03</th>\n",
       "      <td>-1.666590</td>\n",
       "      <td>0.495490</td>\n",
       "      <td>0.530928</td>\n",
       "    </tr>\n",
       "    <tr>\n",
       "      <th>2000-01-04</th>\n",
       "      <td>1.033644</td>\n",
       "      <td>-1.206951</td>\n",
       "      <td>-1.848656</td>\n",
       "    </tr>\n",
       "    <tr>\n",
       "      <th>2000-01-05</th>\n",
       "      <td>0.311807</td>\n",
       "      <td>0.394268</td>\n",
       "      <td>1.063910</td>\n",
       "    </tr>\n",
       "    <tr>\n",
       "      <th>2000-01-06</th>\n",
       "      <td>0.882344</td>\n",
       "      <td>-0.122679</td>\n",
       "      <td>-0.008647</td>\n",
       "    </tr>\n",
       "    <tr>\n",
       "      <th>2000-01-07</th>\n",
       "      <td>0.665170</td>\n",
       "      <td>-1.566012</td>\n",
       "      <td>0.571396</td>\n",
       "    </tr>\n",
       "    <tr>\n",
       "      <th>2000-01-08</th>\n",
       "      <td>-0.076244</td>\n",
       "      <td>1.481260</td>\n",
       "      <td>-1.825850</td>\n",
       "    </tr>\n",
       "  </tbody>\n",
       "</table>\n",
       "</div>"
      ],
      "text/plain": [
       "                   A         B         C\n",
       "2000-01-01  0.802625 -0.487963 -1.124748\n",
       "2000-01-02 -0.088593  0.788093  1.196199\n",
       "2000-01-03 -1.666590  0.495490  0.530928\n",
       "2000-01-04  1.033644 -1.206951 -1.848656\n",
       "2000-01-05  0.311807  0.394268  1.063910\n",
       "2000-01-06  0.882344 -0.122679 -0.008647\n",
       "2000-01-07  0.665170 -1.566012  0.571396\n",
       "2000-01-08 -0.076244  1.481260 -1.825850"
      ]
     },
     "execution_count": 6,
     "metadata": {},
     "output_type": "execute_result"
    }
   ],
   "source": [
    "df"
   ]
  },
  {
   "cell_type": "markdown",
   "id": "9dcb3075",
   "metadata": {},
   "source": [
    "<a class=\"anchor\" id=\"head_and_tail\"></a>\n",
    "## Head and tail"
   ]
  },
  {
   "cell_type": "markdown",
   "id": "afea1cd5",
   "metadata": {},
   "source": [
    "To view a small sample of a Series or DataFrame object, use the\n",
    "[`head()`](../reference/api/pandas.DataFrame.head.html#pandas.DataFrame.head \"pandas.DataFrame.head\") and [`tail()`](../reference/api/pandas.DataFrame.tail.html#pandas.DataFrame.tail \"pandas.DataFrame.tail\") methods. The default number\n",
    "of elements to display is five, but you may pass a custom number."
   ]
  },
  {
   "cell_type": "code",
   "execution_count": 7,
   "id": "4a871704-5f37-4a15-8351-82df1aad3b4c",
   "metadata": {},
   "outputs": [],
   "source": [
    "long_series = pd.Series(np.random.randn(1000))"
   ]
  },
  {
   "cell_type": "code",
   "execution_count": 8,
   "id": "264a8964-69b5-4a4d-992c-6be5c67742f2",
   "metadata": {},
   "outputs": [
    {
     "data": {
      "text/plain": [
       "0    2.440081\n",
       "1   -0.544264\n",
       "2    0.810528\n",
       "3    2.177132\n",
       "4    0.829438\n",
       "dtype: float64"
      ]
     },
     "execution_count": 8,
     "metadata": {},
     "output_type": "execute_result"
    }
   ],
   "source": [
    "long_series.head()"
   ]
  },
  {
   "cell_type": "code",
   "execution_count": 9,
   "id": "483141ff-7bb7-44fc-9c57-1f56b8692fe1",
   "metadata": {},
   "outputs": [
    {
     "data": {
      "text/plain": [
       "997   -1.017711\n",
       "998    0.722343\n",
       "999   -0.304115\n",
       "dtype: float64"
      ]
     },
     "execution_count": 9,
     "metadata": {},
     "output_type": "execute_result"
    }
   ],
   "source": [
    "long_series.tail(3)"
   ]
  },
  {
   "cell_type": "markdown",
   "id": "5528034c",
   "metadata": {},
   "source": [
    "<a class=\"anchor\" id=\"attributes\"></a>\n",
    "## Attributes"
   ]
  },
  {
   "cell_type": "markdown",
   "id": "22c546e9",
   "metadata": {},
   "source": [
    "pandas objects have a number of attributes enabling you to access the metadata"
   ]
  },
  {
   "cell_type": "markdown",
   "id": "8ae5fd56",
   "metadata": {},
   "source": [
    "Note, **these attributes can be safely assigned to**!"
   ]
  },
  {
   "cell_type": "code",
   "execution_count": 10,
   "id": "7d398aef-f105-4d63-8d84-016b9b52dc48",
   "metadata": {},
   "outputs": [
    {
     "data": {
      "text/html": [
       "<div>\n",
       "<style scoped>\n",
       "    .dataframe tbody tr th:only-of-type {\n",
       "        vertical-align: middle;\n",
       "    }\n",
       "\n",
       "    .dataframe tbody tr th {\n",
       "        vertical-align: top;\n",
       "    }\n",
       "\n",
       "    .dataframe thead th {\n",
       "        text-align: right;\n",
       "    }\n",
       "</style>\n",
       "<table border=\"1\" class=\"dataframe\">\n",
       "  <thead>\n",
       "    <tr style=\"text-align: right;\">\n",
       "      <th></th>\n",
       "      <th>A</th>\n",
       "      <th>B</th>\n",
       "      <th>C</th>\n",
       "    </tr>\n",
       "  </thead>\n",
       "  <tbody>\n",
       "    <tr>\n",
       "      <th>2000-01-01</th>\n",
       "      <td>0.802625</td>\n",
       "      <td>-0.487963</td>\n",
       "      <td>-1.124748</td>\n",
       "    </tr>\n",
       "    <tr>\n",
       "      <th>2000-01-02</th>\n",
       "      <td>-0.088593</td>\n",
       "      <td>0.788093</td>\n",
       "      <td>1.196199</td>\n",
       "    </tr>\n",
       "  </tbody>\n",
       "</table>\n",
       "</div>"
      ],
      "text/plain": [
       "                   A         B         C\n",
       "2000-01-01  0.802625 -0.487963 -1.124748\n",
       "2000-01-02 -0.088593  0.788093  1.196199"
      ]
     },
     "execution_count": 10,
     "metadata": {},
     "output_type": "execute_result"
    }
   ],
   "source": [
    "df[:2]"
   ]
  },
  {
   "cell_type": "code",
   "execution_count": 11,
   "id": "4442386f-4c30-42ba-b429-0c41902123e1",
   "metadata": {},
   "outputs": [],
   "source": [
    "df.columns = [x.lower() for x in df.columns]"
   ]
  },
  {
   "cell_type": "code",
   "execution_count": 12,
   "id": "ccc3a7f9-264f-4a6e-b6fc-c541429256e9",
   "metadata": {},
   "outputs": [
    {
     "data": {
      "text/html": [
       "<div>\n",
       "<style scoped>\n",
       "    .dataframe tbody tr th:only-of-type {\n",
       "        vertical-align: middle;\n",
       "    }\n",
       "\n",
       "    .dataframe tbody tr th {\n",
       "        vertical-align: top;\n",
       "    }\n",
       "\n",
       "    .dataframe thead th {\n",
       "        text-align: right;\n",
       "    }\n",
       "</style>\n",
       "<table border=\"1\" class=\"dataframe\">\n",
       "  <thead>\n",
       "    <tr style=\"text-align: right;\">\n",
       "      <th></th>\n",
       "      <th>a</th>\n",
       "      <th>b</th>\n",
       "      <th>c</th>\n",
       "    </tr>\n",
       "  </thead>\n",
       "  <tbody>\n",
       "    <tr>\n",
       "      <th>2000-01-01</th>\n",
       "      <td>0.802625</td>\n",
       "      <td>-0.487963</td>\n",
       "      <td>-1.124748</td>\n",
       "    </tr>\n",
       "    <tr>\n",
       "      <th>2000-01-02</th>\n",
       "      <td>-0.088593</td>\n",
       "      <td>0.788093</td>\n",
       "      <td>1.196199</td>\n",
       "    </tr>\n",
       "    <tr>\n",
       "      <th>2000-01-03</th>\n",
       "      <td>-1.666590</td>\n",
       "      <td>0.495490</td>\n",
       "      <td>0.530928</td>\n",
       "    </tr>\n",
       "    <tr>\n",
       "      <th>2000-01-04</th>\n",
       "      <td>1.033644</td>\n",
       "      <td>-1.206951</td>\n",
       "      <td>-1.848656</td>\n",
       "    </tr>\n",
       "    <tr>\n",
       "      <th>2000-01-05</th>\n",
       "      <td>0.311807</td>\n",
       "      <td>0.394268</td>\n",
       "      <td>1.063910</td>\n",
       "    </tr>\n",
       "    <tr>\n",
       "      <th>2000-01-06</th>\n",
       "      <td>0.882344</td>\n",
       "      <td>-0.122679</td>\n",
       "      <td>-0.008647</td>\n",
       "    </tr>\n",
       "    <tr>\n",
       "      <th>2000-01-07</th>\n",
       "      <td>0.665170</td>\n",
       "      <td>-1.566012</td>\n",
       "      <td>0.571396</td>\n",
       "    </tr>\n",
       "    <tr>\n",
       "      <th>2000-01-08</th>\n",
       "      <td>-0.076244</td>\n",
       "      <td>1.481260</td>\n",
       "      <td>-1.825850</td>\n",
       "    </tr>\n",
       "  </tbody>\n",
       "</table>\n",
       "</div>"
      ],
      "text/plain": [
       "                   a         b         c\n",
       "2000-01-01  0.802625 -0.487963 -1.124748\n",
       "2000-01-02 -0.088593  0.788093  1.196199\n",
       "2000-01-03 -1.666590  0.495490  0.530928\n",
       "2000-01-04  1.033644 -1.206951 -1.848656\n",
       "2000-01-05  0.311807  0.394268  1.063910\n",
       "2000-01-06  0.882344 -0.122679 -0.008647\n",
       "2000-01-07  0.665170 -1.566012  0.571396\n",
       "2000-01-08 -0.076244  1.481260 -1.825850"
      ]
     },
     "execution_count": 12,
     "metadata": {},
     "output_type": "execute_result"
    }
   ],
   "source": [
    "df"
   ]
  },
  {
   "cell_type": "markdown",
   "id": "4f8361e0",
   "metadata": {},
   "source": [
    "<a class=\"anchor\" id=\"flexible_binary_operations\"></a>\n",
    "## Flexible binary operations"
   ]
  },
  {
   "cell_type": "markdown",
   "id": "a5c02f42",
   "metadata": {},
   "source": [
    "With binary operations between pandas data structures, there are two key points\n",
    "of interest:"
   ]
  },
  {
   "cell_type": "markdown",
   "id": "badaffd2",
   "metadata": {},
   "source": [
    "We will demonstrate how to manage these issues independently, though they can\n",
    "be handled simultaneously."
   ]
  },
  {
   "cell_type": "markdown",
   "id": "c1faf330",
   "metadata": {},
   "source": [
    "<a class=\"anchor\" id=\"matching_/_broadcasting_behavior\"></a>\n",
    "### Matching / broadcasting behavior"
   ]
  },
  {
   "cell_type": "markdown",
   "id": "7591fceb",
   "metadata": {},
   "source": [
    "For broadcasting behavior,\n",
    "Series input is of primary interest. Using these functions, you can use to\n",
    "either match on the *index* or *columns* via the **axis** keyword:"
   ]
  },
  {
   "cell_type": "code",
   "execution_count": 13,
   "id": "e2045d86-c325-4e75-91b7-1951ddf35a9c",
   "metadata": {},
   "outputs": [],
   "source": [
    "df = pd.DataFrame(\n",
    "    {\n",
    "        \"one\": pd.Series(np.random.randn(3), index=[\"a\", \"b\", \"c\"]),\n",
    "        \"two\": pd.Series(np.random.randn(4), index=[\"a\", \"b\", \"c\", \"d\"]),\n",
    "        \"three\": pd.Series(np.random.randn(3), index=[\"b\", \"c\", \"d\"]),\n",
    "    }\n",
    ")"
   ]
  },
  {
   "cell_type": "code",
   "execution_count": 14,
   "id": "7242a26c-ceec-4861-95b3-5edfe8edaafc",
   "metadata": {},
   "outputs": [
    {
     "data": {
      "text/html": [
       "<div>\n",
       "<style scoped>\n",
       "    .dataframe tbody tr th:only-of-type {\n",
       "        vertical-align: middle;\n",
       "    }\n",
       "\n",
       "    .dataframe tbody tr th {\n",
       "        vertical-align: top;\n",
       "    }\n",
       "\n",
       "    .dataframe thead th {\n",
       "        text-align: right;\n",
       "    }\n",
       "</style>\n",
       "<table border=\"1\" class=\"dataframe\">\n",
       "  <thead>\n",
       "    <tr style=\"text-align: right;\">\n",
       "      <th></th>\n",
       "      <th>one</th>\n",
       "      <th>two</th>\n",
       "      <th>three</th>\n",
       "    </tr>\n",
       "  </thead>\n",
       "  <tbody>\n",
       "    <tr>\n",
       "      <th>a</th>\n",
       "      <td>0.053460</td>\n",
       "      <td>-2.081122</td>\n",
       "      <td>NaN</td>\n",
       "    </tr>\n",
       "    <tr>\n",
       "      <th>b</th>\n",
       "      <td>-1.006049</td>\n",
       "      <td>-0.280347</td>\n",
       "      <td>1.318842</td>\n",
       "    </tr>\n",
       "    <tr>\n",
       "      <th>c</th>\n",
       "      <td>-0.754036</td>\n",
       "      <td>0.121723</td>\n",
       "      <td>0.837709</td>\n",
       "    </tr>\n",
       "    <tr>\n",
       "      <th>d</th>\n",
       "      <td>NaN</td>\n",
       "      <td>-0.281258</td>\n",
       "      <td>-1.549235</td>\n",
       "    </tr>\n",
       "  </tbody>\n",
       "</table>\n",
       "</div>"
      ],
      "text/plain": [
       "        one       two     three\n",
       "a  0.053460 -2.081122       NaN\n",
       "b -1.006049 -0.280347  1.318842\n",
       "c -0.754036  0.121723  0.837709\n",
       "d       NaN -0.281258 -1.549235"
      ]
     },
     "execution_count": 14,
     "metadata": {},
     "output_type": "execute_result"
    }
   ],
   "source": [
    "df"
   ]
  },
  {
   "cell_type": "code",
   "execution_count": 15,
   "id": "dd44e027-a957-4597-a193-2e245b11f650",
   "metadata": {},
   "outputs": [],
   "source": [
    "row = df.iloc[1]"
   ]
  },
  {
   "cell_type": "code",
   "execution_count": 16,
   "id": "89287080-552f-4142-95a8-1241f8ac8a7c",
   "metadata": {},
   "outputs": [],
   "source": [
    "column = df[\"two\"]"
   ]
  },
  {
   "cell_type": "code",
   "execution_count": 17,
   "id": "69071042-e97f-4800-8bd0-430285416a2f",
   "metadata": {},
   "outputs": [
    {
     "data": {
      "text/html": [
       "<div>\n",
       "<style scoped>\n",
       "    .dataframe tbody tr th:only-of-type {\n",
       "        vertical-align: middle;\n",
       "    }\n",
       "\n",
       "    .dataframe tbody tr th {\n",
       "        vertical-align: top;\n",
       "    }\n",
       "\n",
       "    .dataframe thead th {\n",
       "        text-align: right;\n",
       "    }\n",
       "</style>\n",
       "<table border=\"1\" class=\"dataframe\">\n",
       "  <thead>\n",
       "    <tr style=\"text-align: right;\">\n",
       "      <th></th>\n",
       "      <th>one</th>\n",
       "      <th>two</th>\n",
       "      <th>three</th>\n",
       "    </tr>\n",
       "  </thead>\n",
       "  <tbody>\n",
       "    <tr>\n",
       "      <th>a</th>\n",
       "      <td>1.059510</td>\n",
       "      <td>-1.800774</td>\n",
       "      <td>NaN</td>\n",
       "    </tr>\n",
       "    <tr>\n",
       "      <th>b</th>\n",
       "      <td>0.000000</td>\n",
       "      <td>0.000000</td>\n",
       "      <td>0.000000</td>\n",
       "    </tr>\n",
       "    <tr>\n",
       "      <th>c</th>\n",
       "      <td>0.252013</td>\n",
       "      <td>0.402070</td>\n",
       "      <td>-0.481133</td>\n",
       "    </tr>\n",
       "    <tr>\n",
       "      <th>d</th>\n",
       "      <td>NaN</td>\n",
       "      <td>-0.000911</td>\n",
       "      <td>-2.868077</td>\n",
       "    </tr>\n",
       "  </tbody>\n",
       "</table>\n",
       "</div>"
      ],
      "text/plain": [
       "        one       two     three\n",
       "a  1.059510 -1.800774       NaN\n",
       "b  0.000000  0.000000  0.000000\n",
       "c  0.252013  0.402070 -0.481133\n",
       "d       NaN -0.000911 -2.868077"
      ]
     },
     "execution_count": 17,
     "metadata": {},
     "output_type": "execute_result"
    }
   ],
   "source": [
    "df.sub(row, axis=\"columns\")"
   ]
  },
  {
   "cell_type": "code",
   "execution_count": 18,
   "id": "94500f41-94a9-44a8-b1fd-54071468c031",
   "metadata": {},
   "outputs": [
    {
     "data": {
      "text/html": [
       "<div>\n",
       "<style scoped>\n",
       "    .dataframe tbody tr th:only-of-type {\n",
       "        vertical-align: middle;\n",
       "    }\n",
       "\n",
       "    .dataframe tbody tr th {\n",
       "        vertical-align: top;\n",
       "    }\n",
       "\n",
       "    .dataframe thead th {\n",
       "        text-align: right;\n",
       "    }\n",
       "</style>\n",
       "<table border=\"1\" class=\"dataframe\">\n",
       "  <thead>\n",
       "    <tr style=\"text-align: right;\">\n",
       "      <th></th>\n",
       "      <th>one</th>\n",
       "      <th>two</th>\n",
       "      <th>three</th>\n",
       "    </tr>\n",
       "  </thead>\n",
       "  <tbody>\n",
       "    <tr>\n",
       "      <th>a</th>\n",
       "      <td>1.059510</td>\n",
       "      <td>-1.800774</td>\n",
       "      <td>NaN</td>\n",
       "    </tr>\n",
       "    <tr>\n",
       "      <th>b</th>\n",
       "      <td>0.000000</td>\n",
       "      <td>0.000000</td>\n",
       "      <td>0.000000</td>\n",
       "    </tr>\n",
       "    <tr>\n",
       "      <th>c</th>\n",
       "      <td>0.252013</td>\n",
       "      <td>0.402070</td>\n",
       "      <td>-0.481133</td>\n",
       "    </tr>\n",
       "    <tr>\n",
       "      <th>d</th>\n",
       "      <td>NaN</td>\n",
       "      <td>-0.000911</td>\n",
       "      <td>-2.868077</td>\n",
       "    </tr>\n",
       "  </tbody>\n",
       "</table>\n",
       "</div>"
      ],
      "text/plain": [
       "        one       two     three\n",
       "a  1.059510 -1.800774       NaN\n",
       "b  0.000000  0.000000  0.000000\n",
       "c  0.252013  0.402070 -0.481133\n",
       "d       NaN -0.000911 -2.868077"
      ]
     },
     "execution_count": 18,
     "metadata": {},
     "output_type": "execute_result"
    }
   ],
   "source": [
    "df.sub(row, axis=1)"
   ]
  },
  {
   "cell_type": "code",
   "execution_count": 19,
   "id": "64aed702-b301-41e9-b612-b535bb182de5",
   "metadata": {},
   "outputs": [
    {
     "data": {
      "text/html": [
       "<div>\n",
       "<style scoped>\n",
       "    .dataframe tbody tr th:only-of-type {\n",
       "        vertical-align: middle;\n",
       "    }\n",
       "\n",
       "    .dataframe tbody tr th {\n",
       "        vertical-align: top;\n",
       "    }\n",
       "\n",
       "    .dataframe thead th {\n",
       "        text-align: right;\n",
       "    }\n",
       "</style>\n",
       "<table border=\"1\" class=\"dataframe\">\n",
       "  <thead>\n",
       "    <tr style=\"text-align: right;\">\n",
       "      <th></th>\n",
       "      <th>one</th>\n",
       "      <th>two</th>\n",
       "      <th>three</th>\n",
       "    </tr>\n",
       "  </thead>\n",
       "  <tbody>\n",
       "    <tr>\n",
       "      <th>a</th>\n",
       "      <td>2.134582</td>\n",
       "      <td>0.0</td>\n",
       "      <td>NaN</td>\n",
       "    </tr>\n",
       "    <tr>\n",
       "      <th>b</th>\n",
       "      <td>-0.725702</td>\n",
       "      <td>0.0</td>\n",
       "      <td>1.599190</td>\n",
       "    </tr>\n",
       "    <tr>\n",
       "      <th>c</th>\n",
       "      <td>-0.875759</td>\n",
       "      <td>0.0</td>\n",
       "      <td>0.715986</td>\n",
       "    </tr>\n",
       "    <tr>\n",
       "      <th>d</th>\n",
       "      <td>NaN</td>\n",
       "      <td>0.0</td>\n",
       "      <td>-1.267976</td>\n",
       "    </tr>\n",
       "  </tbody>\n",
       "</table>\n",
       "</div>"
      ],
      "text/plain": [
       "        one  two     three\n",
       "a  2.134582  0.0       NaN\n",
       "b -0.725702  0.0  1.599190\n",
       "c -0.875759  0.0  0.715986\n",
       "d       NaN  0.0 -1.267976"
      ]
     },
     "execution_count": 19,
     "metadata": {},
     "output_type": "execute_result"
    }
   ],
   "source": [
    "df.sub(column, axis='index')"
   ]
  },
  {
   "cell_type": "code",
   "execution_count": 20,
   "id": "2554b536-10e2-42bf-bfa8-97e04e64754e",
   "metadata": {},
   "outputs": [
    {
     "data": {
      "text/html": [
       "<div>\n",
       "<style scoped>\n",
       "    .dataframe tbody tr th:only-of-type {\n",
       "        vertical-align: middle;\n",
       "    }\n",
       "\n",
       "    .dataframe tbody tr th {\n",
       "        vertical-align: top;\n",
       "    }\n",
       "\n",
       "    .dataframe thead th {\n",
       "        text-align: right;\n",
       "    }\n",
       "</style>\n",
       "<table border=\"1\" class=\"dataframe\">\n",
       "  <thead>\n",
       "    <tr style=\"text-align: right;\">\n",
       "      <th></th>\n",
       "      <th>one</th>\n",
       "      <th>two</th>\n",
       "      <th>three</th>\n",
       "    </tr>\n",
       "  </thead>\n",
       "  <tbody>\n",
       "    <tr>\n",
       "      <th>a</th>\n",
       "      <td>2.134582</td>\n",
       "      <td>0.0</td>\n",
       "      <td>NaN</td>\n",
       "    </tr>\n",
       "    <tr>\n",
       "      <th>b</th>\n",
       "      <td>-0.725702</td>\n",
       "      <td>0.0</td>\n",
       "      <td>1.599190</td>\n",
       "    </tr>\n",
       "    <tr>\n",
       "      <th>c</th>\n",
       "      <td>-0.875759</td>\n",
       "      <td>0.0</td>\n",
       "      <td>0.715986</td>\n",
       "    </tr>\n",
       "    <tr>\n",
       "      <th>d</th>\n",
       "      <td>NaN</td>\n",
       "      <td>0.0</td>\n",
       "      <td>-1.267976</td>\n",
       "    </tr>\n",
       "  </tbody>\n",
       "</table>\n",
       "</div>"
      ],
      "text/plain": [
       "        one  two     three\n",
       "a  2.134582  0.0       NaN\n",
       "b -0.725702  0.0  1.599190\n",
       "c -0.875759  0.0  0.715986\n",
       "d       NaN  0.0 -1.267976"
      ]
     },
     "execution_count": 20,
     "metadata": {},
     "output_type": "execute_result"
    }
   ],
   "source": [
    "df.sub(column, axis='rows')"
   ]
  },
  {
   "cell_type": "code",
   "execution_count": 21,
   "id": "7f9e2298-6b17-4572-ad3f-bea92a451d8b",
   "metadata": {},
   "outputs": [
    {
     "data": {
      "text/html": [
       "<div>\n",
       "<style scoped>\n",
       "    .dataframe tbody tr th:only-of-type {\n",
       "        vertical-align: middle;\n",
       "    }\n",
       "\n",
       "    .dataframe tbody tr th {\n",
       "        vertical-align: top;\n",
       "    }\n",
       "\n",
       "    .dataframe thead th {\n",
       "        text-align: right;\n",
       "    }\n",
       "</style>\n",
       "<table border=\"1\" class=\"dataframe\">\n",
       "  <thead>\n",
       "    <tr style=\"text-align: right;\">\n",
       "      <th></th>\n",
       "      <th>one</th>\n",
       "      <th>two</th>\n",
       "      <th>three</th>\n",
       "    </tr>\n",
       "  </thead>\n",
       "  <tbody>\n",
       "    <tr>\n",
       "      <th>a</th>\n",
       "      <td>2.134582</td>\n",
       "      <td>0.0</td>\n",
       "      <td>NaN</td>\n",
       "    </tr>\n",
       "    <tr>\n",
       "      <th>b</th>\n",
       "      <td>-0.725702</td>\n",
       "      <td>0.0</td>\n",
       "      <td>1.599190</td>\n",
       "    </tr>\n",
       "    <tr>\n",
       "      <th>c</th>\n",
       "      <td>-0.875759</td>\n",
       "      <td>0.0</td>\n",
       "      <td>0.715986</td>\n",
       "    </tr>\n",
       "    <tr>\n",
       "      <th>d</th>\n",
       "      <td>NaN</td>\n",
       "      <td>0.0</td>\n",
       "      <td>-1.267976</td>\n",
       "    </tr>\n",
       "  </tbody>\n",
       "</table>\n",
       "</div>"
      ],
      "text/plain": [
       "        one  two     three\n",
       "a  2.134582  0.0       NaN\n",
       "b -0.725702  0.0  1.599190\n",
       "c -0.875759  0.0  0.715986\n",
       "d       NaN  0.0 -1.267976"
      ]
     },
     "execution_count": 21,
     "metadata": {},
     "output_type": "execute_result"
    }
   ],
   "source": [
    "df.sub(column, axis=0)"
   ]
  },
  {
   "cell_type": "markdown",
   "id": "95c8ff90",
   "metadata": {},
   "source": [
    "<a class=\"anchor\" id=\"missing_data_/_operations_with_fill_values\"></a>\n",
    "### Missing data / operations with fill values"
   ]
  },
  {
   "cell_type": "markdown",
   "id": "45242ce6",
   "metadata": {},
   "source": [
    "In Series and DataFrame, the arithmetic functions have the option of inputting\n",
    "a *fill_value*, namely a value to substitute when at most one of the values at\n",
    "a location are missing. For example, when adding two DataFrame objects, you may\n",
    "wish to treat NaN as 0 unless both DataFrames are missing that value, in which\n",
    "case the result will be NaN (you can later replace NaN with some other value\n",
    "using `fillna` if you wish)."
   ]
  },
  {
   "cell_type": "code",
   "execution_count": 35,
   "id": "0961014c-dc01-43ea-ab57-4787802ce66e",
   "metadata": {},
   "outputs": [
    {
     "data": {
      "text/html": [
       "<div>\n",
       "<style scoped>\n",
       "    .dataframe tbody tr th:only-of-type {\n",
       "        vertical-align: middle;\n",
       "    }\n",
       "\n",
       "    .dataframe tbody tr th {\n",
       "        vertical-align: top;\n",
       "    }\n",
       "\n",
       "    .dataframe thead th {\n",
       "        text-align: right;\n",
       "    }\n",
       "</style>\n",
       "<table border=\"1\" class=\"dataframe\">\n",
       "  <thead>\n",
       "    <tr style=\"text-align: right;\">\n",
       "      <th></th>\n",
       "      <th>one</th>\n",
       "      <th>two</th>\n",
       "      <th>three</th>\n",
       "    </tr>\n",
       "  </thead>\n",
       "  <tbody>\n",
       "    <tr>\n",
       "      <th>a</th>\n",
       "      <td>-0.465912</td>\n",
       "      <td>0.977028</td>\n",
       "      <td>NaN</td>\n",
       "    </tr>\n",
       "    <tr>\n",
       "      <th>b</th>\n",
       "      <td>-0.701309</td>\n",
       "      <td>-0.762232</td>\n",
       "      <td>-1.470984</td>\n",
       "    </tr>\n",
       "    <tr>\n",
       "      <th>c</th>\n",
       "      <td>-0.773223</td>\n",
       "      <td>-0.836792</td>\n",
       "      <td>-2.005900</td>\n",
       "    </tr>\n",
       "    <tr>\n",
       "      <th>d</th>\n",
       "      <td>NaN</td>\n",
       "      <td>-0.462816</td>\n",
       "      <td>-1.221730</td>\n",
       "    </tr>\n",
       "  </tbody>\n",
       "</table>\n",
       "</div>"
      ],
      "text/plain": [
       "        one       two     three\n",
       "a -0.465912  0.977028       NaN\n",
       "b -0.701309 -0.762232 -1.470984\n",
       "c -0.773223 -0.836792 -2.005900\n",
       "d       NaN -0.462816 -1.221730"
      ]
     },
     "execution_count": 35,
     "metadata": {},
     "output_type": "execute_result"
    }
   ],
   "source": [
    "df"
   ]
  },
  {
   "cell_type": "code",
   "execution_count": 37,
   "id": "56442ac5-ef0b-42ae-a616-7c66809e8842",
   "metadata": {},
   "outputs": [],
   "source": [
    "df2 = df.copy()\n",
    "df2.loc['a', 'three'] = 1.0"
   ]
  },
  {
   "cell_type": "code",
   "execution_count": 39,
   "id": "4b152db1-4cca-4b55-850c-2b8ae39b172b",
   "metadata": {},
   "outputs": [
    {
     "data": {
      "text/html": [
       "<div>\n",
       "<style scoped>\n",
       "    .dataframe tbody tr th:only-of-type {\n",
       "        vertical-align: middle;\n",
       "    }\n",
       "\n",
       "    .dataframe tbody tr th {\n",
       "        vertical-align: top;\n",
       "    }\n",
       "\n",
       "    .dataframe thead th {\n",
       "        text-align: right;\n",
       "    }\n",
       "</style>\n",
       "<table border=\"1\" class=\"dataframe\">\n",
       "  <thead>\n",
       "    <tr style=\"text-align: right;\">\n",
       "      <th></th>\n",
       "      <th>one</th>\n",
       "      <th>two</th>\n",
       "      <th>three</th>\n",
       "    </tr>\n",
       "  </thead>\n",
       "  <tbody>\n",
       "    <tr>\n",
       "      <th>a</th>\n",
       "      <td>-0.465912</td>\n",
       "      <td>0.977028</td>\n",
       "      <td>1.000000</td>\n",
       "    </tr>\n",
       "    <tr>\n",
       "      <th>b</th>\n",
       "      <td>-0.701309</td>\n",
       "      <td>-0.762232</td>\n",
       "      <td>-1.470984</td>\n",
       "    </tr>\n",
       "    <tr>\n",
       "      <th>c</th>\n",
       "      <td>-0.773223</td>\n",
       "      <td>-0.836792</td>\n",
       "      <td>-2.005900</td>\n",
       "    </tr>\n",
       "    <tr>\n",
       "      <th>d</th>\n",
       "      <td>NaN</td>\n",
       "      <td>-0.462816</td>\n",
       "      <td>-1.221730</td>\n",
       "    </tr>\n",
       "  </tbody>\n",
       "</table>\n",
       "</div>"
      ],
      "text/plain": [
       "        one       two     three\n",
       "a -0.465912  0.977028  1.000000\n",
       "b -0.701309 -0.762232 -1.470984\n",
       "c -0.773223 -0.836792 -2.005900\n",
       "d       NaN -0.462816 -1.221730"
      ]
     },
     "execution_count": 39,
     "metadata": {},
     "output_type": "execute_result"
    }
   ],
   "source": [
    "df2"
   ]
  },
  {
   "cell_type": "code",
   "execution_count": 40,
   "id": "3c877c19-651a-43a0-bb91-4cdf86e65eeb",
   "metadata": {},
   "outputs": [
    {
     "data": {
      "text/html": [
       "<div>\n",
       "<style scoped>\n",
       "    .dataframe tbody tr th:only-of-type {\n",
       "        vertical-align: middle;\n",
       "    }\n",
       "\n",
       "    .dataframe tbody tr th {\n",
       "        vertical-align: top;\n",
       "    }\n",
       "\n",
       "    .dataframe thead th {\n",
       "        text-align: right;\n",
       "    }\n",
       "</style>\n",
       "<table border=\"1\" class=\"dataframe\">\n",
       "  <thead>\n",
       "    <tr style=\"text-align: right;\">\n",
       "      <th></th>\n",
       "      <th>one</th>\n",
       "      <th>two</th>\n",
       "      <th>three</th>\n",
       "    </tr>\n",
       "  </thead>\n",
       "  <tbody>\n",
       "    <tr>\n",
       "      <th>a</th>\n",
       "      <td>-0.931823</td>\n",
       "      <td>1.954055</td>\n",
       "      <td>NaN</td>\n",
       "    </tr>\n",
       "    <tr>\n",
       "      <th>b</th>\n",
       "      <td>-1.402618</td>\n",
       "      <td>-1.524464</td>\n",
       "      <td>-2.941967</td>\n",
       "    </tr>\n",
       "    <tr>\n",
       "      <th>c</th>\n",
       "      <td>-1.546445</td>\n",
       "      <td>-1.673583</td>\n",
       "      <td>-4.011801</td>\n",
       "    </tr>\n",
       "    <tr>\n",
       "      <th>d</th>\n",
       "      <td>NaN</td>\n",
       "      <td>-0.925631</td>\n",
       "      <td>-2.443460</td>\n",
       "    </tr>\n",
       "  </tbody>\n",
       "</table>\n",
       "</div>"
      ],
      "text/plain": [
       "        one       two     three\n",
       "a -0.931823  1.954055       NaN\n",
       "b -1.402618 -1.524464 -2.941967\n",
       "c -1.546445 -1.673583 -4.011801\n",
       "d       NaN -0.925631 -2.443460"
      ]
     },
     "execution_count": 40,
     "metadata": {},
     "output_type": "execute_result"
    }
   ],
   "source": [
    "df + df2"
   ]
  },
  {
   "cell_type": "code",
   "execution_count": 41,
   "id": "83819381-83b4-4fd5-9fb3-146f2826a0b3",
   "metadata": {},
   "outputs": [
    {
     "data": {
      "text/html": [
       "<div>\n",
       "<style scoped>\n",
       "    .dataframe tbody tr th:only-of-type {\n",
       "        vertical-align: middle;\n",
       "    }\n",
       "\n",
       "    .dataframe tbody tr th {\n",
       "        vertical-align: top;\n",
       "    }\n",
       "\n",
       "    .dataframe thead th {\n",
       "        text-align: right;\n",
       "    }\n",
       "</style>\n",
       "<table border=\"1\" class=\"dataframe\">\n",
       "  <thead>\n",
       "    <tr style=\"text-align: right;\">\n",
       "      <th></th>\n",
       "      <th>one</th>\n",
       "      <th>two</th>\n",
       "      <th>three</th>\n",
       "    </tr>\n",
       "  </thead>\n",
       "  <tbody>\n",
       "    <tr>\n",
       "      <th>a</th>\n",
       "      <td>-0.931823</td>\n",
       "      <td>1.954055</td>\n",
       "      <td>1.000000</td>\n",
       "    </tr>\n",
       "    <tr>\n",
       "      <th>b</th>\n",
       "      <td>-1.402618</td>\n",
       "      <td>-1.524464</td>\n",
       "      <td>-2.941967</td>\n",
       "    </tr>\n",
       "    <tr>\n",
       "      <th>c</th>\n",
       "      <td>-1.546445</td>\n",
       "      <td>-1.673583</td>\n",
       "      <td>-4.011801</td>\n",
       "    </tr>\n",
       "    <tr>\n",
       "      <th>d</th>\n",
       "      <td>NaN</td>\n",
       "      <td>-0.925631</td>\n",
       "      <td>-2.443460</td>\n",
       "    </tr>\n",
       "  </tbody>\n",
       "</table>\n",
       "</div>"
      ],
      "text/plain": [
       "        one       two     three\n",
       "a -0.931823  1.954055  1.000000\n",
       "b -1.402618 -1.524464 -2.941967\n",
       "c -1.546445 -1.673583 -4.011801\n",
       "d       NaN -0.925631 -2.443460"
      ]
     },
     "execution_count": 41,
     "metadata": {},
     "output_type": "execute_result"
    }
   ],
   "source": [
    "df.add(df2, fill_value=0)"
   ]
  },
  {
   "cell_type": "code",
   "execution_count": 42,
   "id": "6dfdfe09-1cc2-4d1d-8433-c9728c30b088",
   "metadata": {},
   "outputs": [
    {
     "data": {
      "text/html": [
       "<div>\n",
       "<style scoped>\n",
       "    .dataframe tbody tr th:only-of-type {\n",
       "        vertical-align: middle;\n",
       "    }\n",
       "\n",
       "    .dataframe tbody tr th {\n",
       "        vertical-align: top;\n",
       "    }\n",
       "\n",
       "    .dataframe thead th {\n",
       "        text-align: right;\n",
       "    }\n",
       "</style>\n",
       "<table border=\"1\" class=\"dataframe\">\n",
       "  <thead>\n",
       "    <tr style=\"text-align: right;\">\n",
       "      <th></th>\n",
       "      <th>one</th>\n",
       "      <th>two</th>\n",
       "      <th>three</th>\n",
       "    </tr>\n",
       "  </thead>\n",
       "  <tbody>\n",
       "    <tr>\n",
       "      <th>a</th>\n",
       "      <td>-0.931823</td>\n",
       "      <td>1.954055</td>\n",
       "      <td>1.000000</td>\n",
       "    </tr>\n",
       "    <tr>\n",
       "      <th>b</th>\n",
       "      <td>-1.402618</td>\n",
       "      <td>-1.524464</td>\n",
       "      <td>-2.941967</td>\n",
       "    </tr>\n",
       "    <tr>\n",
       "      <th>c</th>\n",
       "      <td>-1.546445</td>\n",
       "      <td>-1.673583</td>\n",
       "      <td>-4.011801</td>\n",
       "    </tr>\n",
       "    <tr>\n",
       "      <th>d</th>\n",
       "      <td>0.000000</td>\n",
       "      <td>-0.925631</td>\n",
       "      <td>-2.443460</td>\n",
       "    </tr>\n",
       "  </tbody>\n",
       "</table>\n",
       "</div>"
      ],
      "text/plain": [
       "        one       two     three\n",
       "a -0.931823  1.954055  1.000000\n",
       "b -1.402618 -1.524464 -2.941967\n",
       "c -1.546445 -1.673583 -4.011801\n",
       "d  0.000000 -0.925631 -2.443460"
      ]
     },
     "execution_count": 42,
     "metadata": {},
     "output_type": "execute_result"
    }
   ],
   "source": [
    "df.add(df2, fill_value=0).fillna(0)"
   ]
  },
  {
   "cell_type": "markdown",
   "id": "3535e4e0",
   "metadata": {},
   "source": [
    "<a class=\"anchor\" id=\"boolean_reductions\"></a>\n",
    "### Boolean reductions"
   ]
  },
  {
   "cell_type": "markdown",
   "id": "695d6ad8",
   "metadata": {},
   "source": [
    "You can apply the reductions: [`empty`](../reference/api/pandas.DataFrame.empty.html#pandas.DataFrame.empty \"pandas.DataFrame.empty\"), [`any()`](../reference/api/pandas.DataFrame.any.html#pandas.DataFrame.any \"pandas.DataFrame.any\"),\n",
    "[`all()`](../reference/api/pandas.DataFrame.all.html#pandas.DataFrame.all \"pandas.DataFrame.all\"), and [`bool()`](../reference/api/pandas.DataFrame.bool.html#pandas.DataFrame.bool \"pandas.DataFrame.bool\") to provide a\n",
    "way to summarize a boolean result."
   ]
  },
  {
   "cell_type": "code",
   "execution_count": 48,
   "id": "202a1d4a-b513-4bb0-9e11-e53703aadf63",
   "metadata": {},
   "outputs": [
    {
     "data": {
      "text/plain": [
       "one      False\n",
       "two      False\n",
       "three    False\n",
       "dtype: bool"
      ]
     },
     "execution_count": 48,
     "metadata": {},
     "output_type": "execute_result"
    }
   ],
   "source": [
    "(df > 0).all()"
   ]
  },
  {
   "cell_type": "code",
   "execution_count": 49,
   "id": "0250cada-fc21-4736-b4b1-e6be2c364079",
   "metadata": {},
   "outputs": [
    {
     "data": {
      "text/plain": [
       "a    False\n",
       "b    False\n",
       "c    False\n",
       "d    False\n",
       "dtype: bool"
      ]
     },
     "execution_count": 49,
     "metadata": {},
     "output_type": "execute_result"
    }
   ],
   "source": [
    "(df > 0).all(axis=1)"
   ]
  },
  {
   "cell_type": "code",
   "execution_count": null,
   "id": "7a520f24-389a-4d0c-bcd3-2a026ff4c492",
   "metadata": {},
   "outputs": [],
   "source": [
    "(df > 0).any()"
   ]
  },
  {
   "cell_type": "markdown",
   "id": "7129ada6",
   "metadata": {},
   "source": [
    "You can reduce to a final boolean value."
   ]
  },
  {
   "cell_type": "code",
   "execution_count": 50,
   "id": "2a83acf2",
   "metadata": {},
   "outputs": [
    {
     "data": {
      "text/plain": [
       "True"
      ]
     },
     "execution_count": 50,
     "metadata": {},
     "output_type": "execute_result"
    }
   ],
   "source": [
    "(df > 0).any().any()"
   ]
  },
  {
   "cell_type": "markdown",
   "id": "56c2fab1",
   "metadata": {},
   "source": [
    "You can test if a pandas object is empty, via the [`empty`](../reference/api/pandas.DataFrame.empty.html#pandas.DataFrame.empty \"pandas.DataFrame.empty\") property."
   ]
  },
  {
   "cell_type": "code",
   "execution_count": 51,
   "id": "5ed96ac3-d1b1-4cef-9321-70797ec40f01",
   "metadata": {},
   "outputs": [
    {
     "data": {
      "text/plain": [
       "False"
      ]
     },
     "execution_count": 51,
     "metadata": {},
     "output_type": "execute_result"
    }
   ],
   "source": [
    "df.empty"
   ]
  },
  {
   "cell_type": "code",
   "execution_count": 52,
   "id": "ae716cb4-4a03-43bc-a9b3-a0fcf95d019d",
   "metadata": {},
   "outputs": [
    {
     "data": {
      "text/plain": [
       "True"
      ]
     },
     "execution_count": 52,
     "metadata": {},
     "output_type": "execute_result"
    }
   ],
   "source": [
    "pd.DataFrame(columns=list(\"ABC\")).empty"
   ]
  },
  {
   "cell_type": "code",
   "execution_count": 53,
   "id": "0a36e0ad-342f-47fe-b2e7-44aa892bb080",
   "metadata": {},
   "outputs": [
    {
     "data": {
      "text/plain": [
       "True"
      ]
     },
     "execution_count": 53,
     "metadata": {},
     "output_type": "execute_result"
    }
   ],
   "source": [
    "pd.DataFrame().empty"
   ]
  },
  {
   "cell_type": "markdown",
   "id": "bd542628-9d54-4469-8696-f36a57a4ad7c",
   "metadata": {},
   "source": [
    "Warning\n",
    "\n",
    "You might be tempted to do the following:\n",
    "```python\n",
    "if df:\n",
    "    pass\n",
    "```\n",
    "\n",
    "Or\n",
    "\n",
    "```python\n",
    "df and df2\n",
    "```\n",
    "\n",
    "These will both raise errors, as you are trying to compare multiple values.:\n",
    "\n",
    "See [here](https://pandas.pydata.org/docs/user_guide/gotchas.html#gotchas-truth) for a more detailed discussion."
   ]
  },
  {
   "cell_type": "markdown",
   "id": "21c77f87",
   "metadata": {},
   "source": [
    "<a class=\"anchor\" id=\"comparing_if_objects_are_equivalent\"></a>\n",
    "### Comparing if objects are equivalent"
   ]
  },
  {
   "cell_type": "markdown",
   "id": "d8c7894b",
   "metadata": {},
   "source": [
    "Often you may find that there is more than one way to compute the same\n",
    "result. As a simple example, consider `df + df` and `df * 2`. To test\n",
    "that these two computations produce the same result, given the tools\n",
    "shown above, you might imagine using `(df + df == df * 2).all()`. But in\n",
    "fact, this expression is False:"
   ]
  },
  {
   "cell_type": "code",
   "execution_count": 58,
   "id": "12846b8a-6f61-420f-8c0d-fd5420a0382d",
   "metadata": {},
   "outputs": [
    {
     "data": {
      "text/html": [
       "<div>\n",
       "<style scoped>\n",
       "    .dataframe tbody tr th:only-of-type {\n",
       "        vertical-align: middle;\n",
       "    }\n",
       "\n",
       "    .dataframe tbody tr th {\n",
       "        vertical-align: top;\n",
       "    }\n",
       "\n",
       "    .dataframe thead th {\n",
       "        text-align: right;\n",
       "    }\n",
       "</style>\n",
       "<table border=\"1\" class=\"dataframe\">\n",
       "  <thead>\n",
       "    <tr style=\"text-align: right;\">\n",
       "      <th></th>\n",
       "      <th>one</th>\n",
       "      <th>two</th>\n",
       "      <th>three</th>\n",
       "    </tr>\n",
       "  </thead>\n",
       "  <tbody>\n",
       "    <tr>\n",
       "      <th>a</th>\n",
       "      <td>True</td>\n",
       "      <td>True</td>\n",
       "      <td>False</td>\n",
       "    </tr>\n",
       "    <tr>\n",
       "      <th>b</th>\n",
       "      <td>True</td>\n",
       "      <td>True</td>\n",
       "      <td>True</td>\n",
       "    </tr>\n",
       "    <tr>\n",
       "      <th>c</th>\n",
       "      <td>True</td>\n",
       "      <td>True</td>\n",
       "      <td>True</td>\n",
       "    </tr>\n",
       "    <tr>\n",
       "      <th>d</th>\n",
       "      <td>False</td>\n",
       "      <td>True</td>\n",
       "      <td>True</td>\n",
       "    </tr>\n",
       "  </tbody>\n",
       "</table>\n",
       "</div>"
      ],
      "text/plain": [
       "     one   two  three\n",
       "a   True  True  False\n",
       "b   True  True   True\n",
       "c   True  True   True\n",
       "d  False  True   True"
      ]
     },
     "execution_count": 58,
     "metadata": {},
     "output_type": "execute_result"
    }
   ],
   "source": [
    "df + df == df * 2"
   ]
  },
  {
   "cell_type": "code",
   "execution_count": 59,
   "id": "8ce4230e-90a6-42e2-a22b-c0fecd3e078d",
   "metadata": {},
   "outputs": [
    {
     "data": {
      "text/plain": [
       "one      False\n",
       "two       True\n",
       "three    False\n",
       "dtype: bool"
      ]
     },
     "execution_count": 59,
     "metadata": {},
     "output_type": "execute_result"
    }
   ],
   "source": [
    "(df + df == df * 2).all()"
   ]
  },
  {
   "cell_type": "markdown",
   "id": "08d3aed5",
   "metadata": {},
   "source": [
    "Notice that the boolean DataFrame `df + df == df * 2` contains some False values!\n",
    "This is because NaNs do not compare as equals:"
   ]
  },
  {
   "cell_type": "code",
   "execution_count": 60,
   "id": "027b6ce7",
   "metadata": {},
   "outputs": [
    {
     "data": {
      "text/plain": [
       "False"
      ]
     },
     "execution_count": 60,
     "metadata": {},
     "output_type": "execute_result"
    }
   ],
   "source": [
    "np.nan == np.nan"
   ]
  },
  {
   "cell_type": "markdown",
   "id": "2733e82b",
   "metadata": {},
   "source": [
    "So, NDFrames (such as Series and DataFrames)\n",
    "have an [`equals()`](../reference/api/pandas.DataFrame.equals.html#pandas.DataFrame.equals \"pandas.DataFrame.equals\") method for testing equality, with NaNs in\n",
    "corresponding locations treated as equal."
   ]
  },
  {
   "cell_type": "code",
   "execution_count": 61,
   "id": "af435e91",
   "metadata": {},
   "outputs": [
    {
     "data": {
      "text/plain": [
       "True"
      ]
     },
     "execution_count": 61,
     "metadata": {},
     "output_type": "execute_result"
    }
   ],
   "source": [
    "(df + df).equals(df * 2)"
   ]
  },
  {
   "cell_type": "markdown",
   "id": "5288c4b6",
   "metadata": {},
   "source": [
    "Note that the Series or DataFrame index needs to be in the same order for\n",
    "equality to be True:"
   ]
  },
  {
   "cell_type": "code",
   "execution_count": 62,
   "id": "353d4695-72e2-49e5-ab63-bd3ca98ad888",
   "metadata": {},
   "outputs": [],
   "source": [
    "df1 = pd.DataFrame({\"col\": [\"foo\", 0, np.nan]})"
   ]
  },
  {
   "cell_type": "code",
   "execution_count": 63,
   "id": "da019706-43e9-4c53-be46-6fa22f66de80",
   "metadata": {},
   "outputs": [],
   "source": [
    "df2 = pd.DataFrame({\"col\": [np.nan, 0, \"foo\"]}, index=[2, 1, 0])"
   ]
  },
  {
   "cell_type": "code",
   "execution_count": 67,
   "id": "b9452901-dc04-4f68-83e3-1a9461a9ff5a",
   "metadata": {},
   "outputs": [
    {
     "data": {
      "text/html": [
       "<div>\n",
       "<style scoped>\n",
       "    .dataframe tbody tr th:only-of-type {\n",
       "        vertical-align: middle;\n",
       "    }\n",
       "\n",
       "    .dataframe tbody tr th {\n",
       "        vertical-align: top;\n",
       "    }\n",
       "\n",
       "    .dataframe thead th {\n",
       "        text-align: right;\n",
       "    }\n",
       "</style>\n",
       "<table border=\"1\" class=\"dataframe\">\n",
       "  <thead>\n",
       "    <tr style=\"text-align: right;\">\n",
       "      <th></th>\n",
       "      <th>col</th>\n",
       "    </tr>\n",
       "  </thead>\n",
       "  <tbody>\n",
       "    <tr>\n",
       "      <th>0</th>\n",
       "      <td>foo</td>\n",
       "    </tr>\n",
       "    <tr>\n",
       "      <th>1</th>\n",
       "      <td>0</td>\n",
       "    </tr>\n",
       "    <tr>\n",
       "      <th>2</th>\n",
       "      <td>NaN</td>\n",
       "    </tr>\n",
       "  </tbody>\n",
       "</table>\n",
       "</div>"
      ],
      "text/plain": [
       "   col\n",
       "0  foo\n",
       "1    0\n",
       "2  NaN"
      ]
     },
     "execution_count": 67,
     "metadata": {},
     "output_type": "execute_result"
    }
   ],
   "source": [
    "df1"
   ]
  },
  {
   "cell_type": "code",
   "execution_count": 68,
   "id": "c559440b-ab6d-4d70-85f2-10419b384d35",
   "metadata": {},
   "outputs": [
    {
     "data": {
      "text/html": [
       "<div>\n",
       "<style scoped>\n",
       "    .dataframe tbody tr th:only-of-type {\n",
       "        vertical-align: middle;\n",
       "    }\n",
       "\n",
       "    .dataframe tbody tr th {\n",
       "        vertical-align: top;\n",
       "    }\n",
       "\n",
       "    .dataframe thead th {\n",
       "        text-align: right;\n",
       "    }\n",
       "</style>\n",
       "<table border=\"1\" class=\"dataframe\">\n",
       "  <thead>\n",
       "    <tr style=\"text-align: right;\">\n",
       "      <th></th>\n",
       "      <th>col</th>\n",
       "    </tr>\n",
       "  </thead>\n",
       "  <tbody>\n",
       "    <tr>\n",
       "      <th>2</th>\n",
       "      <td>NaN</td>\n",
       "    </tr>\n",
       "    <tr>\n",
       "      <th>1</th>\n",
       "      <td>0</td>\n",
       "    </tr>\n",
       "    <tr>\n",
       "      <th>0</th>\n",
       "      <td>foo</td>\n",
       "    </tr>\n",
       "  </tbody>\n",
       "</table>\n",
       "</div>"
      ],
      "text/plain": [
       "   col\n",
       "2  NaN\n",
       "1    0\n",
       "0  foo"
      ]
     },
     "execution_count": 68,
     "metadata": {},
     "output_type": "execute_result"
    }
   ],
   "source": [
    "df2"
   ]
  },
  {
   "cell_type": "code",
   "execution_count": 64,
   "id": "1f30c49a-48a7-4b8f-9c73-e57af92409d4",
   "metadata": {},
   "outputs": [
    {
     "data": {
      "text/plain": [
       "False"
      ]
     },
     "execution_count": 64,
     "metadata": {},
     "output_type": "execute_result"
    }
   ],
   "source": [
    "df1.equals(df2)"
   ]
  },
  {
   "cell_type": "code",
   "execution_count": 65,
   "id": "3143ec9a-e7bb-416a-a295-4d84fcfb02ab",
   "metadata": {},
   "outputs": [
    {
     "data": {
      "text/plain": [
       "True"
      ]
     },
     "execution_count": 65,
     "metadata": {},
     "output_type": "execute_result"
    }
   ],
   "source": [
    "df1.equals(df2.sort_index())"
   ]
  },
  {
   "cell_type": "markdown",
   "id": "e4e0b50f",
   "metadata": {},
   "source": [
    "<a class=\"anchor\" id=\"comparing_array-like_objects\"></a>\n",
    "### Comparing array-like objects"
   ]
  },
  {
   "cell_type": "markdown",
   "id": "b3e1c9a8",
   "metadata": {},
   "source": [
    "You can conveniently perform element-wise comparisons when comparing a pandas\n",
    "data structure with a scalar value:"
   ]
  },
  {
   "cell_type": "code",
   "execution_count": 72,
   "id": "7831e358-7bb3-45d1-8b62-864959608de1",
   "metadata": {},
   "outputs": [
    {
     "data": {
      "text/plain": [
       "0     True\n",
       "1    False\n",
       "2    False\n",
       "dtype: bool"
      ]
     },
     "execution_count": 72,
     "metadata": {},
     "output_type": "execute_result"
    }
   ],
   "source": [
    "pd.Series([\"foo\", \"bar\", \"baz\"]) == \"foo\""
   ]
  },
  {
   "cell_type": "code",
   "execution_count": 73,
   "id": "beebea49-e59c-477c-b1e9-b73d79150eaa",
   "metadata": {},
   "outputs": [
    {
     "data": {
      "text/plain": [
       "array([ True, False, False])"
      ]
     },
     "execution_count": 73,
     "metadata": {},
     "output_type": "execute_result"
    }
   ],
   "source": [
    "pd.Index([\"foo\", \"bar\", \"baz\"]) == \"foo\""
   ]
  },
  {
   "cell_type": "markdown",
   "id": "3b878df3",
   "metadata": {},
   "source": [
    "pandas also handles element-wise comparisons between different array-like\n",
    "objects of the same length:"
   ]
  },
  {
   "cell_type": "code",
   "execution_count": 74,
   "id": "4a16b806-5113-43f6-a3b2-918fc1a60148",
   "metadata": {},
   "outputs": [
    {
     "data": {
      "text/plain": [
       "0     True\n",
       "1     True\n",
       "2    False\n",
       "dtype: bool"
      ]
     },
     "execution_count": 74,
     "metadata": {},
     "output_type": "execute_result"
    }
   ],
   "source": [
    "pd.Series([\"foo\", \"bar\", \"baz\"]) == pd.Index([\"foo\", \"bar\", \"qux\"])"
   ]
  },
  {
   "cell_type": "code",
   "execution_count": 75,
   "id": "07de6d19-33c1-4af1-9295-d1fc45d9b6bd",
   "metadata": {},
   "outputs": [
    {
     "data": {
      "text/plain": [
       "0     True\n",
       "1     True\n",
       "2    False\n",
       "dtype: bool"
      ]
     },
     "execution_count": 75,
     "metadata": {},
     "output_type": "execute_result"
    }
   ],
   "source": [
    "pd.Series([\"foo\", \"bar\", \"baz\"]) == np.array([\"foo\", \"bar\", \"qux\"])"
   ]
  },
  {
   "cell_type": "markdown",
   "id": "222a5d13",
   "metadata": {},
   "source": [
    "Trying to compare `Index` or `Series` objects of different lengths will\n",
    "raise a ValueError:"
   ]
  },
  {
   "cell_type": "code",
   "execution_count": 78,
   "id": "14804dc1-83dd-47ce-9076-df4b52b39215",
   "metadata": {},
   "outputs": [
    {
     "name": "stdout",
     "output_type": "stream",
     "text": [
      "ValueError: Can only compare identically-labeled Series objects\n"
     ]
    }
   ],
   "source": [
    "try:\n",
    "    pd.Series(['foo', 'bar', 'baz']) == pd.Series(['foo', 'bar'])\n",
    "except ValueError as e:\n",
    "    print(f'ValueError: {e}')"
   ]
  },
  {
   "cell_type": "code",
   "execution_count": 79,
   "id": "eecbfa2a-a405-4eaf-94d3-2bcdb01fda94",
   "metadata": {},
   "outputs": [
    {
     "name": "stdout",
     "output_type": "stream",
     "text": [
      "ValueError: Can only compare identically-labeled Series objects\n"
     ]
    }
   ],
   "source": [
    "try:\n",
    "    pd.Series(['foo', 'bar', 'baz']) == pd.Series(['foo'])\n",
    "except ValueError as e:\n",
    "    print(f'ValueError: {e}')"
   ]
  },
  {
   "cell_type": "markdown",
   "id": "e29eacb6",
   "metadata": {},
   "source": [
    "Note that this is different from the NumPy behavior where a comparison can\n",
    "be broadcast:"
   ]
  },
  {
   "cell_type": "code",
   "execution_count": 80,
   "id": "dd9624f1",
   "metadata": {},
   "outputs": [
    {
     "data": {
      "text/plain": [
       "array([False,  True, False])"
      ]
     },
     "execution_count": 80,
     "metadata": {},
     "output_type": "execute_result"
    }
   ],
   "source": [
    "np.array([1, 2, 3]) == np.array([2])"
   ]
  },
  {
   "cell_type": "markdown",
   "id": "ec649610",
   "metadata": {},
   "source": [
    "or it can return False if broadcasting can not be done:"
   ]
  },
  {
   "cell_type": "code",
   "execution_count": 81,
   "id": "0ca7ee21",
   "metadata": {},
   "outputs": [
    {
     "name": "stderr",
     "output_type": "stream",
     "text": [
      "<ipython-input-81-7a76bc07877c>:1: DeprecationWarning: elementwise comparison failed; this will raise an error in the future.\n",
      "  np.array([1, 2, 3]) == np.array([1, 2])\n"
     ]
    },
    {
     "data": {
      "text/plain": [
       "False"
      ]
     },
     "execution_count": 81,
     "metadata": {},
     "output_type": "execute_result"
    }
   ],
   "source": [
    "np.array([1, 2, 3]) == np.array([1, 2])"
   ]
  },
  {
   "cell_type": "markdown",
   "id": "0113ee76",
   "metadata": {},
   "source": [
    "<a class=\"anchor\" id=\"combining_overlapping_data_sets\"></a>\n",
    "### Combining overlapping data sets"
   ]
  },
  {
   "cell_type": "markdown",
   "id": "82389981",
   "metadata": {},
   "source": [
    "A problem occasionally arising is the combination of two similar data sets\n",
    "where values in one are preferred over the other. An example would be two data\n",
    "series representing a particular economic indicator where one is considered to\n",
    "be of “higher quality”. However, the lower quality series might extend further\n",
    "back in history or have more complete data coverage. As such, we would like to\n",
    "combine two DataFrame objects where missing values in one DataFrame are\n",
    "conditionally filled with like-labeled values from the other DataFrame. The\n",
    "function implementing this operation is [`combine_first()`](../reference/api/pandas.DataFrame.combine_first.html#pandas.DataFrame.combine_first \"pandas.DataFrame.combine_first\"),\n",
    "which we illustrate:"
   ]
  },
  {
   "cell_type": "code",
   "execution_count": 82,
   "id": "1def3c5d-485d-4ea0-a4af-e5ca76b7e65d",
   "metadata": {},
   "outputs": [],
   "source": [
    "df1 = pd.DataFrame(\n",
    "    {\"A\": [1.0, np.nan, 3.0, 5.0, np.nan], \"B\": [np.nan, 2.0, 3.0, np.nan, 6.0]}\n",
    ")"
   ]
  },
  {
   "cell_type": "code",
   "execution_count": 83,
   "id": "a9f97b8e-c64d-48ec-ba0e-4c7d06ae9d81",
   "metadata": {},
   "outputs": [],
   "source": [
    "df2 = pd.DataFrame(\n",
    "    {\n",
    "        \"A\": [5.0, 2.0, 4.0, np.nan, 3.0, 7.0],\n",
    "        \"B\": [np.nan, np.nan, 3.0, 4.0, 6.0, 8.0],\n",
    "    }\n",
    ")"
   ]
  },
  {
   "cell_type": "code",
   "execution_count": 87,
   "id": "7fcb7cee-e38e-40d7-8920-010cbba56c24",
   "metadata": {},
   "outputs": [
    {
     "data": {
      "text/html": [
       "<div>\n",
       "<style scoped>\n",
       "    .dataframe tbody tr th:only-of-type {\n",
       "        vertical-align: middle;\n",
       "    }\n",
       "\n",
       "    .dataframe tbody tr th {\n",
       "        vertical-align: top;\n",
       "    }\n",
       "\n",
       "    .dataframe thead th {\n",
       "        text-align: right;\n",
       "    }\n",
       "</style>\n",
       "<table border=\"1\" class=\"dataframe\">\n",
       "  <thead>\n",
       "    <tr style=\"text-align: right;\">\n",
       "      <th></th>\n",
       "      <th>A</th>\n",
       "      <th>B</th>\n",
       "    </tr>\n",
       "  </thead>\n",
       "  <tbody>\n",
       "    <tr>\n",
       "      <th>0</th>\n",
       "      <td>1.0</td>\n",
       "      <td>NaN</td>\n",
       "    </tr>\n",
       "    <tr>\n",
       "      <th>1</th>\n",
       "      <td>NaN</td>\n",
       "      <td>2.0</td>\n",
       "    </tr>\n",
       "    <tr>\n",
       "      <th>2</th>\n",
       "      <td>3.0</td>\n",
       "      <td>3.0</td>\n",
       "    </tr>\n",
       "    <tr>\n",
       "      <th>3</th>\n",
       "      <td>5.0</td>\n",
       "      <td>NaN</td>\n",
       "    </tr>\n",
       "    <tr>\n",
       "      <th>4</th>\n",
       "      <td>NaN</td>\n",
       "      <td>6.0</td>\n",
       "    </tr>\n",
       "  </tbody>\n",
       "</table>\n",
       "</div>"
      ],
      "text/plain": [
       "     A    B\n",
       "0  1.0  NaN\n",
       "1  NaN  2.0\n",
       "2  3.0  3.0\n",
       "3  5.0  NaN\n",
       "4  NaN  6.0"
      ]
     },
     "execution_count": 87,
     "metadata": {},
     "output_type": "execute_result"
    }
   ],
   "source": [
    "df1"
   ]
  },
  {
   "cell_type": "code",
   "execution_count": 88,
   "id": "e7ca6257-29db-4815-94ee-c8ce7dd8a0ee",
   "metadata": {},
   "outputs": [
    {
     "data": {
      "text/html": [
       "<div>\n",
       "<style scoped>\n",
       "    .dataframe tbody tr th:only-of-type {\n",
       "        vertical-align: middle;\n",
       "    }\n",
       "\n",
       "    .dataframe tbody tr th {\n",
       "        vertical-align: top;\n",
       "    }\n",
       "\n",
       "    .dataframe thead th {\n",
       "        text-align: right;\n",
       "    }\n",
       "</style>\n",
       "<table border=\"1\" class=\"dataframe\">\n",
       "  <thead>\n",
       "    <tr style=\"text-align: right;\">\n",
       "      <th></th>\n",
       "      <th>A</th>\n",
       "      <th>B</th>\n",
       "    </tr>\n",
       "  </thead>\n",
       "  <tbody>\n",
       "    <tr>\n",
       "      <th>0</th>\n",
       "      <td>5.0</td>\n",
       "      <td>NaN</td>\n",
       "    </tr>\n",
       "    <tr>\n",
       "      <th>1</th>\n",
       "      <td>2.0</td>\n",
       "      <td>NaN</td>\n",
       "    </tr>\n",
       "    <tr>\n",
       "      <th>2</th>\n",
       "      <td>4.0</td>\n",
       "      <td>3.0</td>\n",
       "    </tr>\n",
       "    <tr>\n",
       "      <th>3</th>\n",
       "      <td>NaN</td>\n",
       "      <td>4.0</td>\n",
       "    </tr>\n",
       "    <tr>\n",
       "      <th>4</th>\n",
       "      <td>3.0</td>\n",
       "      <td>6.0</td>\n",
       "    </tr>\n",
       "    <tr>\n",
       "      <th>5</th>\n",
       "      <td>7.0</td>\n",
       "      <td>8.0</td>\n",
       "    </tr>\n",
       "  </tbody>\n",
       "</table>\n",
       "</div>"
      ],
      "text/plain": [
       "     A    B\n",
       "0  5.0  NaN\n",
       "1  2.0  NaN\n",
       "2  4.0  3.0\n",
       "3  NaN  4.0\n",
       "4  3.0  6.0\n",
       "5  7.0  8.0"
      ]
     },
     "execution_count": 88,
     "metadata": {},
     "output_type": "execute_result"
    }
   ],
   "source": [
    "df2"
   ]
  },
  {
   "cell_type": "code",
   "execution_count": 89,
   "id": "30b87471-bd89-4e3e-9679-00e1a4917562",
   "metadata": {},
   "outputs": [
    {
     "data": {
      "text/html": [
       "<div>\n",
       "<style scoped>\n",
       "    .dataframe tbody tr th:only-of-type {\n",
       "        vertical-align: middle;\n",
       "    }\n",
       "\n",
       "    .dataframe tbody tr th {\n",
       "        vertical-align: top;\n",
       "    }\n",
       "\n",
       "    .dataframe thead th {\n",
       "        text-align: right;\n",
       "    }\n",
       "</style>\n",
       "<table border=\"1\" class=\"dataframe\">\n",
       "  <thead>\n",
       "    <tr style=\"text-align: right;\">\n",
       "      <th></th>\n",
       "      <th>A</th>\n",
       "      <th>B</th>\n",
       "    </tr>\n",
       "  </thead>\n",
       "  <tbody>\n",
       "    <tr>\n",
       "      <th>0</th>\n",
       "      <td>1.0</td>\n",
       "      <td>NaN</td>\n",
       "    </tr>\n",
       "    <tr>\n",
       "      <th>1</th>\n",
       "      <td>2.0</td>\n",
       "      <td>2.0</td>\n",
       "    </tr>\n",
       "    <tr>\n",
       "      <th>2</th>\n",
       "      <td>3.0</td>\n",
       "      <td>3.0</td>\n",
       "    </tr>\n",
       "    <tr>\n",
       "      <th>3</th>\n",
       "      <td>5.0</td>\n",
       "      <td>4.0</td>\n",
       "    </tr>\n",
       "    <tr>\n",
       "      <th>4</th>\n",
       "      <td>3.0</td>\n",
       "      <td>6.0</td>\n",
       "    </tr>\n",
       "    <tr>\n",
       "      <th>5</th>\n",
       "      <td>7.0</td>\n",
       "      <td>8.0</td>\n",
       "    </tr>\n",
       "  </tbody>\n",
       "</table>\n",
       "</div>"
      ],
      "text/plain": [
       "     A    B\n",
       "0  1.0  NaN\n",
       "1  2.0  2.0\n",
       "2  3.0  3.0\n",
       "3  5.0  4.0\n",
       "4  3.0  6.0\n",
       "5  7.0  8.0"
      ]
     },
     "execution_count": 89,
     "metadata": {},
     "output_type": "execute_result"
    }
   ],
   "source": [
    "df1.combine_first(df2)"
   ]
  },
  {
   "cell_type": "markdown",
   "id": "38dcc2e3",
   "metadata": {},
   "source": [
    "<a class=\"anchor\" id=\"general_dataframe_combine\"></a>\n",
    "### General DataFrame combine"
   ]
  },
  {
   "cell_type": "markdown",
   "id": "074e27af",
   "metadata": {},
   "source": [
    "The [`combine_first()`](../reference/api/pandas.DataFrame.combine_first.html#pandas.DataFrame.combine_first \"pandas.DataFrame.combine_first\") method above calls the more general\n",
    "[`DataFrame.combine()`](../reference/api/pandas.DataFrame.combine.html#pandas.DataFrame.combine \"pandas.DataFrame.combine\"). This method takes another DataFrame\n",
    "and a combiner function, aligns the input DataFrame and then passes the combiner\n",
    "function pairs of Series (i.e., columns whose names are the same)."
   ]
  },
  {
   "cell_type": "markdown",
   "id": "490b24c4",
   "metadata": {},
   "source": [
    "So, for instance, to reproduce [`combine_first()`](../reference/api/pandas.DataFrame.combine_first.html#pandas.DataFrame.combine_first \"pandas.DataFrame.combine_first\") as above:"
   ]
  },
  {
   "cell_type": "code",
   "execution_count": 97,
   "id": "b474f563-f694-477b-a807-7b09fea867a4",
   "metadata": {},
   "outputs": [],
   "source": [
    "def combiner(x, y):\n",
    "    return np.where(pd.isna(x), y, x)"
   ]
  },
  {
   "cell_type": "code",
   "execution_count": 98,
   "id": "eea974a5-547d-4399-8bd7-b04361e81607",
   "metadata": {},
   "outputs": [
    {
     "data": {
      "text/html": [
       "<div>\n",
       "<style scoped>\n",
       "    .dataframe tbody tr th:only-of-type {\n",
       "        vertical-align: middle;\n",
       "    }\n",
       "\n",
       "    .dataframe tbody tr th {\n",
       "        vertical-align: top;\n",
       "    }\n",
       "\n",
       "    .dataframe thead th {\n",
       "        text-align: right;\n",
       "    }\n",
       "</style>\n",
       "<table border=\"1\" class=\"dataframe\">\n",
       "  <thead>\n",
       "    <tr style=\"text-align: right;\">\n",
       "      <th></th>\n",
       "      <th>A</th>\n",
       "      <th>B</th>\n",
       "    </tr>\n",
       "  </thead>\n",
       "  <tbody>\n",
       "    <tr>\n",
       "      <th>0</th>\n",
       "      <td>1.0</td>\n",
       "      <td>NaN</td>\n",
       "    </tr>\n",
       "    <tr>\n",
       "      <th>1</th>\n",
       "      <td>2.0</td>\n",
       "      <td>2.0</td>\n",
       "    </tr>\n",
       "    <tr>\n",
       "      <th>2</th>\n",
       "      <td>3.0</td>\n",
       "      <td>3.0</td>\n",
       "    </tr>\n",
       "    <tr>\n",
       "      <th>3</th>\n",
       "      <td>5.0</td>\n",
       "      <td>4.0</td>\n",
       "    </tr>\n",
       "    <tr>\n",
       "      <th>4</th>\n",
       "      <td>3.0</td>\n",
       "      <td>6.0</td>\n",
       "    </tr>\n",
       "    <tr>\n",
       "      <th>5</th>\n",
       "      <td>7.0</td>\n",
       "      <td>8.0</td>\n",
       "    </tr>\n",
       "  </tbody>\n",
       "</table>\n",
       "</div>"
      ],
      "text/plain": [
       "     A    B\n",
       "0  1.0  NaN\n",
       "1  2.0  2.0\n",
       "2  3.0  3.0\n",
       "3  5.0  4.0\n",
       "4  3.0  6.0\n",
       "5  7.0  8.0"
      ]
     },
     "execution_count": 98,
     "metadata": {},
     "output_type": "execute_result"
    }
   ],
   "source": [
    "df1.combine(df2, combiner)"
   ]
  }
 ],
 "metadata": {
  "kernelspec": {
   "display_name": "Python 3",
   "language": "python",
   "name": "python3"
  },
  "language_info": {
   "codemirror_mode": {
    "name": "ipython",
    "version": 3
   },
   "file_extension": ".py",
   "mimetype": "text/x-python",
   "name": "python",
   "nbconvert_exporter": "python",
   "pygments_lexer": "ipython3",
   "version": "3.8.11"
  }
 },
 "nbformat": 4,
 "nbformat_minor": 5
}
