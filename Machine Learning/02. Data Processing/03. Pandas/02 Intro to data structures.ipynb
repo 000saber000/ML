{
 "cells": [
  {
   "cell_type": "markdown",
   "id": "a254b062",
   "metadata": {},
   "source": [
    "<img src=\"../../../images/banners/pandas-cropped.jpeg\" width=\"600\"/>"
   ]
  },
  {
   "cell_type": "markdown",
   "id": "8add8acd",
   "metadata": {},
   "source": [
    "<a class=\"anchor\" id=\"intro_to_data_structures\"></a>\n",
    "# <img src=\"../../../images/logos/pandas.png\" width=\"23\"/> Intro to data structures"
   ]
  },
  {
   "cell_type": "markdown",
   "id": "00abf342",
   "metadata": {},
   "source": [
    "## <img src=\"../../../images/logos/toc.png\" width=\"20\"/> Table of Contents \n",
    "\n",
    "---"
   ]
  },
  {
   "cell_type": "markdown",
   "id": "fa3fb96d",
   "metadata": {},
   "source": [
    "We’ll start with a quick, non-comprehensive overview of the fundamental data\n",
    "structures in pandas to get you started. The fundamental behavior about data\n",
    "types, indexing, and axis labeling / alignment apply across all of the\n",
    "objects. To get started, import NumPy and load pandas into your namespace:"
   ]
  },
  {
   "cell_type": "code",
   "execution_count": 1,
   "id": "546dfd56",
   "metadata": {},
   "outputs": [],
   "source": [
    "import numpy as np\n",
    "import pandas as pd"
   ]
  },
  {
   "cell_type": "markdown",
   "id": "227a8e7b",
   "metadata": {},
   "source": [
    "We’ll give a brief intro to the data structures, then consider all of the broad\n",
    "categories of functionality and methods in separate sections."
   ]
  },
  {
   "cell_type": "markdown",
   "id": "e505e351-1b42-4f01-8d14-8c4568ec9555",
   "metadata": {},
   "source": [
    "There are three main data structures in pandas:\n",
    "\n",
    "- Series—1D\n",
    "- DataFrame—2D\n",
    "- Panel—3D\n",
    "\n",
    "In Pandas, if you want to contain any sort of data that is three dimensional, a panel becomes a potent contender. It is used less frequently than series or dataframes and we will not cover it in these tutorials."
   ]
  }
 ],
 "metadata": {
  "kernelspec": {
   "display_name": "Python 3",
   "language": "python",
   "name": "python3"
  },
  "language_info": {
   "codemirror_mode": {
    "name": "ipython",
    "version": 3
   },
   "file_extension": ".py",
   "mimetype": "text/x-python",
   "name": "python",
   "nbconvert_exporter": "python",
   "pygments_lexer": "ipython3",
   "version": "3.8.11"
  }
 },
 "nbformat": 4,
 "nbformat_minor": 5
}
