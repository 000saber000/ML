{
 "cells": [
  {
   "cell_type": "markdown",
   "id": "1ef78166-3c84-498d-91ea-b52ac60835bf",
   "metadata": {},
   "source": [
    "<img src=\"../../../images/banners/pandas-cropped.jpeg\" width=\"600\"/>"
   ]
  },
  {
   "cell_type": "markdown",
   "id": "b0602859-60fa-41d4-a83b-046290cc3481",
   "metadata": {},
   "source": [
    "<a class=\"anchor\" id=\"intro_to_data_structures\"></a>\n",
    "# <img src=\"../../../images/logos/pandas.png\" width=\"23\"/> DataFrame Mini Project: Twitter Data"
   ]
  },
  {
   "cell_type": "markdown",
   "id": "75c006ec-7c0c-4d32-852b-a191b64883db",
   "metadata": {
    "tags": []
   },
   "source": [
    "## <img src=\"../../../images/logos/toc.png\" width=\"20\"/> Table of Contents\n",
    "* [Required Libraries](#required-libraries)\n",
    "* [Connect to the API](#connect-api)\n",
    "* [Call the API](#call-api)\n",
    "* [Read Dumped Data](#read-dumped-data)\n",
    "\n",
    "---"
   ]
  },
  {
   "cell_type": "markdown",
   "id": "32a3b270-4ae4-4d79-aef4-2bcbbd8a10a4",
   "metadata": {},
   "source": [
    "<a class=\"anchor\" id=\"required-libraries\"></a>\n",
    "# Required Libraries"
   ]
  },
  {
   "cell_type": "markdown",
   "id": "7a5b7a7f-9823-4828-bbd4-af99aedd9e3c",
   "metadata": {},
   "source": [
    "Twitter has API that you can use to extract tweets and users. Here we are using tweepy library to do so."
   ]
  },
  {
   "cell_type": "code",
   "execution_count": 1,
   "id": "21581ead-c75a-43af-b078-afa3d9d0abb9",
   "metadata": {},
   "outputs": [
    {
     "name": "stdout",
     "output_type": "stream",
     "text": [
      "Requirement already satisfied: tweepy in /Users/ali/opt/anaconda3/envs/py38/lib/python3.8/site-packages (4.10.1)\n",
      "Requirement already satisfied: oauthlib<4,>=3.2.0 in /Users/ali/opt/anaconda3/envs/py38/lib/python3.8/site-packages (from tweepy) (3.2.0)\n",
      "Requirement already satisfied: requests<3,>=2.27.0 in /Users/ali/opt/anaconda3/envs/py38/lib/python3.8/site-packages (from tweepy) (2.27.1)\n",
      "Requirement already satisfied: requests-oauthlib<2,>=1.2.0 in /Users/ali/opt/anaconda3/envs/py38/lib/python3.8/site-packages (from tweepy) (1.3.1)\n",
      "Requirement already satisfied: certifi>=2017.4.17 in /Users/ali/opt/anaconda3/envs/py38/lib/python3.8/site-packages (from requests<3,>=2.27.0->tweepy) (2021.5.30)\n",
      "Requirement already satisfied: charset-normalizer~=2.0.0 in /Users/ali/opt/anaconda3/envs/py38/lib/python3.8/site-packages (from requests<3,>=2.27.0->tweepy) (2.0.9)\n",
      "Requirement already satisfied: urllib3<1.27,>=1.21.1 in /Users/ali/opt/anaconda3/envs/py38/lib/python3.8/site-packages (from requests<3,>=2.27.0->tweepy) (1.25.11)\n",
      "Requirement already satisfied: idna<4,>=2.5 in /Users/ali/opt/anaconda3/envs/py38/lib/python3.8/site-packages (from requests<3,>=2.27.0->tweepy) (2.10)\n"
     ]
    }
   ],
   "source": [
    "!pip install tweepy"
   ]
  },
  {
   "cell_type": "code",
   "execution_count": 2,
   "id": "11b98e13-4fc8-4c5c-837c-36a2ac869c9c",
   "metadata": {},
   "outputs": [],
   "source": [
    "import tweepy"
   ]
  },
  {
   "cell_type": "code",
   "execution_count": 3,
   "id": "369d7bc6-373f-4abe-b835-c5ac37666fe1",
   "metadata": {},
   "outputs": [],
   "source": [
    "from pathlib import Path\n",
    "import pandas as pd\n",
    "import json\n",
    "import os\n",
    "from tqdm import tqdm"
   ]
  },
  {
   "cell_type": "markdown",
   "id": "2aa4a336-ccd7-4681-afe3-a08ae505a66f",
   "metadata": {},
   "source": [
    "<a class=\"anchor\" id=\"connect-api\"></a>\n",
    "# Connect to the API"
   ]
  },
  {
   "cell_type": "markdown",
   "id": "98155e98-4ed5-4c77-804d-7e2510e24f6a",
   "metadata": {},
   "source": [
    "To use twitter API, you first need to get a developer account. Read [here](https://developer.twitter.com/en/docs/twitter-api/getting-started/getting-access-to-the-twitter-api) to learn how to do that."
   ]
  },
  {
   "cell_type": "markdown",
   "id": "f4d2b980-1f37-4252-9289-09edf3b6c8ab",
   "metadata": {},
   "source": [
    "After you get an account, you can get access tokens and keys to authenticate and call the API."
   ]
  },
  {
   "cell_type": "code",
   "execution_count": 4,
   "id": "11a930ef-dfae-4379-9c98-fe64608483db",
   "metadata": {},
   "outputs": [],
   "source": [
    "CONSUMER_KEY = os.environ['CONSUMER_KEY']\n",
    "CONSUMER_SECRET = os.environ['CONSUMER_SECRET']\n",
    "ACCESS_TOKEN = os.environ['ACCESS_TOKEN']\n",
    "ACCESS_TOKEN_SECRET = os.environ['ACCESS_TOKEN_SECRET']\n",
    "BEARER_TOKEN = os.environ['BEARER_TOKEN']"
   ]
  },
  {
   "cell_type": "code",
   "execution_count": 6,
   "id": "9f3ef331-fafe-473d-ba87-ec8ba8f482ed",
   "metadata": {},
   "outputs": [],
   "source": [
    "auth = tweepy.OAuthHandler(CONSUMER_KEY, CONSUMER_SECRET)\n",
    "auth.set_access_token(ACCESS_TOKEN, ACCESS_TOKEN_SECRET)\n",
    "api = tweepy.API(auth, wait_on_rate_limit=True)"
   ]
  },
  {
   "cell_type": "markdown",
   "id": "cb1d1b93-53de-4dea-a12a-e5ed59398ab5",
   "metadata": {},
   "source": [
    "<a class=\"anchor\" id=\"call-api\"></a>\n",
    "# Call the API"
   ]
  },
  {
   "cell_type": "code",
   "execution_count": 25,
   "id": "a986103d-e4e4-42d1-b169-e3be4de75c68",
   "metadata": {
    "scrolled": true,
    "tags": []
   },
   "outputs": [
    {
     "name": "stderr",
     "output_type": "stream",
     "text": [
      "2it [00:00,  3.78it/s]\n"
     ]
    }
   ],
   "source": [
    "tweets = []\n",
    "dump_path = Path('./data/twitter_data/')\n",
    "if not dump_path.exists():\n",
    "    dump_path.mkdir()\n",
    "\n",
    "for page in tqdm(tweepy.Cursor(\n",
    "    api.search_tweets,\n",
    "    tweet_mode='extended',\n",
    "    q = \"#machine_learning\",\n",
    "    count = 10,\n",
    "    # lang=\"en\",\n",
    ").pages(2)):\n",
    "    for tweet in page:\n",
    "        json_data = tweet._json\n",
    "        with open(dump_path / f'{json_data[\"id\"]}.json', 'w') as f:\n",
    "            json.dump(json_data, f)"
   ]
  },
  {
   "cell_type": "markdown",
   "id": "b4edc777-11db-49b2-a419-282f7ff66e6f",
   "metadata": {},
   "source": [
    "<a class=\"anchor\" id=\"read-dumped-data\"></a>\n",
    "# Read Dumped Data"
   ]
  },
  {
   "cell_type": "code",
   "execution_count": 26,
   "id": "3cf512c4-e147-461a-ab44-cadd2adabf62",
   "metadata": {},
   "outputs": [],
   "source": [
    "DATA_DIR = Path('./data/twitter_data')"
   ]
  },
  {
   "cell_type": "code",
   "execution_count": 27,
   "id": "e2e22451-b367-42b8-8931-fd86cd1fd57d",
   "metadata": {},
   "outputs": [],
   "source": [
    "def read_json(file_path):\n",
    "    with open(file_path) as f:\n",
    "        return json.load(f)"
   ]
  },
  {
   "cell_type": "code",
   "execution_count": 28,
   "id": "5a09a35c-c3d6-4262-a8ad-4d355153707d",
   "metadata": {},
   "outputs": [
    {
     "name": "stderr",
     "output_type": "stream",
     "text": [
      "20it [00:00, 3927.62it/s]\n"
     ]
    }
   ],
   "source": [
    "rows = []\n",
    "for file_path in tqdm(DATA_DIR.iterdir()):\n",
    "    if file_path.is_dir():\n",
    "        continue\n",
    "    d = read_json(file_path)\n",
    "    \n",
    "    rows.append(dict(\n",
    "        name = d['user']['name'],\n",
    "        followers = d['user']['followers_count'],\n",
    "        following = d['user']['friends_count'],\n",
    "        follower_following_ratio =  d['user']['followers_count'] / (d['user']['friends_count'] + 1),\n",
    "        text = d.get('full_text') or d.get('text'),\n",
    "        hashtags = list(map(lambda item: item['text'], d['entities']['hashtags'])),\n",
    "        likes = d['favorite_count'],\n",
    "        retweets = d['retweet_count'],\n",
    "    ))"
   ]
  },
  {
   "cell_type": "code",
   "execution_count": 29,
   "id": "e4d6de13-f3be-4734-83c8-1076536ecfd0",
   "metadata": {},
   "outputs": [],
   "source": [
    "df = pd.DataFrame(rows)"
   ]
  },
  {
   "cell_type": "code",
   "execution_count": 30,
   "id": "2957bc0c-7995-4ac6-a52b-ad307013f814",
   "metadata": {},
   "outputs": [],
   "source": [
    "pd.set_option('display.min_rows', 20)\n",
    "pd.set_option('display.max_colwidth', 200)"
   ]
  },
  {
   "cell_type": "code",
   "execution_count": 31,
   "id": "b0bc8768-1c66-4770-8dc1-7585e18db6ba",
   "metadata": {},
   "outputs": [
    {
     "data": {
      "text/html": [
       "<div>\n",
       "<style scoped>\n",
       "    .dataframe tbody tr th:only-of-type {\n",
       "        vertical-align: middle;\n",
       "    }\n",
       "\n",
       "    .dataframe tbody tr th {\n",
       "        vertical-align: top;\n",
       "    }\n",
       "\n",
       "    .dataframe thead th {\n",
       "        text-align: right;\n",
       "    }\n",
       "</style>\n",
       "<table border=\"1\" class=\"dataframe\">\n",
       "  <thead>\n",
       "    <tr style=\"text-align: right;\">\n",
       "      <th></th>\n",
       "      <th>name</th>\n",
       "      <th>followers</th>\n",
       "      <th>following</th>\n",
       "      <th>follower_following_ratio</th>\n",
       "      <th>text</th>\n",
       "      <th>hashtags</th>\n",
       "      <th>likes</th>\n",
       "      <th>retweets</th>\n",
       "    </tr>\n",
       "  </thead>\n",
       "  <tbody>\n",
       "    <tr>\n",
       "      <th>0</th>\n",
       "      <td>Coding Buddy</td>\n",
       "      <td>9</td>\n",
       "      <td>2</td>\n",
       "      <td>3.000000</td>\n",
       "      <td>RT @lucifer_twtt: #30DaysOfCodechallenge\\nDay22\\nNot done much today. Just started eda for new project\\n#30Daysofcode challenge to train my mo…</td>\n",
       "      <td>[30DaysOfCodechallenge, 30Daysofcode]</td>\n",
       "      <td>0</td>\n",
       "      <td>5</td>\n",
       "    </tr>\n",
       "    <tr>\n",
       "      <th>1</th>\n",
       "      <td>Unemployed Professor</td>\n",
       "      <td>29</td>\n",
       "      <td>176</td>\n",
       "      <td>0.163842</td>\n",
       "      <td>Let's handle your;\\n#Homework \\n#Machine_Learning \\n#Data_Science\\n#Assignments\\n#Stats \\n#Fall_classes\\n#Pearsons\\n#Stats_Class\\n#Finals\\n#Python\\n#R_programming_Language\\n#Stata\\n#Spss\\n#JavaScr...</td>\n",
       "      <td>[Homework, Machine_Learning, Data_Science, Assignments, Stats, Fall_classes, Pearsons, Stats_Class, Finals, Python, R_programming_Language, Stata, Spss, JavaScript, We_deliver]</td>\n",
       "      <td>0</td>\n",
       "      <td>2</td>\n",
       "    </tr>\n",
       "    <tr>\n",
       "      <th>2</th>\n",
       "      <td>Akintayo</td>\n",
       "      <td>68</td>\n",
       "      <td>36</td>\n",
       "      <td>1.837838</td>\n",
       "      <td>RT @stats_helpers: We can complete your;\\n#Homework \\n#Machine_Learning \\n#Data_Science\\n#Assignments\\n#Stats \\n#Fall_classes\\n#Pearsons\\n#Stats_Cl…</td>\n",
       "      <td>[Homework, Machine_Learning, Data_Science, Assignments, Stats, Fall_classes, Pearsons]</td>\n",
       "      <td>0</td>\n",
       "      <td>2</td>\n",
       "    </tr>\n",
       "    <tr>\n",
       "      <th>3</th>\n",
       "      <td>ام محمد</td>\n",
       "      <td>35</td>\n",
       "      <td>87</td>\n",
       "      <td>0.397727</td>\n",
       "      <td>RT @AshwagAlbukhari: 📍📍📍\\nhappening now as part of “#Ai for #precision_medicine” student program @UniofOxford \\n\\n“Introduction to coding in #…</td>\n",
       "      <td>[Ai, precision_medicine]</td>\n",
       "      <td>0</td>\n",
       "      <td>10</td>\n",
       "    </tr>\n",
       "    <tr>\n",
       "      <th>4</th>\n",
       "      <td>Mr Data Scientist</td>\n",
       "      <td>10965</td>\n",
       "      <td>270</td>\n",
       "      <td>40.461255</td>\n",
       "      <td>RT @lucifer_twtt: #30DaysOfCodechallenge\\nDay22\\nNot done much today. Just started eda for new project\\n#30Daysofcode challenge to train my mo…</td>\n",
       "      <td>[30DaysOfCodechallenge, 30Daysofcode]</td>\n",
       "      <td>0</td>\n",
       "      <td>5</td>\n",
       "    </tr>\n",
       "    <tr>\n",
       "      <th>5</th>\n",
       "      <td>#30DaysOfCode</td>\n",
       "      <td>2318</td>\n",
       "      <td>1</td>\n",
       "      <td>1159.000000</td>\n",
       "      <td>RT @lucifer_twtt: #30DaysOfCodechallenge\\nDay22\\nNot done much today. Just started eda for new project\\n#30Daysofcode challenge to train my mo…</td>\n",
       "      <td>[30DaysOfCodechallenge, 30Daysofcode]</td>\n",
       "      <td>0</td>\n",
       "      <td>5</td>\n",
       "    </tr>\n",
       "    <tr>\n",
       "      <th>6</th>\n",
       "      <td>SUPER WRITERS</td>\n",
       "      <td>178</td>\n",
       "      <td>441</td>\n",
       "      <td>0.402715</td>\n",
       "      <td>We can complete your;\\n#Homework \\n#Machine_Learning \\n#Data_Science\\n#Assignments\\n#Stats \\n#Fall_classes\\n#Finals\\n#Pearson\\n#Python\\n#R_programming_Language\\n#Stata\\n#Spss\\n#JavaScript\\nGet Qui...</td>\n",
       "      <td>[Homework, Machine_Learning, Data_Science, Assignments, Stats, Fall_classes, Finals, Pearson, Python, R_programming_Language, Stata, Spss, JavaScript, We_deliver]</td>\n",
       "      <td>0</td>\n",
       "      <td>2</td>\n",
       "    </tr>\n",
       "    <tr>\n",
       "      <th>7</th>\n",
       "      <td>Xeron Bot</td>\n",
       "      <td>2309</td>\n",
       "      <td>1</td>\n",
       "      <td>1154.500000</td>\n",
       "      <td>RT @Tutor_Nolan: Let's handle your;\\n#Homework \\n#Machine_Learning \\n#Data_Science\\n#Assignments\\n#Stats \\n#Fall_classes\\n#Pearsons\\n#Stats_Class\\n#…</td>\n",
       "      <td>[Homework, Machine_Learning, Data_Science, Assignments, Stats, Fall_classes, Pearsons, Stats_Class]</td>\n",
       "      <td>0</td>\n",
       "      <td>2</td>\n",
       "    </tr>\n",
       "    <tr>\n",
       "      <th>8</th>\n",
       "      <td>Utibe-Abasi Jacob Udoh</td>\n",
       "      <td>423</td>\n",
       "      <td>888</td>\n",
       "      <td>0.475816</td>\n",
       "      <td>RT @Tutor_Nolan: Let's handle your;\\n#Homework \\n#Machine_Learning \\n#Data_Science\\n#Assignments\\n#Stats \\n#Fall_classes\\n#Pearsons\\n#Stats_Class\\n#…</td>\n",
       "      <td>[Homework, Machine_Learning, Data_Science, Assignments, Stats, Fall_classes, Pearsons, Stats_Class]</td>\n",
       "      <td>0</td>\n",
       "      <td>2</td>\n",
       "    </tr>\n",
       "    <tr>\n",
       "      <th>9</th>\n",
       "      <td>Lonewollff🥑</td>\n",
       "      <td>539</td>\n",
       "      <td>3479</td>\n",
       "      <td>0.154885</td>\n",
       "      <td>@datawithsuman @SaveToNotion  #machine_learning</td>\n",
       "      <td>[machine_learning]</td>\n",
       "      <td>0</td>\n",
       "      <td>0</td>\n",
       "    </tr>\n",
       "    <tr>\n",
       "      <th>10</th>\n",
       "      <td>PyBot</td>\n",
       "      <td>902</td>\n",
       "      <td>1</td>\n",
       "      <td>451.000000</td>\n",
       "      <td>RT @superwriterz: We can complete your;\\n#Homework \\n#Machine_Learning \\n#Data_Science\\n#Assignments\\n#Stats \\n#Fall_classes\\n#Finals\\n#Pearson\\n#Py…</td>\n",
       "      <td>[Homework, Machine_Learning, Data_Science, Assignments, Stats, Fall_classes, Finals, Pearson]</td>\n",
       "      <td>0</td>\n",
       "      <td>2</td>\n",
       "    </tr>\n",
       "    <tr>\n",
       "      <th>11</th>\n",
       "      <td>PyBot</td>\n",
       "      <td>902</td>\n",
       "      <td>1</td>\n",
       "      <td>451.000000</td>\n",
       "      <td>RT @lucifer_twtt: #30DaysOfCodechallenge\\nDay22\\nNot done much today. Just started eda for new project\\n#30Daysofcode challenge to train my mo…</td>\n",
       "      <td>[30DaysOfCodechallenge, 30Daysofcode]</td>\n",
       "      <td>0</td>\n",
       "      <td>5</td>\n",
       "    </tr>\n",
       "    <tr>\n",
       "      <th>12</th>\n",
       "      <td>Xeron Bot</td>\n",
       "      <td>2309</td>\n",
       "      <td>1</td>\n",
       "      <td>1154.500000</td>\n",
       "      <td>RT @superwriterz: We can complete your;\\n#Homework \\n#Machine_Learning \\n#Data_Science\\n#Assignments\\n#Stats \\n#Fall_classes\\n#Finals\\n#Pearson\\n#Py…</td>\n",
       "      <td>[Homework, Machine_Learning, Data_Science, Assignments, Stats, Fall_classes, Finals, Pearson]</td>\n",
       "      <td>0</td>\n",
       "      <td>2</td>\n",
       "    </tr>\n",
       "    <tr>\n",
       "      <th>13</th>\n",
       "      <td>//InsertUsefulComment</td>\n",
       "      <td>45</td>\n",
       "      <td>212</td>\n",
       "      <td>0.211268</td>\n",
       "      <td>RT @SmitterHane: Just use it\\n#DataScience #CodeNewbie #code #100DaysOfCode #100Devs #python #machine_learning #ArtificialIntelligence #joke…</td>\n",
       "      <td>[DataScience, CodeNewbie, code, 100DaysOfCode, 100Devs, python, machine_learning, ArtificialIntelligence]</td>\n",
       "      <td>0</td>\n",
       "      <td>24</td>\n",
       "    </tr>\n",
       "    <tr>\n",
       "      <th>14</th>\n",
       "      <td>Read Tech Here</td>\n",
       "      <td>815</td>\n",
       "      <td>310</td>\n",
       "      <td>2.620579</td>\n",
       "      <td>RT @stats_helpers: We can complete your;\\n#Homework \\n#Machine_Learning \\n#Data_Science\\n#Assignments\\n#Stats \\n#Fall_classes\\n#Pearsons\\n#Stats_Cl…</td>\n",
       "      <td>[Homework, Machine_Learning, Data_Science, Assignments, Stats, Fall_classes, Pearsons]</td>\n",
       "      <td>0</td>\n",
       "      <td>2</td>\n",
       "    </tr>\n",
       "    <tr>\n",
       "      <th>15</th>\n",
       "      <td>وايت جولد | خدمات برمجية</td>\n",
       "      <td>261</td>\n",
       "      <td>570</td>\n",
       "      <td>0.457093</td>\n",
       "      <td>🔗نقدم المساعدة لطلبة #الدراسات_العليا في مجال #الهندسة في اعداد #المشاريع و #البحوث في المجالات التالية:\\n#Machine_Learning\\n#ArtificialIntelligence\\n#DataMining\\n#DeepLearning\\n*#CyberSecurity\\n🔗...</td>\n",
       "      <td>[الدراسات_العليا, الهندسة, المشاريع, البحوث, Machine_Learning, ArtificialIntelligence, DataMining, DeepLearning, CyberSecurity, وايت_جولد, جامعة_البعث, جامعة_الأميرة_نورة, جدة]</td>\n",
       "      <td>0</td>\n",
       "      <td>0</td>\n",
       "    </tr>\n",
       "    <tr>\n",
       "      <th>16</th>\n",
       "      <td>Fermentation</td>\n",
       "      <td>359</td>\n",
       "      <td>539</td>\n",
       "      <td>0.664815</td>\n",
       "      <td>An article entitled \"Predicting #Alcohol Concentration during #Beer_Fermentation Using Ultrasonic Measurements and #Machine_Learning\" from Dr. Nicholas Watson et al.\\n\\nView full text at:\\nhttps:/...</td>\n",
       "      <td>[Alcohol, Beer_Fermentation, Machine_Learning]</td>\n",
       "      <td>0</td>\n",
       "      <td>0</td>\n",
       "    </tr>\n",
       "    <tr>\n",
       "      <th>17</th>\n",
       "      <td>STATS HOMEWORK HELPERS</td>\n",
       "      <td>36</td>\n",
       "      <td>210</td>\n",
       "      <td>0.170616</td>\n",
       "      <td>We can complete your;\\n#Homework \\n#Machine_Learning \\n#Data_Science\\n#Assignments\\n#Stats \\n#Fall_classes\\n#Pearsons\\n#Stats_Class\\n#Finals\\n#Python\\n#R_programming_Language\\n#Stata\\n#Spss\\n#Java...</td>\n",
       "      <td>[Homework, Machine_Learning, Data_Science, Assignments, Stats, Fall_classes, Pearsons, Stats_Class, Finals, Python, R_programming_Language, Stata, Spss, JavaScript, We_deliver]</td>\n",
       "      <td>0</td>\n",
       "      <td>2</td>\n",
       "    </tr>\n",
       "    <tr>\n",
       "      <th>18</th>\n",
       "      <td>AI Bot by uCloudify.com</td>\n",
       "      <td>991</td>\n",
       "      <td>0</td>\n",
       "      <td>991.000000</td>\n",
       "      <td>RT @lucifer_twtt: #30DaysOfCodechallenge\\nDay22\\nNot done much today. Just started eda for new project\\n#30Daysofcode challenge to train my mo…</td>\n",
       "      <td>[30DaysOfCodechallenge, 30Daysofcode]</td>\n",
       "      <td>0</td>\n",
       "      <td>5</td>\n",
       "    </tr>\n",
       "    <tr>\n",
       "      <th>19</th>\n",
       "      <td>Lucifer AI</td>\n",
       "      <td>37</td>\n",
       "      <td>194</td>\n",
       "      <td>0.189744</td>\n",
       "      <td>#30DaysOfCodechallenge\\nDay22\\nNot done much today. Just started eda for new project\\n#30Daysofcode challenge to train my model with ML algorithms intuitions. \\nSo much to data to train. .\\n#machi...</td>\n",
       "      <td>[30DaysOfCodechallenge, 30Daysofcode, machine_learning, DataScience, bot_training, Python]</td>\n",
       "      <td>0</td>\n",
       "      <td>5</td>\n",
       "    </tr>\n",
       "  </tbody>\n",
       "</table>\n",
       "</div>"
      ],
      "text/plain": [
       "                        name  followers  following  follower_following_ratio  \\\n",
       "0               Coding Buddy          9          2                  3.000000   \n",
       "1       Unemployed Professor         29        176                  0.163842   \n",
       "2                   Akintayo         68         36                  1.837838   \n",
       "3                    ام محمد         35         87                  0.397727   \n",
       "4          Mr Data Scientist      10965        270                 40.461255   \n",
       "5              #30DaysOfCode       2318          1               1159.000000   \n",
       "6              SUPER WRITERS        178        441                  0.402715   \n",
       "7                  Xeron Bot       2309          1               1154.500000   \n",
       "8     Utibe-Abasi Jacob Udoh        423        888                  0.475816   \n",
       "9                Lonewollff🥑        539       3479                  0.154885   \n",
       "10                     PyBot        902          1                451.000000   \n",
       "11                     PyBot        902          1                451.000000   \n",
       "12                 Xeron Bot       2309          1               1154.500000   \n",
       "13     //InsertUsefulComment         45        212                  0.211268   \n",
       "14            Read Tech Here        815        310                  2.620579   \n",
       "15  وايت جولد | خدمات برمجية        261        570                  0.457093   \n",
       "16              Fermentation        359        539                  0.664815   \n",
       "17    STATS HOMEWORK HELPERS         36        210                  0.170616   \n",
       "18   AI Bot by uCloudify.com        991          0                991.000000   \n",
       "19                Lucifer AI         37        194                  0.189744   \n",
       "\n",
       "                                                                                                                                                                                                       text  \\\n",
       "0                                                           RT @lucifer_twtt: #30DaysOfCodechallenge\\nDay22\\nNot done much today. Just started eda for new project\\n#30Daysofcode challenge to train my mo…   \n",
       "1   Let's handle your;\\n#Homework \\n#Machine_Learning \\n#Data_Science\\n#Assignments\\n#Stats \\n#Fall_classes\\n#Pearsons\\n#Stats_Class\\n#Finals\\n#Python\\n#R_programming_Language\\n#Stata\\n#Spss\\n#JavaScr...   \n",
       "2                                                      RT @stats_helpers: We can complete your;\\n#Homework \\n#Machine_Learning \\n#Data_Science\\n#Assignments\\n#Stats \\n#Fall_classes\\n#Pearsons\\n#Stats_Cl…   \n",
       "3                                                           RT @AshwagAlbukhari: 📍📍📍\\nhappening now as part of “#Ai for #precision_medicine” student program @UniofOxford \\n\\n“Introduction to coding in #…   \n",
       "4                                                           RT @lucifer_twtt: #30DaysOfCodechallenge\\nDay22\\nNot done much today. Just started eda for new project\\n#30Daysofcode challenge to train my mo…   \n",
       "5                                                           RT @lucifer_twtt: #30DaysOfCodechallenge\\nDay22\\nNot done much today. Just started eda for new project\\n#30Daysofcode challenge to train my mo…   \n",
       "6   We can complete your;\\n#Homework \\n#Machine_Learning \\n#Data_Science\\n#Assignments\\n#Stats \\n#Fall_classes\\n#Finals\\n#Pearson\\n#Python\\n#R_programming_Language\\n#Stata\\n#Spss\\n#JavaScript\\nGet Qui...   \n",
       "7                                                     RT @Tutor_Nolan: Let's handle your;\\n#Homework \\n#Machine_Learning \\n#Data_Science\\n#Assignments\\n#Stats \\n#Fall_classes\\n#Pearsons\\n#Stats_Class\\n#…   \n",
       "8                                                     RT @Tutor_Nolan: Let's handle your;\\n#Homework \\n#Machine_Learning \\n#Data_Science\\n#Assignments\\n#Stats \\n#Fall_classes\\n#Pearsons\\n#Stats_Class\\n#…   \n",
       "9                                                                                                                                                           @datawithsuman @SaveToNotion  #machine_learning   \n",
       "10                                                    RT @superwriterz: We can complete your;\\n#Homework \\n#Machine_Learning \\n#Data_Science\\n#Assignments\\n#Stats \\n#Fall_classes\\n#Finals\\n#Pearson\\n#Py…   \n",
       "11                                                          RT @lucifer_twtt: #30DaysOfCodechallenge\\nDay22\\nNot done much today. Just started eda for new project\\n#30Daysofcode challenge to train my mo…   \n",
       "12                                                    RT @superwriterz: We can complete your;\\n#Homework \\n#Machine_Learning \\n#Data_Science\\n#Assignments\\n#Stats \\n#Fall_classes\\n#Finals\\n#Pearson\\n#Py…   \n",
       "13                                                            RT @SmitterHane: Just use it\\n#DataScience #CodeNewbie #code #100DaysOfCode #100Devs #python #machine_learning #ArtificialIntelligence #joke…   \n",
       "14                                                     RT @stats_helpers: We can complete your;\\n#Homework \\n#Machine_Learning \\n#Data_Science\\n#Assignments\\n#Stats \\n#Fall_classes\\n#Pearsons\\n#Stats_Cl…   \n",
       "15  🔗نقدم المساعدة لطلبة #الدراسات_العليا في مجال #الهندسة في اعداد #المشاريع و #البحوث في المجالات التالية:\\n#Machine_Learning\\n#ArtificialIntelligence\\n#DataMining\\n#DeepLearning\\n*#CyberSecurity\\n🔗...   \n",
       "16  An article entitled \"Predicting #Alcohol Concentration during #Beer_Fermentation Using Ultrasonic Measurements and #Machine_Learning\" from Dr. Nicholas Watson et al.\\n\\nView full text at:\\nhttps:/...   \n",
       "17  We can complete your;\\n#Homework \\n#Machine_Learning \\n#Data_Science\\n#Assignments\\n#Stats \\n#Fall_classes\\n#Pearsons\\n#Stats_Class\\n#Finals\\n#Python\\n#R_programming_Language\\n#Stata\\n#Spss\\n#Java...   \n",
       "18                                                          RT @lucifer_twtt: #30DaysOfCodechallenge\\nDay22\\nNot done much today. Just started eda for new project\\n#30Daysofcode challenge to train my mo…   \n",
       "19  #30DaysOfCodechallenge\\nDay22\\nNot done much today. Just started eda for new project\\n#30Daysofcode challenge to train my model with ML algorithms intuitions. \\nSo much to data to train. .\\n#machi...   \n",
       "\n",
       "                                                                                                                                                                            hashtags  \\\n",
       "0                                                                                                                                              [30DaysOfCodechallenge, 30Daysofcode]   \n",
       "1   [Homework, Machine_Learning, Data_Science, Assignments, Stats, Fall_classes, Pearsons, Stats_Class, Finals, Python, R_programming_Language, Stata, Spss, JavaScript, We_deliver]   \n",
       "2                                                                                             [Homework, Machine_Learning, Data_Science, Assignments, Stats, Fall_classes, Pearsons]   \n",
       "3                                                                                                                                                           [Ai, precision_medicine]   \n",
       "4                                                                                                                                              [30DaysOfCodechallenge, 30Daysofcode]   \n",
       "5                                                                                                                                              [30DaysOfCodechallenge, 30Daysofcode]   \n",
       "6                 [Homework, Machine_Learning, Data_Science, Assignments, Stats, Fall_classes, Finals, Pearson, Python, R_programming_Language, Stata, Spss, JavaScript, We_deliver]   \n",
       "7                                                                                [Homework, Machine_Learning, Data_Science, Assignments, Stats, Fall_classes, Pearsons, Stats_Class]   \n",
       "8                                                                                [Homework, Machine_Learning, Data_Science, Assignments, Stats, Fall_classes, Pearsons, Stats_Class]   \n",
       "9                                                                                                                                                                 [machine_learning]   \n",
       "10                                                                                     [Homework, Machine_Learning, Data_Science, Assignments, Stats, Fall_classes, Finals, Pearson]   \n",
       "11                                                                                                                                             [30DaysOfCodechallenge, 30Daysofcode]   \n",
       "12                                                                                     [Homework, Machine_Learning, Data_Science, Assignments, Stats, Fall_classes, Finals, Pearson]   \n",
       "13                                                                         [DataScience, CodeNewbie, code, 100DaysOfCode, 100Devs, python, machine_learning, ArtificialIntelligence]   \n",
       "14                                                                                            [Homework, Machine_Learning, Data_Science, Assignments, Stats, Fall_classes, Pearsons]   \n",
       "15  [الدراسات_العليا, الهندسة, المشاريع, البحوث, Machine_Learning, ArtificialIntelligence, DataMining, DeepLearning, CyberSecurity, وايت_جولد, جامعة_البعث, جامعة_الأميرة_نورة, جدة]   \n",
       "16                                                                                                                                    [Alcohol, Beer_Fermentation, Machine_Learning]   \n",
       "17  [Homework, Machine_Learning, Data_Science, Assignments, Stats, Fall_classes, Pearsons, Stats_Class, Finals, Python, R_programming_Language, Stata, Spss, JavaScript, We_deliver]   \n",
       "18                                                                                                                                             [30DaysOfCodechallenge, 30Daysofcode]   \n",
       "19                                                                                        [30DaysOfCodechallenge, 30Daysofcode, machine_learning, DataScience, bot_training, Python]   \n",
       "\n",
       "    likes  retweets  \n",
       "0       0         5  \n",
       "1       0         2  \n",
       "2       0         2  \n",
       "3       0        10  \n",
       "4       0         5  \n",
       "5       0         5  \n",
       "6       0         2  \n",
       "7       0         2  \n",
       "8       0         2  \n",
       "9       0         0  \n",
       "10      0         2  \n",
       "11      0         5  \n",
       "12      0         2  \n",
       "13      0        24  \n",
       "14      0         2  \n",
       "15      0         0  \n",
       "16      0         0  \n",
       "17      0         2  \n",
       "18      0         5  \n",
       "19      0         5  "
      ]
     },
     "execution_count": 31,
     "metadata": {},
     "output_type": "execute_result"
    }
   ],
   "source": [
    "df"
   ]
  },
  {
   "cell_type": "code",
   "execution_count": null,
   "id": "75c86eb8-92ef-4e3b-b584-cf57d5cda0e8",
   "metadata": {},
   "outputs": [],
   "source": []
  }
 ],
 "metadata": {
  "kernelspec": {
   "display_name": "Python 3",
   "language": "python",
   "name": "python3"
  },
  "language_info": {
   "codemirror_mode": {
    "name": "ipython",
    "version": 3
   },
   "file_extension": ".py",
   "mimetype": "text/x-python",
   "name": "python",
   "nbconvert_exporter": "python",
   "pygments_lexer": "ipython3",
   "version": "3.8.11"
  }
 },
 "nbformat": 4,
 "nbformat_minor": 5
}
