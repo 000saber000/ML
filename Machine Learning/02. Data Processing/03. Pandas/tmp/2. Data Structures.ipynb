{
 "cells": [
  {
   "cell_type": "markdown",
   "id": "another-stability",
   "metadata": {},
   "source": [
    "# Data structures in pandas\n",
    "\n",
    "The pandas package was created by Wes McKinney in 2008 as a result of frustrations he encountered while working on time series data in R. It is built on top of NumPy and provides features not available in it. It provides fast, easy-to-understand data structures and helps fill the gap between Python and a language like R. NumPy deals with homogeneous blocks of data. Using pandas helps to deal with data in a tabular structure composed of different data types.\n",
    "\n",
    "The official documentation for pandas can be found at http://pandas.pydata.org/pandas-docs/stable/dsintro.html."
   ]
  },
  {
   "cell_type": "markdown",
   "id": "large-surprise",
   "metadata": {},
   "source": [
    "There are three main data structures in pandas:\n",
    "\n",
    "- Series—1D\n",
    "- DataFrame—2D\n",
    "- Panel—3D"
   ]
  },
  {
   "cell_type": "code",
   "execution_count": null,
   "id": "94e72552-86dc-4b81-a1c0-8002170dc466",
   "metadata": {},
   "outputs": [],
   "source": []
  }
 ],
 "metadata": {
  "kernelspec": {
   "display_name": "Python 3",
   "language": "python",
   "name": "python3"
  },
  "language_info": {
   "codemirror_mode": {
    "name": "ipython",
    "version": 3
   },
   "file_extension": ".py",
   "mimetype": "text/x-python",
   "name": "python",
   "nbconvert_exporter": "python",
   "pygments_lexer": "ipython3",
   "version": "3.8.11"
  }
 },
 "nbformat": 4,
 "nbformat_minor": 5
}
