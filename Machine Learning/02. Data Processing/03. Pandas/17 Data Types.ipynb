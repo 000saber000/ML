{
 "cells": [
  {
   "cell_type": "markdown",
   "id": "49fe9719-34bb-47f7-a999-5fa4063af014",
   "metadata": {},
   "source": [
    "<img src=\"../../../images/banners/pandas-cropped.jpeg\" width=\"600\"/>"
   ]
  },
  {
   "cell_type": "markdown",
   "id": "0d2fdbbe-3602-43bb-ab9e-6bf2e43fe9e6",
   "metadata": {
    "tags": []
   },
   "source": [
    "<a class=\"anchor\" id=\"essential_basic_functionality\"></a>\n",
    "# <img src=\"../../../images/logos/pandas.png\" width=\"23\"/> Data Types"
   ]
  },
  {
   "cell_type": "markdown",
   "id": "d7348bf0-2daf-448a-a669-659655c7f71f",
   "metadata": {},
   "source": [
    "## <img src=\"../../../images/logos/toc.png\" width=\"20\"/> Table of Contents \n",
    "* [defaults](#defaults)\n",
    "* [upcasting](#upcasting)\n",
    "* [astype](#astype)\n",
    "* [object conversion](#object_conversion)\n",
    "* [gotchas](#gotchas)\n",
    "* [Selecting columns based on ](#selecting_columns_based_on_)\n",
    "\n",
    "---"
   ]
  },
  {
   "cell_type": "markdown",
   "id": "b5af2684-c6c0-44bd-aa92-0a04540ef8e2",
   "metadata": {},
   "source": [
    "For the most part, pandas uses NumPy arrays and dtypes for Series or individual\n",
    "columns of a DataFrame. NumPy provides support for `float`,\n",
    "`int`, `bool`, `timedelta64[ns]` and `datetime64[ns]` (note that NumPy\n",
    "does not support timezone-aware datetimes)."
   ]
  },
  {
   "cell_type": "markdown",
   "id": "254b63ee-0aa7-4e02-b2fb-259657d3753d",
   "metadata": {},
   "source": [
    "pandas and third-party libraries *extend* NumPy’s type system in a few places.\n",
    "This section describes the extensions pandas has made internally.\n",
    "See [Extension types](https://pandas.pydata.org/docs/development/extending.html#extending-extension-types) for how to write your own extension that\n",
    "works with pandas. See [Extension data types](https://pandas.pydata.org/docs/ecosystem.html#ecosystem-extensions) for a list of third-party\n",
    "libraries that have implemented an extension."
   ]
  },
  {
   "cell_type": "markdown",
   "id": "63f4aa81-8460-46ce-bba0-5cfba013aed9",
   "metadata": {},
   "source": [
    "The following table lists all of pandas extension types. For methods requiring `dtype`\n",
    "arguments, strings can be specified as indicated. See the respective\n",
    "documentation sections for more on each type."
   ]
  },
  {
   "cell_type": "markdown",
   "id": "ca13b908-4445-423d-9899-e6631e824e0f",
   "metadata": {},
   "source": [
    "pandas has two ways to store strings."
   ]
  },
  {
   "cell_type": "markdown",
   "id": "c8410d5c-b600-468e-86ff-98be9b93cadd",
   "metadata": {},
   "source": [
    "Generally, we recommend using [`StringDtype`](../reference/api/pandas.StringDtype.html#pandas.StringDtype \"pandas.StringDtype\"). See [Text data types](text.html#text-types) for more."
   ]
  },
  {
   "cell_type": "markdown",
   "id": "12c53ac0-f456-4cc7-958c-407594b3458d",
   "metadata": {},
   "source": [
    "Finally, arbitrary objects may be stored using the `object` dtype, but should\n",
    "be avoided to the extent possible (for performance and interoperability with\n",
    "other libraries and methods. See [object conversion](#basics-object-conversion))."
   ]
  },
  {
   "cell_type": "markdown",
   "id": "a197cc00-6f40-481b-a471-41da1bc2ac2c",
   "metadata": {},
   "source": [
    "A convenient [`dtypes`](../reference/api/pandas.DataFrame.dtypes.html#pandas.DataFrame.dtypes \"pandas.DataFrame.dtypes\") attribute for DataFrame returns a Series\n",
    "with the data type of each column."
   ]
  },
  {
   "cell_type": "code",
   "execution_count": null,
   "id": "134d3c5d-0496-4287-ae7a-3dfa70150b46",
   "metadata": {},
   "outputs": [],
   "source": [
    "dft = pd.DataFrame(\n",
    "    {\n",
    "        \"A\": np.random.rand(3),\n",
    "        \"B\": 1,\n",
    "        \"C\": \"foo\",\n",
    "        \"D\": pd.Timestamp(\"20010102\"),\n",
    "        \"E\": pd.Series([1.0] * 3).astype(\"float32\"),\n",
    "        \"F\": False,\n",
    "        \"G\": pd.Series([1] * 3, dtype=\"int8\"),\n",
    "    }\n",
    ")\n",
    "\n",
    "dft\n",
    "dft.dtypes"
   ]
  },
  {
   "cell_type": "markdown",
   "id": "ca50fe16-80ab-4de4-ac2d-172898c4c039",
   "metadata": {},
   "source": [
    "On a `Series` object, use the [`dtype`](../reference/api/pandas.Series.dtype.html#pandas.Series.dtype \"pandas.Series.dtype\") attribute."
   ]
  },
  {
   "cell_type": "code",
   "execution_count": null,
   "id": "a5f0985c-300e-437b-85cc-513799c97039",
   "metadata": {},
   "outputs": [],
   "source": [
    "dft[\"A\"].dtype"
   ]
  },
  {
   "cell_type": "markdown",
   "id": "c1dc6527-5ceb-42d2-86d8-08ff30d98250",
   "metadata": {},
   "source": [
    "If a pandas object contains data with multiple dtypes *in a single column*, the\n",
    "dtype of the column will be chosen to accommodate all of the data types\n",
    "(`object` is the most general)."
   ]
  },
  {
   "cell_type": "code",
   "execution_count": null,
   "id": "3bf8f64c-246d-4770-9d94-e8616097ea5a",
   "metadata": {},
   "outputs": [],
   "source": [
    "pd.Series([1, 2, 3, 4, 5, 6.0])\n",
    "pd.Series([1, 2, 3, 6.0, \"foo\"])"
   ]
  },
  {
   "cell_type": "markdown",
   "id": "c7047d7f-2996-4e4e-8e9c-20306fed2a9d",
   "metadata": {},
   "source": [
    "The number of columns of each type in a `DataFrame` can be found by calling\n",
    "`DataFrame.dtypes.value_counts()`."
   ]
  },
  {
   "cell_type": "code",
   "execution_count": null,
   "id": "6bbd70b6-c01d-4c6c-bce8-a4acc6605838",
   "metadata": {},
   "outputs": [],
   "source": [
    "dft.dtypes.value_counts()"
   ]
  },
  {
   "cell_type": "markdown",
   "id": "81e196a2-0f95-4140-b5b2-6357f199471b",
   "metadata": {},
   "source": [
    "Numeric dtypes will propagate and can coexist in DataFrames.\n",
    "If a dtype is passed (either directly via the `dtype` keyword, a passed `ndarray`,\n",
    "or a passed `Series`), then it will be preserved in DataFrame operations. Furthermore,\n",
    "different numeric dtypes will **NOT** be combined. The following example will give you a taste."
   ]
  },
  {
   "cell_type": "code",
   "execution_count": null,
   "id": "3b148b9d-fb4c-449c-874b-dc2e30f2e92d",
   "metadata": {},
   "outputs": [],
   "source": [
    "df1 = pd.DataFrame(np.random.randn(8, 1), columns=[\"A\"], dtype=\"float32\")\n",
    "df1\n",
    "df1.dtypes\n",
    "df2 = pd.DataFrame(\n",
    "    {\n",
    "        \"A\": pd.Series(np.random.randn(8), dtype=\"float16\"),\n",
    "        \"B\": pd.Series(np.random.randn(8)),\n",
    "        \"C\": pd.Series(np.array(np.random.randn(8), dtype=\"uint8\")),\n",
    "    }\n",
    ")\n",
    "\n",
    "df2\n",
    "df2.dtypes"
   ]
  },
  {
   "cell_type": "markdown",
   "id": "36c32abc-4319-4eca-ace5-fa4ff179661c",
   "metadata": {},
   "source": [
    "<a class=\"anchor\" id=\"defaults\"></a>\n",
    "### defaults"
   ]
  },
  {
   "cell_type": "markdown",
   "id": "651f3b5e-f27a-43a9-b838-3ecd2ccdaa7c",
   "metadata": {},
   "source": [
    "By default integer types are `int64` and float types are `float64`,\n",
    "*regardless* of platform (32-bit or 64-bit).\n",
    "The following will all result in `int64` dtypes."
   ]
  },
  {
   "cell_type": "code",
   "execution_count": null,
   "id": "53bf29ea-7fce-48f7-96ca-930f1feaf532",
   "metadata": {},
   "outputs": [],
   "source": [
    "pd.DataFrame([1, 2], columns=[\"a\"]).dtypes\n",
    "pd.DataFrame({\"a\": [1, 2]}).dtypes\n",
    "pd.DataFrame({\"a\": 1}, index=list(range(2))).dtypes"
   ]
  },
  {
   "cell_type": "markdown",
   "id": "abebfccf-f398-4fb2-a51b-60f86cf4189c",
   "metadata": {},
   "source": [
    "Note that Numpy will choose *platform-dependent* types when creating arrays.\n",
    "The following **WILL** result in `int32` on 32-bit platform."
   ]
  },
  {
   "cell_type": "code",
   "execution_count": null,
   "id": "5d8cc8e6-cff6-4628-ab9f-0bd247d9c499",
   "metadata": {},
   "outputs": [],
   "source": [
    "frame = pd.DataFrame(np.array([1, 2]))"
   ]
  },
  {
   "cell_type": "markdown",
   "id": "ba1c8a87-0acc-4854-b1f4-15a9c85854c1",
   "metadata": {},
   "source": [
    "<a class=\"anchor\" id=\"upcasting\"></a>\n",
    "### upcasting"
   ]
  },
  {
   "cell_type": "markdown",
   "id": "73edb13e-1606-4067-99cc-7e57eb022067",
   "metadata": {},
   "source": [
    "Types can potentially be *upcasted* when combined with other types, meaning they are promoted\n",
    "from the current type (e.g. `int` to `float`)."
   ]
  },
  {
   "cell_type": "code",
   "execution_count": null,
   "id": "ad36c66b-02dc-49ef-97ea-2c515c506b5c",
   "metadata": {},
   "outputs": [],
   "source": [
    "df3 = df1.reindex_like(df2).fillna(value=0.0) + df2\n",
    "df3\n",
    "df3.dtypes"
   ]
  },
  {
   "cell_type": "markdown",
   "id": "74319098-f6cd-4942-924b-03226b179949",
   "metadata": {},
   "source": [
    "[`DataFrame.to_numpy()`](../reference/api/pandas.DataFrame.to_numpy.html#pandas.DataFrame.to_numpy \"pandas.DataFrame.to_numpy\") will return the *lower-common-denominator* of the dtypes, meaning\n",
    "the dtype that can accommodate **ALL** of the types in the resulting homogeneous dtyped NumPy array. This can\n",
    "force some *upcasting*."
   ]
  },
  {
   "cell_type": "code",
   "execution_count": null,
   "id": "557b609a-4802-4ce8-8fc5-02be6242bc0b",
   "metadata": {},
   "outputs": [],
   "source": [
    "df3.to_numpy().dtype"
   ]
  },
  {
   "cell_type": "markdown",
   "id": "dc3c442b-051e-48bb-8358-e2890605dd54",
   "metadata": {},
   "source": [
    "<a class=\"anchor\" id=\"astype\"></a>\n",
    "### astype"
   ]
  },
  {
   "cell_type": "markdown",
   "id": "72a074ea-b4f0-4ef7-9f9f-441882e3376c",
   "metadata": {},
   "source": [
    "You can use the [`astype()`](../reference/api/pandas.DataFrame.astype.html#pandas.DataFrame.astype \"pandas.DataFrame.astype\") method to explicitly convert dtypes from one to another. These will by default return a copy,\n",
    "even if the dtype was unchanged (pass `copy=False` to change this behavior). In addition, they will raise an\n",
    "exception if the astype operation is invalid."
   ]
  },
  {
   "cell_type": "markdown",
   "id": "4b7d14af-9da3-4511-b358-5424a76191e2",
   "metadata": {},
   "source": [
    "Upcasting is always according to the **NumPy** rules. If two different dtypes are involved in an operation,\n",
    "then the more *general* one will be used as the result of the operation."
   ]
  },
  {
   "cell_type": "code",
   "execution_count": null,
   "id": "bf69ff9d-cec4-419e-b220-ed37b280d55e",
   "metadata": {},
   "outputs": [],
   "source": [
    "df3\n",
    "df3.dtypes\n",
    "df3.astype(\"float32\").dtypes"
   ]
  },
  {
   "cell_type": "markdown",
   "id": "6180467c-d27d-4981-a04b-75a27d10ecb8",
   "metadata": {},
   "source": [
    "Convert a subset of columns to a specified type using [`astype()`](../reference/api/pandas.DataFrame.astype.html#pandas.DataFrame.astype \"pandas.DataFrame.astype\")."
   ]
  },
  {
   "cell_type": "code",
   "execution_count": null,
   "id": "735fd7bc-573d-46b6-bd04-5ac5e7f32a40",
   "metadata": {},
   "outputs": [],
   "source": [
    "dft = pd.DataFrame({\"a\": [1, 2, 3], \"b\": [4, 5, 6], \"c\": [7, 8, 9]})\n",
    "dft[[\"a\", \"b\"]] = dft[[\"a\", \"b\"]].astype(np.uint8)\n",
    "dft\n",
    "dft.dtypes"
   ]
  },
  {
   "cell_type": "markdown",
   "id": "91403d6d-b7fb-4c60-a35d-e2676df55acf",
   "metadata": {},
   "source": [
    "Convert certain columns to a specific dtype by passing a dict to [`astype()`](../reference/api/pandas.DataFrame.astype.html#pandas.DataFrame.astype \"pandas.DataFrame.astype\")."
   ]
  },
  {
   "cell_type": "code",
   "execution_count": null,
   "id": "dfade5cd-0de5-4f2c-8ce4-29445fe60756",
   "metadata": {},
   "outputs": [],
   "source": [
    "dft1 = pd.DataFrame({\"a\": [1, 0, 1], \"b\": [4, 5, 6], \"c\": [7, 8, 9]})\n",
    "dft1 = dft1.astype({\"a\": np.bool_, \"c\": np.float64})\n",
    "dft1\n",
    "dft1.dtypes"
   ]
  },
  {
   "cell_type": "markdown",
   "id": "33cdbd42-1e3a-43ff-bcc7-58b710f81100",
   "metadata": {},
   "source": [
    "Note"
   ]
  },
  {
   "cell_type": "markdown",
   "id": "319f471a-89fc-4ee6-a51a-269a6f76397b",
   "metadata": {},
   "source": [
    "When trying to convert a subset of columns to a specified type using [`astype()`](../reference/api/pandas.DataFrame.astype.html#pandas.DataFrame.astype \"pandas.DataFrame.astype\") and [`loc()`](../reference/api/pandas.DataFrame.loc.html#pandas.DataFrame.loc \"pandas.DataFrame.loc\"), upcasting occurs."
   ]
  },
  {
   "cell_type": "markdown",
   "id": "c59ef00b-b954-46cf-be3a-f34b77c1ae1f",
   "metadata": {},
   "source": [
    "[`loc()`](../reference/api/pandas.DataFrame.loc.html#pandas.DataFrame.loc \"pandas.DataFrame.loc\") tries to fit in what we are assigning to the current dtypes, while `[]` will overwrite them taking the dtype from the right hand side. Therefore the following piece of code produces the unintended result."
   ]
  },
  {
   "cell_type": "code",
   "execution_count": null,
   "id": "f71e140f-956d-4a72-91a4-d80833f308b6",
   "metadata": {},
   "outputs": [],
   "source": [
    "dft = pd.DataFrame({\"a\": [1, 2, 3], \"b\": [4, 5, 6], \"c\": [7, 8, 9]})\n",
    "dft.loc[:, [\"a\", \"b\"]].astype(np.uint8).dtypes\n",
    "dft.loc[:, [\"a\", \"b\"]] = dft.loc[:, [\"a\", \"b\"]].astype(np.uint8)\n",
    "dft.dtypes"
   ]
  },
  {
   "cell_type": "markdown",
   "id": "53f0b3a3-2c31-48a8-9b80-630b5d882877",
   "metadata": {},
   "source": [
    "<a class=\"anchor\" id=\"object_conversion\"></a>\n",
    "### object conversion"
   ]
  },
  {
   "cell_type": "markdown",
   "id": "7f7a7840-12d2-4315-b570-4de73f2daa72",
   "metadata": {},
   "source": [
    "pandas offers various functions to try to force conversion of types from the `object` dtype to other types.\n",
    "In cases where the data is already of the correct type, but stored in an `object` array, the\n",
    "[`DataFrame.infer_objects()`](../reference/api/pandas.DataFrame.infer_objects.html#pandas.DataFrame.infer_objects \"pandas.DataFrame.infer_objects\") and [`Series.infer_objects()`](../reference/api/pandas.Series.infer_objects.html#pandas.Series.infer_objects \"pandas.Series.infer_objects\") methods can be used to soft convert\n",
    "to the correct type."
   ]
  },
  {
   "cell_type": "markdown",
   "id": "cf63b221-689a-4c8e-8f55-b9b2c2a03023",
   "metadata": {},
   "source": [
    "> \n",
    "> \n",
    "> ```\n",
    "> In [383]: import datetime\n",
    "> \n",
    "> In [384]: df = pd.DataFrame(\n",
    ">  .....:     [\n",
    ">  .....:         [1, 2],\n",
    ">  .....:         [\"a\", \"b\"],\n",
    ">  .....:         [datetime.datetime(2016, 3, 2), datetime.datetime(2016, 3, 2)],\n",
    ">  .....:     ]\n",
    ">  .....: )\n",
    ">  .....: \n",
    "> \n",
    "> In [385]: df = df.T\n",
    "> \n",
    "> In [386]: df\n",
    "> Out[386]: \n",
    ">  0 1 2\n",
    "> 0 1 a 2016-03-02\n",
    "> 1 2 b 2016-03-02\n",
    "> \n",
    "> In [387]: df.dtypes\n",
    "> Out[387]: \n",
    "> 0 object\n",
    "> 1 object\n",
    "> 2 datetime64[ns]\n",
    "> dtype: object\n",
    "> \n",
    "> ```\n",
    "> \n",
    "> \n",
    ">"
   ]
  },
  {
   "cell_type": "markdown",
   "id": "fd481184-eaa9-45f2-999b-74a42d856ffc",
   "metadata": {},
   "source": [
    "Because the data was transposed the original inference stored all columns as object, which\n",
    "`infer_objects` will correct."
   ]
  },
  {
   "cell_type": "markdown",
   "id": "2fe351e8-8267-4453-8a0d-b18c77654f82",
   "metadata": {},
   "source": [
    "> \n",
    "> \n",
    "> ```\n",
    "> In [388]: df.infer_objects().dtypes\n",
    "> Out[388]: \n",
    "> 0 int64\n",
    "> 1 object\n",
    "> 2 datetime64[ns]\n",
    "> dtype: object\n",
    "> \n",
    "> ```\n",
    "> \n",
    "> \n",
    ">"
   ]
  },
  {
   "cell_type": "markdown",
   "id": "dbe81638-8280-4a8b-900c-df061d0a065f",
   "metadata": {},
   "source": [
    "The following functions are available for one dimensional object arrays or scalars to perform\n",
    "hard conversion of objects to a specified type:"
   ]
  },
  {
   "cell_type": "markdown",
   "id": "0bef7914-29ea-4bfe-b54e-d5927c2d004a",
   "metadata": {},
   "source": [
    "To force a conversion, we can pass in an `errors` argument, which specifies how pandas should deal with elements\n",
    "that cannot be converted to desired dtype or object. By default, `errors='raise'`, meaning that any errors encountered\n",
    "will be raised during the conversion process. However, if `errors='coerce'`, these errors will be ignored and pandas\n",
    "will convert problematic elements to `pd.NaT` (for datetime and timedelta) or `np.nan` (for numeric). This might be\n",
    "useful if you are reading in data which is mostly of the desired dtype (e.g. numeric, datetime), but occasionally has\n",
    "non-conforming elements intermixed that you want to represent as missing:"
   ]
  },
  {
   "cell_type": "code",
   "execution_count": null,
   "id": "b5bc2d2d-c565-49c1-9aa0-59aa1cb6b4ea",
   "metadata": {},
   "outputs": [],
   "source": [
    "import datetime\n",
    "m = [\"apple\", datetime.datetime(2016, 3, 2)]\n",
    "pd.to_datetime(m, errors=\"coerce\")\n",
    "m = [\"apple\", 2, 3]\n",
    "pd.to_numeric(m, errors=\"coerce\")\n",
    "m = [\"apple\", pd.Timedelta(\"1day\")]\n",
    "pd.to_timedelta(m, errors=\"coerce\")"
   ]
  },
  {
   "cell_type": "markdown",
   "id": "8badff7f-a0bb-4666-b2c1-3e1ba21b5cd9",
   "metadata": {},
   "source": [
    "The `errors` parameter has a third option of `errors='ignore'`, which will simply return the passed in data if it\n",
    "encounters any errors with the conversion to a desired data type:"
   ]
  },
  {
   "cell_type": "code",
   "execution_count": null,
   "id": "9b4e6eee-3bfa-456e-9c9e-575458211b3c",
   "metadata": {},
   "outputs": [],
   "source": [
    "import datetime\n",
    "m = [\"apple\", datetime.datetime(2016, 3, 2)]\n",
    "pd.to_datetime(m, errors=\"ignore\")\n",
    "m = [\"apple\", 2, 3]\n",
    "pd.to_numeric(m, errors=\"ignore\")\n",
    "m = [\"apple\", pd.Timedelta(\"1day\")]\n",
    "pd.to_timedelta(m, errors=\"ignore\")"
   ]
  },
  {
   "cell_type": "markdown",
   "id": "311d5d22-66dc-4fee-a8b7-6f1d15f90bba",
   "metadata": {},
   "source": [
    "In addition to object conversion, [`to_numeric()`](../reference/api/pandas.to_numeric.html#pandas.to_numeric \"pandas.to_numeric\") provides another argument `downcast`, which gives the\n",
    "option of downcasting the newly (or already) numeric data to a smaller dtype, which can conserve memory:"
   ]
  },
  {
   "cell_type": "code",
   "execution_count": null,
   "id": "a5b6632b-af1d-4345-9446-5736fdc7393a",
   "metadata": {},
   "outputs": [],
   "source": [
    "m = [\"1\", 2, 3]\n",
    "pd.to_numeric(m, downcast=\"integer\")  # smallest signed int dtype\n",
    "pd.to_numeric(m, downcast=\"signed\")  # same as 'integer'\n",
    "pd.to_numeric(m, downcast=\"unsigned\")  # smallest unsigned int dtype\n",
    "pd.to_numeric(m, downcast=\"float\")  # smallest float dtype"
   ]
  },
  {
   "cell_type": "markdown",
   "id": "42ceb7f0-79ae-4fab-ba10-ef4ebf73f154",
   "metadata": {},
   "source": [
    "As these methods apply only to one-dimensional arrays, lists or scalars; they cannot be used directly on multi-dimensional objects such\n",
    "as DataFrames. However, with [`apply()`](../reference/api/pandas.DataFrame.apply.html#pandas.DataFrame.apply \"pandas.DataFrame.apply\"), we can “apply” the function over each column efficiently:"
   ]
  },
  {
   "cell_type": "code",
   "execution_count": null,
   "id": "39fdc129-204a-461b-8b51-5940ab53a7ba",
   "metadata": {},
   "outputs": [],
   "source": [
    "import datetime\n",
    "df = pd.DataFrame([[\"2016-07-09\", datetime.datetime(2016, 3, 2)]] * 2, dtype=\"O\")\n",
    "df\n",
    "df.apply(pd.to_datetime)\n",
    "df = pd.DataFrame([[\"1.1\", 2, 3]] * 2, dtype=\"O\")\n",
    "df\n",
    "df.apply(pd.to_numeric)\n",
    "df = pd.DataFrame([[\"5us\", pd.Timedelta(\"1day\")]] * 2, dtype=\"O\")\n",
    "df\n",
    "df.apply(pd.to_timedelta)"
   ]
  },
  {
   "cell_type": "markdown",
   "id": "dc50287f-5f5d-4514-8250-44b13d424ab4",
   "metadata": {},
   "source": [
    "<a class=\"anchor\" id=\"gotchas\"></a>\n",
    "### gotchas"
   ]
  },
  {
   "cell_type": "markdown",
   "id": "2e327501-7b23-463c-bded-6b1fff81e6fa",
   "metadata": {},
   "source": [
    "Performing selection operations on `integer` type data can easily upcast the data to `floating`.\n",
    "The dtype of the input data will be preserved in cases where `nans` are not introduced.\n",
    "See also [Support for integer NA](gotchas.html#gotchas-intna)."
   ]
  },
  {
   "cell_type": "code",
   "execution_count": null,
   "id": "342be1cb-c7cd-498f-91dd-16d506907889",
   "metadata": {},
   "outputs": [],
   "source": [
    "dfi = df3.astype(\"int32\")\n",
    "dfi[\"E\"] = 1\n",
    "dfi\n",
    "dfi.dtypes\n",
    "casted = dfi[dfi > 0]\n",
    "casted\n",
    "casted.dtypes"
   ]
  },
  {
   "cell_type": "markdown",
   "id": "a9795d89-9f0a-440d-b9bf-0129e8bfda39",
   "metadata": {},
   "source": [
    "While float dtypes are unchanged."
   ]
  },
  {
   "cell_type": "code",
   "execution_count": null,
   "id": "da5f3013-03d1-4647-98eb-39f18af91e92",
   "metadata": {},
   "outputs": [],
   "source": [
    "dfa = df3.copy()\n",
    "dfa[\"A\"] = dfa[\"A\"].astype(\"float32\")\n",
    "dfa.dtypes\n",
    "casted = dfa[df2 > 0]\n",
    "casted\n",
    "casted.dtypes"
   ]
  },
  {
   "cell_type": "markdown",
   "id": "cf196405-d03a-4856-9cbc-bacde9957a87",
   "metadata": {},
   "source": [
    "<a class=\"anchor\" id=\"selecting_columns_based_on_\"></a>\n",
    "## Selecting columns based on "
   ]
  },
  {
   "cell_type": "markdown",
   "id": "2e5ef409-cfb4-4139-ae19-2eab1f572f9f",
   "metadata": {},
   "source": [
    "The [`select_dtypes()`](../reference/api/pandas.DataFrame.select_dtypes.html#pandas.DataFrame.select_dtypes \"pandas.DataFrame.select_dtypes\") method implements subsetting of columns\n",
    "based on their `dtype`."
   ]
  },
  {
   "cell_type": "markdown",
   "id": "e2576130-9b0b-403a-b009-bb2863a66974",
   "metadata": {},
   "source": [
    "First, let’s create a [`DataFrame`](../reference/api/pandas.DataFrame.html#pandas.DataFrame \"pandas.DataFrame\") with a slew of different\n",
    "dtypes:"
   ]
  },
  {
   "cell_type": "code",
   "execution_count": null,
   "id": "ff1f7b0b-bff7-4ff9-a596-7fde63f92772",
   "metadata": {},
   "outputs": [],
   "source": [
    "df = pd.DataFrame(\n",
    "    {\n",
    "        \"string\": list(\"abc\"),\n",
    "        \"int64\": list(range(1, 4)),\n",
    "        \"uint8\": np.arange(3, 6).astype(\"u1\"),\n",
    "        \"float64\": np.arange(4.0, 7.0),\n",
    "        \"bool1\": [True, False, True],\n",
    "        \"bool2\": [False, True, False],\n",
    "        \"dates\": pd.date_range(\"now\", periods=3),\n",
    "        \"category\": pd.Series(list(\"ABC\")).astype(\"category\"),\n",
    "    }\n",
    ")\n",
    "\n",
    "df[\"tdeltas\"] = df.dates.diff()\n",
    "df[\"uint64\"] = np.arange(3, 6).astype(\"u8\")\n",
    "df[\"other_dates\"] = pd.date_range(\"20130101\", periods=3)\n",
    "df[\"tz_aware_dates\"] = pd.date_range(\"20130101\", periods=3, tz=\"US/Eastern\")\n",
    "df"
   ]
  },
  {
   "cell_type": "markdown",
   "id": "620a01ab-c341-4d3e-a259-657ebd8c64cd",
   "metadata": {},
   "source": [
    "And the dtypes:"
   ]
  },
  {
   "cell_type": "code",
   "execution_count": null,
   "id": "2920a7a3-1e9f-4228-89a6-f93c9c52867f",
   "metadata": {},
   "outputs": [],
   "source": [
    "df.dtypes"
   ]
  },
  {
   "cell_type": "markdown",
   "id": "9f78e904-1c13-4989-82e4-191ff2647ebd",
   "metadata": {},
   "source": [
    "[`select_dtypes()`](../reference/api/pandas.DataFrame.select_dtypes.html#pandas.DataFrame.select_dtypes \"pandas.DataFrame.select_dtypes\") has two parameters `include` and `exclude` that allow you to\n",
    "say “give me the columns *with* these dtypes” (`include`) and/or “give the\n",
    "columns *without* these dtypes” (`exclude`)."
   ]
  },
  {
   "cell_type": "markdown",
   "id": "7244f4cd-8a73-43ec-bb51-486d722384c3",
   "metadata": {},
   "source": [
    "For example, to select `bool` columns:"
   ]
  },
  {
   "cell_type": "code",
   "execution_count": null,
   "id": "59772f5c-ba89-4658-8ab9-7f12615ab85a",
   "metadata": {},
   "outputs": [],
   "source": [
    "df.select_dtypes(include=[bool])"
   ]
  },
  {
   "cell_type": "markdown",
   "id": "54547613-0a42-4b91-ac17-0346a4922ce6",
   "metadata": {},
   "source": [
    "You can also pass the name of a dtype in the [NumPy dtype hierarchy](https://numpy.org/doc/stable/reference/arrays.scalars.html):"
   ]
  },
  {
   "cell_type": "code",
   "execution_count": null,
   "id": "3ffae939-461a-4f66-ac29-94661c3e2b62",
   "metadata": {},
   "outputs": [],
   "source": [
    "df.select_dtypes(include=[\"bool\"])"
   ]
  },
  {
   "cell_type": "markdown",
   "id": "baaee693-b72d-4800-b5bf-b9f3e3ed5d51",
   "metadata": {},
   "source": [
    "[`select_dtypes()`](../reference/api/pandas.DataFrame.select_dtypes.html#pandas.DataFrame.select_dtypes \"pandas.DataFrame.select_dtypes\") also works with generic dtypes as well."
   ]
  },
  {
   "cell_type": "markdown",
   "id": "41962d56-3a73-4c53-8453-3f9331218278",
   "metadata": {},
   "source": [
    "For example, to select all numeric and boolean columns while excluding unsigned\n",
    "integers:"
   ]
  },
  {
   "cell_type": "code",
   "execution_count": null,
   "id": "42c1cfea-b8e8-4341-9b9c-6c1780b90191",
   "metadata": {},
   "outputs": [],
   "source": [
    "df.select_dtypes(include=[\"number\", \"bool\"], exclude=[\"unsignedinteger\"])"
   ]
  },
  {
   "cell_type": "markdown",
   "id": "0566cef8-ae61-4eea-869f-3e3694bf5577",
   "metadata": {},
   "source": [
    "To select string columns you must use the `object` dtype:"
   ]
  },
  {
   "cell_type": "code",
   "execution_count": null,
   "id": "b07fc6b9-13c5-4969-bc1c-37d4826ce727",
   "metadata": {},
   "outputs": [],
   "source": [
    "df.select_dtypes(include=[\"object\"])"
   ]
  },
  {
   "cell_type": "markdown",
   "id": "dadc7772-6b7f-4f1f-a7bf-05f992d8a9b4",
   "metadata": {},
   "source": [
    "To see all the child dtypes of a generic `dtype` like `numpy.number` you\n",
    "can define a function that returns a tree of child dtypes:"
   ]
  },
  {
   "cell_type": "code",
   "execution_count": null,
   "id": "d0bc3bf5-a233-47a3-85a1-644c17dffa32",
   "metadata": {},
   "outputs": [],
   "source": [
    "def subdtypes(dtype):\n",
    "    subs = dtype.__subclasses__()\n",
    "    if not subs:\n",
    "        return dtype\n",
    "    return [dtype, [subdtypes(dt) for dt in subs]]\n"
   ]
  },
  {
   "cell_type": "markdown",
   "id": "2a60a876-e5cd-46ee-8a2d-7c13d0137b65",
   "metadata": {},
   "source": [
    "All NumPy dtypes are subclasses of `numpy.generic`:"
   ]
  },
  {
   "cell_type": "code",
   "execution_count": null,
   "id": "d664ba25-2804-44b2-bfaa-5efd63d69402",
   "metadata": {},
   "outputs": [],
   "source": [
    "subdtypes(np.generic)"
   ]
  },
  {
   "cell_type": "markdown",
   "id": "39bc8495-2c52-4d4c-a9f7-588596d133e2",
   "metadata": {},
   "source": [
    "Note"
   ]
  },
  {
   "cell_type": "markdown",
   "id": "eb29ee61-c909-439c-b4e2-32181a45bdf0",
   "metadata": {},
   "source": [
    "pandas also defines the types `category`, and `datetime64[ns, tz]`, which are not integrated into the normal\n",
    "NumPy hierarchy and won’t show up with the above function."
   ]
  }
 ],
 "metadata": {
  "kernelspec": {
   "display_name": "Python 3",
   "language": "python",
   "name": "python3"
  },
  "language_info": {
   "codemirror_mode": {
    "name": "ipython",
    "version": 3
   },
   "file_extension": ".py",
   "mimetype": "text/x-python",
   "name": "python",
   "nbconvert_exporter": "python",
   "pygments_lexer": "ipython3",
   "version": "3.8.11"
  }
 },
 "nbformat": 4,
 "nbformat_minor": 5
}
