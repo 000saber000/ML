{
 "cells": [
  {
   "cell_type": "markdown",
   "id": "1ef78166-3c84-498d-91ea-b52ac60835bf",
   "metadata": {},
   "source": [
    "<img src=\"../../../images/banners/pandas-cropped.jpeg\" width=\"600\"/>"
   ]
  },
  {
   "cell_type": "markdown",
   "id": "b0602859-60fa-41d4-a83b-046290cc3481",
   "metadata": {},
   "source": [
    "<a class=\"anchor\" id=\"intro_to_data_structures\"></a>\n",
    "# <img src=\"../../../images/logos/pandas.png\" width=\"23\"/> DataFrame Mini Project: Twitter Data"
   ]
  },
  {
   "cell_type": "markdown",
   "id": "75c006ec-7c0c-4d32-852b-a191b64883db",
   "metadata": {
    "tags": []
   },
   "source": [
    "## <img src=\"../../../images/logos/toc.png\" width=\"20\"/> Table of Contents\n",
    "* [Required Libraries](#required-libraries)\n",
    "* [Call API](#call-api)\n",
    "* [Extract First name and Last name](#extract-firstname-and-lastname)\n",
    "* [Predict Gender](#predict-gender)\n",
    "* [Your Turn!](#your-turn)\n",
    "\n",
    "---"
   ]
  },
  {
   "cell_type": "markdown",
   "id": "32a3b270-4ae4-4d79-aef4-2bcbbd8a10a4",
   "metadata": {},
   "source": [
    "# Required Libraries"
   ]
  },
  {
   "cell_type": "markdown",
   "id": "7a5b7a7f-9823-4828-bbd4-af99aedd9e3c",
   "metadata": {},
   "source": [
    "Twitter has API that you can use to extract tweets and users. Here we are using tweepy library to do so."
   ]
  },
  {
   "cell_type": "code",
   "execution_count": 1,
   "id": "21581ead-c75a-43af-b078-afa3d9d0abb9",
   "metadata": {},
   "outputs": [
    {
     "name": "stdout",
     "output_type": "stream",
     "text": [
      "Requirement already satisfied: tweepy in /Users/ali/opt/anaconda3/envs/py38/lib/python3.8/site-packages (4.10.1)\n",
      "Requirement already satisfied: requests<3,>=2.27.0 in /Users/ali/opt/anaconda3/envs/py38/lib/python3.8/site-packages (from tweepy) (2.27.1)\n",
      "Requirement already satisfied: oauthlib<4,>=3.2.0 in /Users/ali/opt/anaconda3/envs/py38/lib/python3.8/site-packages (from tweepy) (3.2.0)\n",
      "Requirement already satisfied: requests-oauthlib<2,>=1.2.0 in /Users/ali/opt/anaconda3/envs/py38/lib/python3.8/site-packages (from tweepy) (1.3.1)\n",
      "Requirement already satisfied: charset-normalizer~=2.0.0 in /Users/ali/opt/anaconda3/envs/py38/lib/python3.8/site-packages (from requests<3,>=2.27.0->tweepy) (2.0.9)\n",
      "Requirement already satisfied: certifi>=2017.4.17 in /Users/ali/opt/anaconda3/envs/py38/lib/python3.8/site-packages (from requests<3,>=2.27.0->tweepy) (2021.5.30)\n",
      "Requirement already satisfied: idna<4,>=2.5 in /Users/ali/opt/anaconda3/envs/py38/lib/python3.8/site-packages (from requests<3,>=2.27.0->tweepy) (2.10)\n",
      "Requirement already satisfied: urllib3<1.27,>=1.21.1 in /Users/ali/opt/anaconda3/envs/py38/lib/python3.8/site-packages (from requests<3,>=2.27.0->tweepy) (1.25.11)\n"
     ]
    }
   ],
   "source": [
    "!pip install tweepy"
   ]
  },
  {
   "cell_type": "code",
   "execution_count": 2,
   "id": "11b98e13-4fc8-4c5c-837c-36a2ac869c9c",
   "metadata": {},
   "outputs": [],
   "source": [
    "import tweepy"
   ]
  },
  {
   "cell_type": "code",
   "execution_count": null,
   "id": "369d7bc6-373f-4abe-b835-c5ac37666fe1",
   "metadata": {},
   "outputs": [],
   "source": [
    "from pathlib import Path\n",
    "import pandas as pd\n",
    "import json\n",
    "import os\n",
    "from tqdm import tqdm"
   ]
  },
  {
   "cell_type": "markdown",
   "id": "2aa4a336-ccd7-4681-afe3-a08ae505a66f",
   "metadata": {},
   "source": [
    "# Connect to the API"
   ]
  },
  {
   "cell_type": "markdown",
   "id": "98155e98-4ed5-4c77-804d-7e2510e24f6a",
   "metadata": {},
   "source": [
    "To use twitter API, you first need to get a developer account. Read [here](https://developer.twitter.com/en/docs/twitter-api/getting-started/getting-access-to-the-twitter-api) to learn how to do that."
   ]
  },
  {
   "cell_type": "markdown",
   "id": "f4d2b980-1f37-4252-9289-09edf3b6c8ab",
   "metadata": {},
   "source": [
    "After you get an account, you can get access tokens and keys to authenticate and call the API."
   ]
  },
  {
   "cell_type": "code",
   "execution_count": 4,
   "id": "11a930ef-dfae-4379-9c98-fe64608483db",
   "metadata": {},
   "outputs": [],
   "source": [
    "CONSUMER_KEY = os.environ['CONSUMER_KEY']\n",
    "CONSUMER_SECRET = os.environ['CONSUMER_SECRET']\n",
    "ACCESS_TOKEN = os.environ['ACCESS_TOKEN']\n",
    "ACCESS_TOKEN_SECRET = os.environ['ACCESS_TOKEN_SECRET']\n",
    "BEARER_TOKEN = os.environ['BEARER_TOKEN']"
   ]
  },
  {
   "cell_type": "code",
   "execution_count": 5,
   "id": "c5c7c035-1a27-4b56-a9a3-3d3e81a19328",
   "metadata": {},
   "outputs": [],
   "source": [
    "auth = tweepy.OAuth2AppHandler(\n",
    "    CONSUMER_KEY, CONSUMER_SECRET\n",
    ")\n",
    "api = tweepy.API(auth)"
   ]
  },
  {
   "cell_type": "code",
   "execution_count": 6,
   "id": "9f3ef331-fafe-473d-ba87-ec8ba8f482ed",
   "metadata": {},
   "outputs": [],
   "source": [
    "auth = tweepy.OAuthHandler(CONSUMER_KEY, CONSUMER_SECRET)\n",
    "auth.set_access_token(ACCESS_TOKEN, ACCESS_TOKEN_SECRET)\n",
    "api = tweepy.API(auth, wait_on_rate_limit=True)"
   ]
  },
  {
   "cell_type": "markdown",
   "id": "cb1d1b93-53de-4dea-a12a-e5ed59398ab5",
   "metadata": {},
   "source": [
    "# Call the API"
   ]
  },
  {
   "cell_type": "code",
   "execution_count": 15,
   "id": "a986103d-e4e4-42d1-b169-e3be4de75c68",
   "metadata": {
    "scrolled": true,
    "tags": []
   },
   "outputs": [],
   "source": [
    "tweets = []\n",
    "for page in tqdm(tweepy.Cursor(\n",
    "    api.search_tweets,\n",
    "    tweet_mode='extended',\n",
    "    q = \"#مهسا_امینی\",\n",
    "    count = 100,\n",
    "    # lang=\"en\",\n",
    ").pages(1000)):\n",
    "    for tweet in page:\n",
    "        json_data = tweet._json\n",
    "        with open(f'./data/twitter_data/{json_data[\"id\"]}.json', 'w') as f:\n",
    "            json.dump(json_data, f)"
   ]
  },
  {
   "cell_type": "markdown",
   "id": "b4edc777-11db-49b2-a419-282f7ff66e6f",
   "metadata": {},
   "source": [
    "# Read Dumped Data"
   ]
  },
  {
   "cell_type": "code",
   "execution_count": 18,
   "id": "3cf512c4-e147-461a-ab44-cadd2adabf62",
   "metadata": {},
   "outputs": [],
   "source": [
    "DATA_DIR = Path('./data/twitter_data')"
   ]
  },
  {
   "cell_type": "code",
   "execution_count": 19,
   "id": "e2e22451-b367-42b8-8931-fd86cd1fd57d",
   "metadata": {},
   "outputs": [],
   "source": [
    "def read_json(file_path):\n",
    "    with open(file_path) as f:\n",
    "        return json.load(f)"
   ]
  },
  {
   "cell_type": "code",
   "execution_count": 22,
   "id": "5a09a35c-c3d6-4262-a8ad-4d355153707d",
   "metadata": {},
   "outputs": [
    {
     "name": "stderr",
     "output_type": "stream",
     "text": [
      "70853it [00:14, 4904.02it/s]\n"
     ]
    }
   ],
   "source": [
    "rows = []\n",
    "for file_path in tqdm(DATA_DIR.iterdir()):\n",
    "    if file_path.is_dir():\n",
    "        continue\n",
    "    d = read_json(file_path)\n",
    "    \n",
    "    rows.append(dict(\n",
    "        name = d['user']['name'],\n",
    "        followers = d['user']['followers_count'],\n",
    "        following = d['user']['friends_count'],\n",
    "        follower_following_ratio =  d['user']['followers_count'] / (d['user']['friends_count'] + 1),\n",
    "        text = d.get('full_text') or d.get('text'),\n",
    "        hashtags = list(map(lambda item: item['text'], d['entities']['hashtags'])),\n",
    "        likes = d['favorite_count'],\n",
    "        retweets = d['retweet_count'],\n",
    "    ))"
   ]
  },
  {
   "cell_type": "code",
   "execution_count": 23,
   "id": "e4d6de13-f3be-4734-83c8-1076536ecfd0",
   "metadata": {},
   "outputs": [],
   "source": [
    "df = pd.DataFrame(rows)"
   ]
  },
  {
   "cell_type": "code",
   "execution_count": 29,
   "id": "2957bc0c-7995-4ac6-a52b-ad307013f814",
   "metadata": {},
   "outputs": [],
   "source": [
    "pd.set_option('display.min_rows', 20)\n",
    "pd.set_option('display.max_colwidth', 200)"
   ]
  },
  {
   "cell_type": "code",
   "execution_count": null,
   "id": "b0bc8768-1c66-4770-8dc1-7585e18db6ba",
   "metadata": {},
   "outputs": [],
   "source": []
  }
 ],
 "metadata": {
  "kernelspec": {
   "display_name": "Python 3",
   "language": "python",
   "name": "python3"
  },
  "language_info": {
   "codemirror_mode": {
    "name": "ipython",
    "version": 3
   },
   "file_extension": ".py",
   "mimetype": "text/x-python",
   "name": "python",
   "nbconvert_exporter": "python",
   "pygments_lexer": "ipython3",
   "version": "3.8.11"
  }
 },
 "nbformat": 4,
 "nbformat_minor": 5
}
