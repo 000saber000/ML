{
 "cells": [
  {
   "cell_type": "markdown",
   "id": "fb3747d7",
   "metadata": {},
   "source": [
    "<img src=\"../../../images/banners/pandas-cropped.jpeg\" width=\"600\"/>"
   ]
  },
  {
   "cell_type": "markdown",
   "id": "a56b541d",
   "metadata": {},
   "source": [
    "<a class=\"anchor\" id=\"essential_basic_functionality\"></a>\n",
    "# <img src=\"../../../images/logos/pandas.png\" width=\"23\"/>  Descriptive Statistics"
   ]
  },
  {
   "cell_type": "markdown",
   "id": "e967bee5",
   "metadata": {},
   "source": [
    "## <img src=\"../../../images/logos/toc.png\" width=\"20\"/> Table of Contents \n",
    "* [Descriptive statistics](#descriptive_statistics)\n",
    "    * [Summarizing data: describe](#summarizing_data:_describe)\n",
    "    * [Index of min/max values](#index_of_min/max_values)\n",
    "    * [Value counts (histogramming) / mode](#value_counts_(histogramming)_/_mode)\n",
    "    * [Discretization and quantiling](#discretization_and_quantiling)\n",
    "\n",
    "---"
   ]
  },
  {
   "cell_type": "code",
   "execution_count": 1,
   "id": "01fe676a-c16a-424d-8d22-40fb9467673b",
   "metadata": {},
   "outputs": [],
   "source": [
    "import pandas as pd\n",
    "import numpy as np"
   ]
  },
  {
   "cell_type": "code",
   "execution_count": 2,
   "id": "a4ec9250",
   "metadata": {},
   "outputs": [],
   "source": [
    "df = pd.DataFrame(\n",
    "    {\n",
    "        \"one\": pd.Series(np.random.randn(3), index=[\"a\", \"b\", \"c\"]),\n",
    "        \"two\": pd.Series(np.random.randn(4), index=[\"a\", \"b\", \"c\", \"d\"]),\n",
    "        \"three\": pd.Series(np.random.randn(3), index=[\"b\", \"c\", \"d\"]),\n",
    "    }\n",
    ")"
   ]
  },
  {
   "cell_type": "code",
   "execution_count": 3,
   "id": "f50793e9-8150-4ab6-bb98-317f5df78971",
   "metadata": {},
   "outputs": [
    {
     "data": {
      "text/html": [
       "<div>\n",
       "<style scoped>\n",
       "    .dataframe tbody tr th:only-of-type {\n",
       "        vertical-align: middle;\n",
       "    }\n",
       "\n",
       "    .dataframe tbody tr th {\n",
       "        vertical-align: top;\n",
       "    }\n",
       "\n",
       "    .dataframe thead th {\n",
       "        text-align: right;\n",
       "    }\n",
       "</style>\n",
       "<table border=\"1\" class=\"dataframe\">\n",
       "  <thead>\n",
       "    <tr style=\"text-align: right;\">\n",
       "      <th></th>\n",
       "      <th>one</th>\n",
       "      <th>two</th>\n",
       "      <th>three</th>\n",
       "    </tr>\n",
       "  </thead>\n",
       "  <tbody>\n",
       "    <tr>\n",
       "      <th>a</th>\n",
       "      <td>1.427925</td>\n",
       "      <td>-0.737671</td>\n",
       "      <td>NaN</td>\n",
       "    </tr>\n",
       "    <tr>\n",
       "      <th>b</th>\n",
       "      <td>0.187125</td>\n",
       "      <td>2.416114</td>\n",
       "      <td>-2.156894</td>\n",
       "    </tr>\n",
       "    <tr>\n",
       "      <th>c</th>\n",
       "      <td>0.185986</td>\n",
       "      <td>-0.391179</td>\n",
       "      <td>0.454061</td>\n",
       "    </tr>\n",
       "    <tr>\n",
       "      <th>d</th>\n",
       "      <td>NaN</td>\n",
       "      <td>-0.225035</td>\n",
       "      <td>-0.140469</td>\n",
       "    </tr>\n",
       "  </tbody>\n",
       "</table>\n",
       "</div>"
      ],
      "text/plain": [
       "        one       two     three\n",
       "a  1.427925 -0.737671       NaN\n",
       "b  0.187125  2.416114 -2.156894\n",
       "c  0.185986 -0.391179  0.454061\n",
       "d       NaN -0.225035 -0.140469"
      ]
     },
     "execution_count": 3,
     "metadata": {},
     "output_type": "execute_result"
    }
   ],
   "source": [
    "df"
   ]
  },
  {
   "cell_type": "markdown",
   "id": "647ef816",
   "metadata": {},
   "source": [
    "<a class=\"anchor\" id=\"descriptive_statistics\"></a>\n",
    "## Descriptive statistics"
   ]
  },
  {
   "cell_type": "markdown",
   "id": "a71717c9",
   "metadata": {},
   "source": [
    "There exists a large number of methods for computing descriptive statistics and\n",
    "other related operations on [Series](../reference/series.html#api-series-stats), [DataFrame](../reference/frame.html#api-dataframe-stats). Most of these\n",
    "are aggregations (hence producing a lower-dimensional result) like\n",
    "[`sum()`](../reference/api/pandas.DataFrame.sum.html#pandas.DataFrame.sum \"pandas.DataFrame.sum\"), [`mean()`](../reference/api/pandas.DataFrame.mean.html#pandas.DataFrame.mean \"pandas.DataFrame.mean\"), and [`quantile()`](../reference/api/pandas.DataFrame.quantile.html#pandas.DataFrame.quantile \"pandas.DataFrame.quantile\"),\n",
    "but some of them, like [`cumsum()`](../reference/api/pandas.DataFrame.cumsum.html#pandas.DataFrame.cumsum \"pandas.DataFrame.cumsum\") and [`cumprod()`](../reference/api/pandas.DataFrame.cumprod.html#pandas.DataFrame.cumprod \"pandas.DataFrame.cumprod\"),\n",
    "produce an object of the same size. Generally speaking, these methods take an\n",
    "**axis** argument, just like *ndarray.{sum, std, …}*, but the axis can be\n",
    "specified by name or integer:"
   ]
  },
  {
   "cell_type": "markdown",
   "id": "63e0a6a8",
   "metadata": {},
   "source": [
    "For example:"
   ]
  },
  {
   "cell_type": "code",
   "execution_count": 4,
   "id": "6999fd3b-0ea8-4dd5-8fd2-3fbfe030f456",
   "metadata": {},
   "outputs": [
    {
     "data": {
      "text/html": [
       "<div>\n",
       "<style scoped>\n",
       "    .dataframe tbody tr th:only-of-type {\n",
       "        vertical-align: middle;\n",
       "    }\n",
       "\n",
       "    .dataframe tbody tr th {\n",
       "        vertical-align: top;\n",
       "    }\n",
       "\n",
       "    .dataframe thead th {\n",
       "        text-align: right;\n",
       "    }\n",
       "</style>\n",
       "<table border=\"1\" class=\"dataframe\">\n",
       "  <thead>\n",
       "    <tr style=\"text-align: right;\">\n",
       "      <th></th>\n",
       "      <th>one</th>\n",
       "      <th>two</th>\n",
       "      <th>three</th>\n",
       "    </tr>\n",
       "  </thead>\n",
       "  <tbody>\n",
       "    <tr>\n",
       "      <th>a</th>\n",
       "      <td>1.427925</td>\n",
       "      <td>-0.737671</td>\n",
       "      <td>NaN</td>\n",
       "    </tr>\n",
       "    <tr>\n",
       "      <th>b</th>\n",
       "      <td>0.187125</td>\n",
       "      <td>2.416114</td>\n",
       "      <td>-2.156894</td>\n",
       "    </tr>\n",
       "    <tr>\n",
       "      <th>c</th>\n",
       "      <td>0.185986</td>\n",
       "      <td>-0.391179</td>\n",
       "      <td>0.454061</td>\n",
       "    </tr>\n",
       "    <tr>\n",
       "      <th>d</th>\n",
       "      <td>NaN</td>\n",
       "      <td>-0.225035</td>\n",
       "      <td>-0.140469</td>\n",
       "    </tr>\n",
       "  </tbody>\n",
       "</table>\n",
       "</div>"
      ],
      "text/plain": [
       "        one       two     three\n",
       "a  1.427925 -0.737671       NaN\n",
       "b  0.187125  2.416114 -2.156894\n",
       "c  0.185986 -0.391179  0.454061\n",
       "d       NaN -0.225035 -0.140469"
      ]
     },
     "execution_count": 4,
     "metadata": {},
     "output_type": "execute_result"
    }
   ],
   "source": [
    "df"
   ]
  },
  {
   "cell_type": "code",
   "execution_count": 5,
   "id": "3b866519-4954-44b0-b77e-9fd4cb7fcd76",
   "metadata": {},
   "outputs": [
    {
     "data": {
      "text/plain": [
       "one      0.600345\n",
       "two      0.265557\n",
       "three   -0.614434\n",
       "dtype: float64"
      ]
     },
     "execution_count": 5,
     "metadata": {},
     "output_type": "execute_result"
    }
   ],
   "source": [
    "df.mean(axis=0)"
   ]
  },
  {
   "cell_type": "code",
   "execution_count": 6,
   "id": "10c0bf0a-4331-45f2-b109-2bd511ad317f",
   "metadata": {},
   "outputs": [
    {
     "data": {
      "text/plain": [
       "one      0.600345\n",
       "two      0.265557\n",
       "three   -0.614434\n",
       "dtype: float64"
      ]
     },
     "execution_count": 6,
     "metadata": {},
     "output_type": "execute_result"
    }
   ],
   "source": [
    "# axis = 0 is equal to axis = 'rows'\n",
    "df.mean(axis='rows')"
   ]
  },
  {
   "cell_type": "code",
   "execution_count": 7,
   "id": "029d6622-dba1-49df-a247-6a1f3633ce8c",
   "metadata": {},
   "outputs": [
    {
     "data": {
      "text/plain": [
       "one      0.600345\n",
       "two      0.265557\n",
       "three   -0.614434\n",
       "dtype: float64"
      ]
     },
     "execution_count": 7,
     "metadata": {},
     "output_type": "execute_result"
    }
   ],
   "source": [
    "# 'index' is the same as 'rows' or 0\n",
    "df.mean(axis='index')"
   ]
  },
  {
   "cell_type": "code",
   "execution_count": 8,
   "id": "31f21d60-8748-49e2-8e4c-17b55a581301",
   "metadata": {},
   "outputs": [
    {
     "data": {
      "text/plain": [
       "a    0.345127\n",
       "b    0.148782\n",
       "c    0.082956\n",
       "d   -0.182752\n",
       "dtype: float64"
      ]
     },
     "execution_count": 8,
     "metadata": {},
     "output_type": "execute_result"
    }
   ],
   "source": [
    "df.mean(axis=1)"
   ]
  },
  {
   "cell_type": "markdown",
   "id": "501a5546",
   "metadata": {},
   "source": [
    "All such methods have a `skipna` option signaling whether to exclude missing\n",
    "data (`True` by default):"
   ]
  },
  {
   "cell_type": "code",
   "execution_count": 9,
   "id": "db5c6f62-f857-49db-ae9f-82a5efe080bf",
   "metadata": {},
   "outputs": [
    {
     "data": {
      "text/html": [
       "<div>\n",
       "<style scoped>\n",
       "    .dataframe tbody tr th:only-of-type {\n",
       "        vertical-align: middle;\n",
       "    }\n",
       "\n",
       "    .dataframe tbody tr th {\n",
       "        vertical-align: top;\n",
       "    }\n",
       "\n",
       "    .dataframe thead th {\n",
       "        text-align: right;\n",
       "    }\n",
       "</style>\n",
       "<table border=\"1\" class=\"dataframe\">\n",
       "  <thead>\n",
       "    <tr style=\"text-align: right;\">\n",
       "      <th></th>\n",
       "      <th>one</th>\n",
       "      <th>two</th>\n",
       "      <th>three</th>\n",
       "    </tr>\n",
       "  </thead>\n",
       "  <tbody>\n",
       "    <tr>\n",
       "      <th>a</th>\n",
       "      <td>1.427925</td>\n",
       "      <td>-0.737671</td>\n",
       "      <td>NaN</td>\n",
       "    </tr>\n",
       "    <tr>\n",
       "      <th>b</th>\n",
       "      <td>0.187125</td>\n",
       "      <td>2.416114</td>\n",
       "      <td>-2.156894</td>\n",
       "    </tr>\n",
       "    <tr>\n",
       "      <th>c</th>\n",
       "      <td>0.185986</td>\n",
       "      <td>-0.391179</td>\n",
       "      <td>0.454061</td>\n",
       "    </tr>\n",
       "    <tr>\n",
       "      <th>d</th>\n",
       "      <td>NaN</td>\n",
       "      <td>-0.225035</td>\n",
       "      <td>-0.140469</td>\n",
       "    </tr>\n",
       "  </tbody>\n",
       "</table>\n",
       "</div>"
      ],
      "text/plain": [
       "        one       two     three\n",
       "a  1.427925 -0.737671       NaN\n",
       "b  0.187125  2.416114 -2.156894\n",
       "c  0.185986 -0.391179  0.454061\n",
       "d       NaN -0.225035 -0.140469"
      ]
     },
     "execution_count": 9,
     "metadata": {},
     "output_type": "execute_result"
    }
   ],
   "source": [
    "df"
   ]
  },
  {
   "cell_type": "code",
   "execution_count": 14,
   "id": "1eebf829-4d39-47ab-8409-12954569c570",
   "metadata": {},
   "outputs": [
    {
     "data": {
      "text/plain": [
       "one      0.600345\n",
       "two      0.265557\n",
       "three   -0.614434\n",
       "dtype: float64"
      ]
     },
     "execution_count": 14,
     "metadata": {},
     "output_type": "execute_result"
    }
   ],
   "source": [
    "# skipna is by default True\n",
    "df.mean(0)"
   ]
  },
  {
   "cell_type": "code",
   "execution_count": 13,
   "id": "7cef01f6-b456-4aba-a661-77bb2718f2c5",
   "metadata": {},
   "outputs": [
    {
     "data": {
      "text/plain": [
       "one      0.600345\n",
       "two      0.265557\n",
       "three   -0.614434\n",
       "dtype: float64"
      ]
     },
     "execution_count": 13,
     "metadata": {},
     "output_type": "execute_result"
    }
   ],
   "source": [
    "df.mean(0, skipna=True)"
   ]
  },
  {
   "cell_type": "code",
   "execution_count": 12,
   "id": "883700ff-27ab-452f-93c4-15f1d9dc9fa0",
   "metadata": {},
   "outputs": [
    {
     "data": {
      "text/plain": [
       "one           NaN\n",
       "two      0.265557\n",
       "three         NaN\n",
       "dtype: float64"
      ]
     },
     "execution_count": 12,
     "metadata": {},
     "output_type": "execute_result"
    }
   ],
   "source": [
    "# with False skipna, columns with Null values return None\n",
    "df.mean(0, skipna=False)"
   ]
  },
  {
   "cell_type": "code",
   "execution_count": 11,
   "id": "10dc3dc8-f3b0-434c-a7e8-c7996e75966d",
   "metadata": {},
   "outputs": [
    {
     "data": {
      "text/plain": [
       "a    0.690255\n",
       "b    0.446345\n",
       "c    0.248868\n",
       "d   -0.365504\n",
       "dtype: float64"
      ]
     },
     "execution_count": 11,
     "metadata": {},
     "output_type": "execute_result"
    }
   ],
   "source": [
    "df.sum(axis=1)"
   ]
  },
  {
   "cell_type": "markdown",
   "id": "a1241d1f",
   "metadata": {},
   "source": [
    "Combined with the broadcasting / arithmetic behavior, one can describe various\n",
    "statistical procedures, like standardization (rendering data zero mean and\n",
    "standard deviation of 1), very concisely:"
   ]
  },
  {
   "cell_type": "code",
   "execution_count": 15,
   "id": "b670feca-c2a9-4c60-a478-f325621c1198",
   "metadata": {},
   "outputs": [
    {
     "data": {
      "text/html": [
       "<div>\n",
       "<style scoped>\n",
       "    .dataframe tbody tr th:only-of-type {\n",
       "        vertical-align: middle;\n",
       "    }\n",
       "\n",
       "    .dataframe tbody tr th {\n",
       "        vertical-align: top;\n",
       "    }\n",
       "\n",
       "    .dataframe thead th {\n",
       "        text-align: right;\n",
       "    }\n",
       "</style>\n",
       "<table border=\"1\" class=\"dataframe\">\n",
       "  <thead>\n",
       "    <tr style=\"text-align: right;\">\n",
       "      <th></th>\n",
       "      <th>one</th>\n",
       "      <th>two</th>\n",
       "      <th>three</th>\n",
       "    </tr>\n",
       "  </thead>\n",
       "  <tbody>\n",
       "    <tr>\n",
       "      <th>a</th>\n",
       "      <td>1.427925</td>\n",
       "      <td>-0.737671</td>\n",
       "      <td>NaN</td>\n",
       "    </tr>\n",
       "    <tr>\n",
       "      <th>b</th>\n",
       "      <td>0.187125</td>\n",
       "      <td>2.416114</td>\n",
       "      <td>-2.156894</td>\n",
       "    </tr>\n",
       "    <tr>\n",
       "      <th>c</th>\n",
       "      <td>0.185986</td>\n",
       "      <td>-0.391179</td>\n",
       "      <td>0.454061</td>\n",
       "    </tr>\n",
       "    <tr>\n",
       "      <th>d</th>\n",
       "      <td>NaN</td>\n",
       "      <td>-0.225035</td>\n",
       "      <td>-0.140469</td>\n",
       "    </tr>\n",
       "  </tbody>\n",
       "</table>\n",
       "</div>"
      ],
      "text/plain": [
       "        one       two     three\n",
       "a  1.427925 -0.737671       NaN\n",
       "b  0.187125  2.416114 -2.156894\n",
       "c  0.185986 -0.391179  0.454061\n",
       "d       NaN -0.225035 -0.140469"
      ]
     },
     "execution_count": 15,
     "metadata": {},
     "output_type": "execute_result"
    }
   ],
   "source": [
    "df"
   ]
  },
  {
   "cell_type": "code",
   "execution_count": 16,
   "id": "6f4e9e71-acdd-4c53-99f9-ef47e6f3ce5f",
   "metadata": {},
   "outputs": [],
   "source": [
    "ts_stand = (df - df.mean()) / df.std()"
   ]
  },
  {
   "cell_type": "code",
   "execution_count": 18,
   "id": "eb52e2f4-ffde-472b-8b4e-c34f3db02ac4",
   "metadata": {},
   "outputs": [
    {
     "data": {
      "text/plain": [
       "one      1.0\n",
       "two      1.0\n",
       "three    1.0\n",
       "dtype: float64"
      ]
     },
     "execution_count": 18,
     "metadata": {},
     "output_type": "execute_result"
    }
   ],
   "source": [
    "ts_stand.std()"
   ]
  },
  {
   "cell_type": "code",
   "execution_count": 15,
   "id": "afce1003-4e1b-4c42-b194-121c6f02cfba",
   "metadata": {},
   "outputs": [],
   "source": [
    "xs_stand = df.sub(df.mean(1), axis=0).div(df.std(1), axis=0)"
   ]
  },
  {
   "cell_type": "code",
   "execution_count": 16,
   "id": "1f54b009-af59-4ef1-b786-288574694a4f",
   "metadata": {},
   "outputs": [
    {
     "data": {
      "text/plain": [
       "a    1.0\n",
       "b    1.0\n",
       "c    1.0\n",
       "d    1.0\n",
       "dtype: float64"
      ]
     },
     "execution_count": 16,
     "metadata": {},
     "output_type": "execute_result"
    }
   ],
   "source": [
    "xs_stand.std(1)"
   ]
  },
  {
   "cell_type": "markdown",
   "id": "a0661205",
   "metadata": {},
   "source": [
    "Note that methods like `cumsum()` and `cumprod()`\n",
    "preserve the location of `NaN` values."
   ]
  },
  {
   "cell_type": "code",
   "execution_count": 17,
   "id": "291f0391",
   "metadata": {},
   "outputs": [
    {
     "data": {
      "text/html": [
       "<div>\n",
       "<style scoped>\n",
       "    .dataframe tbody tr th:only-of-type {\n",
       "        vertical-align: middle;\n",
       "    }\n",
       "\n",
       "    .dataframe tbody tr th {\n",
       "        vertical-align: top;\n",
       "    }\n",
       "\n",
       "    .dataframe thead th {\n",
       "        text-align: right;\n",
       "    }\n",
       "</style>\n",
       "<table border=\"1\" class=\"dataframe\">\n",
       "  <thead>\n",
       "    <tr style=\"text-align: right;\">\n",
       "      <th></th>\n",
       "      <th>one</th>\n",
       "      <th>two</th>\n",
       "      <th>three</th>\n",
       "    </tr>\n",
       "  </thead>\n",
       "  <tbody>\n",
       "    <tr>\n",
       "      <th>a</th>\n",
       "      <td>0.405407</td>\n",
       "      <td>1.327613</td>\n",
       "      <td>NaN</td>\n",
       "    </tr>\n",
       "    <tr>\n",
       "      <th>b</th>\n",
       "      <td>0.493397</td>\n",
       "      <td>1.550409</td>\n",
       "      <td>2.072624</td>\n",
       "    </tr>\n",
       "    <tr>\n",
       "      <th>c</th>\n",
       "      <td>0.985564</td>\n",
       "      <td>1.599159</td>\n",
       "      <td>3.919183</td>\n",
       "    </tr>\n",
       "    <tr>\n",
       "      <th>d</th>\n",
       "      <td>NaN</td>\n",
       "      <td>0.460339</td>\n",
       "      <td>0.862736</td>\n",
       "    </tr>\n",
       "  </tbody>\n",
       "</table>\n",
       "</div>"
      ],
      "text/plain": [
       "        one       two     three\n",
       "a  0.405407  1.327613       NaN\n",
       "b  0.493397  1.550409  2.072624\n",
       "c  0.985564  1.599159  3.919183\n",
       "d       NaN  0.460339  0.862736"
      ]
     },
     "execution_count": 17,
     "metadata": {},
     "output_type": "execute_result"
    }
   ],
   "source": [
    "abs(df).cumsum(axis=1)"
   ]
  },
  {
   "cell_type": "markdown",
   "id": "f927db53",
   "metadata": {},
   "source": [
    "Here is a quick reference summary table of common functions. Each also takes an\n",
    "optional `level` parameter which applies only if the object has a\n",
    "[hierarchical index](https://pandas.pydata.org/docs/user_guide/advanced.html#advanced-hierarchical).\n",
    "\n",
    "|Function|Description|\n",
    "|:--|:--|\n",
    "|`count`|Number of non-NA observations|\n",
    "|`sum`|Sum of values|\n",
    "|`mean`|Mean of values|\n",
    "|`mad`|Mean absolute deviation|\n",
    "|`median`|Arithmetic median of values|\n",
    "|`min`|Minimum|\n",
    "|`max`|Maximum|\n",
    "|`mode`|Mode|\n",
    "|`abs`|Absolute Value|\n",
    "|`prod`|Product of values|\n",
    "|`std`|Bessel-corrected sample standard deviation|\n",
    "|`var`|Unbiased variance|\n",
    "|`sem`|Standard error of the mean|\n",
    "|`skew`|Sample skewness (3rd moment)|\n",
    "|`kurt`|Sample kurtosis (4th moment)|\n",
    "|`quantile`|Sample quantile (value at %)|\n",
    "|`cumsum`|Cumulative sum|\n",
    "|`cumprod`|Cumulative product|\n",
    "|`cummax`|Cumulative maximum|\n",
    "|`cummin`|Cumulative minimum|"
   ]
  },
  {
   "cell_type": "markdown",
   "id": "0e25268f",
   "metadata": {},
   "source": [
    "[`Series.nunique()`](../reference/api/pandas.Series.nunique.html#pandas.Series.nunique \"pandas.Series.nunique\") will return the number of unique non-NA values in a\n",
    "Series:"
   ]
  },
  {
   "cell_type": "code",
   "execution_count": 18,
   "id": "6a4ec64b-bd8b-45c7-a3b2-f21a8863272a",
   "metadata": {},
   "outputs": [],
   "source": [
    "series = pd.Series(np.random.randn(500))"
   ]
  },
  {
   "cell_type": "code",
   "execution_count": 19,
   "id": "de54335c-15ee-4eb0-92f9-c34ac4300fa1",
   "metadata": {},
   "outputs": [],
   "source": [
    "series[20:500] = np.nan"
   ]
  },
  {
   "cell_type": "code",
   "execution_count": 20,
   "id": "1e23d1aa-0652-4242-8b96-96b4ab794bf0",
   "metadata": {},
   "outputs": [],
   "source": [
    "series[10:20] = 5"
   ]
  },
  {
   "cell_type": "code",
   "execution_count": 21,
   "id": "264f1f5e-1003-432d-898e-837727528801",
   "metadata": {},
   "outputs": [
    {
     "data": {
      "text/plain": [
       "0      0.124689\n",
       "1     -0.192979\n",
       "2     -1.071481\n",
       "3     -0.865944\n",
       "4      0.284645\n",
       "         ...   \n",
       "495         NaN\n",
       "496         NaN\n",
       "497         NaN\n",
       "498         NaN\n",
       "499         NaN\n",
       "Length: 500, dtype: float64"
      ]
     },
     "execution_count": 21,
     "metadata": {},
     "output_type": "execute_result"
    }
   ],
   "source": [
    "series"
   ]
  },
  {
   "cell_type": "code",
   "execution_count": 22,
   "id": "8d9fc0ab-0954-492d-b133-429af2bc1fea",
   "metadata": {},
   "outputs": [
    {
     "data": {
      "text/plain": [
       "11"
      ]
     },
     "execution_count": 22,
     "metadata": {},
     "output_type": "execute_result"
    }
   ],
   "source": [
    "series.nunique()"
   ]
  },
  {
   "cell_type": "code",
   "execution_count": 23,
   "id": "193bd1e6-ac85-4eec-af8d-132470be935a",
   "metadata": {},
   "outputs": [
    {
     "data": {
      "text/plain": [
       "one      3\n",
       "two      4\n",
       "three    3\n",
       "dtype: int64"
      ]
     },
     "execution_count": 23,
     "metadata": {},
     "output_type": "execute_result"
    }
   ],
   "source": [
    "# On a dataframe, nunique return number of \n",
    "# unique values per column\n",
    "df.nunique()"
   ]
  },
  {
   "cell_type": "code",
   "execution_count": 24,
   "id": "efce22bf-6aa6-4637-a2f8-561446b4ab0e",
   "metadata": {},
   "outputs": [
    {
     "data": {
      "text/plain": [
       "10"
      ]
     },
     "execution_count": 24,
     "metadata": {},
     "output_type": "execute_result"
    }
   ],
   "source": [
    "# You can sum to get the nunique of all the dataframe\n",
    "df.nunique().sum()"
   ]
  },
  {
   "cell_type": "markdown",
   "id": "0f41c616",
   "metadata": {},
   "source": [
    "<a class=\"anchor\" id=\"summarizing_data:_describe\"></a>\n",
    "### Summarizing data: describe"
   ]
  },
  {
   "cell_type": "markdown",
   "id": "830726a3",
   "metadata": {},
   "source": [
    "There is a convenient [`describe()`](../reference/api/pandas.DataFrame.describe.html#pandas.DataFrame.describe \"pandas.DataFrame.describe\") function which computes a variety of summary\n",
    "statistics about a Series or the columns of a DataFrame (excluding NAs of\n",
    "course):"
   ]
  },
  {
   "cell_type": "code",
   "execution_count": 25,
   "id": "805dcbd8-f144-45d1-afb5-a166d37c04d2",
   "metadata": {},
   "outputs": [],
   "source": [
    "series = pd.Series(np.random.randn(1000))\n",
    "series[::2] = np.nan"
   ]
  },
  {
   "cell_type": "code",
   "execution_count": 26,
   "id": "a7cd54d5-c1c1-4c1a-b4db-ad75b60b7a15",
   "metadata": {},
   "outputs": [
    {
     "data": {
      "text/plain": [
       "0           NaN\n",
       "1     -0.736046\n",
       "2           NaN\n",
       "3      1.572313\n",
       "4           NaN\n",
       "         ...   \n",
       "995   -1.054219\n",
       "996         NaN\n",
       "997   -1.396608\n",
       "998         NaN\n",
       "999   -1.338818\n",
       "Length: 1000, dtype: float64"
      ]
     },
     "execution_count": 26,
     "metadata": {},
     "output_type": "execute_result"
    }
   ],
   "source": [
    "series"
   ]
  },
  {
   "cell_type": "code",
   "execution_count": 27,
   "id": "4b4cb1f2-2b4a-4d7e-936f-38217a1ad56e",
   "metadata": {},
   "outputs": [
    {
     "data": {
      "text/plain": [
       "count    500.000000\n",
       "mean       0.077925\n",
       "std        1.043213\n",
       "min       -3.616198\n",
       "25%       -0.703692\n",
       "50%        0.048546\n",
       "75%        0.786755\n",
       "max        2.955457\n",
       "dtype: float64"
      ]
     },
     "execution_count": 27,
     "metadata": {},
     "output_type": "execute_result"
    }
   ],
   "source": [
    "series.describe()"
   ]
  },
  {
   "cell_type": "code",
   "execution_count": 28,
   "id": "e8a40304-dcaa-4954-9024-bddf926525d3",
   "metadata": {},
   "outputs": [],
   "source": [
    "frame = pd.DataFrame(np.random.randn(1000, 5), columns=[\"a\", \"b\", \"c\", \"d\", \"e\"])"
   ]
  },
  {
   "cell_type": "code",
   "execution_count": 29,
   "id": "5892ebc3-963f-41e3-98ea-e326f989d158",
   "metadata": {},
   "outputs": [],
   "source": [
    "frame.iloc[::2] = np.nan"
   ]
  },
  {
   "cell_type": "code",
   "execution_count": 30,
   "id": "f12b4b7d-be1b-4476-933e-8d19510f4497",
   "metadata": {},
   "outputs": [
    {
     "data": {
      "text/html": [
       "<div>\n",
       "<style scoped>\n",
       "    .dataframe tbody tr th:only-of-type {\n",
       "        vertical-align: middle;\n",
       "    }\n",
       "\n",
       "    .dataframe tbody tr th {\n",
       "        vertical-align: top;\n",
       "    }\n",
       "\n",
       "    .dataframe thead th {\n",
       "        text-align: right;\n",
       "    }\n",
       "</style>\n",
       "<table border=\"1\" class=\"dataframe\">\n",
       "  <thead>\n",
       "    <tr style=\"text-align: right;\">\n",
       "      <th></th>\n",
       "      <th>a</th>\n",
       "      <th>b</th>\n",
       "      <th>c</th>\n",
       "      <th>d</th>\n",
       "      <th>e</th>\n",
       "    </tr>\n",
       "  </thead>\n",
       "  <tbody>\n",
       "    <tr>\n",
       "      <th>0</th>\n",
       "      <td>NaN</td>\n",
       "      <td>NaN</td>\n",
       "      <td>NaN</td>\n",
       "      <td>NaN</td>\n",
       "      <td>NaN</td>\n",
       "    </tr>\n",
       "    <tr>\n",
       "      <th>1</th>\n",
       "      <td>1.713238</td>\n",
       "      <td>-2.346956</td>\n",
       "      <td>1.014164</td>\n",
       "      <td>0.512096</td>\n",
       "      <td>0.496648</td>\n",
       "    </tr>\n",
       "    <tr>\n",
       "      <th>2</th>\n",
       "      <td>NaN</td>\n",
       "      <td>NaN</td>\n",
       "      <td>NaN</td>\n",
       "      <td>NaN</td>\n",
       "      <td>NaN</td>\n",
       "    </tr>\n",
       "    <tr>\n",
       "      <th>3</th>\n",
       "      <td>0.442418</td>\n",
       "      <td>1.656653</td>\n",
       "      <td>0.879736</td>\n",
       "      <td>-1.796171</td>\n",
       "      <td>-0.188142</td>\n",
       "    </tr>\n",
       "    <tr>\n",
       "      <th>4</th>\n",
       "      <td>NaN</td>\n",
       "      <td>NaN</td>\n",
       "      <td>NaN</td>\n",
       "      <td>NaN</td>\n",
       "      <td>NaN</td>\n",
       "    </tr>\n",
       "    <tr>\n",
       "      <th>...</th>\n",
       "      <td>...</td>\n",
       "      <td>...</td>\n",
       "      <td>...</td>\n",
       "      <td>...</td>\n",
       "      <td>...</td>\n",
       "    </tr>\n",
       "    <tr>\n",
       "      <th>995</th>\n",
       "      <td>0.194642</td>\n",
       "      <td>1.050837</td>\n",
       "      <td>-1.734796</td>\n",
       "      <td>2.027515</td>\n",
       "      <td>-0.816050</td>\n",
       "    </tr>\n",
       "    <tr>\n",
       "      <th>996</th>\n",
       "      <td>NaN</td>\n",
       "      <td>NaN</td>\n",
       "      <td>NaN</td>\n",
       "      <td>NaN</td>\n",
       "      <td>NaN</td>\n",
       "    </tr>\n",
       "    <tr>\n",
       "      <th>997</th>\n",
       "      <td>0.397263</td>\n",
       "      <td>1.479883</td>\n",
       "      <td>0.743889</td>\n",
       "      <td>-0.523416</td>\n",
       "      <td>1.296781</td>\n",
       "    </tr>\n",
       "    <tr>\n",
       "      <th>998</th>\n",
       "      <td>NaN</td>\n",
       "      <td>NaN</td>\n",
       "      <td>NaN</td>\n",
       "      <td>NaN</td>\n",
       "      <td>NaN</td>\n",
       "    </tr>\n",
       "    <tr>\n",
       "      <th>999</th>\n",
       "      <td>-0.080329</td>\n",
       "      <td>-0.360493</td>\n",
       "      <td>0.913414</td>\n",
       "      <td>-0.052515</td>\n",
       "      <td>0.354944</td>\n",
       "    </tr>\n",
       "  </tbody>\n",
       "</table>\n",
       "<p>1000 rows × 5 columns</p>\n",
       "</div>"
      ],
      "text/plain": [
       "            a         b         c         d         e\n",
       "0         NaN       NaN       NaN       NaN       NaN\n",
       "1    1.713238 -2.346956  1.014164  0.512096  0.496648\n",
       "2         NaN       NaN       NaN       NaN       NaN\n",
       "3    0.442418  1.656653  0.879736 -1.796171 -0.188142\n",
       "4         NaN       NaN       NaN       NaN       NaN\n",
       "..        ...       ...       ...       ...       ...\n",
       "995  0.194642  1.050837 -1.734796  2.027515 -0.816050\n",
       "996       NaN       NaN       NaN       NaN       NaN\n",
       "997  0.397263  1.479883  0.743889 -0.523416  1.296781\n",
       "998       NaN       NaN       NaN       NaN       NaN\n",
       "999 -0.080329 -0.360493  0.913414 -0.052515  0.354944\n",
       "\n",
       "[1000 rows x 5 columns]"
      ]
     },
     "execution_count": 30,
     "metadata": {},
     "output_type": "execute_result"
    }
   ],
   "source": [
    "frame"
   ]
  },
  {
   "cell_type": "code",
   "execution_count": 31,
   "id": "5ed194ae-756c-4747-a9ff-35be3aece8c5",
   "metadata": {},
   "outputs": [
    {
     "data": {
      "text/html": [
       "<div>\n",
       "<style scoped>\n",
       "    .dataframe tbody tr th:only-of-type {\n",
       "        vertical-align: middle;\n",
       "    }\n",
       "\n",
       "    .dataframe tbody tr th {\n",
       "        vertical-align: top;\n",
       "    }\n",
       "\n",
       "    .dataframe thead th {\n",
       "        text-align: right;\n",
       "    }\n",
       "</style>\n",
       "<table border=\"1\" class=\"dataframe\">\n",
       "  <thead>\n",
       "    <tr style=\"text-align: right;\">\n",
       "      <th></th>\n",
       "      <th>a</th>\n",
       "      <th>b</th>\n",
       "      <th>c</th>\n",
       "      <th>d</th>\n",
       "      <th>e</th>\n",
       "    </tr>\n",
       "  </thead>\n",
       "  <tbody>\n",
       "    <tr>\n",
       "      <th>count</th>\n",
       "      <td>500.000000</td>\n",
       "      <td>500.000000</td>\n",
       "      <td>500.000000</td>\n",
       "      <td>500.000000</td>\n",
       "      <td>500.000000</td>\n",
       "    </tr>\n",
       "    <tr>\n",
       "      <th>mean</th>\n",
       "      <td>-0.047587</td>\n",
       "      <td>0.082454</td>\n",
       "      <td>-0.025749</td>\n",
       "      <td>-0.023298</td>\n",
       "      <td>-0.031115</td>\n",
       "    </tr>\n",
       "    <tr>\n",
       "      <th>std</th>\n",
       "      <td>1.019625</td>\n",
       "      <td>1.015090</td>\n",
       "      <td>0.993654</td>\n",
       "      <td>0.990709</td>\n",
       "      <td>1.022087</td>\n",
       "    </tr>\n",
       "    <tr>\n",
       "      <th>min</th>\n",
       "      <td>-2.603920</td>\n",
       "      <td>-3.077224</td>\n",
       "      <td>-2.750218</td>\n",
       "      <td>-2.744637</td>\n",
       "      <td>-3.408333</td>\n",
       "    </tr>\n",
       "    <tr>\n",
       "      <th>25%</th>\n",
       "      <td>-0.761454</td>\n",
       "      <td>-0.602004</td>\n",
       "      <td>-0.731159</td>\n",
       "      <td>-0.685800</td>\n",
       "      <td>-0.692282</td>\n",
       "    </tr>\n",
       "    <tr>\n",
       "      <th>50%</th>\n",
       "      <td>-0.036247</td>\n",
       "      <td>0.090947</td>\n",
       "      <td>-0.055690</td>\n",
       "      <td>-0.006789</td>\n",
       "      <td>-0.018084</td>\n",
       "    </tr>\n",
       "    <tr>\n",
       "      <th>75%</th>\n",
       "      <td>0.684091</td>\n",
       "      <td>0.802065</td>\n",
       "      <td>0.689926</td>\n",
       "      <td>0.601347</td>\n",
       "      <td>0.652051</td>\n",
       "    </tr>\n",
       "    <tr>\n",
       "      <th>max</th>\n",
       "      <td>3.620525</td>\n",
       "      <td>2.837467</td>\n",
       "      <td>2.756257</td>\n",
       "      <td>2.708410</td>\n",
       "      <td>3.097964</td>\n",
       "    </tr>\n",
       "  </tbody>\n",
       "</table>\n",
       "</div>"
      ],
      "text/plain": [
       "                a           b           c           d           e\n",
       "count  500.000000  500.000000  500.000000  500.000000  500.000000\n",
       "mean    -0.047587    0.082454   -0.025749   -0.023298   -0.031115\n",
       "std      1.019625    1.015090    0.993654    0.990709    1.022087\n",
       "min     -2.603920   -3.077224   -2.750218   -2.744637   -3.408333\n",
       "25%     -0.761454   -0.602004   -0.731159   -0.685800   -0.692282\n",
       "50%     -0.036247    0.090947   -0.055690   -0.006789   -0.018084\n",
       "75%      0.684091    0.802065    0.689926    0.601347    0.652051\n",
       "max      3.620525    2.837467    2.756257    2.708410    3.097964"
      ]
     },
     "execution_count": 31,
     "metadata": {},
     "output_type": "execute_result"
    }
   ],
   "source": [
    "frame.describe()"
   ]
  },
  {
   "cell_type": "markdown",
   "id": "62b0a814",
   "metadata": {},
   "source": [
    "You can select specific percentiles to include in the output:"
   ]
  },
  {
   "cell_type": "code",
   "execution_count": 32,
   "id": "e94be81f",
   "metadata": {},
   "outputs": [
    {
     "data": {
      "text/plain": [
       "count    500.000000\n",
       "mean       0.077925\n",
       "std        1.043213\n",
       "min       -3.616198\n",
       "5%        -1.488540\n",
       "25%       -0.703692\n",
       "50%        0.048546\n",
       "75%        0.786755\n",
       "95%        1.819053\n",
       "max        2.955457\n",
       "dtype: float64"
      ]
     },
     "execution_count": 32,
     "metadata": {},
     "output_type": "execute_result"
    }
   ],
   "source": [
    "series.describe(percentiles=[0.05, 0.25, 0.75, 0.95])"
   ]
  },
  {
   "cell_type": "markdown",
   "id": "55c20218",
   "metadata": {},
   "source": [
    "**By default, the median (50% percentile) is always included.**"
   ]
  },
  {
   "cell_type": "markdown",
   "id": "f58b64d0",
   "metadata": {},
   "source": [
    "For a non-numerical Series object, [`describe()`](../reference/api/pandas.Series.describe.html#pandas.Series.describe \"pandas.Series.describe\") will give a simple\n",
    "summary of the number of unique values and most frequently occurring values:"
   ]
  },
  {
   "cell_type": "code",
   "execution_count": 33,
   "id": "7b315fdc-5ca7-4f41-9c4d-047f11a509d1",
   "metadata": {},
   "outputs": [],
   "source": [
    "s = pd.Series([\"a\", \"a\", \"b\", \"b\", \"a\", \"a\", np.nan, \"c\", \"d\", \"a\"])"
   ]
  },
  {
   "cell_type": "code",
   "execution_count": 34,
   "id": "38e798c5-efdd-42e3-9764-04148614542b",
   "metadata": {},
   "outputs": [
    {
     "data": {
      "text/plain": [
       "count     9\n",
       "unique    4\n",
       "top       a\n",
       "freq      5\n",
       "dtype: object"
      ]
     },
     "execution_count": 34,
     "metadata": {},
     "output_type": "execute_result"
    }
   ],
   "source": [
    "s.describe()"
   ]
  },
  {
   "cell_type": "markdown",
   "id": "296b88c2",
   "metadata": {},
   "source": [
    "Note that on a mixed-type DataFrame object, [`describe()`](../reference/api/pandas.DataFrame.describe.html#pandas.DataFrame.describe \"pandas.DataFrame.describe\") will\n",
    "restrict the summary to include only numerical columns or, if none are, only\n",
    "categorical columns:"
   ]
  },
  {
   "cell_type": "code",
   "execution_count": 35,
   "id": "f84b8aae-1b2a-4c50-ab40-a3aedee26787",
   "metadata": {},
   "outputs": [],
   "source": [
    "frame = pd.DataFrame(\n",
    "    {\"a\": [\"Yes\", \"Yes\", \"No\", \"No\"], \"b\": range(4)}\n",
    ")"
   ]
  },
  {
   "cell_type": "code",
   "execution_count": 36,
   "id": "158ff2ac-4e0f-4403-aed6-f9209c0e3d8e",
   "metadata": {},
   "outputs": [
    {
     "data": {
      "text/html": [
       "<div>\n",
       "<style scoped>\n",
       "    .dataframe tbody tr th:only-of-type {\n",
       "        vertical-align: middle;\n",
       "    }\n",
       "\n",
       "    .dataframe tbody tr th {\n",
       "        vertical-align: top;\n",
       "    }\n",
       "\n",
       "    .dataframe thead th {\n",
       "        text-align: right;\n",
       "    }\n",
       "</style>\n",
       "<table border=\"1\" class=\"dataframe\">\n",
       "  <thead>\n",
       "    <tr style=\"text-align: right;\">\n",
       "      <th></th>\n",
       "      <th>b</th>\n",
       "    </tr>\n",
       "  </thead>\n",
       "  <tbody>\n",
       "    <tr>\n",
       "      <th>count</th>\n",
       "      <td>4.000000</td>\n",
       "    </tr>\n",
       "    <tr>\n",
       "      <th>mean</th>\n",
       "      <td>1.500000</td>\n",
       "    </tr>\n",
       "    <tr>\n",
       "      <th>std</th>\n",
       "      <td>1.290994</td>\n",
       "    </tr>\n",
       "    <tr>\n",
       "      <th>min</th>\n",
       "      <td>0.000000</td>\n",
       "    </tr>\n",
       "    <tr>\n",
       "      <th>25%</th>\n",
       "      <td>0.750000</td>\n",
       "    </tr>\n",
       "    <tr>\n",
       "      <th>50%</th>\n",
       "      <td>1.500000</td>\n",
       "    </tr>\n",
       "    <tr>\n",
       "      <th>75%</th>\n",
       "      <td>2.250000</td>\n",
       "    </tr>\n",
       "    <tr>\n",
       "      <th>max</th>\n",
       "      <td>3.000000</td>\n",
       "    </tr>\n",
       "  </tbody>\n",
       "</table>\n",
       "</div>"
      ],
      "text/plain": [
       "              b\n",
       "count  4.000000\n",
       "mean   1.500000\n",
       "std    1.290994\n",
       "min    0.000000\n",
       "25%    0.750000\n",
       "50%    1.500000\n",
       "75%    2.250000\n",
       "max    3.000000"
      ]
     },
     "execution_count": 36,
     "metadata": {},
     "output_type": "execute_result"
    }
   ],
   "source": [
    "frame.describe()"
   ]
  },
  {
   "cell_type": "markdown",
   "id": "72aa3353",
   "metadata": {},
   "source": [
    "This behavior can be controlled by providing a list of types as `include`/`exclude`\n",
    "arguments. The special value `all` can also be used:"
   ]
  },
  {
   "cell_type": "code",
   "execution_count": 37,
   "id": "a70390e1-935d-4248-ac37-e43d058d5b5f",
   "metadata": {},
   "outputs": [
    {
     "data": {
      "text/html": [
       "<div>\n",
       "<style scoped>\n",
       "    .dataframe tbody tr th:only-of-type {\n",
       "        vertical-align: middle;\n",
       "    }\n",
       "\n",
       "    .dataframe tbody tr th {\n",
       "        vertical-align: top;\n",
       "    }\n",
       "\n",
       "    .dataframe thead th {\n",
       "        text-align: right;\n",
       "    }\n",
       "</style>\n",
       "<table border=\"1\" class=\"dataframe\">\n",
       "  <thead>\n",
       "    <tr style=\"text-align: right;\">\n",
       "      <th></th>\n",
       "      <th>a</th>\n",
       "    </tr>\n",
       "  </thead>\n",
       "  <tbody>\n",
       "    <tr>\n",
       "      <th>count</th>\n",
       "      <td>4</td>\n",
       "    </tr>\n",
       "    <tr>\n",
       "      <th>unique</th>\n",
       "      <td>2</td>\n",
       "    </tr>\n",
       "    <tr>\n",
       "      <th>top</th>\n",
       "      <td>Yes</td>\n",
       "    </tr>\n",
       "    <tr>\n",
       "      <th>freq</th>\n",
       "      <td>2</td>\n",
       "    </tr>\n",
       "  </tbody>\n",
       "</table>\n",
       "</div>"
      ],
      "text/plain": [
       "          a\n",
       "count     4\n",
       "unique    2\n",
       "top     Yes\n",
       "freq      2"
      ]
     },
     "execution_count": 37,
     "metadata": {},
     "output_type": "execute_result"
    }
   ],
   "source": [
    "frame.describe(include=[\"object\"])"
   ]
  },
  {
   "cell_type": "code",
   "execution_count": 38,
   "id": "efe58eda-fbdc-4bb6-9c69-c2d9d4dde165",
   "metadata": {},
   "outputs": [
    {
     "data": {
      "text/html": [
       "<div>\n",
       "<style scoped>\n",
       "    .dataframe tbody tr th:only-of-type {\n",
       "        vertical-align: middle;\n",
       "    }\n",
       "\n",
       "    .dataframe tbody tr th {\n",
       "        vertical-align: top;\n",
       "    }\n",
       "\n",
       "    .dataframe thead th {\n",
       "        text-align: right;\n",
       "    }\n",
       "</style>\n",
       "<table border=\"1\" class=\"dataframe\">\n",
       "  <thead>\n",
       "    <tr style=\"text-align: right;\">\n",
       "      <th></th>\n",
       "      <th>b</th>\n",
       "    </tr>\n",
       "  </thead>\n",
       "  <tbody>\n",
       "    <tr>\n",
       "      <th>count</th>\n",
       "      <td>4.000000</td>\n",
       "    </tr>\n",
       "    <tr>\n",
       "      <th>mean</th>\n",
       "      <td>1.500000</td>\n",
       "    </tr>\n",
       "    <tr>\n",
       "      <th>std</th>\n",
       "      <td>1.290994</td>\n",
       "    </tr>\n",
       "    <tr>\n",
       "      <th>min</th>\n",
       "      <td>0.000000</td>\n",
       "    </tr>\n",
       "    <tr>\n",
       "      <th>25%</th>\n",
       "      <td>0.750000</td>\n",
       "    </tr>\n",
       "    <tr>\n",
       "      <th>50%</th>\n",
       "      <td>1.500000</td>\n",
       "    </tr>\n",
       "    <tr>\n",
       "      <th>75%</th>\n",
       "      <td>2.250000</td>\n",
       "    </tr>\n",
       "    <tr>\n",
       "      <th>max</th>\n",
       "      <td>3.000000</td>\n",
       "    </tr>\n",
       "  </tbody>\n",
       "</table>\n",
       "</div>"
      ],
      "text/plain": [
       "              b\n",
       "count  4.000000\n",
       "mean   1.500000\n",
       "std    1.290994\n",
       "min    0.000000\n",
       "25%    0.750000\n",
       "50%    1.500000\n",
       "75%    2.250000\n",
       "max    3.000000"
      ]
     },
     "execution_count": 38,
     "metadata": {},
     "output_type": "execute_result"
    }
   ],
   "source": [
    "frame.describe(include=[\"number\"])"
   ]
  },
  {
   "cell_type": "code",
   "execution_count": 39,
   "id": "d8237247-d646-4eb9-9487-8aa4729dc689",
   "metadata": {},
   "outputs": [
    {
     "data": {
      "text/html": [
       "<div>\n",
       "<style scoped>\n",
       "    .dataframe tbody tr th:only-of-type {\n",
       "        vertical-align: middle;\n",
       "    }\n",
       "\n",
       "    .dataframe tbody tr th {\n",
       "        vertical-align: top;\n",
       "    }\n",
       "\n",
       "    .dataframe thead th {\n",
       "        text-align: right;\n",
       "    }\n",
       "</style>\n",
       "<table border=\"1\" class=\"dataframe\">\n",
       "  <thead>\n",
       "    <tr style=\"text-align: right;\">\n",
       "      <th></th>\n",
       "      <th>a</th>\n",
       "      <th>b</th>\n",
       "    </tr>\n",
       "  </thead>\n",
       "  <tbody>\n",
       "    <tr>\n",
       "      <th>count</th>\n",
       "      <td>4</td>\n",
       "      <td>4.000000</td>\n",
       "    </tr>\n",
       "    <tr>\n",
       "      <th>unique</th>\n",
       "      <td>2</td>\n",
       "      <td>NaN</td>\n",
       "    </tr>\n",
       "    <tr>\n",
       "      <th>top</th>\n",
       "      <td>Yes</td>\n",
       "      <td>NaN</td>\n",
       "    </tr>\n",
       "    <tr>\n",
       "      <th>freq</th>\n",
       "      <td>2</td>\n",
       "      <td>NaN</td>\n",
       "    </tr>\n",
       "    <tr>\n",
       "      <th>mean</th>\n",
       "      <td>NaN</td>\n",
       "      <td>1.500000</td>\n",
       "    </tr>\n",
       "    <tr>\n",
       "      <th>std</th>\n",
       "      <td>NaN</td>\n",
       "      <td>1.290994</td>\n",
       "    </tr>\n",
       "    <tr>\n",
       "      <th>min</th>\n",
       "      <td>NaN</td>\n",
       "      <td>0.000000</td>\n",
       "    </tr>\n",
       "    <tr>\n",
       "      <th>25%</th>\n",
       "      <td>NaN</td>\n",
       "      <td>0.750000</td>\n",
       "    </tr>\n",
       "    <tr>\n",
       "      <th>50%</th>\n",
       "      <td>NaN</td>\n",
       "      <td>1.500000</td>\n",
       "    </tr>\n",
       "    <tr>\n",
       "      <th>75%</th>\n",
       "      <td>NaN</td>\n",
       "      <td>2.250000</td>\n",
       "    </tr>\n",
       "    <tr>\n",
       "      <th>max</th>\n",
       "      <td>NaN</td>\n",
       "      <td>3.000000</td>\n",
       "    </tr>\n",
       "  </tbody>\n",
       "</table>\n",
       "</div>"
      ],
      "text/plain": [
       "          a         b\n",
       "count     4  4.000000\n",
       "unique    2       NaN\n",
       "top     Yes       NaN\n",
       "freq      2       NaN\n",
       "mean    NaN  1.500000\n",
       "std     NaN  1.290994\n",
       "min     NaN  0.000000\n",
       "25%     NaN  0.750000\n",
       "50%     NaN  1.500000\n",
       "75%     NaN  2.250000\n",
       "max     NaN  3.000000"
      ]
     },
     "execution_count": 39,
     "metadata": {},
     "output_type": "execute_result"
    }
   ],
   "source": [
    "frame.describe(include=\"all\")"
   ]
  },
  {
   "cell_type": "markdown",
   "id": "943d3fb7",
   "metadata": {},
   "source": [
    "That feature relies on `[select_dtypes]` which will be discussed later."
   ]
  },
  {
   "cell_type": "markdown",
   "id": "f831d125",
   "metadata": {},
   "source": [
    "<a class=\"anchor\" id=\"index_of_min/max_values\"></a>\n",
    "### Index of min/max values"
   ]
  },
  {
   "cell_type": "markdown",
   "id": "8e32aa62",
   "metadata": {},
   "source": [
    "The [`idxmin()`](../reference/api/pandas.DataFrame.idxmin.html#pandas.DataFrame.idxmin \"pandas.DataFrame.idxmin\") and [`idxmax()`](../reference/api/pandas.DataFrame.idxmax.html#pandas.DataFrame.idxmax \"pandas.DataFrame.idxmax\") functions on Series\n",
    "and DataFrame compute the index labels with the minimum and maximum\n",
    "corresponding values:"
   ]
  },
  {
   "cell_type": "code",
   "execution_count": 19,
   "id": "1cc2e4dd-e69e-4e47-afad-ef8867a28f3e",
   "metadata": {},
   "outputs": [],
   "source": [
    "s1 = pd.Series(np.random.randn(5))"
   ]
  },
  {
   "cell_type": "code",
   "execution_count": 20,
   "id": "33f9da10-9d24-49d3-b5ed-bb3ea77029c6",
   "metadata": {},
   "outputs": [
    {
     "data": {
      "text/plain": [
       "0    0.344550\n",
       "1   -0.183398\n",
       "2   -1.183523\n",
       "3    2.209733\n",
       "4    1.024484\n",
       "dtype: float64"
      ]
     },
     "execution_count": 20,
     "metadata": {},
     "output_type": "execute_result"
    }
   ],
   "source": [
    "s1"
   ]
  },
  {
   "cell_type": "code",
   "execution_count": 21,
   "id": "bb5ad4b3-a5f7-4494-8359-31d047c46fcd",
   "metadata": {},
   "outputs": [
    {
     "data": {
      "text/plain": [
       "(2, 3)"
      ]
     },
     "execution_count": 21,
     "metadata": {},
     "output_type": "execute_result"
    }
   ],
   "source": [
    "s1.idxmin(), s1.idxmax()"
   ]
  },
  {
   "cell_type": "code",
   "execution_count": 22,
   "id": "1d1fcf2d-36c6-4c88-8e88-611c2b55392f",
   "metadata": {},
   "outputs": [],
   "source": [
    "df1 = pd.DataFrame(np.random.randn(5, 3), columns=[\"A\", \"B\", \"C\"])"
   ]
  },
  {
   "cell_type": "code",
   "execution_count": 23,
   "id": "aaa8fc0b-b3b0-4620-8e6e-6a618bc8b12d",
   "metadata": {},
   "outputs": [
    {
     "data": {
      "text/html": [
       "<div>\n",
       "<style scoped>\n",
       "    .dataframe tbody tr th:only-of-type {\n",
       "        vertical-align: middle;\n",
       "    }\n",
       "\n",
       "    .dataframe tbody tr th {\n",
       "        vertical-align: top;\n",
       "    }\n",
       "\n",
       "    .dataframe thead th {\n",
       "        text-align: right;\n",
       "    }\n",
       "</style>\n",
       "<table border=\"1\" class=\"dataframe\">\n",
       "  <thead>\n",
       "    <tr style=\"text-align: right;\">\n",
       "      <th></th>\n",
       "      <th>A</th>\n",
       "      <th>B</th>\n",
       "      <th>C</th>\n",
       "    </tr>\n",
       "  </thead>\n",
       "  <tbody>\n",
       "    <tr>\n",
       "      <th>0</th>\n",
       "      <td>-1.442562</td>\n",
       "      <td>0.453857</td>\n",
       "      <td>-0.119892</td>\n",
       "    </tr>\n",
       "    <tr>\n",
       "      <th>1</th>\n",
       "      <td>-1.051895</td>\n",
       "      <td>0.828941</td>\n",
       "      <td>0.343801</td>\n",
       "    </tr>\n",
       "    <tr>\n",
       "      <th>2</th>\n",
       "      <td>-0.309826</td>\n",
       "      <td>0.714510</td>\n",
       "      <td>-1.521202</td>\n",
       "    </tr>\n",
       "    <tr>\n",
       "      <th>3</th>\n",
       "      <td>-0.504333</td>\n",
       "      <td>0.415952</td>\n",
       "      <td>-0.529614</td>\n",
       "    </tr>\n",
       "    <tr>\n",
       "      <th>4</th>\n",
       "      <td>-0.778972</td>\n",
       "      <td>1.187509</td>\n",
       "      <td>-0.759632</td>\n",
       "    </tr>\n",
       "  </tbody>\n",
       "</table>\n",
       "</div>"
      ],
      "text/plain": [
       "          A         B         C\n",
       "0 -1.442562  0.453857 -0.119892\n",
       "1 -1.051895  0.828941  0.343801\n",
       "2 -0.309826  0.714510 -1.521202\n",
       "3 -0.504333  0.415952 -0.529614\n",
       "4 -0.778972  1.187509 -0.759632"
      ]
     },
     "execution_count": 23,
     "metadata": {},
     "output_type": "execute_result"
    }
   ],
   "source": [
    "df1"
   ]
  },
  {
   "cell_type": "code",
   "execution_count": 24,
   "id": "547f639a-791a-451c-8bbe-45ee6372656f",
   "metadata": {},
   "outputs": [
    {
     "data": {
      "text/plain": [
       "A    0\n",
       "B    3\n",
       "C    2\n",
       "dtype: int64"
      ]
     },
     "execution_count": 24,
     "metadata": {},
     "output_type": "execute_result"
    }
   ],
   "source": [
    "df1.idxmin(axis=0)"
   ]
  },
  {
   "cell_type": "code",
   "execution_count": 25,
   "id": "53cc5475-6095-4e3e-9ee8-7049fa9cd5ae",
   "metadata": {},
   "outputs": [
    {
     "data": {
      "text/plain": [
       "0    B\n",
       "1    B\n",
       "2    B\n",
       "3    B\n",
       "4    B\n",
       "dtype: object"
      ]
     },
     "execution_count": 25,
     "metadata": {},
     "output_type": "execute_result"
    }
   ],
   "source": [
    "df1.idxmax(axis=1)"
   ]
  },
  {
   "cell_type": "markdown",
   "id": "0f17a7a2",
   "metadata": {},
   "source": [
    "When there are multiple rows (or columns) matching the minimum or maximum\n",
    "value, [`idxmin()`](../reference/api/pandas.DataFrame.idxmin.html#pandas.DataFrame.idxmin \"pandas.DataFrame.idxmin\") and [`idxmax()`](../reference/api/pandas.DataFrame.idxmax.html#pandas.DataFrame.idxmax \"pandas.DataFrame.idxmax\") return the first\n",
    "matching index:"
   ]
  },
  {
   "cell_type": "code",
   "execution_count": 26,
   "id": "d0f4be26-1164-4f50-9e88-e1a10f741e82",
   "metadata": {},
   "outputs": [],
   "source": [
    "df3 = pd.DataFrame(\n",
    "    [2, 1, 1, 3, np.nan], columns=[\"A\"], index=list(\"edcba\"))"
   ]
  },
  {
   "cell_type": "code",
   "execution_count": 27,
   "id": "f13a1301-c8a8-4289-b29a-6371ceba9360",
   "metadata": {},
   "outputs": [
    {
     "data": {
      "text/html": [
       "<div>\n",
       "<style scoped>\n",
       "    .dataframe tbody tr th:only-of-type {\n",
       "        vertical-align: middle;\n",
       "    }\n",
       "\n",
       "    .dataframe tbody tr th {\n",
       "        vertical-align: top;\n",
       "    }\n",
       "\n",
       "    .dataframe thead th {\n",
       "        text-align: right;\n",
       "    }\n",
       "</style>\n",
       "<table border=\"1\" class=\"dataframe\">\n",
       "  <thead>\n",
       "    <tr style=\"text-align: right;\">\n",
       "      <th></th>\n",
       "      <th>A</th>\n",
       "    </tr>\n",
       "  </thead>\n",
       "  <tbody>\n",
       "    <tr>\n",
       "      <th>e</th>\n",
       "      <td>2.0</td>\n",
       "    </tr>\n",
       "    <tr>\n",
       "      <th>d</th>\n",
       "      <td>1.0</td>\n",
       "    </tr>\n",
       "    <tr>\n",
       "      <th>c</th>\n",
       "      <td>1.0</td>\n",
       "    </tr>\n",
       "    <tr>\n",
       "      <th>b</th>\n",
       "      <td>3.0</td>\n",
       "    </tr>\n",
       "    <tr>\n",
       "      <th>a</th>\n",
       "      <td>NaN</td>\n",
       "    </tr>\n",
       "  </tbody>\n",
       "</table>\n",
       "</div>"
      ],
      "text/plain": [
       "     A\n",
       "e  2.0\n",
       "d  1.0\n",
       "c  1.0\n",
       "b  3.0\n",
       "a  NaN"
      ]
     },
     "execution_count": 27,
     "metadata": {},
     "output_type": "execute_result"
    }
   ],
   "source": [
    "df3"
   ]
  },
  {
   "cell_type": "code",
   "execution_count": 28,
   "id": "b98d7bc3-b8ca-4ac9-a943-e386e452fd88",
   "metadata": {},
   "outputs": [
    {
     "data": {
      "text/plain": [
       "'d'"
      ]
     },
     "execution_count": 28,
     "metadata": {},
     "output_type": "execute_result"
    }
   ],
   "source": [
    "df3[\"A\"].idxmin()"
   ]
  },
  {
   "cell_type": "markdown",
   "id": "dc92ebc5-a3af-451b-85af-c6b6f9573a78",
   "metadata": {},
   "source": [
    "> **Note:**\n",
    "> `idxmin` and `idxmax` are called `argmin` and `argmax` in NumPy."
   ]
  },
  {
   "cell_type": "markdown",
   "id": "46566443",
   "metadata": {},
   "source": [
    "<a class=\"anchor\" id=\"value_counts_(histogramming)_/_mode\"></a>\n",
    "### Value counts (histogramming) / mode"
   ]
  },
  {
   "cell_type": "markdown",
   "id": "24e22bd7",
   "metadata": {},
   "source": [
    "The [`value_counts()`](../reference/api/pandas.Series.value_counts.html#pandas.Series.value_counts \"pandas.Series.value_counts\") Series method and top-level function computes a histogram\n",
    "of a 1D array of values. It can also be used as a function on regular arrays:"
   ]
  },
  {
   "cell_type": "code",
   "execution_count": 29,
   "id": "c0e30637-afed-46d9-b1f3-86806fa378d5",
   "metadata": {},
   "outputs": [],
   "source": [
    "data = np.random.randint(0, 7, size=50)"
   ]
  },
  {
   "cell_type": "code",
   "execution_count": 30,
   "id": "f641f379-c5da-471e-90c9-6c053d8675ad",
   "metadata": {},
   "outputs": [
    {
     "data": {
      "text/plain": [
       "array([6, 2, 3, 2, 6, 4, 6, 1, 5, 1, 4, 5, 4, 2, 0, 1, 2, 1, 4, 5, 6, 5,\n",
       "       0, 3, 5, 5, 6, 6, 0, 2, 5, 4, 3, 2, 4, 1, 4, 4, 2, 6, 0, 6, 2, 1,\n",
       "       2, 2, 2, 6, 5, 1])"
      ]
     },
     "execution_count": 30,
     "metadata": {},
     "output_type": "execute_result"
    }
   ],
   "source": [
    "data"
   ]
  },
  {
   "cell_type": "code",
   "execution_count": 31,
   "id": "7b11a2a8-2a76-407f-8f7b-69cc4ad1e81a",
   "metadata": {},
   "outputs": [],
   "source": [
    "s = pd.Series(data)"
   ]
  },
  {
   "cell_type": "code",
   "execution_count": 32,
   "id": "5e34c7ed-d0d0-44a5-b82a-82386da367ea",
   "metadata": {},
   "outputs": [
    {
     "data": {
      "text/plain": [
       "2    11\n",
       "6     9\n",
       "4     8\n",
       "5     8\n",
       "1     7\n",
       "0     4\n",
       "3     3\n",
       "dtype: int64"
      ]
     },
     "execution_count": 32,
     "metadata": {},
     "output_type": "execute_result"
    }
   ],
   "source": [
    "s.value_counts()"
   ]
  },
  {
   "cell_type": "code",
   "execution_count": 33,
   "id": "fcf7f1b9-130b-4210-9b84-1a6a53dbede5",
   "metadata": {},
   "outputs": [
    {
     "data": {
      "text/plain": [
       "2    11\n",
       "6     9\n",
       "4     8\n",
       "5     8\n",
       "1     7\n",
       "0     4\n",
       "3     3\n",
       "dtype: int64"
      ]
     },
     "execution_count": 33,
     "metadata": {},
     "output_type": "execute_result"
    }
   ],
   "source": [
    "pd.value_counts(data)"
   ]
  },
  {
   "cell_type": "markdown",
   "id": "4cef0658",
   "metadata": {},
   "source": [
    "New in version 1.1.0."
   ]
  },
  {
   "cell_type": "markdown",
   "id": "06b5e8a4",
   "metadata": {},
   "source": [
    "The [`value_counts()`](../reference/api/pandas.DataFrame.value_counts.html#pandas.DataFrame.value_counts \"pandas.DataFrame.value_counts\") method can be used to count combinations across multiple columns.\n",
    "By default all columns are used but a subset can be selected using the `subset` argument."
   ]
  },
  {
   "cell_type": "code",
   "execution_count": 34,
   "id": "d9a57908-5acc-433c-9f8d-230691b88463",
   "metadata": {},
   "outputs": [],
   "source": [
    "data = {\"a\": [1, 2, 3, 4], \"b\": [\"x\", \"x\", \"y\", \"y\"]}"
   ]
  },
  {
   "cell_type": "code",
   "execution_count": 38,
   "id": "74bbb124-a27f-47c6-9699-c106ec4fcf0b",
   "metadata": {},
   "outputs": [],
   "source": [
    "frame = pd.DataFrame(data)"
   ]
  },
  {
   "cell_type": "code",
   "execution_count": 39,
   "id": "bdd2ba6a-fdfc-4230-a629-b48fc6ab8767",
   "metadata": {},
   "outputs": [
    {
     "data": {
      "text/html": [
       "<div>\n",
       "<style scoped>\n",
       "    .dataframe tbody tr th:only-of-type {\n",
       "        vertical-align: middle;\n",
       "    }\n",
       "\n",
       "    .dataframe tbody tr th {\n",
       "        vertical-align: top;\n",
       "    }\n",
       "\n",
       "    .dataframe thead th {\n",
       "        text-align: right;\n",
       "    }\n",
       "</style>\n",
       "<table border=\"1\" class=\"dataframe\">\n",
       "  <thead>\n",
       "    <tr style=\"text-align: right;\">\n",
       "      <th></th>\n",
       "      <th>a</th>\n",
       "      <th>b</th>\n",
       "    </tr>\n",
       "  </thead>\n",
       "  <tbody>\n",
       "    <tr>\n",
       "      <th>0</th>\n",
       "      <td>1</td>\n",
       "      <td>x</td>\n",
       "    </tr>\n",
       "    <tr>\n",
       "      <th>1</th>\n",
       "      <td>2</td>\n",
       "      <td>x</td>\n",
       "    </tr>\n",
       "    <tr>\n",
       "      <th>2</th>\n",
       "      <td>3</td>\n",
       "      <td>y</td>\n",
       "    </tr>\n",
       "    <tr>\n",
       "      <th>3</th>\n",
       "      <td>4</td>\n",
       "      <td>y</td>\n",
       "    </tr>\n",
       "  </tbody>\n",
       "</table>\n",
       "</div>"
      ],
      "text/plain": [
       "   a  b\n",
       "0  1  x\n",
       "1  2  x\n",
       "2  3  y\n",
       "3  4  y"
      ]
     },
     "execution_count": 39,
     "metadata": {},
     "output_type": "execute_result"
    }
   ],
   "source": [
    "frame"
   ]
  },
  {
   "cell_type": "code",
   "execution_count": 40,
   "id": "4b57ccf1-813b-4760-a45c-ed4c571d5d14",
   "metadata": {},
   "outputs": [
    {
     "data": {
      "text/plain": [
       "a  b\n",
       "1  x    1\n",
       "2  x    1\n",
       "3  y    1\n",
       "4  y    1\n",
       "dtype: int64"
      ]
     },
     "execution_count": 40,
     "metadata": {},
     "output_type": "execute_result"
    }
   ],
   "source": [
    "frame.value_counts()"
   ]
  },
  {
   "cell_type": "markdown",
   "id": "cc67a757",
   "metadata": {},
   "source": [
    "Similarly, you can get the most frequently occurring value(s), i.e. the mode, of the values in a Series or DataFrame:"
   ]
  },
  {
   "cell_type": "code",
   "execution_count": 41,
   "id": "b4a12830-f916-4b51-920e-cc38a8fbc8fc",
   "metadata": {},
   "outputs": [],
   "source": [
    "s5 = pd.Series([1, 1, 3, 3, 3, 5, 5, 7, 7, 7])"
   ]
  },
  {
   "cell_type": "code",
   "execution_count": 43,
   "id": "d307f003-5503-4e85-8c18-6c9b6ffcee6d",
   "metadata": {},
   "outputs": [
    {
     "data": {
      "text/plain": [
       "0    1\n",
       "1    1\n",
       "2    3\n",
       "3    3\n",
       "4    3\n",
       "5    5\n",
       "6    5\n",
       "7    7\n",
       "8    7\n",
       "9    7\n",
       "dtype: int64"
      ]
     },
     "execution_count": 43,
     "metadata": {},
     "output_type": "execute_result"
    }
   ],
   "source": [
    "s5"
   ]
  },
  {
   "cell_type": "code",
   "execution_count": 42,
   "id": "ce111d00-ec6b-4a2a-9fd4-ed984d8f1632",
   "metadata": {},
   "outputs": [
    {
     "data": {
      "text/plain": [
       "0    3\n",
       "1    7\n",
       "dtype: int64"
      ]
     },
     "execution_count": 42,
     "metadata": {},
     "output_type": "execute_result"
    }
   ],
   "source": [
    "s5.mode()"
   ]
  },
  {
   "cell_type": "code",
   "execution_count": 44,
   "id": "cc7c4f11-c96a-4950-b276-4c1079c89f05",
   "metadata": {},
   "outputs": [],
   "source": [
    "df5 = pd.DataFrame(\n",
    "    {\n",
    "        \"A\": np.random.randint(0, 7, size=50),\n",
    "        \"B\": np.random.randint(-10, 15, size=50),\n",
    "    }\n",
    ")"
   ]
  },
  {
   "cell_type": "code",
   "execution_count": 45,
   "id": "83eba9bb-4b61-4e4e-88ce-3f756a286e8b",
   "metadata": {},
   "outputs": [
    {
     "data": {
      "text/html": [
       "<div>\n",
       "<style scoped>\n",
       "    .dataframe tbody tr th:only-of-type {\n",
       "        vertical-align: middle;\n",
       "    }\n",
       "\n",
       "    .dataframe tbody tr th {\n",
       "        vertical-align: top;\n",
       "    }\n",
       "\n",
       "    .dataframe thead th {\n",
       "        text-align: right;\n",
       "    }\n",
       "</style>\n",
       "<table border=\"1\" class=\"dataframe\">\n",
       "  <thead>\n",
       "    <tr style=\"text-align: right;\">\n",
       "      <th></th>\n",
       "      <th>A</th>\n",
       "      <th>B</th>\n",
       "    </tr>\n",
       "  </thead>\n",
       "  <tbody>\n",
       "    <tr>\n",
       "      <th>0</th>\n",
       "      <td>2.0</td>\n",
       "      <td>-6</td>\n",
       "    </tr>\n",
       "    <tr>\n",
       "      <th>1</th>\n",
       "      <td>NaN</td>\n",
       "      <td>6</td>\n",
       "    </tr>\n",
       "  </tbody>\n",
       "</table>\n",
       "</div>"
      ],
      "text/plain": [
       "     A  B\n",
       "0  2.0 -6\n",
       "1  NaN  6"
      ]
     },
     "execution_count": 45,
     "metadata": {},
     "output_type": "execute_result"
    }
   ],
   "source": [
    "df5.mode()"
   ]
  },
  {
   "cell_type": "markdown",
   "id": "69e71fda",
   "metadata": {},
   "source": [
    "<a class=\"anchor\" id=\"discretization_and_quantiling\"></a>\n",
    "### Discretization and quantiling"
   ]
  },
  {
   "cell_type": "markdown",
   "id": "a0ab666a",
   "metadata": {},
   "source": [
    "Continuous values can be discretized using the [`cut()`](../reference/api/pandas.cut.html#pandas.cut \"pandas.cut\") (bins based on values)\n",
    "and [`qcut()`](../reference/api/pandas.qcut.html#pandas.qcut \"pandas.qcut\") (bins based on sample quantiles) functions:"
   ]
  },
  {
   "cell_type": "markdown",
   "id": "d680e63d-d088-409a-b6b7-d17be71c6f4a",
   "metadata": {},
   "source": [
    "`pd.cut` has equal cuts by default:"
   ]
  },
  {
   "cell_type": "code",
   "execution_count": 87,
   "id": "172adad4-c46e-4231-aa8f-876200fa5ed2",
   "metadata": {},
   "outputs": [
    {
     "data": {
      "text/plain": [
       "[(0.997, 2.0], (0.997, 2.0], (2.0, 3.0], (3.0, 4.0]]\n",
       "Categories (3, interval[float64, right]): [(0.997, 2.0] < (2.0, 3.0] < (3.0, 4.0]]"
      ]
     },
     "execution_count": 87,
     "metadata": {},
     "output_type": "execute_result"
    }
   ],
   "source": [
    "pd.cut([1, 2, 3, 4], 3)"
   ]
  },
  {
   "cell_type": "markdown",
   "id": "d5cd59ef-6547-4572-8c5f-3377ec14416b",
   "metadata": {},
   "source": [
    "and you can provide `labels` to replace the ranges:"
   ]
  },
  {
   "cell_type": "code",
   "execution_count": 109,
   "id": "93118c54-e853-4d52-a33b-f9a373761271",
   "metadata": {},
   "outputs": [
    {
     "data": {
      "text/plain": [
       "[1, 1, 2, 3]\n",
       "Categories (3, int64): [1 < 2 < 3]"
      ]
     },
     "execution_count": 109,
     "metadata": {},
     "output_type": "execute_result"
    }
   ],
   "source": [
    "pd.cut([1, 2, 3, 4], 3, labels=[1, 2, 3])"
   ]
  },
  {
   "cell_type": "markdown",
   "id": "9cf3a849-87ea-42e6-8015-fe52851f72a1",
   "metadata": {},
   "source": [
    "You can also customize the cut edges by proving an array of edges. Here we cut the array at -5, -1, 0, 1, 5 values:"
   ]
  },
  {
   "cell_type": "code",
   "execution_count": 91,
   "id": "e38debbe-7774-4e4d-a8fe-11339c04cf2c",
   "metadata": {},
   "outputs": [],
   "source": [
    "arr = np.random.randn(20)\n",
    "factor = pd.cut(arr, [-5, -1, 0, 1, 5])"
   ]
  },
  {
   "cell_type": "code",
   "execution_count": 92,
   "id": "42e3f78f-cfc7-4898-86f1-f01c3781150f",
   "metadata": {},
   "outputs": [
    {
     "data": {
      "text/plain": [
       "[(-1, 0], (-1, 0], (0, 1], (-1, 0], (-1, 0], ..., (0, 1], (1, 5], (0, 1], (-1, 0], (0, 1]]\n",
       "Length: 20\n",
       "Categories (4, interval[int64, right]): [(-5, -1] < (-1, 0] < (0, 1] < (1, 5]]"
      ]
     },
     "execution_count": 92,
     "metadata": {},
     "output_type": "execute_result"
    }
   ],
   "source": [
    "factor"
   ]
  },
  {
   "cell_type": "markdown",
   "id": "ec29599e",
   "metadata": {},
   "source": [
    "[`qcut()`](../reference/api/pandas.qcut.html#pandas.qcut \"pandas.qcut\") computes sample quantiles. For example, we could slice up some\n",
    "normally distributed data into equal-size quartiles like so:"
   ]
  },
  {
   "cell_type": "code",
   "execution_count": 97,
   "id": "a243f490-610a-4d7c-9c89-9a650ec9292e",
   "metadata": {},
   "outputs": [
    {
     "data": {
      "text/plain": [
       "array([ 0.20721983, -0.67417365, -0.55618511,  1.73692035, -2.0750159 ,\n",
       "       -0.73072686, -0.90455442,  0.61559002,  0.94829399, -0.97892704,\n",
       "        1.85781957, -2.40473198, -0.81257197,  1.15094444, -0.72968272,\n",
       "       -1.67086247, -2.53540784, -1.34947551, -0.47913392,  1.0041804 ,\n",
       "        1.46758797, -1.97004892, -0.66102468, -0.08543502,  1.25528742,\n",
       "       -0.12088366, -0.34015933, -0.02957666,  0.52569142, -0.32335026])"
      ]
     },
     "execution_count": 97,
     "metadata": {},
     "output_type": "execute_result"
    }
   ],
   "source": [
    "arr = np.random.randn(30)\n",
    "arr"
   ]
  },
  {
   "cell_type": "code",
   "execution_count": 98,
   "id": "948a888a-7a84-483f-acdc-7439f4da6361",
   "metadata": {},
   "outputs": [],
   "source": [
    "factor = pd.qcut(arr, [0, 0.25, 0.5, 0.75, 1], labels=range(4))"
   ]
  },
  {
   "cell_type": "code",
   "execution_count": 99,
   "id": "f356e4c6-7a14-45e0-9141-326e75033ab2",
   "metadata": {},
   "outputs": [
    {
     "data": {
      "text/plain": [
       "[2, 1, 1, 3, 0, ..., 2, 2, 2, 2, 2]\n",
       "Length: 30\n",
       "Categories (4, int64): [0 < 1 < 2 < 3]"
      ]
     },
     "execution_count": 99,
     "metadata": {},
     "output_type": "execute_result"
    }
   ],
   "source": [
    "factor"
   ]
  },
  {
   "cell_type": "code",
   "execution_count": 100,
   "id": "f66cee9f-c58d-486b-a6a6-315764ab4d3b",
   "metadata": {},
   "outputs": [
    {
     "data": {
      "text/plain": [
       "0    8\n",
       "3    8\n",
       "1    7\n",
       "2    7\n",
       "dtype: int64"
      ]
     },
     "execution_count": 100,
     "metadata": {},
     "output_type": "execute_result"
    }
   ],
   "source": [
    "pd.value_counts(factor)"
   ]
  },
  {
   "cell_type": "markdown",
   "id": "dedc9f94",
   "metadata": {},
   "source": [
    "We can also pass infinite values to define the bins:"
   ]
  },
  {
   "cell_type": "code",
   "execution_count": 111,
   "id": "9af50f7e-51ad-4537-b81b-819790401136",
   "metadata": {},
   "outputs": [],
   "source": [
    "arr = np.random.randn(20)"
   ]
  },
  {
   "cell_type": "code",
   "execution_count": 114,
   "id": "d4705266-5817-4fad-b8e5-a3c8d54be768",
   "metadata": {},
   "outputs": [],
   "source": [
    "factor = pd.cut(arr, [-np.inf, 0, np.inf], labels=['-', '+'])"
   ]
  },
  {
   "cell_type": "code",
   "execution_count": 115,
   "id": "dbcdcc91-3d52-4c5b-bb00-c5744d3b3717",
   "metadata": {},
   "outputs": [
    {
     "data": {
      "text/plain": [
       "['-', '-', '-', '-', '-', ..., '-', '+', '+', '-', '+']\n",
       "Length: 20\n",
       "Categories (2, object): ['-' < '+']"
      ]
     },
     "execution_count": 115,
     "metadata": {},
     "output_type": "execute_result"
    }
   ],
   "source": [
    "factor"
   ]
  },
  {
   "cell_type": "code",
   "execution_count": 117,
   "id": "280c550f-a082-48b9-8784-8f25d05bc5df",
   "metadata": {},
   "outputs": [
    {
     "data": {
      "text/plain": [
       "array([-1.52146718, -2.30285551, -0.33319011, -0.97535122, -1.54067427,\n",
       "        0.75072202, -0.05526486, -1.43117825,  2.71910356, -0.55202048,\n",
       "       -1.27906194, -0.24113279,  0.18962486, -0.50020741,  1.56110977,\n",
       "       -1.39851356,  0.9537736 ,  2.64865621, -0.91539795,  0.18763559])"
      ]
     },
     "execution_count": 117,
     "metadata": {},
     "output_type": "execute_result"
    }
   ],
   "source": [
    "arr"
   ]
  },
  {
   "cell_type": "markdown",
   "id": "54037b53-9bb0-4ca5-a44a-c3ada340a768",
   "metadata": {},
   "source": [
    "You can also have repetitive labels, but you have to set the `order` keyword argument to `False` as it doesn't make sense to define order with repitative values. Otherwise, you will get `ValueError`."
   ]
  },
  {
   "cell_type": "code",
   "execution_count": 123,
   "id": "11502c98-33dc-4f5c-98d9-b1449e14709d",
   "metadata": {},
   "outputs": [
    {
     "data": {
      "text/plain": [
       "[NaN, NaN, 'B', 'B', 'B', 'A', 'A', 'A', 'B']\n",
       "Categories (2, object): ['A', 'B']"
      ]
     },
     "execution_count": 123,
     "metadata": {},
     "output_type": "execute_result"
    }
   ],
   "source": [
    "pd.cut(\n",
    "    [-2, 0, 1, 2, 3, 4, 5, 6, 7],\n",
    "    [0, 3, 6, 9],\n",
    "    labels=[\"B\", \"A\", \"B\"],\n",
    "    ordered=False\n",
    ")"
   ]
  },
  {
   "cell_type": "markdown",
   "id": "f4af1221-5d8f-4f60-a25a-1869a47d8890",
   "metadata": {},
   "source": [
    "> **Note:**\n",
    "> Note that when you have values out of bins, `NaN` is returned."
   ]
  }
 ],
 "metadata": {
  "kernelspec": {
   "display_name": "Python 3",
   "language": "python",
   "name": "python3"
  },
  "language_info": {
   "codemirror_mode": {
    "name": "ipython",
    "version": 3
   },
   "file_extension": ".py",
   "mimetype": "text/x-python",
   "name": "python",
   "nbconvert_exporter": "python",
   "pygments_lexer": "ipython3",
   "version": "3.8.11"
  }
 },
 "nbformat": 4,
 "nbformat_minor": 5
}
