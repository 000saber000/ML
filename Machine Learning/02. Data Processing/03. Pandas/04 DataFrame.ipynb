{
 "cells": [
  {
   "cell_type": "markdown",
   "id": "8994c45b-bec7-407d-a72b-bc32194c13e5",
   "metadata": {},
   "source": [
    "<img src=\"../../../images/banners/pandas-cropped.jpeg\" width=\"600\"/>"
   ]
  },
  {
   "cell_type": "markdown",
   "id": "266a35db-8e4c-42a8-9c60-4261d6390aee",
   "metadata": {},
   "source": [
    "<a class=\"anchor\" id=\"intro_to_data_structures\"></a>\n",
    "# <img src=\"../../../images/logos/pandas.png\" width=\"23\"/> DataFrame"
   ]
  },
  {
   "cell_type": "markdown",
   "id": "330ed471-38ac-49e9-a3e7-cfc5f297de67",
   "metadata": {},
   "source": [
    "## <img src=\"../../../images/logos/toc.png\" width=\"20\"/> Table of Contents\n",
    "* [Create a Dataframe](#)\n",
    "    * [From dict of Series or dicts](#from_dict_of_series_or_dicts)\n",
    "    * [From dict of ndarrays / lists](#from_dict_of_ndarrays_/_lists)\n",
    "    * [From structured or record array](#from_structured_or_record_array)\n",
    "    * [From a list of dicts](#from_a_list_of_dicts)\n",
    "    * [From a dict of tuples](#from_a_dict_of_tuples)\n",
    "    * [From a Series](#from_a_series)\n",
    "    * [From a list of namedtuples](#from_a_list_of_namedtuples)\n",
    "    * [From a list of dataclasses](#from_a_list_of_dataclasses)\n",
    "    * [Alternate constructors](#alternate_constructors)\n",
    "* [Column selection, addition, deletion](#column_selection,_addition,_deletion)\n",
    "* [Assigning new columns in method chains](#assigning_new_columns_in_method_chains)\n",
    "* [Indexing / selection](#indexing_/_selection)\n",
    "* [Data alignment and arithmetic](#data_alignment_and_arithmetic)\n",
    "* [Transposing](#transposing)\n",
    "* [DataFrame interoperability with NumPy functions](#dataframe_interoperability_with_numpy_functions)\n",
    "* [Console display](#console_display)\n",
    "* [DataFrame column attribute access and IPython completion](#dataframe_column_attribute_access_and_ipython_completion)\n",
    "\n",
    "---"
   ]
  },
  {
   "cell_type": "code",
   "execution_count": 1,
   "id": "290e17b6-9b6d-426f-b884-57bfff435083",
   "metadata": {},
   "outputs": [],
   "source": [
    "import pandas as pd\n",
    "import numpy as np"
   ]
  },
  {
   "cell_type": "markdown",
   "id": "dacf3657-ff72-4c5e-ad3b-ee97ad62e325",
   "metadata": {},
   "source": [
    "**DataFrame** is a 2-dimensional labeled data structure with columns of\n",
    "potentially different types. You can think of it like a spreadsheet or SQL\n",
    "table, or a dict of Series objects. It is generally the most commonly used\n",
    "pandas object."
   ]
  },
  {
   "cell_type": "markdown",
   "id": "6405f92a-5b00-4e21-b307-83988f0208e9",
   "metadata": {},
   "source": [
    "## Create a DataFrame"
   ]
  },
  {
   "cell_type": "markdown",
   "id": "506467f2-280a-42bc-978c-7c4ee562200a",
   "metadata": {},
   "source": [
    "Like Series, DataFrame accepts many different kinds of input:\n",
    "- Dict of 1D ndarrays, lists, dicts, or Series\n",
    "- 2-D numpy.ndarray\n",
    "- Structured or record ndarray\n",
    "- A `Series`\n",
    "- Another `DataFrame`"
   ]
  },
  {
   "cell_type": "markdown",
   "id": "d8d9ccca-2506-4184-ad19-b5db6929a3e7",
   "metadata": {},
   "source": [
    "Along with the data, you can optionally pass **index** (row labels) and\n",
    "**columns** (column labels) arguments. If you pass an index and / or columns,\n",
    "you are guaranteeing the index and / or columns of the resulting\n",
    "DataFrame. Thus, a dict of Series plus a specific index will discard all data\n",
    "not matching up to the passed index."
   ]
  },
  {
   "cell_type": "markdown",
   "id": "7e28c7ea-834b-44c9-b047-0c7d1fa80de6",
   "metadata": {},
   "source": [
    "If axis labels are not passed, they will be constructed from the input data\n",
    "based on common sense rules."
   ]
  },
  {
   "cell_type": "markdown",
   "id": "b0bcbfd1-279d-433a-970b-c6d575b9d87f",
   "metadata": {},
   "source": [
    "> **Note:**\n",
    "> When the data is a dict, and `columns` is not specified, the `DataFrame`\n",
    "columns will be ordered by the dict’s insertion order, if you are using\n",
    "Python version >= 3.6 and pandas >= 0.23.\n",
    "> \n",
    "> If you are using Python < 3.6 or pandas < 0.23, and `columns` is not\n",
    "specified, the `DataFrame` columns will be the lexically ordered list of dict\n",
    "keys."
   ]
  },
  {
   "cell_type": "markdown",
   "id": "a6b11dce-6596-4e15-9540-f8c1d5e6b082",
   "metadata": {},
   "source": [
    "<a class=\"anchor\" id=\"from_dict_of_series_or_dicts\"></a>\n",
    "### From dict of Series or dicts"
   ]
  },
  {
   "cell_type": "markdown",
   "id": "40800aa6-21cb-4e61-9815-47bd9e1ffbe0",
   "metadata": {},
   "source": [
    "The resulting **index** will be the **union** of the indexes of the various\n",
    "Series. If there are any nested dicts, these will first be converted to\n",
    "Series. If no columns are passed, the columns will be the ordered list of dict\n",
    "keys."
   ]
  },
  {
   "cell_type": "code",
   "execution_count": 2,
   "id": "4b804cf2-c038-4611-b4a5-5bf98b1dd102",
   "metadata": {},
   "outputs": [],
   "source": [
    "d = {\n",
    "    \"one\": pd.Series([1.0, 2.0, 3.0], index=[\"a\", \"b\", \"c\"]),\n",
    "    \"two\": pd.Series([1.0, 2.0, 3.0, 4.0], index=[\"a\", \"b\", \"c\", \"d\"]),\n",
    "}"
   ]
  },
  {
   "cell_type": "code",
   "execution_count": 3,
   "id": "56a622c4-073a-4b46-a7cf-6bf7325b00cc",
   "metadata": {},
   "outputs": [],
   "source": [
    "df = pd.DataFrame(d)"
   ]
  },
  {
   "cell_type": "code",
   "execution_count": 4,
   "id": "c1266eb6-9305-4f9b-952b-fd1bf8cdc86c",
   "metadata": {},
   "outputs": [
    {
     "data": {
      "text/html": [
       "<div>\n",
       "<style scoped>\n",
       "    .dataframe tbody tr th:only-of-type {\n",
       "        vertical-align: middle;\n",
       "    }\n",
       "\n",
       "    .dataframe tbody tr th {\n",
       "        vertical-align: top;\n",
       "    }\n",
       "\n",
       "    .dataframe thead th {\n",
       "        text-align: right;\n",
       "    }\n",
       "</style>\n",
       "<table border=\"1\" class=\"dataframe\">\n",
       "  <thead>\n",
       "    <tr style=\"text-align: right;\">\n",
       "      <th></th>\n",
       "      <th>one</th>\n",
       "      <th>two</th>\n",
       "    </tr>\n",
       "  </thead>\n",
       "  <tbody>\n",
       "    <tr>\n",
       "      <th>a</th>\n",
       "      <td>1.0</td>\n",
       "      <td>1.0</td>\n",
       "    </tr>\n",
       "    <tr>\n",
       "      <th>b</th>\n",
       "      <td>2.0</td>\n",
       "      <td>2.0</td>\n",
       "    </tr>\n",
       "    <tr>\n",
       "      <th>c</th>\n",
       "      <td>3.0</td>\n",
       "      <td>3.0</td>\n",
       "    </tr>\n",
       "    <tr>\n",
       "      <th>d</th>\n",
       "      <td>NaN</td>\n",
       "      <td>4.0</td>\n",
       "    </tr>\n",
       "  </tbody>\n",
       "</table>\n",
       "</div>"
      ],
      "text/plain": [
       "   one  two\n",
       "a  1.0  1.0\n",
       "b  2.0  2.0\n",
       "c  3.0  3.0\n",
       "d  NaN  4.0"
      ]
     },
     "execution_count": 4,
     "metadata": {},
     "output_type": "execute_result"
    }
   ],
   "source": [
    "df"
   ]
  },
  {
   "cell_type": "code",
   "execution_count": 5,
   "id": "229fe710-5afc-4a08-97f1-6c6497b07e83",
   "metadata": {},
   "outputs": [
    {
     "data": {
      "text/html": [
       "<div>\n",
       "<style scoped>\n",
       "    .dataframe tbody tr th:only-of-type {\n",
       "        vertical-align: middle;\n",
       "    }\n",
       "\n",
       "    .dataframe tbody tr th {\n",
       "        vertical-align: top;\n",
       "    }\n",
       "\n",
       "    .dataframe thead th {\n",
       "        text-align: right;\n",
       "    }\n",
       "</style>\n",
       "<table border=\"1\" class=\"dataframe\">\n",
       "  <thead>\n",
       "    <tr style=\"text-align: right;\">\n",
       "      <th></th>\n",
       "      <th>one</th>\n",
       "      <th>two</th>\n",
       "    </tr>\n",
       "  </thead>\n",
       "  <tbody>\n",
       "    <tr>\n",
       "      <th>d</th>\n",
       "      <td>NaN</td>\n",
       "      <td>4.0</td>\n",
       "    </tr>\n",
       "    <tr>\n",
       "      <th>b</th>\n",
       "      <td>2.0</td>\n",
       "      <td>2.0</td>\n",
       "    </tr>\n",
       "    <tr>\n",
       "      <th>a</th>\n",
       "      <td>1.0</td>\n",
       "      <td>1.0</td>\n",
       "    </tr>\n",
       "  </tbody>\n",
       "</table>\n",
       "</div>"
      ],
      "text/plain": [
       "   one  two\n",
       "d  NaN  4.0\n",
       "b  2.0  2.0\n",
       "a  1.0  1.0"
      ]
     },
     "execution_count": 5,
     "metadata": {},
     "output_type": "execute_result"
    }
   ],
   "source": [
    "pd.DataFrame(d, index=[\"d\", \"b\", \"a\"])"
   ]
  },
  {
   "cell_type": "code",
   "execution_count": 6,
   "id": "ceb6c1c4-3b14-42f4-96cc-bb0454aa5743",
   "metadata": {},
   "outputs": [
    {
     "data": {
      "text/html": [
       "<div>\n",
       "<style scoped>\n",
       "    .dataframe tbody tr th:only-of-type {\n",
       "        vertical-align: middle;\n",
       "    }\n",
       "\n",
       "    .dataframe tbody tr th {\n",
       "        vertical-align: top;\n",
       "    }\n",
       "\n",
       "    .dataframe thead th {\n",
       "        text-align: right;\n",
       "    }\n",
       "</style>\n",
       "<table border=\"1\" class=\"dataframe\">\n",
       "  <thead>\n",
       "    <tr style=\"text-align: right;\">\n",
       "      <th></th>\n",
       "      <th>two</th>\n",
       "      <th>three</th>\n",
       "    </tr>\n",
       "  </thead>\n",
       "  <tbody>\n",
       "    <tr>\n",
       "      <th>d</th>\n",
       "      <td>4.0</td>\n",
       "      <td>NaN</td>\n",
       "    </tr>\n",
       "    <tr>\n",
       "      <th>b</th>\n",
       "      <td>2.0</td>\n",
       "      <td>NaN</td>\n",
       "    </tr>\n",
       "    <tr>\n",
       "      <th>a</th>\n",
       "      <td>1.0</td>\n",
       "      <td>NaN</td>\n",
       "    </tr>\n",
       "  </tbody>\n",
       "</table>\n",
       "</div>"
      ],
      "text/plain": [
       "   two three\n",
       "d  4.0   NaN\n",
       "b  2.0   NaN\n",
       "a  1.0   NaN"
      ]
     },
     "execution_count": 6,
     "metadata": {},
     "output_type": "execute_result"
    }
   ],
   "source": [
    "pd.DataFrame(d, index=[\"d\", \"b\", \"a\"], columns=[\"two\", \"three\"])"
   ]
  },
  {
   "cell_type": "markdown",
   "id": "a4a4a205-ed13-4885-94e1-60826d87cbd3",
   "metadata": {},
   "source": [
    "The row and column labels can be accessed respectively by accessing the\n",
    "**index** and **columns** attributes:"
   ]
  },
  {
   "cell_type": "markdown",
   "id": "7b37f5d9-27d5-4822-8b47-2220db3f44ac",
   "metadata": {},
   "source": [
    "> **Note:**\n",
    "> When a particular set of columns is passed along with a dict of data, the\n",
    "passed columns override the keys in the dict."
   ]
  },
  {
   "cell_type": "code",
   "execution_count": 7,
   "id": "0d9f91b4-33e8-4365-986e-22554727b3f9",
   "metadata": {},
   "outputs": [
    {
     "data": {
      "text/plain": [
       "Index(['a', 'b', 'c', 'd'], dtype='object')"
      ]
     },
     "execution_count": 7,
     "metadata": {},
     "output_type": "execute_result"
    }
   ],
   "source": [
    "df.index"
   ]
  },
  {
   "cell_type": "code",
   "execution_count": 8,
   "id": "2afe8a96-0eb0-4780-aec0-3e0b8de24ada",
   "metadata": {},
   "outputs": [
    {
     "data": {
      "text/plain": [
       "Index(['one', 'two'], dtype='object')"
      ]
     },
     "execution_count": 8,
     "metadata": {},
     "output_type": "execute_result"
    }
   ],
   "source": [
    "df.columns"
   ]
  },
  {
   "cell_type": "markdown",
   "id": "288a5803-3e29-4126-a641-1f080e2b8dcc",
   "metadata": {},
   "source": [
    "<a class=\"anchor\" id=\"from_dict_of_ndarrays_/_lists\"></a>\n",
    "### From dict of ndarrays / lists"
   ]
  },
  {
   "cell_type": "markdown",
   "id": "58ef5a23-2bd1-4b3a-9f50-c0fdeff7b006",
   "metadata": {},
   "source": [
    "The ndarrays must all be the same length. If an index is passed, it must\n",
    "clearly also be the same length as the arrays. If no index is passed, the\n",
    "result will be `range(n)`, where `n` is the array length."
   ]
  },
  {
   "cell_type": "code",
   "execution_count": 9,
   "id": "5319bb1c-471b-4226-8ff1-20a1f8b92bf0",
   "metadata": {},
   "outputs": [],
   "source": [
    "d = {\"one\": [1.0, 2.0, 3.0, 4.0], \"two\": [4.0, 3.0, 2.0, 1.0]}"
   ]
  },
  {
   "cell_type": "code",
   "execution_count": 10,
   "id": "ae8e4454-3e90-41c5-bfbb-e9781bff2039",
   "metadata": {},
   "outputs": [
    {
     "data": {
      "text/html": [
       "<div>\n",
       "<style scoped>\n",
       "    .dataframe tbody tr th:only-of-type {\n",
       "        vertical-align: middle;\n",
       "    }\n",
       "\n",
       "    .dataframe tbody tr th {\n",
       "        vertical-align: top;\n",
       "    }\n",
       "\n",
       "    .dataframe thead th {\n",
       "        text-align: right;\n",
       "    }\n",
       "</style>\n",
       "<table border=\"1\" class=\"dataframe\">\n",
       "  <thead>\n",
       "    <tr style=\"text-align: right;\">\n",
       "      <th></th>\n",
       "      <th>one</th>\n",
       "      <th>two</th>\n",
       "    </tr>\n",
       "  </thead>\n",
       "  <tbody>\n",
       "    <tr>\n",
       "      <th>0</th>\n",
       "      <td>1.0</td>\n",
       "      <td>4.0</td>\n",
       "    </tr>\n",
       "    <tr>\n",
       "      <th>1</th>\n",
       "      <td>2.0</td>\n",
       "      <td>3.0</td>\n",
       "    </tr>\n",
       "    <tr>\n",
       "      <th>2</th>\n",
       "      <td>3.0</td>\n",
       "      <td>2.0</td>\n",
       "    </tr>\n",
       "    <tr>\n",
       "      <th>3</th>\n",
       "      <td>4.0</td>\n",
       "      <td>1.0</td>\n",
       "    </tr>\n",
       "  </tbody>\n",
       "</table>\n",
       "</div>"
      ],
      "text/plain": [
       "   one  two\n",
       "0  1.0  4.0\n",
       "1  2.0  3.0\n",
       "2  3.0  2.0\n",
       "3  4.0  1.0"
      ]
     },
     "execution_count": 10,
     "metadata": {},
     "output_type": "execute_result"
    }
   ],
   "source": [
    "pd.DataFrame(d)"
   ]
  },
  {
   "cell_type": "code",
   "execution_count": 11,
   "id": "aec54df7-5bbc-437a-a81e-00d9765117ac",
   "metadata": {},
   "outputs": [
    {
     "data": {
      "text/html": [
       "<div>\n",
       "<style scoped>\n",
       "    .dataframe tbody tr th:only-of-type {\n",
       "        vertical-align: middle;\n",
       "    }\n",
       "\n",
       "    .dataframe tbody tr th {\n",
       "        vertical-align: top;\n",
       "    }\n",
       "\n",
       "    .dataframe thead th {\n",
       "        text-align: right;\n",
       "    }\n",
       "</style>\n",
       "<table border=\"1\" class=\"dataframe\">\n",
       "  <thead>\n",
       "    <tr style=\"text-align: right;\">\n",
       "      <th></th>\n",
       "      <th>one</th>\n",
       "      <th>two</th>\n",
       "    </tr>\n",
       "  </thead>\n",
       "  <tbody>\n",
       "    <tr>\n",
       "      <th>a</th>\n",
       "      <td>1.0</td>\n",
       "      <td>4.0</td>\n",
       "    </tr>\n",
       "    <tr>\n",
       "      <th>b</th>\n",
       "      <td>2.0</td>\n",
       "      <td>3.0</td>\n",
       "    </tr>\n",
       "    <tr>\n",
       "      <th>c</th>\n",
       "      <td>3.0</td>\n",
       "      <td>2.0</td>\n",
       "    </tr>\n",
       "    <tr>\n",
       "      <th>d</th>\n",
       "      <td>4.0</td>\n",
       "      <td>1.0</td>\n",
       "    </tr>\n",
       "  </tbody>\n",
       "</table>\n",
       "</div>"
      ],
      "text/plain": [
       "   one  two\n",
       "a  1.0  4.0\n",
       "b  2.0  3.0\n",
       "c  3.0  2.0\n",
       "d  4.0  1.0"
      ]
     },
     "execution_count": 11,
     "metadata": {},
     "output_type": "execute_result"
    }
   ],
   "source": [
    "pd.DataFrame(d, index=[\"a\", \"b\", \"c\", \"d\"])"
   ]
  },
  {
   "cell_type": "markdown",
   "id": "f9f6b597-ae2a-48fe-a185-cf07dd0d7eac",
   "metadata": {},
   "source": [
    "<a class=\"anchor\" id=\"from_structured_or_record_array\"></a>\n",
    "### From structured or record array"
   ]
  },
  {
   "cell_type": "markdown",
   "id": "7e30229b-5ce4-45b8-a2f7-cb42273251f6",
   "metadata": {},
   "source": [
    "This case is handled identically to a dict of arrays."
   ]
  },
  {
   "cell_type": "code",
   "execution_count": 12,
   "id": "11cfcef4-4ea7-484e-b205-1be6e7697482",
   "metadata": {},
   "outputs": [],
   "source": [
    "data = np.zeros((2,), dtype=[(\"A\", \"i4\"), (\"B\", \"f4\"), (\"C\", \"a10\")])"
   ]
  },
  {
   "cell_type": "code",
   "execution_count": 13,
   "id": "bffea29c-15c0-4db1-8ef9-f3bf6c87eb69",
   "metadata": {},
   "outputs": [],
   "source": [
    "data[:] = [(1, 2.0, \"Hello\"), (2, 3.0, \"World\")]"
   ]
  },
  {
   "cell_type": "code",
   "execution_count": 14,
   "id": "60988487-3ba2-4c35-adbf-2ced3a2b381c",
   "metadata": {},
   "outputs": [
    {
     "data": {
      "text/html": [
       "<div>\n",
       "<style scoped>\n",
       "    .dataframe tbody tr th:only-of-type {\n",
       "        vertical-align: middle;\n",
       "    }\n",
       "\n",
       "    .dataframe tbody tr th {\n",
       "        vertical-align: top;\n",
       "    }\n",
       "\n",
       "    .dataframe thead th {\n",
       "        text-align: right;\n",
       "    }\n",
       "</style>\n",
       "<table border=\"1\" class=\"dataframe\">\n",
       "  <thead>\n",
       "    <tr style=\"text-align: right;\">\n",
       "      <th></th>\n",
       "      <th>A</th>\n",
       "      <th>B</th>\n",
       "      <th>C</th>\n",
       "    </tr>\n",
       "  </thead>\n",
       "  <tbody>\n",
       "    <tr>\n",
       "      <th>0</th>\n",
       "      <td>1</td>\n",
       "      <td>2.0</td>\n",
       "      <td>b'Hello'</td>\n",
       "    </tr>\n",
       "    <tr>\n",
       "      <th>1</th>\n",
       "      <td>2</td>\n",
       "      <td>3.0</td>\n",
       "      <td>b'World'</td>\n",
       "    </tr>\n",
       "  </tbody>\n",
       "</table>\n",
       "</div>"
      ],
      "text/plain": [
       "   A    B         C\n",
       "0  1  2.0  b'Hello'\n",
       "1  2  3.0  b'World'"
      ]
     },
     "execution_count": 14,
     "metadata": {},
     "output_type": "execute_result"
    }
   ],
   "source": [
    "pd.DataFrame(data)"
   ]
  },
  {
   "cell_type": "code",
   "execution_count": 15,
   "id": "b0e37628-5a0c-48ef-9c03-90fb9fa07b7c",
   "metadata": {},
   "outputs": [
    {
     "data": {
      "text/html": [
       "<div>\n",
       "<style scoped>\n",
       "    .dataframe tbody tr th:only-of-type {\n",
       "        vertical-align: middle;\n",
       "    }\n",
       "\n",
       "    .dataframe tbody tr th {\n",
       "        vertical-align: top;\n",
       "    }\n",
       "\n",
       "    .dataframe thead th {\n",
       "        text-align: right;\n",
       "    }\n",
       "</style>\n",
       "<table border=\"1\" class=\"dataframe\">\n",
       "  <thead>\n",
       "    <tr style=\"text-align: right;\">\n",
       "      <th></th>\n",
       "      <th>A</th>\n",
       "      <th>B</th>\n",
       "      <th>C</th>\n",
       "    </tr>\n",
       "  </thead>\n",
       "  <tbody>\n",
       "    <tr>\n",
       "      <th>first</th>\n",
       "      <td>1</td>\n",
       "      <td>2.0</td>\n",
       "      <td>b'Hello'</td>\n",
       "    </tr>\n",
       "    <tr>\n",
       "      <th>second</th>\n",
       "      <td>2</td>\n",
       "      <td>3.0</td>\n",
       "      <td>b'World'</td>\n",
       "    </tr>\n",
       "  </tbody>\n",
       "</table>\n",
       "</div>"
      ],
      "text/plain": [
       "        A    B         C\n",
       "first   1  2.0  b'Hello'\n",
       "second  2  3.0  b'World'"
      ]
     },
     "execution_count": 15,
     "metadata": {},
     "output_type": "execute_result"
    }
   ],
   "source": [
    "pd.DataFrame(data, index=[\"first\", \"second\"])"
   ]
  },
  {
   "cell_type": "code",
   "execution_count": 16,
   "id": "5b32caf7-35b1-4665-9d82-824151c0f28b",
   "metadata": {},
   "outputs": [
    {
     "data": {
      "text/html": [
       "<div>\n",
       "<style scoped>\n",
       "    .dataframe tbody tr th:only-of-type {\n",
       "        vertical-align: middle;\n",
       "    }\n",
       "\n",
       "    .dataframe tbody tr th {\n",
       "        vertical-align: top;\n",
       "    }\n",
       "\n",
       "    .dataframe thead th {\n",
       "        text-align: right;\n",
       "    }\n",
       "</style>\n",
       "<table border=\"1\" class=\"dataframe\">\n",
       "  <thead>\n",
       "    <tr style=\"text-align: right;\">\n",
       "      <th></th>\n",
       "      <th>C</th>\n",
       "      <th>A</th>\n",
       "      <th>B</th>\n",
       "    </tr>\n",
       "  </thead>\n",
       "  <tbody>\n",
       "    <tr>\n",
       "      <th>0</th>\n",
       "      <td>b'Hello'</td>\n",
       "      <td>1</td>\n",
       "      <td>2.0</td>\n",
       "    </tr>\n",
       "    <tr>\n",
       "      <th>1</th>\n",
       "      <td>b'World'</td>\n",
       "      <td>2</td>\n",
       "      <td>3.0</td>\n",
       "    </tr>\n",
       "  </tbody>\n",
       "</table>\n",
       "</div>"
      ],
      "text/plain": [
       "          C  A    B\n",
       "0  b'Hello'  1  2.0\n",
       "1  b'World'  2  3.0"
      ]
     },
     "execution_count": 16,
     "metadata": {},
     "output_type": "execute_result"
    }
   ],
   "source": [
    "pd.DataFrame(data, columns=[\"C\", \"A\", \"B\"])"
   ]
  },
  {
   "cell_type": "markdown",
   "id": "e94cba13-49de-439e-9315-7ee83558941f",
   "metadata": {},
   "source": [
    "> **Note:**\n",
    "> DataFrame is not intended to work exactly like a 2-dimensional NumPy\n",
    "ndarray."
   ]
  },
  {
   "cell_type": "markdown",
   "id": "c3d2a951-e63e-407e-97f9-5fd25c8ebce6",
   "metadata": {},
   "source": [
    "<a class=\"anchor\" id=\"from_a_list_of_dicts\"></a>\n",
    "### From a list of dicts"
   ]
  },
  {
   "cell_type": "code",
   "execution_count": 17,
   "id": "25ec078a-3a92-425f-a4d0-fca96d20fd91",
   "metadata": {},
   "outputs": [],
   "source": [
    "data2 = [{\"a\": 1, \"b\": 2}, {\"a\": 5, \"b\": 10, \"c\": 20}]"
   ]
  },
  {
   "cell_type": "code",
   "execution_count": 18,
   "id": "a975b712-3c00-40b6-8d93-1af21b80815c",
   "metadata": {},
   "outputs": [
    {
     "data": {
      "text/html": [
       "<div>\n",
       "<style scoped>\n",
       "    .dataframe tbody tr th:only-of-type {\n",
       "        vertical-align: middle;\n",
       "    }\n",
       "\n",
       "    .dataframe tbody tr th {\n",
       "        vertical-align: top;\n",
       "    }\n",
       "\n",
       "    .dataframe thead th {\n",
       "        text-align: right;\n",
       "    }\n",
       "</style>\n",
       "<table border=\"1\" class=\"dataframe\">\n",
       "  <thead>\n",
       "    <tr style=\"text-align: right;\">\n",
       "      <th></th>\n",
       "      <th>a</th>\n",
       "      <th>b</th>\n",
       "      <th>c</th>\n",
       "    </tr>\n",
       "  </thead>\n",
       "  <tbody>\n",
       "    <tr>\n",
       "      <th>0</th>\n",
       "      <td>1</td>\n",
       "      <td>2</td>\n",
       "      <td>NaN</td>\n",
       "    </tr>\n",
       "    <tr>\n",
       "      <th>1</th>\n",
       "      <td>5</td>\n",
       "      <td>10</td>\n",
       "      <td>20.0</td>\n",
       "    </tr>\n",
       "  </tbody>\n",
       "</table>\n",
       "</div>"
      ],
      "text/plain": [
       "   a   b     c\n",
       "0  1   2   NaN\n",
       "1  5  10  20.0"
      ]
     },
     "execution_count": 18,
     "metadata": {},
     "output_type": "execute_result"
    }
   ],
   "source": [
    "pd.DataFrame(data2)"
   ]
  },
  {
   "cell_type": "code",
   "execution_count": 19,
   "id": "32f5e3f6-0d4f-4f96-bd30-6f64e8b823f7",
   "metadata": {},
   "outputs": [
    {
     "data": {
      "text/html": [
       "<div>\n",
       "<style scoped>\n",
       "    .dataframe tbody tr th:only-of-type {\n",
       "        vertical-align: middle;\n",
       "    }\n",
       "\n",
       "    .dataframe tbody tr th {\n",
       "        vertical-align: top;\n",
       "    }\n",
       "\n",
       "    .dataframe thead th {\n",
       "        text-align: right;\n",
       "    }\n",
       "</style>\n",
       "<table border=\"1\" class=\"dataframe\">\n",
       "  <thead>\n",
       "    <tr style=\"text-align: right;\">\n",
       "      <th></th>\n",
       "      <th>a</th>\n",
       "      <th>b</th>\n",
       "      <th>c</th>\n",
       "    </tr>\n",
       "  </thead>\n",
       "  <tbody>\n",
       "    <tr>\n",
       "      <th>first</th>\n",
       "      <td>1</td>\n",
       "      <td>2</td>\n",
       "      <td>NaN</td>\n",
       "    </tr>\n",
       "    <tr>\n",
       "      <th>second</th>\n",
       "      <td>5</td>\n",
       "      <td>10</td>\n",
       "      <td>20.0</td>\n",
       "    </tr>\n",
       "  </tbody>\n",
       "</table>\n",
       "</div>"
      ],
      "text/plain": [
       "        a   b     c\n",
       "first   1   2   NaN\n",
       "second  5  10  20.0"
      ]
     },
     "execution_count": 19,
     "metadata": {},
     "output_type": "execute_result"
    }
   ],
   "source": [
    "pd.DataFrame(data2, index=[\"first\", \"second\"])"
   ]
  },
  {
   "cell_type": "code",
   "execution_count": 20,
   "id": "fce154ee-0aea-4bed-9306-e1c20e893444",
   "metadata": {},
   "outputs": [
    {
     "data": {
      "text/html": [
       "<div>\n",
       "<style scoped>\n",
       "    .dataframe tbody tr th:only-of-type {\n",
       "        vertical-align: middle;\n",
       "    }\n",
       "\n",
       "    .dataframe tbody tr th {\n",
       "        vertical-align: top;\n",
       "    }\n",
       "\n",
       "    .dataframe thead th {\n",
       "        text-align: right;\n",
       "    }\n",
       "</style>\n",
       "<table border=\"1\" class=\"dataframe\">\n",
       "  <thead>\n",
       "    <tr style=\"text-align: right;\">\n",
       "      <th></th>\n",
       "      <th>a</th>\n",
       "      <th>b</th>\n",
       "    </tr>\n",
       "  </thead>\n",
       "  <tbody>\n",
       "    <tr>\n",
       "      <th>0</th>\n",
       "      <td>1</td>\n",
       "      <td>2</td>\n",
       "    </tr>\n",
       "    <tr>\n",
       "      <th>1</th>\n",
       "      <td>5</td>\n",
       "      <td>10</td>\n",
       "    </tr>\n",
       "  </tbody>\n",
       "</table>\n",
       "</div>"
      ],
      "text/plain": [
       "   a   b\n",
       "0  1   2\n",
       "1  5  10"
      ]
     },
     "execution_count": 20,
     "metadata": {},
     "output_type": "execute_result"
    }
   ],
   "source": [
    "pd.DataFrame(data2, columns=[\"a\", \"b\"])"
   ]
  },
  {
   "cell_type": "markdown",
   "id": "c8a66a9a-9114-4ffd-9430-c511b9226866",
   "metadata": {},
   "source": [
    "<a class=\"anchor\" id=\"from_a_dict_of_tuples\"></a>\n",
    "### From a dict of tuples"
   ]
  },
  {
   "cell_type": "markdown",
   "id": "9174641d-e53c-4bc8-813f-9a8e1d2b447a",
   "metadata": {},
   "source": [
    "You can automatically create a MultiIndexed frame by passing a tuples\n",
    "dictionary."
   ]
  },
  {
   "cell_type": "code",
   "execution_count": 21,
   "id": "30001878",
   "metadata": {},
   "outputs": [
    {
     "data": {
      "text/html": [
       "<div>\n",
       "<style scoped>\n",
       "    .dataframe tbody tr th:only-of-type {\n",
       "        vertical-align: middle;\n",
       "    }\n",
       "\n",
       "    .dataframe tbody tr th {\n",
       "        vertical-align: top;\n",
       "    }\n",
       "\n",
       "    .dataframe thead tr th {\n",
       "        text-align: left;\n",
       "    }\n",
       "</style>\n",
       "<table border=\"1\" class=\"dataframe\">\n",
       "  <thead>\n",
       "    <tr>\n",
       "      <th></th>\n",
       "      <th></th>\n",
       "      <th colspan=\"3\" halign=\"left\">a</th>\n",
       "      <th colspan=\"2\" halign=\"left\">b</th>\n",
       "    </tr>\n",
       "    <tr>\n",
       "      <th></th>\n",
       "      <th></th>\n",
       "      <th>b</th>\n",
       "      <th>a</th>\n",
       "      <th>c</th>\n",
       "      <th>a</th>\n",
       "      <th>b</th>\n",
       "    </tr>\n",
       "  </thead>\n",
       "  <tbody>\n",
       "    <tr>\n",
       "      <th rowspan=\"3\" valign=\"top\">A</th>\n",
       "      <th>B</th>\n",
       "      <td>1.0</td>\n",
       "      <td>4.0</td>\n",
       "      <td>5.0</td>\n",
       "      <td>8.0</td>\n",
       "      <td>10.0</td>\n",
       "    </tr>\n",
       "    <tr>\n",
       "      <th>C</th>\n",
       "      <td>2.0</td>\n",
       "      <td>3.0</td>\n",
       "      <td>6.0</td>\n",
       "      <td>7.0</td>\n",
       "      <td>NaN</td>\n",
       "    </tr>\n",
       "    <tr>\n",
       "      <th>D</th>\n",
       "      <td>NaN</td>\n",
       "      <td>NaN</td>\n",
       "      <td>NaN</td>\n",
       "      <td>NaN</td>\n",
       "      <td>9.0</td>\n",
       "    </tr>\n",
       "  </tbody>\n",
       "</table>\n",
       "</div>"
      ],
      "text/plain": [
       "       a              b      \n",
       "       b    a    c    a     b\n",
       "A B  1.0  4.0  5.0  8.0  10.0\n",
       "  C  2.0  3.0  6.0  7.0   NaN\n",
       "  D  NaN  NaN  NaN  NaN   9.0"
      ]
     },
     "execution_count": 21,
     "metadata": {},
     "output_type": "execute_result"
    }
   ],
   "source": [
    "pd.DataFrame(\n",
    "    {\n",
    "        (\"a\", \"b\"): {(\"A\", \"B\"): 1, (\"A\", \"C\"): 2},\n",
    "        (\"a\", \"a\"): {(\"A\", \"C\"): 3, (\"A\", \"B\"): 4},\n",
    "        (\"a\", \"c\"): {(\"A\", \"B\"): 5, (\"A\", \"C\"): 6},\n",
    "        (\"b\", \"a\"): {(\"A\", \"C\"): 7, (\"A\", \"B\"): 8},\n",
    "        (\"b\", \"b\"): {(\"A\", \"D\"): 9, (\"A\", \"B\"): 10},\n",
    "    }\n",
    ")\n"
   ]
  },
  {
   "cell_type": "markdown",
   "id": "a9df50e7-f890-420f-96ee-5e96bd64da22",
   "metadata": {},
   "source": [
    "<a class=\"anchor\" id=\"from_a_series\"></a>\n",
    "### From a Series"
   ]
  },
  {
   "cell_type": "markdown",
   "id": "bfdd7746-bfa1-476f-a0de-eeca3d3519e4",
   "metadata": {},
   "source": [
    "The result will be a DataFrame with the same index as the input Series, and\n",
    "with one column whose name is the original name of the Series (only if no other\n",
    "column name provided)."
   ]
  },
  {
   "cell_type": "markdown",
   "id": "3e167c84-9693-4ce2-818f-c50a6aa93158",
   "metadata": {},
   "source": [
    "<a class=\"anchor\" id=\"from_a_list_of_namedtuples\"></a>\n",
    "### From a list of namedtuples"
   ]
  },
  {
   "cell_type": "markdown",
   "id": "563a12dd-c711-4462-a2d7-a7a322e06948",
   "metadata": {},
   "source": [
    "The field names of the first `namedtuple` in the list determine the columns\n",
    "of the `DataFrame`. The remaining namedtuples (or tuples) are simply unpacked\n",
    "and their values are fed into the rows of the `DataFrame`. If any of those\n",
    "tuples is shorter than the first `namedtuple` then the later columns in the\n",
    "corresponding row are marked as missing values. If any are longer than the\n",
    "first `namedtuple`, a `ValueError` is raised."
   ]
  },
  {
   "cell_type": "code",
   "execution_count": 22,
   "id": "331aee6f-f716-47b0-8b34-c12b9969015d",
   "metadata": {},
   "outputs": [],
   "source": [
    "from collections import namedtuple"
   ]
  },
  {
   "cell_type": "code",
   "execution_count": 23,
   "id": "86029796-784b-4189-91e0-4bf15bc51234",
   "metadata": {},
   "outputs": [],
   "source": [
    "Point = namedtuple(\"Point\", \"x y\")"
   ]
  },
  {
   "cell_type": "code",
   "execution_count": 24,
   "id": "59f8e6b6-aaff-4179-aaee-8ca7bdbab243",
   "metadata": {},
   "outputs": [
    {
     "data": {
      "text/html": [
       "<div>\n",
       "<style scoped>\n",
       "    .dataframe tbody tr th:only-of-type {\n",
       "        vertical-align: middle;\n",
       "    }\n",
       "\n",
       "    .dataframe tbody tr th {\n",
       "        vertical-align: top;\n",
       "    }\n",
       "\n",
       "    .dataframe thead th {\n",
       "        text-align: right;\n",
       "    }\n",
       "</style>\n",
       "<table border=\"1\" class=\"dataframe\">\n",
       "  <thead>\n",
       "    <tr style=\"text-align: right;\">\n",
       "      <th></th>\n",
       "      <th>x</th>\n",
       "      <th>y</th>\n",
       "    </tr>\n",
       "  </thead>\n",
       "  <tbody>\n",
       "    <tr>\n",
       "      <th>0</th>\n",
       "      <td>0</td>\n",
       "      <td>0</td>\n",
       "    </tr>\n",
       "    <tr>\n",
       "      <th>1</th>\n",
       "      <td>0</td>\n",
       "      <td>3</td>\n",
       "    </tr>\n",
       "    <tr>\n",
       "      <th>2</th>\n",
       "      <td>2</td>\n",
       "      <td>3</td>\n",
       "    </tr>\n",
       "  </tbody>\n",
       "</table>\n",
       "</div>"
      ],
      "text/plain": [
       "   x  y\n",
       "0  0  0\n",
       "1  0  3\n",
       "2  2  3"
      ]
     },
     "execution_count": 24,
     "metadata": {},
     "output_type": "execute_result"
    }
   ],
   "source": [
    "pd.DataFrame([Point(0, 0), Point(0, 3), (2, 3)])"
   ]
  },
  {
   "cell_type": "code",
   "execution_count": 25,
   "id": "d793d42c-5126-4dd9-ad6a-c794fb4abfde",
   "metadata": {},
   "outputs": [],
   "source": [
    "Point3D = namedtuple(\"Point3D\", \"x y z\")"
   ]
  },
  {
   "cell_type": "code",
   "execution_count": 26,
   "id": "e5c491fd-9fe3-4e95-8513-3cb09d4a46e8",
   "metadata": {},
   "outputs": [
    {
     "data": {
      "text/html": [
       "<div>\n",
       "<style scoped>\n",
       "    .dataframe tbody tr th:only-of-type {\n",
       "        vertical-align: middle;\n",
       "    }\n",
       "\n",
       "    .dataframe tbody tr th {\n",
       "        vertical-align: top;\n",
       "    }\n",
       "\n",
       "    .dataframe thead th {\n",
       "        text-align: right;\n",
       "    }\n",
       "</style>\n",
       "<table border=\"1\" class=\"dataframe\">\n",
       "  <thead>\n",
       "    <tr style=\"text-align: right;\">\n",
       "      <th></th>\n",
       "      <th>x</th>\n",
       "      <th>y</th>\n",
       "      <th>z</th>\n",
       "    </tr>\n",
       "  </thead>\n",
       "  <tbody>\n",
       "    <tr>\n",
       "      <th>0</th>\n",
       "      <td>0</td>\n",
       "      <td>0</td>\n",
       "      <td>0.0</td>\n",
       "    </tr>\n",
       "    <tr>\n",
       "      <th>1</th>\n",
       "      <td>0</td>\n",
       "      <td>3</td>\n",
       "      <td>5.0</td>\n",
       "    </tr>\n",
       "    <tr>\n",
       "      <th>2</th>\n",
       "      <td>2</td>\n",
       "      <td>3</td>\n",
       "      <td>NaN</td>\n",
       "    </tr>\n",
       "  </tbody>\n",
       "</table>\n",
       "</div>"
      ],
      "text/plain": [
       "   x  y    z\n",
       "0  0  0  0.0\n",
       "1  0  3  5.0\n",
       "2  2  3  NaN"
      ]
     },
     "execution_count": 26,
     "metadata": {},
     "output_type": "execute_result"
    }
   ],
   "source": [
    "pd.DataFrame([Point3D(0, 0, 0), Point3D(0, 3, 5), Point(2, 3)])"
   ]
  },
  {
   "cell_type": "markdown",
   "id": "99eebcd5-5420-4661-9570-c8b4836ef07a",
   "metadata": {},
   "source": [
    "<a class=\"anchor\" id=\"from_a_list_of_dataclasses\"></a>\n",
    "### From a list of dataclasses"
   ]
  },
  {
   "cell_type": "markdown",
   "id": "01268465-b5dc-4ef5-b08d-83a1dc067ab0",
   "metadata": {},
   "source": [
    "New in version 1.1.0."
   ]
  },
  {
   "cell_type": "markdown",
   "id": "1700e98e-7213-4e15-8fd1-6d7023eaeacf",
   "metadata": {},
   "source": [
    "Data Classes as introduced in [PEP557](https://www.python.org/dev/peps/pep-0557),\n",
    "can be passed into the DataFrame constructor.\n",
    "Passing a list of dataclasses is equivalent to passing a list of dictionaries."
   ]
  },
  {
   "cell_type": "markdown",
   "id": "a6d1927d-9ad8-4f95-92cd-086790f1b091",
   "metadata": {},
   "source": [
    "Please be aware, that all values in the list should be dataclasses, mixing\n",
    "types in the list would result in a TypeError."
   ]
  },
  {
   "cell_type": "code",
   "execution_count": 27,
   "id": "310621a6",
   "metadata": {},
   "outputs": [
    {
     "data": {
      "text/html": [
       "<div>\n",
       "<style scoped>\n",
       "    .dataframe tbody tr th:only-of-type {\n",
       "        vertical-align: middle;\n",
       "    }\n",
       "\n",
       "    .dataframe tbody tr th {\n",
       "        vertical-align: top;\n",
       "    }\n",
       "\n",
       "    .dataframe thead th {\n",
       "        text-align: right;\n",
       "    }\n",
       "</style>\n",
       "<table border=\"1\" class=\"dataframe\">\n",
       "  <thead>\n",
       "    <tr style=\"text-align: right;\">\n",
       "      <th></th>\n",
       "      <th>x</th>\n",
       "      <th>y</th>\n",
       "    </tr>\n",
       "  </thead>\n",
       "  <tbody>\n",
       "    <tr>\n",
       "      <th>0</th>\n",
       "      <td>0</td>\n",
       "      <td>0</td>\n",
       "    </tr>\n",
       "    <tr>\n",
       "      <th>1</th>\n",
       "      <td>0</td>\n",
       "      <td>3</td>\n",
       "    </tr>\n",
       "    <tr>\n",
       "      <th>2</th>\n",
       "      <td>2</td>\n",
       "      <td>3</td>\n",
       "    </tr>\n",
       "  </tbody>\n",
       "</table>\n",
       "</div>"
      ],
      "text/plain": [
       "   x  y\n",
       "0  0  0\n",
       "1  0  3\n",
       "2  2  3"
      ]
     },
     "execution_count": 27,
     "metadata": {},
     "output_type": "execute_result"
    }
   ],
   "source": [
    "from dataclasses import make_dataclass\n",
    "Point = make_dataclass(\"Point\", [(\"x\", int), (\"y\", int)])\n",
    "pd.DataFrame([Point(0, 0), Point(0, 3), Point(2, 3)])"
   ]
  },
  {
   "cell_type": "markdown",
   "id": "4d0760ef-4e16-4953-8e2a-c176d40c9372",
   "metadata": {},
   "source": [
    "<a class=\"anchor\" id=\"alternate_constructors\"></a>\n",
    "### Alternate constructors"
   ]
  },
  {
   "cell_type": "markdown",
   "id": "c05c15d5-44ad-44f3-9137-daa71491bdbd",
   "metadata": {},
   "source": [
    "**DataFrame.from_dict**"
   ]
  },
  {
   "cell_type": "markdown",
   "id": "af8ed5c6-25a4-40f7-89ec-f835bf63b09b",
   "metadata": {},
   "source": [
    "`DataFrame.from_dict` takes a dict of dicts or a dict of array-like sequences\n",
    "and returns a DataFrame. It operates like the `DataFrame` constructor except\n",
    "for the `orient` parameter which is `'columns'` by default, but which can be\n",
    "set to `'index'` in order to use the dict keys as row labels."
   ]
  },
  {
   "cell_type": "code",
   "execution_count": 28,
   "id": "235f3911",
   "metadata": {},
   "outputs": [
    {
     "data": {
      "text/html": [
       "<div>\n",
       "<style scoped>\n",
       "    .dataframe tbody tr th:only-of-type {\n",
       "        vertical-align: middle;\n",
       "    }\n",
       "\n",
       "    .dataframe tbody tr th {\n",
       "        vertical-align: top;\n",
       "    }\n",
       "\n",
       "    .dataframe thead th {\n",
       "        text-align: right;\n",
       "    }\n",
       "</style>\n",
       "<table border=\"1\" class=\"dataframe\">\n",
       "  <thead>\n",
       "    <tr style=\"text-align: right;\">\n",
       "      <th></th>\n",
       "      <th>A</th>\n",
       "      <th>B</th>\n",
       "    </tr>\n",
       "  </thead>\n",
       "  <tbody>\n",
       "    <tr>\n",
       "      <th>0</th>\n",
       "      <td>1</td>\n",
       "      <td>4</td>\n",
       "    </tr>\n",
       "    <tr>\n",
       "      <th>1</th>\n",
       "      <td>2</td>\n",
       "      <td>5</td>\n",
       "    </tr>\n",
       "    <tr>\n",
       "      <th>2</th>\n",
       "      <td>3</td>\n",
       "      <td>6</td>\n",
       "    </tr>\n",
       "  </tbody>\n",
       "</table>\n",
       "</div>"
      ],
      "text/plain": [
       "   A  B\n",
       "0  1  4\n",
       "1  2  5\n",
       "2  3  6"
      ]
     },
     "execution_count": 28,
     "metadata": {},
     "output_type": "execute_result"
    }
   ],
   "source": [
    "pd.DataFrame.from_dict(dict([(\"A\", [1, 2, 3]), (\"B\", [4, 5, 6])]))"
   ]
  },
  {
   "cell_type": "markdown",
   "id": "a0846008-f1a1-4085-bd8c-1012ab651410",
   "metadata": {},
   "source": [
    "If you pass `orient='index'`, the keys will be the row labels. In this\n",
    "case, you can also pass the desired column names:"
   ]
  },
  {
   "cell_type": "code",
   "execution_count": 29,
   "id": "feb00f55",
   "metadata": {},
   "outputs": [
    {
     "data": {
      "text/html": [
       "<div>\n",
       "<style scoped>\n",
       "    .dataframe tbody tr th:only-of-type {\n",
       "        vertical-align: middle;\n",
       "    }\n",
       "\n",
       "    .dataframe tbody tr th {\n",
       "        vertical-align: top;\n",
       "    }\n",
       "\n",
       "    .dataframe thead th {\n",
       "        text-align: right;\n",
       "    }\n",
       "</style>\n",
       "<table border=\"1\" class=\"dataframe\">\n",
       "  <thead>\n",
       "    <tr style=\"text-align: right;\">\n",
       "      <th></th>\n",
       "      <th>one</th>\n",
       "      <th>two</th>\n",
       "      <th>three</th>\n",
       "    </tr>\n",
       "  </thead>\n",
       "  <tbody>\n",
       "    <tr>\n",
       "      <th>A</th>\n",
       "      <td>1</td>\n",
       "      <td>2</td>\n",
       "      <td>3</td>\n",
       "    </tr>\n",
       "    <tr>\n",
       "      <th>B</th>\n",
       "      <td>4</td>\n",
       "      <td>5</td>\n",
       "      <td>6</td>\n",
       "    </tr>\n",
       "  </tbody>\n",
       "</table>\n",
       "</div>"
      ],
      "text/plain": [
       "   one  two  three\n",
       "A    1    2      3\n",
       "B    4    5      6"
      ]
     },
     "execution_count": 29,
     "metadata": {},
     "output_type": "execute_result"
    }
   ],
   "source": [
    "pd.DataFrame.from_dict(\n",
    "    dict([(\"A\", [1, 2, 3]), (\"B\", [4, 5, 6])]),\n",
    "    orient=\"index\",\n",
    "    columns=[\"one\", \"two\", \"three\"],\n",
    ")\n"
   ]
  },
  {
   "cell_type": "markdown",
   "id": "46021fca-a413-4bb7-b180-df3408053fb2",
   "metadata": {},
   "source": [
    "**DataFrame.from_records**"
   ]
  },
  {
   "cell_type": "markdown",
   "id": "d336b1a3-af41-4916-af8b-5ed2a1aa1626",
   "metadata": {},
   "source": [
    "`DataFrame.from_records` takes a list of tuples or an ndarray with structured\n",
    "dtype. It works analogously to the normal `DataFrame` constructor, except that\n",
    "the resulting DataFrame index may be a specific field of the structured\n",
    "dtype. For example:"
   ]
  },
  {
   "cell_type": "code",
   "execution_count": 30,
   "id": "3a30523a-3690-4ae8-8233-112c7dd6819a",
   "metadata": {},
   "outputs": [
    {
     "data": {
      "text/plain": [
       "array([(1, 2., b'Hello'), (2, 3., b'World')],\n",
       "      dtype=[('A', '<i4'), ('B', '<f4'), ('C', 'S10')])"
      ]
     },
     "execution_count": 30,
     "metadata": {},
     "output_type": "execute_result"
    }
   ],
   "source": [
    "data"
   ]
  },
  {
   "cell_type": "code",
   "execution_count": 31,
   "id": "0e68e0e3-a3a3-435f-8f22-724ae55535c9",
   "metadata": {},
   "outputs": [
    {
     "data": {
      "text/html": [
       "<div>\n",
       "<style scoped>\n",
       "    .dataframe tbody tr th:only-of-type {\n",
       "        vertical-align: middle;\n",
       "    }\n",
       "\n",
       "    .dataframe tbody tr th {\n",
       "        vertical-align: top;\n",
       "    }\n",
       "\n",
       "    .dataframe thead th {\n",
       "        text-align: right;\n",
       "    }\n",
       "</style>\n",
       "<table border=\"1\" class=\"dataframe\">\n",
       "  <thead>\n",
       "    <tr style=\"text-align: right;\">\n",
       "      <th></th>\n",
       "      <th>A</th>\n",
       "      <th>B</th>\n",
       "    </tr>\n",
       "    <tr>\n",
       "      <th>C</th>\n",
       "      <th></th>\n",
       "      <th></th>\n",
       "    </tr>\n",
       "  </thead>\n",
       "  <tbody>\n",
       "    <tr>\n",
       "      <th>b'Hello'</th>\n",
       "      <td>1</td>\n",
       "      <td>2.0</td>\n",
       "    </tr>\n",
       "    <tr>\n",
       "      <th>b'World'</th>\n",
       "      <td>2</td>\n",
       "      <td>3.0</td>\n",
       "    </tr>\n",
       "  </tbody>\n",
       "</table>\n",
       "</div>"
      ],
      "text/plain": [
       "          A    B\n",
       "C               \n",
       "b'Hello'  1  2.0\n",
       "b'World'  2  3.0"
      ]
     },
     "execution_count": 31,
     "metadata": {},
     "output_type": "execute_result"
    }
   ],
   "source": [
    "pd.DataFrame.from_records(data, index=\"C\")"
   ]
  },
  {
   "cell_type": "markdown",
   "id": "e0b5b385-bbdb-45c6-83c1-de2d6e2c7485",
   "metadata": {},
   "source": [
    "<a class=\"anchor\" id=\"column_selection,_addition,_deletion\"></a>\n",
    "## Column selection, addition, deletion"
   ]
  },
  {
   "cell_type": "markdown",
   "id": "5a8f918b-72df-4c09-8096-d8c65493ae2c",
   "metadata": {},
   "source": [
    "You can treat a DataFrame semantically like a dict of like-indexed Series\n",
    "objects. Getting, setting, and deleting columns works with the same syntax as\n",
    "the analogous dict operations:"
   ]
  },
  {
   "cell_type": "code",
   "execution_count": 32,
   "id": "00c755f9-b802-414a-a5a2-1002a4648ea9",
   "metadata": {},
   "outputs": [
    {
     "data": {
      "text/plain": [
       "a    1.0\n",
       "b    2.0\n",
       "c    3.0\n",
       "d    NaN\n",
       "Name: one, dtype: float64"
      ]
     },
     "execution_count": 32,
     "metadata": {},
     "output_type": "execute_result"
    }
   ],
   "source": [
    "df[\"one\"]"
   ]
  },
  {
   "cell_type": "code",
   "execution_count": 33,
   "id": "5c8a397a-0d74-4b0f-8ebe-b00b0c7a36af",
   "metadata": {},
   "outputs": [],
   "source": [
    "df[\"three\"] = df[\"one\"] * df[\"two\"]"
   ]
  },
  {
   "cell_type": "code",
   "execution_count": 34,
   "id": "0145f09a-4c34-4502-9eb8-59290a38d7c6",
   "metadata": {},
   "outputs": [],
   "source": [
    "df[\"flag\"] = df[\"one\"] > 2"
   ]
  },
  {
   "cell_type": "code",
   "execution_count": 35,
   "id": "eb16ae21-a0cf-43b8-89c6-b46e706e94c2",
   "metadata": {},
   "outputs": [
    {
     "data": {
      "text/html": [
       "<div>\n",
       "<style scoped>\n",
       "    .dataframe tbody tr th:only-of-type {\n",
       "        vertical-align: middle;\n",
       "    }\n",
       "\n",
       "    .dataframe tbody tr th {\n",
       "        vertical-align: top;\n",
       "    }\n",
       "\n",
       "    .dataframe thead th {\n",
       "        text-align: right;\n",
       "    }\n",
       "</style>\n",
       "<table border=\"1\" class=\"dataframe\">\n",
       "  <thead>\n",
       "    <tr style=\"text-align: right;\">\n",
       "      <th></th>\n",
       "      <th>one</th>\n",
       "      <th>two</th>\n",
       "      <th>three</th>\n",
       "      <th>flag</th>\n",
       "    </tr>\n",
       "  </thead>\n",
       "  <tbody>\n",
       "    <tr>\n",
       "      <th>a</th>\n",
       "      <td>1.0</td>\n",
       "      <td>1.0</td>\n",
       "      <td>1.0</td>\n",
       "      <td>False</td>\n",
       "    </tr>\n",
       "    <tr>\n",
       "      <th>b</th>\n",
       "      <td>2.0</td>\n",
       "      <td>2.0</td>\n",
       "      <td>4.0</td>\n",
       "      <td>False</td>\n",
       "    </tr>\n",
       "    <tr>\n",
       "      <th>c</th>\n",
       "      <td>3.0</td>\n",
       "      <td>3.0</td>\n",
       "      <td>9.0</td>\n",
       "      <td>True</td>\n",
       "    </tr>\n",
       "    <tr>\n",
       "      <th>d</th>\n",
       "      <td>NaN</td>\n",
       "      <td>4.0</td>\n",
       "      <td>NaN</td>\n",
       "      <td>False</td>\n",
       "    </tr>\n",
       "  </tbody>\n",
       "</table>\n",
       "</div>"
      ],
      "text/plain": [
       "   one  two  three   flag\n",
       "a  1.0  1.0    1.0  False\n",
       "b  2.0  2.0    4.0  False\n",
       "c  3.0  3.0    9.0   True\n",
       "d  NaN  4.0    NaN  False"
      ]
     },
     "execution_count": 35,
     "metadata": {},
     "output_type": "execute_result"
    }
   ],
   "source": [
    "df"
   ]
  },
  {
   "cell_type": "markdown",
   "id": "5fa9bf72-fbeb-4251-a25f-f5fb326ecbc3",
   "metadata": {},
   "source": [
    "Columns can be deleted or popped like with a dict:"
   ]
  },
  {
   "cell_type": "code",
   "execution_count": 36,
   "id": "2d5020f3-8eb9-43c6-8576-78f4934e66b5",
   "metadata": {},
   "outputs": [],
   "source": [
    "del df[\"two\"]"
   ]
  },
  {
   "cell_type": "code",
   "execution_count": 37,
   "id": "a181ad0e-e7ff-4228-9805-97479bc5ff9c",
   "metadata": {},
   "outputs": [],
   "source": [
    "three = df.pop(\"three\")"
   ]
  },
  {
   "cell_type": "code",
   "execution_count": 38,
   "id": "6b5c1185-4f9c-448d-9c62-6a62c7373fa9",
   "metadata": {},
   "outputs": [
    {
     "data": {
      "text/html": [
       "<div>\n",
       "<style scoped>\n",
       "    .dataframe tbody tr th:only-of-type {\n",
       "        vertical-align: middle;\n",
       "    }\n",
       "\n",
       "    .dataframe tbody tr th {\n",
       "        vertical-align: top;\n",
       "    }\n",
       "\n",
       "    .dataframe thead th {\n",
       "        text-align: right;\n",
       "    }\n",
       "</style>\n",
       "<table border=\"1\" class=\"dataframe\">\n",
       "  <thead>\n",
       "    <tr style=\"text-align: right;\">\n",
       "      <th></th>\n",
       "      <th>one</th>\n",
       "      <th>flag</th>\n",
       "    </tr>\n",
       "  </thead>\n",
       "  <tbody>\n",
       "    <tr>\n",
       "      <th>a</th>\n",
       "      <td>1.0</td>\n",
       "      <td>False</td>\n",
       "    </tr>\n",
       "    <tr>\n",
       "      <th>b</th>\n",
       "      <td>2.0</td>\n",
       "      <td>False</td>\n",
       "    </tr>\n",
       "    <tr>\n",
       "      <th>c</th>\n",
       "      <td>3.0</td>\n",
       "      <td>True</td>\n",
       "    </tr>\n",
       "    <tr>\n",
       "      <th>d</th>\n",
       "      <td>NaN</td>\n",
       "      <td>False</td>\n",
       "    </tr>\n",
       "  </tbody>\n",
       "</table>\n",
       "</div>"
      ],
      "text/plain": [
       "   one   flag\n",
       "a  1.0  False\n",
       "b  2.0  False\n",
       "c  3.0   True\n",
       "d  NaN  False"
      ]
     },
     "execution_count": 38,
     "metadata": {},
     "output_type": "execute_result"
    }
   ],
   "source": [
    "df"
   ]
  },
  {
   "cell_type": "markdown",
   "id": "e61599ce-fa83-42a5-8879-f4e89c23d491",
   "metadata": {},
   "source": [
    "When inserting a scalar value, it will naturally be propagated to fill the\n",
    "column:"
   ]
  },
  {
   "cell_type": "code",
   "execution_count": 39,
   "id": "fae303d5-41bc-4a2f-928b-233dc95719e6",
   "metadata": {},
   "outputs": [],
   "source": [
    "df[\"foo\"] = \"bar\""
   ]
  },
  {
   "cell_type": "code",
   "execution_count": 40,
   "id": "b0befdd3-1a33-4689-9f14-bdf27e0417bf",
   "metadata": {},
   "outputs": [
    {
     "data": {
      "text/html": [
       "<div>\n",
       "<style scoped>\n",
       "    .dataframe tbody tr th:only-of-type {\n",
       "        vertical-align: middle;\n",
       "    }\n",
       "\n",
       "    .dataframe tbody tr th {\n",
       "        vertical-align: top;\n",
       "    }\n",
       "\n",
       "    .dataframe thead th {\n",
       "        text-align: right;\n",
       "    }\n",
       "</style>\n",
       "<table border=\"1\" class=\"dataframe\">\n",
       "  <thead>\n",
       "    <tr style=\"text-align: right;\">\n",
       "      <th></th>\n",
       "      <th>one</th>\n",
       "      <th>flag</th>\n",
       "      <th>foo</th>\n",
       "    </tr>\n",
       "  </thead>\n",
       "  <tbody>\n",
       "    <tr>\n",
       "      <th>a</th>\n",
       "      <td>1.0</td>\n",
       "      <td>False</td>\n",
       "      <td>bar</td>\n",
       "    </tr>\n",
       "    <tr>\n",
       "      <th>b</th>\n",
       "      <td>2.0</td>\n",
       "      <td>False</td>\n",
       "      <td>bar</td>\n",
       "    </tr>\n",
       "    <tr>\n",
       "      <th>c</th>\n",
       "      <td>3.0</td>\n",
       "      <td>True</td>\n",
       "      <td>bar</td>\n",
       "    </tr>\n",
       "    <tr>\n",
       "      <th>d</th>\n",
       "      <td>NaN</td>\n",
       "      <td>False</td>\n",
       "      <td>bar</td>\n",
       "    </tr>\n",
       "  </tbody>\n",
       "</table>\n",
       "</div>"
      ],
      "text/plain": [
       "   one   flag  foo\n",
       "a  1.0  False  bar\n",
       "b  2.0  False  bar\n",
       "c  3.0   True  bar\n",
       "d  NaN  False  bar"
      ]
     },
     "execution_count": 40,
     "metadata": {},
     "output_type": "execute_result"
    }
   ],
   "source": [
    "df"
   ]
  },
  {
   "cell_type": "markdown",
   "id": "82f53fd4-8e7e-4bdb-b99b-78cc456a8cff",
   "metadata": {},
   "source": [
    "When inserting a Series that does not have the same index as the DataFrame, it\n",
    "will be conformed to the DataFrame’s index:"
   ]
  },
  {
   "cell_type": "code",
   "execution_count": 41,
   "id": "3771515c-8429-4368-81ad-a72aa429d32c",
   "metadata": {},
   "outputs": [],
   "source": [
    "df[\"one_trunc\"] = df[\"one\"][:2]"
   ]
  },
  {
   "cell_type": "code",
   "execution_count": 42,
   "id": "62c06b17-52d3-4bc8-9ac5-6d3b71d707d6",
   "metadata": {},
   "outputs": [
    {
     "data": {
      "text/html": [
       "<div>\n",
       "<style scoped>\n",
       "    .dataframe tbody tr th:only-of-type {\n",
       "        vertical-align: middle;\n",
       "    }\n",
       "\n",
       "    .dataframe tbody tr th {\n",
       "        vertical-align: top;\n",
       "    }\n",
       "\n",
       "    .dataframe thead th {\n",
       "        text-align: right;\n",
       "    }\n",
       "</style>\n",
       "<table border=\"1\" class=\"dataframe\">\n",
       "  <thead>\n",
       "    <tr style=\"text-align: right;\">\n",
       "      <th></th>\n",
       "      <th>one</th>\n",
       "      <th>flag</th>\n",
       "      <th>foo</th>\n",
       "      <th>one_trunc</th>\n",
       "    </tr>\n",
       "  </thead>\n",
       "  <tbody>\n",
       "    <tr>\n",
       "      <th>a</th>\n",
       "      <td>1.0</td>\n",
       "      <td>False</td>\n",
       "      <td>bar</td>\n",
       "      <td>1.0</td>\n",
       "    </tr>\n",
       "    <tr>\n",
       "      <th>b</th>\n",
       "      <td>2.0</td>\n",
       "      <td>False</td>\n",
       "      <td>bar</td>\n",
       "      <td>2.0</td>\n",
       "    </tr>\n",
       "    <tr>\n",
       "      <th>c</th>\n",
       "      <td>3.0</td>\n",
       "      <td>True</td>\n",
       "      <td>bar</td>\n",
       "      <td>NaN</td>\n",
       "    </tr>\n",
       "    <tr>\n",
       "      <th>d</th>\n",
       "      <td>NaN</td>\n",
       "      <td>False</td>\n",
       "      <td>bar</td>\n",
       "      <td>NaN</td>\n",
       "    </tr>\n",
       "  </tbody>\n",
       "</table>\n",
       "</div>"
      ],
      "text/plain": [
       "   one   flag  foo  one_trunc\n",
       "a  1.0  False  bar        1.0\n",
       "b  2.0  False  bar        2.0\n",
       "c  3.0   True  bar        NaN\n",
       "d  NaN  False  bar        NaN"
      ]
     },
     "execution_count": 42,
     "metadata": {},
     "output_type": "execute_result"
    }
   ],
   "source": [
    "df"
   ]
  },
  {
   "cell_type": "markdown",
   "id": "2359a921-19f4-4f91-9d81-6f7cfc12ba62",
   "metadata": {},
   "source": [
    "You can insert raw ndarrays but their length must match the length of the\n",
    "DataFrame’s index."
   ]
  },
  {
   "cell_type": "markdown",
   "id": "aef1fe1a-ceb1-4fc3-b68d-0dcb97278d5c",
   "metadata": {},
   "source": [
    "By default, columns get inserted at the end. The `insert` function is\n",
    "available to insert at a particular location in the columns:"
   ]
  },
  {
   "cell_type": "code",
   "execution_count": 43,
   "id": "e15408a5-1c5d-470b-b238-6d2d3b40f2fb",
   "metadata": {},
   "outputs": [],
   "source": [
    "df.insert(1, \"bar\", df[\"one\"])"
   ]
  },
  {
   "cell_type": "code",
   "execution_count": 44,
   "id": "78468d76-b1c5-456e-bda3-0976bd17785b",
   "metadata": {},
   "outputs": [
    {
     "data": {
      "text/html": [
       "<div>\n",
       "<style scoped>\n",
       "    .dataframe tbody tr th:only-of-type {\n",
       "        vertical-align: middle;\n",
       "    }\n",
       "\n",
       "    .dataframe tbody tr th {\n",
       "        vertical-align: top;\n",
       "    }\n",
       "\n",
       "    .dataframe thead th {\n",
       "        text-align: right;\n",
       "    }\n",
       "</style>\n",
       "<table border=\"1\" class=\"dataframe\">\n",
       "  <thead>\n",
       "    <tr style=\"text-align: right;\">\n",
       "      <th></th>\n",
       "      <th>one</th>\n",
       "      <th>bar</th>\n",
       "      <th>flag</th>\n",
       "      <th>foo</th>\n",
       "      <th>one_trunc</th>\n",
       "    </tr>\n",
       "  </thead>\n",
       "  <tbody>\n",
       "    <tr>\n",
       "      <th>a</th>\n",
       "      <td>1.0</td>\n",
       "      <td>1.0</td>\n",
       "      <td>False</td>\n",
       "      <td>bar</td>\n",
       "      <td>1.0</td>\n",
       "    </tr>\n",
       "    <tr>\n",
       "      <th>b</th>\n",
       "      <td>2.0</td>\n",
       "      <td>2.0</td>\n",
       "      <td>False</td>\n",
       "      <td>bar</td>\n",
       "      <td>2.0</td>\n",
       "    </tr>\n",
       "    <tr>\n",
       "      <th>c</th>\n",
       "      <td>3.0</td>\n",
       "      <td>3.0</td>\n",
       "      <td>True</td>\n",
       "      <td>bar</td>\n",
       "      <td>NaN</td>\n",
       "    </tr>\n",
       "    <tr>\n",
       "      <th>d</th>\n",
       "      <td>NaN</td>\n",
       "      <td>NaN</td>\n",
       "      <td>False</td>\n",
       "      <td>bar</td>\n",
       "      <td>NaN</td>\n",
       "    </tr>\n",
       "  </tbody>\n",
       "</table>\n",
       "</div>"
      ],
      "text/plain": [
       "   one  bar   flag  foo  one_trunc\n",
       "a  1.0  1.0  False  bar        1.0\n",
       "b  2.0  2.0  False  bar        2.0\n",
       "c  3.0  3.0   True  bar        NaN\n",
       "d  NaN  NaN  False  bar        NaN"
      ]
     },
     "execution_count": 44,
     "metadata": {},
     "output_type": "execute_result"
    }
   ],
   "source": [
    "df"
   ]
  },
  {
   "cell_type": "markdown",
   "id": "37c3acde-aef5-4283-8986-eb5fc1984f94",
   "metadata": {},
   "source": [
    "<a class=\"anchor\" id=\"assigning_new_columns_in_method_chains\"></a>\n",
    "## Assigning new columns in method chains"
   ]
  },
  {
   "cell_type": "markdown",
   "id": "20c51721-917f-4fb5-83c4-d6c44b134303",
   "metadata": {},
   "source": [
    "Inspired by [dplyr’s](https://dplyr.tidyverse.org/reference/mutate.html)\n",
    "`mutate` verb, DataFrame has an [`assign()`](../reference/api/pandas.DataFrame.assign.html#pandas.DataFrame.assign \"pandas.DataFrame.assign\")\n",
    "method that allows you to easily create new columns that are potentially\n",
    "derived from existing columns."
   ]
  },
  {
   "cell_type": "code",
   "execution_count": 45,
   "id": "872d4538-89ab-40a7-8b6d-6dfa1e277f41",
   "metadata": {},
   "outputs": [],
   "source": [
    "iris = pd.read_csv(\"../../data/iris.data\")"
   ]
  },
  {
   "cell_type": "code",
   "execution_count": 46,
   "id": "f41518fb-84ff-461e-a0bf-da03e4a31644",
   "metadata": {},
   "outputs": [
    {
     "data": {
      "text/html": [
       "<div>\n",
       "<style scoped>\n",
       "    .dataframe tbody tr th:only-of-type {\n",
       "        vertical-align: middle;\n",
       "    }\n",
       "\n",
       "    .dataframe tbody tr th {\n",
       "        vertical-align: top;\n",
       "    }\n",
       "\n",
       "    .dataframe thead th {\n",
       "        text-align: right;\n",
       "    }\n",
       "</style>\n",
       "<table border=\"1\" class=\"dataframe\">\n",
       "  <thead>\n",
       "    <tr style=\"text-align: right;\">\n",
       "      <th></th>\n",
       "      <th>SepalLength</th>\n",
       "      <th>SepalWidth</th>\n",
       "      <th>PetalLength</th>\n",
       "      <th>PetalWidth</th>\n",
       "      <th>Name</th>\n",
       "    </tr>\n",
       "  </thead>\n",
       "  <tbody>\n",
       "    <tr>\n",
       "      <th>0</th>\n",
       "      <td>5.1</td>\n",
       "      <td>3.5</td>\n",
       "      <td>1.4</td>\n",
       "      <td>0.2</td>\n",
       "      <td>Iris-setosa</td>\n",
       "    </tr>\n",
       "    <tr>\n",
       "      <th>1</th>\n",
       "      <td>4.9</td>\n",
       "      <td>3.0</td>\n",
       "      <td>1.4</td>\n",
       "      <td>0.2</td>\n",
       "      <td>Iris-setosa</td>\n",
       "    </tr>\n",
       "    <tr>\n",
       "      <th>2</th>\n",
       "      <td>4.7</td>\n",
       "      <td>3.2</td>\n",
       "      <td>1.3</td>\n",
       "      <td>0.2</td>\n",
       "      <td>Iris-setosa</td>\n",
       "    </tr>\n",
       "    <tr>\n",
       "      <th>3</th>\n",
       "      <td>4.6</td>\n",
       "      <td>3.1</td>\n",
       "      <td>1.5</td>\n",
       "      <td>0.2</td>\n",
       "      <td>Iris-setosa</td>\n",
       "    </tr>\n",
       "    <tr>\n",
       "      <th>4</th>\n",
       "      <td>5.0</td>\n",
       "      <td>3.6</td>\n",
       "      <td>1.4</td>\n",
       "      <td>0.2</td>\n",
       "      <td>Iris-setosa</td>\n",
       "    </tr>\n",
       "  </tbody>\n",
       "</table>\n",
       "</div>"
      ],
      "text/plain": [
       "   SepalLength  SepalWidth  PetalLength  PetalWidth         Name\n",
       "0          5.1         3.5          1.4         0.2  Iris-setosa\n",
       "1          4.9         3.0          1.4         0.2  Iris-setosa\n",
       "2          4.7         3.2          1.3         0.2  Iris-setosa\n",
       "3          4.6         3.1          1.5         0.2  Iris-setosa\n",
       "4          5.0         3.6          1.4         0.2  Iris-setosa"
      ]
     },
     "execution_count": 46,
     "metadata": {},
     "output_type": "execute_result"
    }
   ],
   "source": [
    "iris.head()"
   ]
  },
  {
   "cell_type": "code",
   "execution_count": 47,
   "id": "a578a57e-ddb1-40ac-a863-879fcb1c82d8",
   "metadata": {},
   "outputs": [
    {
     "data": {
      "text/html": [
       "<div>\n",
       "<style scoped>\n",
       "    .dataframe tbody tr th:only-of-type {\n",
       "        vertical-align: middle;\n",
       "    }\n",
       "\n",
       "    .dataframe tbody tr th {\n",
       "        vertical-align: top;\n",
       "    }\n",
       "\n",
       "    .dataframe thead th {\n",
       "        text-align: right;\n",
       "    }\n",
       "</style>\n",
       "<table border=\"1\" class=\"dataframe\">\n",
       "  <thead>\n",
       "    <tr style=\"text-align: right;\">\n",
       "      <th></th>\n",
       "      <th>SepalLength</th>\n",
       "      <th>SepalWidth</th>\n",
       "      <th>PetalLength</th>\n",
       "      <th>PetalWidth</th>\n",
       "      <th>Name</th>\n",
       "      <th>sepal_ratio</th>\n",
       "    </tr>\n",
       "  </thead>\n",
       "  <tbody>\n",
       "    <tr>\n",
       "      <th>0</th>\n",
       "      <td>5.1</td>\n",
       "      <td>3.5</td>\n",
       "      <td>1.4</td>\n",
       "      <td>0.2</td>\n",
       "      <td>Iris-setosa</td>\n",
       "      <td>0.686275</td>\n",
       "    </tr>\n",
       "    <tr>\n",
       "      <th>1</th>\n",
       "      <td>4.9</td>\n",
       "      <td>3.0</td>\n",
       "      <td>1.4</td>\n",
       "      <td>0.2</td>\n",
       "      <td>Iris-setosa</td>\n",
       "      <td>0.612245</td>\n",
       "    </tr>\n",
       "    <tr>\n",
       "      <th>2</th>\n",
       "      <td>4.7</td>\n",
       "      <td>3.2</td>\n",
       "      <td>1.3</td>\n",
       "      <td>0.2</td>\n",
       "      <td>Iris-setosa</td>\n",
       "      <td>0.680851</td>\n",
       "    </tr>\n",
       "    <tr>\n",
       "      <th>3</th>\n",
       "      <td>4.6</td>\n",
       "      <td>3.1</td>\n",
       "      <td>1.5</td>\n",
       "      <td>0.2</td>\n",
       "      <td>Iris-setosa</td>\n",
       "      <td>0.673913</td>\n",
       "    </tr>\n",
       "    <tr>\n",
       "      <th>4</th>\n",
       "      <td>5.0</td>\n",
       "      <td>3.6</td>\n",
       "      <td>1.4</td>\n",
       "      <td>0.2</td>\n",
       "      <td>Iris-setosa</td>\n",
       "      <td>0.720000</td>\n",
       "    </tr>\n",
       "  </tbody>\n",
       "</table>\n",
       "</div>"
      ],
      "text/plain": [
       "   SepalLength  SepalWidth  PetalLength  PetalWidth         Name  sepal_ratio\n",
       "0          5.1         3.5          1.4         0.2  Iris-setosa     0.686275\n",
       "1          4.9         3.0          1.4         0.2  Iris-setosa     0.612245\n",
       "2          4.7         3.2          1.3         0.2  Iris-setosa     0.680851\n",
       "3          4.6         3.1          1.5         0.2  Iris-setosa     0.673913\n",
       "4          5.0         3.6          1.4         0.2  Iris-setosa     0.720000"
      ]
     },
     "execution_count": 47,
     "metadata": {},
     "output_type": "execute_result"
    }
   ],
   "source": [
    "iris.assign(sepal_ratio=iris[\"SepalWidth\"] / iris[\"SepalLength\"]).head()"
   ]
  },
  {
   "cell_type": "markdown",
   "id": "b6920c8e-c2fa-40ce-ae68-b17d2ff8d207",
   "metadata": {},
   "source": [
    "In the example above, we inserted a precomputed value. We can also pass in\n",
    "a function of one argument to be evaluated on the DataFrame being assigned to."
   ]
  },
  {
   "cell_type": "code",
   "execution_count": 48,
   "id": "53143385",
   "metadata": {},
   "outputs": [
    {
     "data": {
      "text/html": [
       "<div>\n",
       "<style scoped>\n",
       "    .dataframe tbody tr th:only-of-type {\n",
       "        vertical-align: middle;\n",
       "    }\n",
       "\n",
       "    .dataframe tbody tr th {\n",
       "        vertical-align: top;\n",
       "    }\n",
       "\n",
       "    .dataframe thead th {\n",
       "        text-align: right;\n",
       "    }\n",
       "</style>\n",
       "<table border=\"1\" class=\"dataframe\">\n",
       "  <thead>\n",
       "    <tr style=\"text-align: right;\">\n",
       "      <th></th>\n",
       "      <th>SepalLength</th>\n",
       "      <th>SepalWidth</th>\n",
       "      <th>PetalLength</th>\n",
       "      <th>PetalWidth</th>\n",
       "      <th>Name</th>\n",
       "      <th>sepal_ratio</th>\n",
       "    </tr>\n",
       "  </thead>\n",
       "  <tbody>\n",
       "    <tr>\n",
       "      <th>0</th>\n",
       "      <td>5.1</td>\n",
       "      <td>3.5</td>\n",
       "      <td>1.4</td>\n",
       "      <td>0.2</td>\n",
       "      <td>Iris-setosa</td>\n",
       "      <td>0.686275</td>\n",
       "    </tr>\n",
       "    <tr>\n",
       "      <th>1</th>\n",
       "      <td>4.9</td>\n",
       "      <td>3.0</td>\n",
       "      <td>1.4</td>\n",
       "      <td>0.2</td>\n",
       "      <td>Iris-setosa</td>\n",
       "      <td>0.612245</td>\n",
       "    </tr>\n",
       "    <tr>\n",
       "      <th>2</th>\n",
       "      <td>4.7</td>\n",
       "      <td>3.2</td>\n",
       "      <td>1.3</td>\n",
       "      <td>0.2</td>\n",
       "      <td>Iris-setosa</td>\n",
       "      <td>0.680851</td>\n",
       "    </tr>\n",
       "    <tr>\n",
       "      <th>3</th>\n",
       "      <td>4.6</td>\n",
       "      <td>3.1</td>\n",
       "      <td>1.5</td>\n",
       "      <td>0.2</td>\n",
       "      <td>Iris-setosa</td>\n",
       "      <td>0.673913</td>\n",
       "    </tr>\n",
       "    <tr>\n",
       "      <th>4</th>\n",
       "      <td>5.0</td>\n",
       "      <td>3.6</td>\n",
       "      <td>1.4</td>\n",
       "      <td>0.2</td>\n",
       "      <td>Iris-setosa</td>\n",
       "      <td>0.720000</td>\n",
       "    </tr>\n",
       "  </tbody>\n",
       "</table>\n",
       "</div>"
      ],
      "text/plain": [
       "   SepalLength  SepalWidth  PetalLength  PetalWidth         Name  sepal_ratio\n",
       "0          5.1         3.5          1.4         0.2  Iris-setosa     0.686275\n",
       "1          4.9         3.0          1.4         0.2  Iris-setosa     0.612245\n",
       "2          4.7         3.2          1.3         0.2  Iris-setosa     0.680851\n",
       "3          4.6         3.1          1.5         0.2  Iris-setosa     0.673913\n",
       "4          5.0         3.6          1.4         0.2  Iris-setosa     0.720000"
      ]
     },
     "execution_count": 48,
     "metadata": {},
     "output_type": "execute_result"
    }
   ],
   "source": [
    "iris.assign(sepal_ratio=lambda x: (x[\"SepalWidth\"] / x[\"SepalLength\"])).head()"
   ]
  },
  {
   "cell_type": "markdown",
   "id": "82f7a2b0-f8ec-4471-8961-491b602b27d3",
   "metadata": {},
   "source": [
    "`assign` **always** returns a copy of the data, leaving the original\n",
    "DataFrame untouched."
   ]
  },
  {
   "cell_type": "markdown",
   "id": "c5797a0d-e5c4-4252-bb78-ef81a8750393",
   "metadata": {},
   "source": [
    "Passing a callable, as opposed to an actual value to be inserted, is\n",
    "useful when you don’t have a reference to the DataFrame at hand. This is\n",
    "common when using `assign` in a chain of operations. For example,\n",
    "we can limit the DataFrame to just those observations with a Sepal Length\n",
    "greater than 5, calculate the ratio, and plot:"
   ]
  },
  {
   "cell_type": "code",
   "execution_count": 49,
   "id": "66fb5eb0",
   "metadata": {},
   "outputs": [
    {
     "data": {
      "text/plain": [
       "<AxesSubplot:xlabel='SepalRatio', ylabel='PetalRatio'>"
      ]
     },
     "execution_count": 49,
     "metadata": {},
     "output_type": "execute_result"
    },
    {
     "data": {
      "image/png": "[encoded data removed]",
      "text/plain": [
       "<Figure size 432x288 with 1 Axes>"
      ]
     },
     "metadata": {
      "needs_background": "light"
     },
     "output_type": "display_data"
    }
   ],
   "source": [
    "%matplotlib inline\n",
    "(\n",
    "    iris.query(\"SepalLength > 5\")\n",
    "    .assign(\n",
    "        SepalRatio=lambda x: x.SepalWidth / x.SepalLength,\n",
    "        PetalRatio=lambda x: x.PetalWidth / x.PetalLength,\n",
    "    )\n",
    "    .plot(kind=\"scatter\", x=\"SepalRatio\", y=\"PetalRatio\")\n",
    ")"
   ]
  },
  {
   "cell_type": "markdown",
   "id": "ac196d07-5d05-4b11-9390-ad29ba0bb9eb",
   "metadata": {},
   "source": [
    "<a class=\"anchor\" id=\"indexing_/_selection\"></a>\n",
    "## Indexing / selection"
   ]
  },
  {
   "cell_type": "markdown",
   "id": "52d13161-7932-4671-bc0a-448c11598f66",
   "metadata": {},
   "source": [
    "The basics of indexing are as follows:"
   ]
  },
  {
   "cell_type": "markdown",
   "id": "cf3e3653-959c-4df5-8398-7a1569d219f9",
   "metadata": {},
   "source": [
    "Row selection, for example, returns a Series whose index is the columns of the\n",
    "DataFrame:"
   ]
  },
  {
   "cell_type": "code",
   "execution_count": 50,
   "id": "2a516342-a2bb-423f-879f-9377c57652da",
   "metadata": {},
   "outputs": [
    {
     "data": {
      "text/plain": [
       "one            2.0\n",
       "bar            2.0\n",
       "flag         False\n",
       "foo            bar\n",
       "one_trunc      2.0\n",
       "Name: b, dtype: object"
      ]
     },
     "execution_count": 50,
     "metadata": {},
     "output_type": "execute_result"
    }
   ],
   "source": [
    "df.loc[\"b\"]"
   ]
  },
  {
   "cell_type": "code",
   "execution_count": 51,
   "id": "056512e0-50d4-4820-abb7-6b3ce494ef60",
   "metadata": {},
   "outputs": [
    {
     "data": {
      "text/plain": [
       "one           3.0\n",
       "bar           3.0\n",
       "flag         True\n",
       "foo           bar\n",
       "one_trunc     NaN\n",
       "Name: c, dtype: object"
      ]
     },
     "execution_count": 51,
     "metadata": {},
     "output_type": "execute_result"
    }
   ],
   "source": [
    "df.iloc[2]"
   ]
  },
  {
   "cell_type": "markdown",
   "id": "bfd45a36-27f6-4df1-9500-3eb13a91da90",
   "metadata": {},
   "source": [
    "> A more exhaustive treatment of sophisticated label-based indexing and\n",
    "slicing, will be covered later. We will address the\n",
    "fundamentals of reindexing / conforming to new sets of labels."
   ]
  },
  {
   "cell_type": "markdown",
   "id": "9c78dd99-602c-4a7f-bc5e-109d1abc92f2",
   "metadata": {},
   "source": [
    "<a class=\"anchor\" id=\"data_alignment_and_arithmetic\"></a>\n",
    "## Data alignment and arithmetic"
   ]
  },
  {
   "cell_type": "markdown",
   "id": "d1981dc4-4e83-4ddb-986c-8d8c4e0dd215",
   "metadata": {},
   "source": [
    "Data alignment between DataFrame objects automatically align on **both the\n",
    "columns and the index (row labels)**. Again, the resulting object will have the\n",
    "union of the column and row labels."
   ]
  },
  {
   "cell_type": "code",
   "execution_count": 52,
   "id": "9d1a3e70-5ca1-4f23-bfbc-1870e0a25fc1",
   "metadata": {},
   "outputs": [],
   "source": [
    "df = pd.DataFrame(np.random.randn(10, 4), columns=[\"A\", \"B\", \"C\", \"D\"])"
   ]
  },
  {
   "cell_type": "code",
   "execution_count": 53,
   "id": "b75eac56-a69c-4f54-88ed-139eeb9cdaef",
   "metadata": {},
   "outputs": [],
   "source": [
    "df2 = pd.DataFrame(np.random.randn(7, 3), columns=[\"A\", \"B\", \"C\"])"
   ]
  },
  {
   "cell_type": "code",
   "execution_count": 54,
   "id": "d1758bec-5f28-4564-89d4-b9b160a90cc4",
   "metadata": {},
   "outputs": [
    {
     "data": {
      "text/html": [
       "<div>\n",
       "<style scoped>\n",
       "    .dataframe tbody tr th:only-of-type {\n",
       "        vertical-align: middle;\n",
       "    }\n",
       "\n",
       "    .dataframe tbody tr th {\n",
       "        vertical-align: top;\n",
       "    }\n",
       "\n",
       "    .dataframe thead th {\n",
       "        text-align: right;\n",
       "    }\n",
       "</style>\n",
       "<table border=\"1\" class=\"dataframe\">\n",
       "  <thead>\n",
       "    <tr style=\"text-align: right;\">\n",
       "      <th></th>\n",
       "      <th>A</th>\n",
       "      <th>B</th>\n",
       "      <th>C</th>\n",
       "      <th>D</th>\n",
       "    </tr>\n",
       "  </thead>\n",
       "  <tbody>\n",
       "    <tr>\n",
       "      <th>0</th>\n",
       "      <td>-2.254795</td>\n",
       "      <td>0.712758</td>\n",
       "      <td>-0.461095</td>\n",
       "      <td>NaN</td>\n",
       "    </tr>\n",
       "    <tr>\n",
       "      <th>1</th>\n",
       "      <td>-0.393332</td>\n",
       "      <td>-1.632984</td>\n",
       "      <td>-0.843065</td>\n",
       "      <td>NaN</td>\n",
       "    </tr>\n",
       "    <tr>\n",
       "      <th>2</th>\n",
       "      <td>-0.749154</td>\n",
       "      <td>-0.232970</td>\n",
       "      <td>-1.461898</td>\n",
       "      <td>NaN</td>\n",
       "    </tr>\n",
       "    <tr>\n",
       "      <th>3</th>\n",
       "      <td>0.345436</td>\n",
       "      <td>-1.090181</td>\n",
       "      <td>0.223386</td>\n",
       "      <td>NaN</td>\n",
       "    </tr>\n",
       "    <tr>\n",
       "      <th>4</th>\n",
       "      <td>0.660872</td>\n",
       "      <td>-1.900789</td>\n",
       "      <td>-0.787155</td>\n",
       "      <td>NaN</td>\n",
       "    </tr>\n",
       "    <tr>\n",
       "      <th>5</th>\n",
       "      <td>1.752664</td>\n",
       "      <td>0.447346</td>\n",
       "      <td>0.469211</td>\n",
       "      <td>NaN</td>\n",
       "    </tr>\n",
       "    <tr>\n",
       "      <th>6</th>\n",
       "      <td>0.096375</td>\n",
       "      <td>0.778469</td>\n",
       "      <td>-0.026504</td>\n",
       "      <td>NaN</td>\n",
       "    </tr>\n",
       "    <tr>\n",
       "      <th>7</th>\n",
       "      <td>NaN</td>\n",
       "      <td>NaN</td>\n",
       "      <td>NaN</td>\n",
       "      <td>NaN</td>\n",
       "    </tr>\n",
       "    <tr>\n",
       "      <th>8</th>\n",
       "      <td>NaN</td>\n",
       "      <td>NaN</td>\n",
       "      <td>NaN</td>\n",
       "      <td>NaN</td>\n",
       "    </tr>\n",
       "    <tr>\n",
       "      <th>9</th>\n",
       "      <td>NaN</td>\n",
       "      <td>NaN</td>\n",
       "      <td>NaN</td>\n",
       "      <td>NaN</td>\n",
       "    </tr>\n",
       "  </tbody>\n",
       "</table>\n",
       "</div>"
      ],
      "text/plain": [
       "          A         B         C   D\n",
       "0 -2.254795  0.712758 -0.461095 NaN\n",
       "1 -0.393332 -1.632984 -0.843065 NaN\n",
       "2 -0.749154 -0.232970 -1.461898 NaN\n",
       "3  0.345436 -1.090181  0.223386 NaN\n",
       "4  0.660872 -1.900789 -0.787155 NaN\n",
       "5  1.752664  0.447346  0.469211 NaN\n",
       "6  0.096375  0.778469 -0.026504 NaN\n",
       "7       NaN       NaN       NaN NaN\n",
       "8       NaN       NaN       NaN NaN\n",
       "9       NaN       NaN       NaN NaN"
      ]
     },
     "execution_count": 54,
     "metadata": {},
     "output_type": "execute_result"
    }
   ],
   "source": [
    "df + df2"
   ]
  },
  {
   "cell_type": "markdown",
   "id": "4a9d94af-3b70-4559-bbfd-6543f4955f1f",
   "metadata": {},
   "source": [
    "When doing an operation between DataFrame and Series, the default behavior is\n",
    "to align the Series **index** on the DataFrame **columns**, thus [broadcasting](https://numpy.org/doc/stable/user/basics.broadcasting.html)\n",
    "row-wise. For example:"
   ]
  },
  {
   "cell_type": "code",
   "execution_count": 53,
   "id": "84fd0b9d",
   "metadata": {},
   "outputs": [
    {
     "data": {
      "text/html": [
       "<div>\n",
       "<style scoped>\n",
       "    .dataframe tbody tr th:only-of-type {\n",
       "        vertical-align: middle;\n",
       "    }\n",
       "\n",
       "    .dataframe tbody tr th {\n",
       "        vertical-align: top;\n",
       "    }\n",
       "\n",
       "    .dataframe thead th {\n",
       "        text-align: right;\n",
       "    }\n",
       "</style>\n",
       "<table border=\"1\" class=\"dataframe\">\n",
       "  <thead>\n",
       "    <tr style=\"text-align: right;\">\n",
       "      <th></th>\n",
       "      <th>A</th>\n",
       "      <th>B</th>\n",
       "      <th>C</th>\n",
       "      <th>D</th>\n",
       "    </tr>\n",
       "  </thead>\n",
       "  <tbody>\n",
       "    <tr>\n",
       "      <th>0</th>\n",
       "      <td>0.000000</td>\n",
       "      <td>0.000000</td>\n",
       "      <td>0.000000</td>\n",
       "      <td>0.000000</td>\n",
       "    </tr>\n",
       "    <tr>\n",
       "      <th>1</th>\n",
       "      <td>-3.575721</td>\n",
       "      <td>-1.205909</td>\n",
       "      <td>-0.193639</td>\n",
       "      <td>1.840638</td>\n",
       "    </tr>\n",
       "    <tr>\n",
       "      <th>2</th>\n",
       "      <td>-1.606311</td>\n",
       "      <td>-3.337754</td>\n",
       "      <td>2.221524</td>\n",
       "      <td>0.300408</td>\n",
       "    </tr>\n",
       "    <tr>\n",
       "      <th>3</th>\n",
       "      <td>-0.820681</td>\n",
       "      <td>-0.833389</td>\n",
       "      <td>0.893262</td>\n",
       "      <td>-1.143589</td>\n",
       "    </tr>\n",
       "    <tr>\n",
       "      <th>4</th>\n",
       "      <td>0.288578</td>\n",
       "      <td>-1.391492</td>\n",
       "      <td>0.117251</td>\n",
       "      <td>1.134395</td>\n",
       "    </tr>\n",
       "    <tr>\n",
       "      <th>5</th>\n",
       "      <td>-0.889458</td>\n",
       "      <td>-1.396056</td>\n",
       "      <td>1.750808</td>\n",
       "      <td>-0.524259</td>\n",
       "    </tr>\n",
       "    <tr>\n",
       "      <th>6</th>\n",
       "      <td>0.779120</td>\n",
       "      <td>-0.403167</td>\n",
       "      <td>0.881227</td>\n",
       "      <td>0.771088</td>\n",
       "    </tr>\n",
       "    <tr>\n",
       "      <th>7</th>\n",
       "      <td>-2.134188</td>\n",
       "      <td>-1.364446</td>\n",
       "      <td>0.757241</td>\n",
       "      <td>0.354781</td>\n",
       "    </tr>\n",
       "    <tr>\n",
       "      <th>8</th>\n",
       "      <td>-1.450185</td>\n",
       "      <td>-2.661361</td>\n",
       "      <td>1.644545</td>\n",
       "      <td>1.214801</td>\n",
       "    </tr>\n",
       "    <tr>\n",
       "      <th>9</th>\n",
       "      <td>0.306056</td>\n",
       "      <td>-3.886674</td>\n",
       "      <td>-0.374005</td>\n",
       "      <td>-0.670452</td>\n",
       "    </tr>\n",
       "  </tbody>\n",
       "</table>\n",
       "</div>"
      ],
      "text/plain": [
       "          A         B         C         D\n",
       "0  0.000000  0.000000  0.000000  0.000000\n",
       "1 -3.575721 -1.205909 -0.193639  1.840638\n",
       "2 -1.606311 -3.337754  2.221524  0.300408\n",
       "3 -0.820681 -0.833389  0.893262 -1.143589\n",
       "4  0.288578 -1.391492  0.117251  1.134395\n",
       "5 -0.889458 -1.396056  1.750808 -0.524259\n",
       "6  0.779120 -0.403167  0.881227  0.771088\n",
       "7 -2.134188 -1.364446  0.757241  0.354781\n",
       "8 -1.450185 -2.661361  1.644545  1.214801\n",
       "9  0.306056 -3.886674 -0.374005 -0.670452"
      ]
     },
     "execution_count": 53,
     "metadata": {},
     "output_type": "execute_result"
    }
   ],
   "source": [
    "df - df.iloc[0]"
   ]
  },
  {
   "cell_type": "markdown",
   "id": "59e58c49-2058-43f9-9935-4f3c8c81b7f9",
   "metadata": {},
   "source": [
    "Operations with scalars are just as you would expect:"
   ]
  },
  {
   "cell_type": "code",
   "execution_count": 55,
   "id": "98c305ce-f9af-48bc-9c2c-2e603c09d46b",
   "metadata": {},
   "outputs": [
    {
     "data": {
      "text/html": [
       "<div>\n",
       "<style scoped>\n",
       "    .dataframe tbody tr th:only-of-type {\n",
       "        vertical-align: middle;\n",
       "    }\n",
       "\n",
       "    .dataframe tbody tr th {\n",
       "        vertical-align: top;\n",
       "    }\n",
       "\n",
       "    .dataframe thead th {\n",
       "        text-align: right;\n",
       "    }\n",
       "</style>\n",
       "<table border=\"1\" class=\"dataframe\">\n",
       "  <thead>\n",
       "    <tr style=\"text-align: right;\">\n",
       "      <th></th>\n",
       "      <th>A</th>\n",
       "      <th>B</th>\n",
       "      <th>C</th>\n",
       "      <th>D</th>\n",
       "    </tr>\n",
       "  </thead>\n",
       "  <tbody>\n",
       "    <tr>\n",
       "      <th>0</th>\n",
       "      <td>-0.404934</td>\n",
       "      <td>0.009995</td>\n",
       "      <td>-1.410986</td>\n",
       "      <td>11.997762</td>\n",
       "    </tr>\n",
       "    <tr>\n",
       "      <th>1</th>\n",
       "      <td>5.840341</td>\n",
       "      <td>-7.354694</td>\n",
       "      <td>-3.234144</td>\n",
       "      <td>0.201793</td>\n",
       "    </tr>\n",
       "    <tr>\n",
       "      <th>2</th>\n",
       "      <td>-0.353068</td>\n",
       "      <td>6.257621</td>\n",
       "      <td>-0.546004</td>\n",
       "      <td>7.614171</td>\n",
       "    </tr>\n",
       "    <tr>\n",
       "      <th>3</th>\n",
       "      <td>1.024329</td>\n",
       "      <td>0.732774</td>\n",
       "      <td>2.245829</td>\n",
       "      <td>1.256279</td>\n",
       "    </tr>\n",
       "    <tr>\n",
       "      <th>4</th>\n",
       "      <td>2.050134</td>\n",
       "      <td>-1.782935</td>\n",
       "      <td>-0.463279</td>\n",
       "      <td>-4.018896</td>\n",
       "    </tr>\n",
       "    <tr>\n",
       "      <th>5</th>\n",
       "      <td>8.645093</td>\n",
       "      <td>4.179281</td>\n",
       "      <td>0.063943</td>\n",
       "      <td>-1.695715</td>\n",
       "    </tr>\n",
       "    <tr>\n",
       "      <th>6</th>\n",
       "      <td>4.595235</td>\n",
       "      <td>-0.974224</td>\n",
       "      <td>11.187781</td>\n",
       "      <td>-6.032954</td>\n",
       "    </tr>\n",
       "    <tr>\n",
       "      <th>7</th>\n",
       "      <td>2.903688</td>\n",
       "      <td>6.693124</td>\n",
       "      <td>-6.827198</td>\n",
       "      <td>-1.741605</td>\n",
       "    </tr>\n",
       "    <tr>\n",
       "      <th>8</th>\n",
       "      <td>-2.998097</td>\n",
       "      <td>0.116532</td>\n",
       "      <td>-1.601747</td>\n",
       "      <td>3.573350</td>\n",
       "    </tr>\n",
       "    <tr>\n",
       "      <th>9</th>\n",
       "      <td>-5.735133</td>\n",
       "      <td>6.189847</td>\n",
       "      <td>3.021848</td>\n",
       "      <td>-7.133954</td>\n",
       "    </tr>\n",
       "  </tbody>\n",
       "</table>\n",
       "</div>"
      ],
      "text/plain": [
       "          A         B          C          D\n",
       "0 -0.404934  0.009995  -1.410986  11.997762\n",
       "1  5.840341 -7.354694  -3.234144   0.201793\n",
       "2 -0.353068  6.257621  -0.546004   7.614171\n",
       "3  1.024329  0.732774   2.245829   1.256279\n",
       "4  2.050134 -1.782935  -0.463279  -4.018896\n",
       "5  8.645093  4.179281   0.063943  -1.695715\n",
       "6  4.595235 -0.974224  11.187781  -6.032954\n",
       "7  2.903688  6.693124  -6.827198  -1.741605\n",
       "8 -2.998097  0.116532  -1.601747   3.573350\n",
       "9 -5.735133  6.189847   3.021848  -7.133954"
      ]
     },
     "execution_count": 55,
     "metadata": {},
     "output_type": "execute_result"
    }
   ],
   "source": [
    "df * 5 + 2"
   ]
  },
  {
   "cell_type": "code",
   "execution_count": 56,
   "id": "4a66e4a9-0066-4711-834a-07ad9dbb420c",
   "metadata": {},
   "outputs": [
    {
     "data": {
      "text/html": [
       "<div>\n",
       "<style scoped>\n",
       "    .dataframe tbody tr th:only-of-type {\n",
       "        vertical-align: middle;\n",
       "    }\n",
       "\n",
       "    .dataframe tbody tr th {\n",
       "        vertical-align: top;\n",
       "    }\n",
       "\n",
       "    .dataframe thead th {\n",
       "        text-align: right;\n",
       "    }\n",
       "</style>\n",
       "<table border=\"1\" class=\"dataframe\">\n",
       "  <thead>\n",
       "    <tr style=\"text-align: right;\">\n",
       "      <th></th>\n",
       "      <th>A</th>\n",
       "      <th>B</th>\n",
       "      <th>C</th>\n",
       "      <th>D</th>\n",
       "    </tr>\n",
       "  </thead>\n",
       "  <tbody>\n",
       "    <tr>\n",
       "      <th>0</th>\n",
       "      <td>-2.079059</td>\n",
       "      <td>-2.512556</td>\n",
       "      <td>-1.465852</td>\n",
       "      <td>0.500112</td>\n",
       "    </tr>\n",
       "    <tr>\n",
       "      <th>1</th>\n",
       "      <td>1.301968</td>\n",
       "      <td>-0.534491</td>\n",
       "      <td>-0.955266</td>\n",
       "      <td>-2.780547</td>\n",
       "    </tr>\n",
       "    <tr>\n",
       "      <th>2</th>\n",
       "      <td>-2.124886</td>\n",
       "      <td>1.174365</td>\n",
       "      <td>-1.963862</td>\n",
       "      <td>0.890603</td>\n",
       "    </tr>\n",
       "    <tr>\n",
       "      <th>3</th>\n",
       "      <td>-5.124679</td>\n",
       "      <td>-3.945626</td>\n",
       "      <td>20.339365</td>\n",
       "      <td>-6.722952</td>\n",
       "    </tr>\n",
       "    <tr>\n",
       "      <th>4</th>\n",
       "      <td>99.732007</td>\n",
       "      <td>-1.321725</td>\n",
       "      <td>-2.029815</td>\n",
       "      <td>-0.830717</td>\n",
       "    </tr>\n",
       "    <tr>\n",
       "      <th>5</th>\n",
       "      <td>0.752435</td>\n",
       "      <td>2.294335</td>\n",
       "      <td>-2.582569</td>\n",
       "      <td>-1.352918</td>\n",
       "    </tr>\n",
       "    <tr>\n",
       "      <th>6</th>\n",
       "      <td>1.926608</td>\n",
       "      <td>-1.681111</td>\n",
       "      <td>0.544201</td>\n",
       "      <td>-0.622436</td>\n",
       "    </tr>\n",
       "    <tr>\n",
       "      <th>7</th>\n",
       "      <td>5.532886</td>\n",
       "      <td>1.065389</td>\n",
       "      <td>-0.566431</td>\n",
       "      <td>-1.336325</td>\n",
       "    </tr>\n",
       "    <tr>\n",
       "      <th>8</th>\n",
       "      <td>-1.000381</td>\n",
       "      <td>-2.654678</td>\n",
       "      <td>-1.388215</td>\n",
       "      <td>3.177931</td>\n",
       "    </tr>\n",
       "    <tr>\n",
       "      <th>9</th>\n",
       "      <td>-0.646401</td>\n",
       "      <td>1.193361</td>\n",
       "      <td>4.893097</td>\n",
       "      <td>-0.547408</td>\n",
       "    </tr>\n",
       "  </tbody>\n",
       "</table>\n",
       "</div>"
      ],
      "text/plain": [
       "           A         B          C         D\n",
       "0  -2.079059 -2.512556  -1.465852  0.500112\n",
       "1   1.301968 -0.534491  -0.955266 -2.780547\n",
       "2  -2.124886  1.174365  -1.963862  0.890603\n",
       "3  -5.124679 -3.945626  20.339365 -6.722952\n",
       "4  99.732007 -1.321725  -2.029815 -0.830717\n",
       "5   0.752435  2.294335  -2.582569 -1.352918\n",
       "6   1.926608 -1.681111   0.544201 -0.622436\n",
       "7   5.532886  1.065389  -0.566431 -1.336325\n",
       "8  -1.000381 -2.654678  -1.388215  3.177931\n",
       "9  -0.646401  1.193361   4.893097 -0.547408"
      ]
     },
     "execution_count": 56,
     "metadata": {},
     "output_type": "execute_result"
    }
   ],
   "source": [
    "1 / df"
   ]
  },
  {
   "cell_type": "code",
   "execution_count": 57,
   "id": "0fe3c308-19ab-4c92-ab88-88abd2659b99",
   "metadata": {},
   "outputs": [
    {
     "data": {
      "text/html": [
       "<div>\n",
       "<style scoped>\n",
       "    .dataframe tbody tr th:only-of-type {\n",
       "        vertical-align: middle;\n",
       "    }\n",
       "\n",
       "    .dataframe tbody tr th {\n",
       "        vertical-align: top;\n",
       "    }\n",
       "\n",
       "    .dataframe thead th {\n",
       "        text-align: right;\n",
       "    }\n",
       "</style>\n",
       "<table border=\"1\" class=\"dataframe\">\n",
       "  <thead>\n",
       "    <tr style=\"text-align: right;\">\n",
       "      <th></th>\n",
       "      <th>A</th>\n",
       "      <th>B</th>\n",
       "      <th>C</th>\n",
       "      <th>D</th>\n",
       "    </tr>\n",
       "  </thead>\n",
       "  <tbody>\n",
       "    <tr>\n",
       "      <th>0</th>\n",
       "      <td>5.352205e-02</td>\n",
       "      <td>0.025092</td>\n",
       "      <td>0.216591</td>\n",
       "      <td>15.985682</td>\n",
       "    </tr>\n",
       "    <tr>\n",
       "      <th>1</th>\n",
       "      <td>3.480161e-01</td>\n",
       "      <td>12.252883</td>\n",
       "      <td>1.200888</td>\n",
       "      <td>0.016729</td>\n",
       "    </tr>\n",
       "    <tr>\n",
       "      <th>2</th>\n",
       "      <td>4.905210e-02</td>\n",
       "      <td>0.525761</td>\n",
       "      <td>0.067229</td>\n",
       "      <td>1.589508</td>\n",
       "    </tr>\n",
       "    <tr>\n",
       "      <th>3</th>\n",
       "      <td>1.449885e-03</td>\n",
       "      <td>0.004126</td>\n",
       "      <td>0.000006</td>\n",
       "      <td>0.000490</td>\n",
       "    </tr>\n",
       "    <tr>\n",
       "      <th>4</th>\n",
       "      <td>1.010792e-08</td>\n",
       "      <td>0.327669</td>\n",
       "      <td>0.058908</td>\n",
       "      <td>2.099845</td>\n",
       "    </tr>\n",
       "    <tr>\n",
       "      <th>5</th>\n",
       "      <td>3.119782e+00</td>\n",
       "      <td>0.036089</td>\n",
       "      <td>0.022480</td>\n",
       "      <td>0.298479</td>\n",
       "    </tr>\n",
       "    <tr>\n",
       "      <th>6</th>\n",
       "      <td>7.258159e-02</td>\n",
       "      <td>0.125203</td>\n",
       "      <td>11.401513</td>\n",
       "      <td>6.662252</td>\n",
       "    </tr>\n",
       "    <tr>\n",
       "      <th>7</th>\n",
       "      <td>1.067071e-03</td>\n",
       "      <td>0.776190</td>\n",
       "      <td>9.714298</td>\n",
       "      <td>0.313582</td>\n",
       "    </tr>\n",
       "    <tr>\n",
       "      <th>8</th>\n",
       "      <td>9.984785e-01</td>\n",
       "      <td>0.020135</td>\n",
       "      <td>0.269261</td>\n",
       "      <td>0.009804</td>\n",
       "    </tr>\n",
       "    <tr>\n",
       "      <th>9</th>\n",
       "      <td>5.727844e+00</td>\n",
       "      <td>0.493075</td>\n",
       "      <td>0.001744</td>\n",
       "      <td>11.136667</td>\n",
       "    </tr>\n",
       "  </tbody>\n",
       "</table>\n",
       "</div>"
      ],
      "text/plain": [
       "              A          B          C          D\n",
       "0  5.352205e-02   0.025092   0.216591  15.985682\n",
       "1  3.480161e-01  12.252883   1.200888   0.016729\n",
       "2  4.905210e-02   0.525761   0.067229   1.589508\n",
       "3  1.449885e-03   0.004126   0.000006   0.000490\n",
       "4  1.010792e-08   0.327669   0.058908   2.099845\n",
       "5  3.119782e+00   0.036089   0.022480   0.298479\n",
       "6  7.258159e-02   0.125203  11.401513   6.662252\n",
       "7  1.067071e-03   0.776190   9.714298   0.313582\n",
       "8  9.984785e-01   0.020135   0.269261   0.009804\n",
       "9  5.727844e+00   0.493075   0.001744  11.136667"
      ]
     },
     "execution_count": 57,
     "metadata": {},
     "output_type": "execute_result"
    }
   ],
   "source": [
    "df ** 4"
   ]
  },
  {
   "cell_type": "markdown",
   "id": "adf9509c-7907-41b8-b485-9be318891eb4",
   "metadata": {},
   "source": [
    "Boolean operators work as well:"
   ]
  },
  {
   "cell_type": "code",
   "execution_count": 58,
   "id": "5398d3ba-6128-4b15-894a-56b46139984a",
   "metadata": {},
   "outputs": [],
   "source": [
    "df1 = pd.DataFrame({\"a\": [1, 0, 1], \"b\": [0, 1, 1]}, dtype=bool)\n",
    "df2 = pd.DataFrame({\"a\": [0, 1, 1], \"b\": [1, 1, 0]}, dtype=bool)"
   ]
  },
  {
   "cell_type": "code",
   "execution_count": 59,
   "id": "b85e5d1d-6762-437b-b1ea-e262c580ce3b",
   "metadata": {},
   "outputs": [
    {
     "data": {
      "text/html": [
       "<div>\n",
       "<style scoped>\n",
       "    .dataframe tbody tr th:only-of-type {\n",
       "        vertical-align: middle;\n",
       "    }\n",
       "\n",
       "    .dataframe tbody tr th {\n",
       "        vertical-align: top;\n",
       "    }\n",
       "\n",
       "    .dataframe thead th {\n",
       "        text-align: right;\n",
       "    }\n",
       "</style>\n",
       "<table border=\"1\" class=\"dataframe\">\n",
       "  <thead>\n",
       "    <tr style=\"text-align: right;\">\n",
       "      <th></th>\n",
       "      <th>a</th>\n",
       "      <th>b</th>\n",
       "    </tr>\n",
       "  </thead>\n",
       "  <tbody>\n",
       "    <tr>\n",
       "      <th>0</th>\n",
       "      <td>False</td>\n",
       "      <td>False</td>\n",
       "    </tr>\n",
       "    <tr>\n",
       "      <th>1</th>\n",
       "      <td>False</td>\n",
       "      <td>True</td>\n",
       "    </tr>\n",
       "    <tr>\n",
       "      <th>2</th>\n",
       "      <td>True</td>\n",
       "      <td>False</td>\n",
       "    </tr>\n",
       "  </tbody>\n",
       "</table>\n",
       "</div>"
      ],
      "text/plain": [
       "       a      b\n",
       "0  False  False\n",
       "1  False   True\n",
       "2   True  False"
      ]
     },
     "execution_count": 59,
     "metadata": {},
     "output_type": "execute_result"
    }
   ],
   "source": [
    "df1 & df2"
   ]
  },
  {
   "cell_type": "code",
   "execution_count": 60,
   "id": "939e342e-6dc6-47d6-b9a7-ca856f2a7f27",
   "metadata": {},
   "outputs": [
    {
     "data": {
      "text/html": [
       "<div>\n",
       "<style scoped>\n",
       "    .dataframe tbody tr th:only-of-type {\n",
       "        vertical-align: middle;\n",
       "    }\n",
       "\n",
       "    .dataframe tbody tr th {\n",
       "        vertical-align: top;\n",
       "    }\n",
       "\n",
       "    .dataframe thead th {\n",
       "        text-align: right;\n",
       "    }\n",
       "</style>\n",
       "<table border=\"1\" class=\"dataframe\">\n",
       "  <thead>\n",
       "    <tr style=\"text-align: right;\">\n",
       "      <th></th>\n",
       "      <th>a</th>\n",
       "      <th>b</th>\n",
       "    </tr>\n",
       "  </thead>\n",
       "  <tbody>\n",
       "    <tr>\n",
       "      <th>0</th>\n",
       "      <td>True</td>\n",
       "      <td>True</td>\n",
       "    </tr>\n",
       "    <tr>\n",
       "      <th>1</th>\n",
       "      <td>True</td>\n",
       "      <td>True</td>\n",
       "    </tr>\n",
       "    <tr>\n",
       "      <th>2</th>\n",
       "      <td>True</td>\n",
       "      <td>True</td>\n",
       "    </tr>\n",
       "  </tbody>\n",
       "</table>\n",
       "</div>"
      ],
      "text/plain": [
       "      a     b\n",
       "0  True  True\n",
       "1  True  True\n",
       "2  True  True"
      ]
     },
     "execution_count": 60,
     "metadata": {},
     "output_type": "execute_result"
    }
   ],
   "source": [
    "df1 | df2"
   ]
  },
  {
   "cell_type": "code",
   "execution_count": 61,
   "id": "064c5857-20a8-4f42-921d-8267977bffa5",
   "metadata": {},
   "outputs": [
    {
     "data": {
      "text/html": [
       "<div>\n",
       "<style scoped>\n",
       "    .dataframe tbody tr th:only-of-type {\n",
       "        vertical-align: middle;\n",
       "    }\n",
       "\n",
       "    .dataframe tbody tr th {\n",
       "        vertical-align: top;\n",
       "    }\n",
       "\n",
       "    .dataframe thead th {\n",
       "        text-align: right;\n",
       "    }\n",
       "</style>\n",
       "<table border=\"1\" class=\"dataframe\">\n",
       "  <thead>\n",
       "    <tr style=\"text-align: right;\">\n",
       "      <th></th>\n",
       "      <th>a</th>\n",
       "      <th>b</th>\n",
       "    </tr>\n",
       "  </thead>\n",
       "  <tbody>\n",
       "    <tr>\n",
       "      <th>0</th>\n",
       "      <td>True</td>\n",
       "      <td>True</td>\n",
       "    </tr>\n",
       "    <tr>\n",
       "      <th>1</th>\n",
       "      <td>True</td>\n",
       "      <td>False</td>\n",
       "    </tr>\n",
       "    <tr>\n",
       "      <th>2</th>\n",
       "      <td>False</td>\n",
       "      <td>True</td>\n",
       "    </tr>\n",
       "  </tbody>\n",
       "</table>\n",
       "</div>"
      ],
      "text/plain": [
       "       a      b\n",
       "0   True   True\n",
       "1   True  False\n",
       "2  False   True"
      ]
     },
     "execution_count": 61,
     "metadata": {},
     "output_type": "execute_result"
    }
   ],
   "source": [
    "df1 ^ df2"
   ]
  },
  {
   "cell_type": "code",
   "execution_count": 62,
   "id": "6419af94-de7c-408c-8c3d-9ece7a06d2d2",
   "metadata": {},
   "outputs": [
    {
     "data": {
      "text/html": [
       "<div>\n",
       "<style scoped>\n",
       "    .dataframe tbody tr th:only-of-type {\n",
       "        vertical-align: middle;\n",
       "    }\n",
       "\n",
       "    .dataframe tbody tr th {\n",
       "        vertical-align: top;\n",
       "    }\n",
       "\n",
       "    .dataframe thead th {\n",
       "        text-align: right;\n",
       "    }\n",
       "</style>\n",
       "<table border=\"1\" class=\"dataframe\">\n",
       "  <thead>\n",
       "    <tr style=\"text-align: right;\">\n",
       "      <th></th>\n",
       "      <th>a</th>\n",
       "      <th>b</th>\n",
       "    </tr>\n",
       "  </thead>\n",
       "  <tbody>\n",
       "    <tr>\n",
       "      <th>0</th>\n",
       "      <td>False</td>\n",
       "      <td>True</td>\n",
       "    </tr>\n",
       "    <tr>\n",
       "      <th>1</th>\n",
       "      <td>True</td>\n",
       "      <td>False</td>\n",
       "    </tr>\n",
       "    <tr>\n",
       "      <th>2</th>\n",
       "      <td>False</td>\n",
       "      <td>False</td>\n",
       "    </tr>\n",
       "  </tbody>\n",
       "</table>\n",
       "</div>"
      ],
      "text/plain": [
       "       a      b\n",
       "0  False   True\n",
       "1   True  False\n",
       "2  False  False"
      ]
     },
     "execution_count": 62,
     "metadata": {},
     "output_type": "execute_result"
    }
   ],
   "source": [
    "-df1"
   ]
  },
  {
   "cell_type": "markdown",
   "id": "03f14bbf-167a-4bea-8e5c-40999268a9be",
   "metadata": {},
   "source": [
    "<a class=\"anchor\" id=\"transposing\"></a>\n",
    "### Transposing"
   ]
  },
  {
   "cell_type": "markdown",
   "id": "66622490-5f28-43db-a2bf-d363d5831caa",
   "metadata": {},
   "source": [
    "To transpose, access the `T` attribute (also the `transpose` function),\n",
    "similar to an ndarray:"
   ]
  },
  {
   "cell_type": "code",
   "execution_count": 56,
   "id": "a59e65e7",
   "metadata": {},
   "outputs": [
    {
     "data": {
      "text/html": [
       "<div>\n",
       "<style scoped>\n",
       "    .dataframe tbody tr th:only-of-type {\n",
       "        vertical-align: middle;\n",
       "    }\n",
       "\n",
       "    .dataframe tbody tr th {\n",
       "        vertical-align: top;\n",
       "    }\n",
       "\n",
       "    .dataframe thead th {\n",
       "        text-align: right;\n",
       "    }\n",
       "</style>\n",
       "<table border=\"1\" class=\"dataframe\">\n",
       "  <thead>\n",
       "    <tr style=\"text-align: right;\">\n",
       "      <th></th>\n",
       "      <th>0</th>\n",
       "      <th>1</th>\n",
       "      <th>2</th>\n",
       "      <th>3</th>\n",
       "      <th>4</th>\n",
       "    </tr>\n",
       "  </thead>\n",
       "  <tbody>\n",
       "    <tr>\n",
       "      <th>A</th>\n",
       "      <td>0.584748</td>\n",
       "      <td>-2.990973</td>\n",
       "      <td>-1.021563</td>\n",
       "      <td>-0.235933</td>\n",
       "      <td>0.873326</td>\n",
       "    </tr>\n",
       "    <tr>\n",
       "      <th>B</th>\n",
       "      <td>1.708132</td>\n",
       "      <td>0.502223</td>\n",
       "      <td>-1.629622</td>\n",
       "      <td>0.874744</td>\n",
       "      <td>0.316640</td>\n",
       "    </tr>\n",
       "    <tr>\n",
       "      <th>C</th>\n",
       "      <td>-0.938920</td>\n",
       "      <td>-1.132559</td>\n",
       "      <td>1.282604</td>\n",
       "      <td>-0.045658</td>\n",
       "      <td>-0.821668</td>\n",
       "    </tr>\n",
       "    <tr>\n",
       "      <th>D</th>\n",
       "      <td>-0.022153</td>\n",
       "      <td>1.818485</td>\n",
       "      <td>0.278255</td>\n",
       "      <td>-1.165742</td>\n",
       "      <td>1.112242</td>\n",
       "    </tr>\n",
       "  </tbody>\n",
       "</table>\n",
       "</div>"
      ],
      "text/plain": [
       "          0         1         2         3         4\n",
       "A  0.584748 -2.990973 -1.021563 -0.235933  0.873326\n",
       "B  1.708132  0.502223 -1.629622  0.874744  0.316640\n",
       "C -0.938920 -1.132559  1.282604 -0.045658 -0.821668\n",
       "D -0.022153  1.818485  0.278255 -1.165742  1.112242"
      ]
     },
     "execution_count": 56,
     "metadata": {},
     "output_type": "execute_result"
    }
   ],
   "source": [
    "df[:5].T"
   ]
  },
  {
   "cell_type": "markdown",
   "id": "7cd75579-9235-4552-8c27-cfe7b5cfe8f6",
   "metadata": {},
   "source": [
    "<a class=\"anchor\" id=\"dataframe_interoperability_with_numpy_functions\"></a>\n",
    "## DataFrame interoperability with NumPy functions"
   ]
  },
  {
   "cell_type": "markdown",
   "id": "dd98f1f1-004b-4377-8c90-0b2cad8d8a16",
   "metadata": {},
   "source": [
    "Elementwise NumPy ufuncs (log, exp, sqrt, …) and various other NumPy functions\n",
    "can be used with no issues on Series and DataFrame, assuming the data within\n",
    "are numeric:"
   ]
  },
  {
   "cell_type": "code",
   "execution_count": 63,
   "id": "f2d334dd-64dc-4863-a033-9732f0b57df3",
   "metadata": {},
   "outputs": [
    {
     "data": {
      "text/html": [
       "<div>\n",
       "<style scoped>\n",
       "    .dataframe tbody tr th:only-of-type {\n",
       "        vertical-align: middle;\n",
       "    }\n",
       "\n",
       "    .dataframe tbody tr th {\n",
       "        vertical-align: top;\n",
       "    }\n",
       "\n",
       "    .dataframe thead th {\n",
       "        text-align: right;\n",
       "    }\n",
       "</style>\n",
       "<table border=\"1\" class=\"dataframe\">\n",
       "  <thead>\n",
       "    <tr style=\"text-align: right;\">\n",
       "      <th></th>\n",
       "      <th>A</th>\n",
       "      <th>B</th>\n",
       "      <th>C</th>\n",
       "      <th>D</th>\n",
       "    </tr>\n",
       "  </thead>\n",
       "  <tbody>\n",
       "    <tr>\n",
       "      <th>0</th>\n",
       "      <td>0.618173</td>\n",
       "      <td>0.671661</td>\n",
       "      <td>0.505505</td>\n",
       "      <td>7.385750</td>\n",
       "    </tr>\n",
       "    <tr>\n",
       "      <th>1</th>\n",
       "      <td>2.155598</td>\n",
       "      <td>0.153979</td>\n",
       "      <td>0.351049</td>\n",
       "      <td>0.697927</td>\n",
       "    </tr>\n",
       "    <tr>\n",
       "      <th>2</th>\n",
       "      <td>0.624619</td>\n",
       "      <td>2.343216</td>\n",
       "      <td>0.600976</td>\n",
       "      <td>3.073553</td>\n",
       "    </tr>\n",
       "    <tr>\n",
       "      <th>3</th>\n",
       "      <td>0.822724</td>\n",
       "      <td>0.776122</td>\n",
       "      <td>1.050394</td>\n",
       "      <td>0.861790</td>\n",
       "    </tr>\n",
       "    <tr>\n",
       "      <th>4</th>\n",
       "      <td>1.010077</td>\n",
       "      <td>0.469265</td>\n",
       "      <td>0.611002</td>\n",
       "      <td>0.300058</td>\n",
       "    </tr>\n",
       "    <tr>\n",
       "      <th>5</th>\n",
       "      <td>3.777334</td>\n",
       "      <td>1.546286</td>\n",
       "      <td>0.678948</td>\n",
       "      <td>0.477523</td>\n",
       "    </tr>\n",
       "    <tr>\n",
       "      <th>6</th>\n",
       "      <td>1.680425</td>\n",
       "      <td>0.551648</td>\n",
       "      <td>6.281169</td>\n",
       "      <td>0.200570</td>\n",
       "    </tr>\n",
       "    <tr>\n",
       "      <th>7</th>\n",
       "      <td>1.198101</td>\n",
       "      <td>2.556463</td>\n",
       "      <td>0.171112</td>\n",
       "      <td>0.473160</td>\n",
       "    </tr>\n",
       "    <tr>\n",
       "      <th>8</th>\n",
       "      <td>0.368019</td>\n",
       "      <td>0.686126</td>\n",
       "      <td>0.486582</td>\n",
       "      <td>1.369807</td>\n",
       "    </tr>\n",
       "    <tr>\n",
       "      <th>9</th>\n",
       "      <td>0.212880</td>\n",
       "      <td>2.311668</td>\n",
       "      <td>1.226751</td>\n",
       "      <td>0.160929</td>\n",
       "    </tr>\n",
       "  </tbody>\n",
       "</table>\n",
       "</div>"
      ],
      "text/plain": [
       "          A         B         C         D\n",
       "0  0.618173  0.671661  0.505505  7.385750\n",
       "1  2.155598  0.153979  0.351049  0.697927\n",
       "2  0.624619  2.343216  0.600976  3.073553\n",
       "3  0.822724  0.776122  1.050394  0.861790\n",
       "4  1.010077  0.469265  0.611002  0.300058\n",
       "5  3.777334  1.546286  0.678948  0.477523\n",
       "6  1.680425  0.551648  6.281169  0.200570\n",
       "7  1.198101  2.556463  0.171112  0.473160\n",
       "8  0.368019  0.686126  0.486582  1.369807\n",
       "9  0.212880  2.311668  1.226751  0.160929"
      ]
     },
     "execution_count": 63,
     "metadata": {},
     "output_type": "execute_result"
    }
   ],
   "source": [
    "np.exp(df)"
   ]
  },
  {
   "cell_type": "code",
   "execution_count": 64,
   "id": "16a27a2d-caeb-46f3-b887-6fb6d5e9a547",
   "metadata": {},
   "outputs": [
    {
     "data": {
      "text/plain": [
       "array([[-0.48098682, -0.39800102, -0.68219719,  1.99955242],\n",
       "       [ 0.76806826, -1.87093877, -1.04682873, -0.35964148],\n",
       "       [-0.47061353,  0.85152421, -0.5092008 ,  1.12283423],\n",
       "       [-0.19513418, -0.25344523,  0.04916574, -0.14874419],\n",
       "       [ 0.01002687, -0.75658702, -0.49265577, -1.2037792 ],\n",
       "       [ 1.3290186 ,  0.4358561 , -0.38721139, -0.73914293],\n",
       "       [ 0.51904693, -0.59484472,  1.83755617, -1.60659077],\n",
       "       [ 0.18073751,  0.93862474, -1.76543956, -0.74832093],\n",
       "       [-0.9996194 , -0.37669354, -0.72034935,  0.3146701 ],\n",
       "       [-1.54702667,  0.83796937,  0.20436955, -1.82679078]])"
      ]
     },
     "execution_count": 64,
     "metadata": {},
     "output_type": "execute_result"
    }
   ],
   "source": [
    "np.asarray(df)"
   ]
  },
  {
   "cell_type": "markdown",
   "id": "8d70e449-c624-4f14-9204-114fc11cdfa0",
   "metadata": {},
   "source": [
    "DataFrame is not intended to be a drop-in replacement for ndarray as its\n",
    "indexing semantics and data model are quite different in places from an n-dimensional\n",
    "array."
   ]
  },
  {
   "cell_type": "markdown",
   "id": "230c22c5-c2d3-461a-b67b-ceacc4cb9338",
   "metadata": {},
   "source": [
    "[`Series`](../reference/api/pandas.Series.html#pandas.Series \"pandas.Series\") implements `__array_ufunc__`, which allows it to work with NumPy’s\n",
    "[universal functions](https://numpy.org/doc/stable/reference/ufuncs.html)."
   ]
  },
  {
   "cell_type": "markdown",
   "id": "e2181fa0-5de7-4fdf-99c1-04eef76c6601",
   "metadata": {},
   "source": [
    "The ufunc is applied to the underlying array in a Series."
   ]
  },
  {
   "cell_type": "code",
   "execution_count": 65,
   "id": "ba886377-e1a6-4854-b3a8-a00a9af9ed5e",
   "metadata": {},
   "outputs": [],
   "source": [
    "ser = pd.Series([1, 2, 3, 4])"
   ]
  },
  {
   "cell_type": "code",
   "execution_count": 66,
   "id": "657bc1eb-fde5-40f3-9784-5ff5d76df90f",
   "metadata": {},
   "outputs": [
    {
     "data": {
      "text/plain": [
       "0     2.718282\n",
       "1     7.389056\n",
       "2    20.085537\n",
       "3    54.598150\n",
       "dtype: float64"
      ]
     },
     "execution_count": 66,
     "metadata": {},
     "output_type": "execute_result"
    }
   ],
   "source": [
    "np.exp(ser)"
   ]
  },
  {
   "cell_type": "markdown",
   "id": "a2a8bf13-9059-4b67-8cc3-68e87b92d069",
   "metadata": {},
   "source": [
    "Changed in version 0.25.0: When multiple `Series` are passed to a ufunc, they are aligned before\n",
    "performing the operation."
   ]
  },
  {
   "cell_type": "markdown",
   "id": "6c8f1911-7e7f-4c32-ae36-f3608cba0058",
   "metadata": {},
   "source": [
    "Like other parts of the library, pandas will automatically align labeled inputs\n",
    "as part of a ufunc with multiple inputs. For example, using `numpy.remainder()`\n",
    "on two [`Series`](../reference/api/pandas.Series.html#pandas.Series \"pandas.Series\") with differently ordered labels will align before the operation."
   ]
  },
  {
   "cell_type": "code",
   "execution_count": 67,
   "id": "746fb303-1e39-42ee-89e1-3c92aface0f1",
   "metadata": {},
   "outputs": [],
   "source": [
    "ser1 = pd.Series([1, 2, 3], index=[\"a\", \"b\", \"c\"])\n",
    "ser2 = pd.Series([1, 3, 5], index=[\"b\", \"a\", \"c\"])"
   ]
  },
  {
   "cell_type": "code",
   "execution_count": 68,
   "id": "aad8cb9d-62c7-4f3b-a9f4-3de009a4f6ac",
   "metadata": {},
   "outputs": [
    {
     "data": {
      "text/plain": [
       "a    1\n",
       "b    2\n",
       "c    3\n",
       "dtype: int64"
      ]
     },
     "execution_count": 68,
     "metadata": {},
     "output_type": "execute_result"
    }
   ],
   "source": [
    "ser1"
   ]
  },
  {
   "cell_type": "code",
   "execution_count": 69,
   "id": "4db69142-6d8e-46fe-8158-e40d8b42acff",
   "metadata": {},
   "outputs": [
    {
     "data": {
      "text/plain": [
       "b    1\n",
       "a    3\n",
       "c    5\n",
       "dtype: int64"
      ]
     },
     "execution_count": 69,
     "metadata": {},
     "output_type": "execute_result"
    }
   ],
   "source": [
    "ser2"
   ]
  },
  {
   "cell_type": "code",
   "execution_count": 70,
   "id": "11258331-f15a-477d-958c-85c9a9aaeb7d",
   "metadata": {},
   "outputs": [
    {
     "data": {
      "text/plain": [
       "a    1\n",
       "b    0\n",
       "c    3\n",
       "dtype: int64"
      ]
     },
     "execution_count": 70,
     "metadata": {},
     "output_type": "execute_result"
    }
   ],
   "source": [
    "np.remainder(ser1, ser2)"
   ]
  },
  {
   "cell_type": "markdown",
   "id": "55b17e6d-df56-4a56-8668-d33b755c57e7",
   "metadata": {},
   "source": [
    "As usual, the union of the two indices is taken, and non-overlapping values are filled\n",
    "with missing values."
   ]
  },
  {
   "cell_type": "code",
   "execution_count": 71,
   "id": "fd5bec60-573a-4900-91ae-06a9497aba93",
   "metadata": {},
   "outputs": [],
   "source": [
    "ser3 = pd.Series([2, 4, 6], index=[\"b\", \"c\", \"d\"])"
   ]
  },
  {
   "cell_type": "code",
   "execution_count": 72,
   "id": "be617838-b276-4265-98c4-4e7a75afa47d",
   "metadata": {},
   "outputs": [
    {
     "data": {
      "text/plain": [
       "b    2\n",
       "c    4\n",
       "d    6\n",
       "dtype: int64"
      ]
     },
     "execution_count": 72,
     "metadata": {},
     "output_type": "execute_result"
    }
   ],
   "source": [
    "ser3"
   ]
  },
  {
   "cell_type": "code",
   "execution_count": 73,
   "id": "d4c799f1-b01e-43d5-907a-e7264693f185",
   "metadata": {},
   "outputs": [
    {
     "data": {
      "text/plain": [
       "a    NaN\n",
       "b    0.0\n",
       "c    3.0\n",
       "d    NaN\n",
       "dtype: float64"
      ]
     },
     "execution_count": 73,
     "metadata": {},
     "output_type": "execute_result"
    }
   ],
   "source": [
    "np.remainder(ser1, ser3)"
   ]
  },
  {
   "cell_type": "markdown",
   "id": "8d9a828b-e890-47fb-a21b-a40a464202a3",
   "metadata": {},
   "source": [
    "<a class=\"anchor\" id=\"console_display\"></a>\n",
    "## Console display"
   ]
  },
  {
   "cell_type": "markdown",
   "id": "dd6c67f5-ee0c-495d-99dd-ff7336cfa772",
   "metadata": {},
   "source": [
    "Very large DataFrames will be truncated to display them in the console.\n",
    "You can also get a summary using [`info()`](../reference/api/pandas.DataFrame.info.html#pandas.DataFrame.info \"pandas.DataFrame.info\").\n",
    "(Here I am reading a CSV version of the **baseball** dataset from the **plyr**\n",
    "R package):"
   ]
  },
  {
   "cell_type": "code",
   "execution_count": 75,
   "id": "701da119-caae-44a4-beeb-d85ba638065e",
   "metadata": {},
   "outputs": [],
   "source": [
    "baseball = pd.read_csv(\"./../../data/baseball.csv\")"
   ]
  },
  {
   "cell_type": "code",
   "execution_count": 78,
   "id": "c0f6856b-d086-4f45-891e-0437d1a19992",
   "metadata": {},
   "outputs": [
    {
     "name": "stdout",
     "output_type": "stream",
     "text": [
      "<class 'pandas.core.frame.DataFrame'>\n",
      "RangeIndex: 100 entries, 0 to 99\n",
      "Data columns (total 23 columns):\n",
      " #   Column  Non-Null Count  Dtype  \n",
      "---  ------  --------------  -----  \n",
      " 0   id      100 non-null    int64  \n",
      " 1   player  100 non-null    object \n",
      " 2   year    100 non-null    int64  \n",
      " 3   stint   100 non-null    int64  \n",
      " 4   team    100 non-null    object \n",
      " 5   lg      100 non-null    object \n",
      " 6   g       100 non-null    int64  \n",
      " 7   ab      100 non-null    int64  \n",
      " 8   r       100 non-null    int64  \n",
      " 9   h       100 non-null    int64  \n",
      " 10  X2b     100 non-null    int64  \n",
      " 11  X3b     100 non-null    int64  \n",
      " 12  hr      100 non-null    int64  \n",
      " 13  rbi     100 non-null    float64\n",
      " 14  sb      100 non-null    float64\n",
      " 15  cs      100 non-null    float64\n",
      " 16  bb      100 non-null    int64  \n",
      " 17  so      100 non-null    float64\n",
      " 18  ibb     100 non-null    float64\n",
      " 19  hbp     100 non-null    float64\n",
      " 20  sh      100 non-null    float64\n",
      " 21  sf      100 non-null    float64\n",
      " 22  gidp    100 non-null    float64\n",
      "dtypes: float64(9), int64(11), object(3)\n",
      "memory usage: 18.1+ KB\n"
     ]
    }
   ],
   "source": [
    "baseball.info()"
   ]
  },
  {
   "cell_type": "markdown",
   "id": "a8fdb3a1-09a0-4789-96c5-ee06ca151675",
   "metadata": {},
   "source": [
    "However, using `to_string` will return a string representation of the\n",
    "DataFrame in tabular form, though it won’t always fit the console width:"
   ]
  },
  {
   "cell_type": "code",
   "execution_count": 79,
   "id": "95048d7f",
   "metadata": {},
   "outputs": [
    {
     "name": "stdout",
     "output_type": "stream",
     "text": [
      "       id     player  year  stint team  lg    g   ab   r    h  X2b  X3b\n",
      "80  89474  finlest01  2007      1  COL  NL   43   94   9   17    3    0\n",
      "81  89480  embreal01  2007      1  OAK  AL    4    0   0    0    0    0\n",
      "82  89481  edmonji01  2007      1  SLN  NL  117  365  39   92   15    2\n",
      "83  89482  easleda01  2007      1  NYN  NL   76  193  24   54    6    0\n",
      "84  89489  delgaca01  2007      1  NYN  NL  139  538  71  139   30    0\n",
      "85  89493  cormirh01  2007      1  CIN  NL    6    0   0    0    0    0\n",
      "86  89494  coninje01  2007      2  NYN  NL   21   41   2    8    2    0\n",
      "87  89495  coninje01  2007      1  CIN  NL   80  215  23   57   11    1\n",
      "88  89497  clemero02  2007      1  NYA  AL    2    2   0    1    0    0\n",
      "89  89498  claytro01  2007      2  BOS  AL    8    6   1    0    0    0\n",
      "90  89499  claytro01  2007      1  TOR  AL   69  189  23   48   14    0\n",
      "91  89501  cirilje01  2007      2  ARI  NL   28   40   6    8    4    0\n",
      "92  89502  cirilje01  2007      1  MIN  AL   50  153  18   40    9    2\n",
      "93  89521  bondsba01  2007      1  SFN  NL  126  340  75   94   14    0\n",
      "94  89523  biggicr01  2007      1  HOU  NL  141  517  68  130   31    3\n",
      "95  89525  benitar01  2007      2  FLO  NL   34    0   0    0    0    0\n",
      "96  89526  benitar01  2007      1  SFN  NL   19    0   0    0    0    0\n",
      "97  89530  ausmubr01  2007      1  HOU  NL  117  349  38   82   16    3\n",
      "98  89533   aloumo01  2007      1  NYN  NL   87  328  51  112   19    1\n",
      "99  89534  alomasa02  2007      1  NYN  NL    8   22   1    3    1    0\n"
     ]
    }
   ],
   "source": [
    "print(baseball.iloc[-20:, :12].to_string())"
   ]
  },
  {
   "cell_type": "markdown",
   "id": "8ca142f3-0d7b-41dc-84fc-9d1fe3db5602",
   "metadata": {},
   "source": [
    "Wide DataFrames will be printed across multiple rows by\n",
    "default:"
   ]
  },
  {
   "cell_type": "code",
   "execution_count": 81,
   "id": "0bee9252",
   "metadata": {},
   "outputs": [
    {
     "data": {
      "text/html": [
       "<div>\n",
       "<style scoped>\n",
       "    .dataframe tbody tr th:only-of-type {\n",
       "        vertical-align: middle;\n",
       "    }\n",
       "\n",
       "    .dataframe tbody tr th {\n",
       "        vertical-align: top;\n",
       "    }\n",
       "\n",
       "    .dataframe thead th {\n",
       "        text-align: right;\n",
       "    }\n",
       "</style>\n",
       "<table border=\"1\" class=\"dataframe\">\n",
       "  <thead>\n",
       "    <tr style=\"text-align: right;\">\n",
       "      <th></th>\n",
       "      <th>0</th>\n",
       "      <th>1</th>\n",
       "      <th>2</th>\n",
       "      <th>3</th>\n",
       "      <th>4</th>\n",
       "      <th>5</th>\n",
       "      <th>6</th>\n",
       "      <th>7</th>\n",
       "      <th>8</th>\n",
       "      <th>9</th>\n",
       "      <th>10</th>\n",
       "      <th>11</th>\n",
       "    </tr>\n",
       "  </thead>\n",
       "  <tbody>\n",
       "    <tr>\n",
       "      <th>0</th>\n",
       "      <td>-0.550274</td>\n",
       "      <td>-0.465466</td>\n",
       "      <td>2.047004</td>\n",
       "      <td>-1.238096</td>\n",
       "      <td>-0.691933</td>\n",
       "      <td>-0.212801</td>\n",
       "      <td>-0.515412</td>\n",
       "      <td>0.346788</td>\n",
       "      <td>0.324285</td>\n",
       "      <td>-0.350503</td>\n",
       "      <td>-3.443534</td>\n",
       "      <td>-0.427660</td>\n",
       "    </tr>\n",
       "    <tr>\n",
       "      <th>1</th>\n",
       "      <td>-0.506747</td>\n",
       "      <td>0.487672</td>\n",
       "      <td>1.065305</td>\n",
       "      <td>-0.063589</td>\n",
       "      <td>-0.318935</td>\n",
       "      <td>-0.187931</td>\n",
       "      <td>-0.339996</td>\n",
       "      <td>0.611662</td>\n",
       "      <td>-0.492420</td>\n",
       "      <td>-0.073176</td>\n",
       "      <td>0.184745</td>\n",
       "      <td>1.744028</td>\n",
       "    </tr>\n",
       "    <tr>\n",
       "      <th>2</th>\n",
       "      <td>-0.078330</td>\n",
       "      <td>-0.955342</td>\n",
       "      <td>2.140153</td>\n",
       "      <td>-0.443610</td>\n",
       "      <td>0.521740</td>\n",
       "      <td>-1.166287</td>\n",
       "      <td>-1.184384</td>\n",
       "      <td>-0.176618</td>\n",
       "      <td>0.615275</td>\n",
       "      <td>-0.082088</td>\n",
       "      <td>1.325825</td>\n",
       "      <td>1.345864</td>\n",
       "    </tr>\n",
       "  </tbody>\n",
       "</table>\n",
       "</div>"
      ],
      "text/plain": [
       "         0         1         2         3         4         5         6   \\\n",
       "0 -0.550274 -0.465466  2.047004 -1.238096 -0.691933 -0.212801 -0.515412   \n",
       "1 -0.506747  0.487672  1.065305 -0.063589 -0.318935 -0.187931 -0.339996   \n",
       "2 -0.078330 -0.955342  2.140153 -0.443610  0.521740 -1.166287 -1.184384   \n",
       "\n",
       "         7         8         9         10        11  \n",
       "0  0.346788  0.324285 -0.350503 -3.443534 -0.427660  \n",
       "1  0.611662 -0.492420 -0.073176  0.184745  1.744028  \n",
       "2 -0.176618  0.615275 -0.082088  1.325825  1.345864  "
      ]
     },
     "execution_count": 81,
     "metadata": {},
     "output_type": "execute_result"
    }
   ],
   "source": [
    "pd.DataFrame(np.random.randn(3, 12))"
   ]
  },
  {
   "cell_type": "markdown",
   "id": "a65d61f7-d9fa-4fb1-ad8b-cde8f785e6fc",
   "metadata": {},
   "source": [
    "You can change how much to print on a single row by setting the `display.width`\n",
    "option:"
   ]
  },
  {
   "cell_type": "code",
   "execution_count": 82,
   "id": "3676f1bf",
   "metadata": {},
   "outputs": [
    {
     "data": {
      "text/html": [
       "<div>\n",
       "<style scoped>\n",
       "    .dataframe tbody tr th:only-of-type {\n",
       "        vertical-align: middle;\n",
       "    }\n",
       "\n",
       "    .dataframe tbody tr th {\n",
       "        vertical-align: top;\n",
       "    }\n",
       "\n",
       "    .dataframe thead th {\n",
       "        text-align: right;\n",
       "    }\n",
       "</style>\n",
       "<table border=\"1\" class=\"dataframe\">\n",
       "  <thead>\n",
       "    <tr style=\"text-align: right;\">\n",
       "      <th></th>\n",
       "      <th>0</th>\n",
       "      <th>1</th>\n",
       "      <th>2</th>\n",
       "      <th>3</th>\n",
       "      <th>4</th>\n",
       "      <th>5</th>\n",
       "      <th>6</th>\n",
       "      <th>7</th>\n",
       "      <th>8</th>\n",
       "      <th>9</th>\n",
       "      <th>10</th>\n",
       "      <th>11</th>\n",
       "    </tr>\n",
       "  </thead>\n",
       "  <tbody>\n",
       "    <tr>\n",
       "      <th>0</th>\n",
       "      <td>-0.719484</td>\n",
       "      <td>0.428793</td>\n",
       "      <td>1.639316</td>\n",
       "      <td>0.069845</td>\n",
       "      <td>1.386570</td>\n",
       "      <td>0.002533</td>\n",
       "      <td>-0.837222</td>\n",
       "      <td>2.006304</td>\n",
       "      <td>-0.741179</td>\n",
       "      <td>-2.053301</td>\n",
       "      <td>1.890333</td>\n",
       "      <td>0.410542</td>\n",
       "    </tr>\n",
       "    <tr>\n",
       "      <th>1</th>\n",
       "      <td>-1.335075</td>\n",
       "      <td>0.593815</td>\n",
       "      <td>-1.689334</td>\n",
       "      <td>-1.067685</td>\n",
       "      <td>0.794918</td>\n",
       "      <td>0.916714</td>\n",
       "      <td>-1.006874</td>\n",
       "      <td>-0.988978</td>\n",
       "      <td>0.935428</td>\n",
       "      <td>0.410708</td>\n",
       "      <td>-0.414134</td>\n",
       "      <td>1.911390</td>\n",
       "    </tr>\n",
       "    <tr>\n",
       "      <th>2</th>\n",
       "      <td>-1.047958</td>\n",
       "      <td>0.171463</td>\n",
       "      <td>-1.701840</td>\n",
       "      <td>0.118513</td>\n",
       "      <td>-0.091365</td>\n",
       "      <td>1.215832</td>\n",
       "      <td>0.923884</td>\n",
       "      <td>1.304102</td>\n",
       "      <td>0.385088</td>\n",
       "      <td>-1.450349</td>\n",
       "      <td>-0.403051</td>\n",
       "      <td>1.552900</td>\n",
       "    </tr>\n",
       "  </tbody>\n",
       "</table>\n",
       "</div>"
      ],
      "text/plain": [
       "         0         1         2   \\\n",
       "0 -0.719484  0.428793  1.639316   \n",
       "1 -1.335075  0.593815 -1.689334   \n",
       "2 -1.047958  0.171463 -1.701840   \n",
       "\n",
       "         3         4         5   \\\n",
       "0  0.069845  1.386570  0.002533   \n",
       "1 -1.067685  0.794918  0.916714   \n",
       "2  0.118513 -0.091365  1.215832   \n",
       "\n",
       "         6         7         8   \\\n",
       "0 -0.837222  2.006304 -0.741179   \n",
       "1 -1.006874 -0.988978  0.935428   \n",
       "2  0.923884  1.304102  0.385088   \n",
       "\n",
       "         9         10        11  \n",
       "0 -2.053301  1.890333  0.410542  \n",
       "1  0.410708 -0.414134  1.911390  \n",
       "2 -1.450349 -0.403051  1.552900  "
      ]
     },
     "execution_count": 82,
     "metadata": {},
     "output_type": "execute_result"
    }
   ],
   "source": [
    "pd.set_option(\"display.width\", 40)  # default is 80\n",
    "pd.DataFrame(np.random.randn(3, 12))"
   ]
  },
  {
   "cell_type": "markdown",
   "id": "68edaf0f-fb89-4061-a303-27efbbfeb617",
   "metadata": {},
   "source": [
    "You can adjust the max width of the individual columns by setting `display.max_colwidth`"
   ]
  },
  {
   "cell_type": "code",
   "execution_count": 83,
   "id": "b562df30-da0c-4583-a2c2-c926c26fd4e1",
   "metadata": {},
   "outputs": [],
   "source": [
    "datafile = {\n",
    "    \"filename\": [\"filename_01\", \"filename_02\"],\n",
    "    \"path\": [\n",
    "        \"media/user_name/storage/folder_01/filename_01\",\n",
    "        \"media/user_name/storage/folder_02/filename_02\",\n",
    "    ],\n",
    "}"
   ]
  },
  {
   "cell_type": "code",
   "execution_count": 84,
   "id": "1c156179-f03f-499c-8db2-980714393a94",
   "metadata": {},
   "outputs": [],
   "source": [
    "pd.set_option(\"display.max_colwidth\", 30)"
   ]
  },
  {
   "cell_type": "code",
   "execution_count": 85,
   "id": "7357478d-e8dc-449a-98f2-c121cbadbe63",
   "metadata": {},
   "outputs": [
    {
     "data": {
      "text/html": [
       "<div>\n",
       "<style scoped>\n",
       "    .dataframe tbody tr th:only-of-type {\n",
       "        vertical-align: middle;\n",
       "    }\n",
       "\n",
       "    .dataframe tbody tr th {\n",
       "        vertical-align: top;\n",
       "    }\n",
       "\n",
       "    .dataframe thead th {\n",
       "        text-align: right;\n",
       "    }\n",
       "</style>\n",
       "<table border=\"1\" class=\"dataframe\">\n",
       "  <thead>\n",
       "    <tr style=\"text-align: right;\">\n",
       "      <th></th>\n",
       "      <th>filename</th>\n",
       "      <th>path</th>\n",
       "    </tr>\n",
       "  </thead>\n",
       "  <tbody>\n",
       "    <tr>\n",
       "      <th>0</th>\n",
       "      <td>filename_01</td>\n",
       "      <td>media/user_name/storage/fo...</td>\n",
       "    </tr>\n",
       "    <tr>\n",
       "      <th>1</th>\n",
       "      <td>filename_02</td>\n",
       "      <td>media/user_name/storage/fo...</td>\n",
       "    </tr>\n",
       "  </tbody>\n",
       "</table>\n",
       "</div>"
      ],
      "text/plain": [
       "      filename  \\\n",
       "0  filename_01   \n",
       "1  filename_02   \n",
       "\n",
       "                            path  \n",
       "0  media/user_name/storage/fo...  \n",
       "1  media/user_name/storage/fo...  "
      ]
     },
     "execution_count": 85,
     "metadata": {},
     "output_type": "execute_result"
    }
   ],
   "source": [
    "pd.DataFrame(datafile)"
   ]
  },
  {
   "cell_type": "code",
   "execution_count": 86,
   "id": "42b7f030-2a4b-41f2-8934-e88a302cda9f",
   "metadata": {},
   "outputs": [],
   "source": [
    "pd.set_option(\"display.max_colwidth\", 100)"
   ]
  },
  {
   "cell_type": "code",
   "execution_count": 87,
   "id": "a2bdc90b-819e-4d6c-ab38-67d953b170b4",
   "metadata": {},
   "outputs": [
    {
     "data": {
      "text/html": [
       "<div>\n",
       "<style scoped>\n",
       "    .dataframe tbody tr th:only-of-type {\n",
       "        vertical-align: middle;\n",
       "    }\n",
       "\n",
       "    .dataframe tbody tr th {\n",
       "        vertical-align: top;\n",
       "    }\n",
       "\n",
       "    .dataframe thead th {\n",
       "        text-align: right;\n",
       "    }\n",
       "</style>\n",
       "<table border=\"1\" class=\"dataframe\">\n",
       "  <thead>\n",
       "    <tr style=\"text-align: right;\">\n",
       "      <th></th>\n",
       "      <th>filename</th>\n",
       "      <th>path</th>\n",
       "    </tr>\n",
       "  </thead>\n",
       "  <tbody>\n",
       "    <tr>\n",
       "      <th>0</th>\n",
       "      <td>filename_01</td>\n",
       "      <td>media/user_name/storage/folder_01/filename_01</td>\n",
       "    </tr>\n",
       "    <tr>\n",
       "      <th>1</th>\n",
       "      <td>filename_02</td>\n",
       "      <td>media/user_name/storage/folder_02/filename_02</td>\n",
       "    </tr>\n",
       "  </tbody>\n",
       "</table>\n",
       "</div>"
      ],
      "text/plain": [
       "      filename  \\\n",
       "0  filename_01   \n",
       "1  filename_02   \n",
       "\n",
       "                                            path  \n",
       "0  media/user_name/storage/folder_01/filename_01  \n",
       "1  media/user_name/storage/folder_02/filename_02  "
      ]
     },
     "execution_count": 87,
     "metadata": {},
     "output_type": "execute_result"
    }
   ],
   "source": [
    "pd.DataFrame(datafile)"
   ]
  },
  {
   "cell_type": "markdown",
   "id": "ca01ed3c-26ca-4312-9152-641ee3443450",
   "metadata": {},
   "source": [
    "You can also disable this feature via the `expand_frame_repr` option.\n",
    "This will print the table in one block."
   ]
  },
  {
   "cell_type": "markdown",
   "id": "05071654-051d-4eb7-8e2b-e0ceac873c31",
   "metadata": {},
   "source": [
    "<a class=\"anchor\" id=\"dataframe_column_attribute_access_and_ipython_completion\"></a>\n",
    "## DataFrame column attribute access and IPython completion"
   ]
  },
  {
   "cell_type": "markdown",
   "id": "7d6abc65-031a-4b2e-b1f3-2c29e84f9c6a",
   "metadata": {},
   "source": [
    "If a DataFrame column label is a valid Python variable name, the column can be\n",
    "accessed like an attribute:"
   ]
  },
  {
   "cell_type": "code",
   "execution_count": 88,
   "id": "68595053-89ce-49ad-99f7-356f0f4098ee",
   "metadata": {},
   "outputs": [
    {
     "data": {
      "text/html": [
       "<div>\n",
       "<style scoped>\n",
       "    .dataframe tbody tr th:only-of-type {\n",
       "        vertical-align: middle;\n",
       "    }\n",
       "\n",
       "    .dataframe tbody tr th {\n",
       "        vertical-align: top;\n",
       "    }\n",
       "\n",
       "    .dataframe thead th {\n",
       "        text-align: right;\n",
       "    }\n",
       "</style>\n",
       "<table border=\"1\" class=\"dataframe\">\n",
       "  <thead>\n",
       "    <tr style=\"text-align: right;\">\n",
       "      <th></th>\n",
       "      <th>foo1</th>\n",
       "      <th>foo2</th>\n",
       "    </tr>\n",
       "  </thead>\n",
       "  <tbody>\n",
       "    <tr>\n",
       "      <th>0</th>\n",
       "      <td>1.347191</td>\n",
       "      <td>-1.724793</td>\n",
       "    </tr>\n",
       "    <tr>\n",
       "      <th>1</th>\n",
       "      <td>0.997323</td>\n",
       "      <td>-0.701355</td>\n",
       "    </tr>\n",
       "    <tr>\n",
       "      <th>2</th>\n",
       "      <td>-1.996298</td>\n",
       "      <td>-1.061464</td>\n",
       "    </tr>\n",
       "    <tr>\n",
       "      <th>3</th>\n",
       "      <td>1.345530</td>\n",
       "      <td>0.210715</td>\n",
       "    </tr>\n",
       "    <tr>\n",
       "      <th>4</th>\n",
       "      <td>0.014961</td>\n",
       "      <td>0.229168</td>\n",
       "    </tr>\n",
       "  </tbody>\n",
       "</table>\n",
       "</div>"
      ],
      "text/plain": [
       "       foo1      foo2\n",
       "0  1.347191 -1.724793\n",
       "1  0.997323 -0.701355\n",
       "2 -1.996298 -1.061464\n",
       "3  1.345530  0.210715\n",
       "4  0.014961  0.229168"
      ]
     },
     "execution_count": 88,
     "metadata": {},
     "output_type": "execute_result"
    }
   ],
   "source": [
    "df = pd.DataFrame({\"foo1\": np.random.randn(5), \"foo2\": np.random.randn(5)})\n",
    "df"
   ]
  },
  {
   "cell_type": "code",
   "execution_count": 89,
   "id": "e1c1dc03-d1f4-4aba-a97f-edcc9800d9ab",
   "metadata": {},
   "outputs": [
    {
     "data": {
      "text/plain": [
       "0    1.347191\n",
       "1    0.997323\n",
       "2   -1.996298\n",
       "3    1.345530\n",
       "4    0.014961\n",
       "Name: foo1, dtype: float64"
      ]
     },
     "execution_count": 89,
     "metadata": {},
     "output_type": "execute_result"
    }
   ],
   "source": [
    "df.foo1"
   ]
  },
  {
   "cell_type": "markdown",
   "id": "11b7f0e6-82df-419d-966e-029f2518245b",
   "metadata": {},
   "source": [
    "The columns are also connected to the [IPython](https://ipython.org)\n",
    "completion mechanism so they can be tab-completed:\n",
    "\n",
    "```python\n",
    "df.foo<TAB>  # noqa: E225, E999\n",
    "```"
   ]
  }
 ],
 "metadata": {
  "kernelspec": {
   "display_name": "Python 3",
   "language": "python",
   "name": "python3"
  },
  "language_info": {
   "codemirror_mode": {
    "name": "ipython",
    "version": 3
   },
   "file_extension": ".py",
   "mimetype": "text/x-python",
   "name": "python",
   "nbconvert_exporter": "python",
   "pygments_lexer": "ipython3",
   "version": "3.8.11"
  }
 },
 "nbformat": 4,
 "nbformat_minor": 5
}
