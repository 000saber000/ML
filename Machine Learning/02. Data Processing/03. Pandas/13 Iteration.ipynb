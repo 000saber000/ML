{
 "cells": [
  {
   "cell_type": "markdown",
   "id": "f1b8b904-5978-47b9-b8b8-603c98442b00",
   "metadata": {},
   "source": [
    "<img src=\"../../../images/banners/pandas-cropped.jpeg\" width=\"600\"/>"
   ]
  },
  {
   "cell_type": "markdown",
   "id": "83f6d6d9-11b7-4d7b-b650-f7a6a255e655",
   "metadata": {},
   "source": [
    "<a class=\"anchor\" id=\"essential_basic_functionality\"></a>\n",
    "# <img src=\"../../../images/logos/pandas.png\" width=\"23\"/> Iteration"
   ]
  },
  {
   "cell_type": "markdown",
   "id": "bf67bcb4-2a66-4529-ae7a-f8ea073bb7fa",
   "metadata": {},
   "source": [
    "## <img src=\"../../../images/logos/toc.png\" width=\"20\"/> Table of Contents \n",
    "\n",
    "* [items](#items)\n",
    "* [iterrows](#iterrows)\n",
    "* [itertuples](#itertuples)\n",
    "\n",
    "---"
   ]
  },
  {
   "cell_type": "code",
   "execution_count": 1,
   "id": "50605544-895e-4cc3-a29e-e4575398ce2e",
   "metadata": {},
   "outputs": [],
   "source": [
    "import pandas as pd\n",
    "import numpy as np"
   ]
  },
  {
   "cell_type": "markdown",
   "id": "5af4b52e-93f0-42ee-81df-34403ae6ae82",
   "metadata": {},
   "source": [
    "The behavior of basic iteration over pandas objects depends on the type.\n",
    "When iterating over a Series, it is regarded as array-like, and basic iteration\n",
    "produces the values. DataFrames follow the dict-like convention of iterating\n",
    "over the “keys” of the objects."
   ]
  },
  {
   "cell_type": "markdown",
   "id": "52a00b28-cd89-44f5-a121-8d99de0bc1a3",
   "metadata": {},
   "source": [
    "In short, basic iteration (`for i in object`) produces:\n",
    "\n",
    "- **Series**: values\n",
    "- **DataFrame**: column labels"
   ]
  },
  {
   "cell_type": "markdown",
   "id": "dc6f7932-c31b-4bc0-9dfa-3979b4fc990d",
   "metadata": {},
   "source": [
    "Thus, for example, iterating over a DataFrame gives you the column names:"
   ]
  },
  {
   "cell_type": "code",
   "execution_count": 2,
   "id": "bf58657f-2253-4037-81c0-3f7ccc30ed96",
   "metadata": {},
   "outputs": [],
   "source": [
    "df = pd.DataFrame(\n",
    "    {\"col1\": np.random.randn(3), \"col2\": np.random.randn(3)}, index=[\"a\", \"b\", \"c\"]\n",
    ")"
   ]
  },
  {
   "cell_type": "code",
   "execution_count": 3,
   "id": "8a2b5222-8770-4363-bce4-32785d092178",
   "metadata": {},
   "outputs": [
    {
     "data": {
      "text/html": [
       "<div>\n",
       "<style scoped>\n",
       "    .dataframe tbody tr th:only-of-type {\n",
       "        vertical-align: middle;\n",
       "    }\n",
       "\n",
       "    .dataframe tbody tr th {\n",
       "        vertical-align: top;\n",
       "    }\n",
       "\n",
       "    .dataframe thead th {\n",
       "        text-align: right;\n",
       "    }\n",
       "</style>\n",
       "<table border=\"1\" class=\"dataframe\">\n",
       "  <thead>\n",
       "    <tr style=\"text-align: right;\">\n",
       "      <th></th>\n",
       "      <th>col1</th>\n",
       "      <th>col2</th>\n",
       "    </tr>\n",
       "  </thead>\n",
       "  <tbody>\n",
       "    <tr>\n",
       "      <th>a</th>\n",
       "      <td>1.111171</td>\n",
       "      <td>-0.781613</td>\n",
       "    </tr>\n",
       "    <tr>\n",
       "      <th>b</th>\n",
       "      <td>0.852142</td>\n",
       "      <td>0.180552</td>\n",
       "    </tr>\n",
       "    <tr>\n",
       "      <th>c</th>\n",
       "      <td>-2.482614</td>\n",
       "      <td>0.021965</td>\n",
       "    </tr>\n",
       "  </tbody>\n",
       "</table>\n",
       "</div>"
      ],
      "text/plain": [
       "       col1      col2\n",
       "a  1.111171 -0.781613\n",
       "b  0.852142  0.180552\n",
       "c -2.482614  0.021965"
      ]
     },
     "execution_count": 3,
     "metadata": {},
     "output_type": "execute_result"
    }
   ],
   "source": [
    "df"
   ]
  },
  {
   "cell_type": "code",
   "execution_count": 4,
   "id": "f54d63d8-e1fb-4d37-8b5d-e87e183e0c07",
   "metadata": {},
   "outputs": [
    {
     "name": "stdout",
     "output_type": "stream",
     "text": [
      "col1\n",
      "col2\n"
     ]
    }
   ],
   "source": [
    "for col in df:\n",
    "    print(col)"
   ]
  },
  {
   "cell_type": "markdown",
   "id": "5bbbed6e-41a4-454a-8ce7-e054ebb3f739",
   "metadata": {},
   "source": [
    "pandas objects also have the dict-like [`items()`](../reference/api/pandas.DataFrame.items.html#pandas.DataFrame.items \"pandas.DataFrame.items\") method to\n",
    "iterate over the (key, value) pairs."
   ]
  },
  {
   "cell_type": "markdown",
   "id": "a64a9b32-8e67-4e92-a6e1-834bb962131f",
   "metadata": {},
   "source": [
    "To iterate over the rows of a DataFrame, you can use the following methods:"
   ]
  },
  {
   "cell_type": "markdown",
   "id": "926478b8-0aeb-4c55-9417-f60c239becfe",
   "metadata": {},
   "source": [
    "> **Warning**\n",
    "> \n",
    "> Iterating through pandas objects is generally **slow**. In many cases,\n",
    "iterating manually over the rows is not needed and can be avoided with\n",
    "one of the following approaches:\n",
    "> - Look for a vectorized solution: many operations can be performed using built-in methods or NumPy functions, (boolean) indexing, …\n",
    "> \n",
    "> - When you have a function that cannot work on the full DataFrame/Series at once, it is better to use `apply()` instead of iterating over the values.\n",
    "> \n",
    "> - If you need to do iterative manipulations on the values but performance is important, consider writing the inner loop with cython or numba. See the [enhancing performance](https://pandas.pydata.org/docs/user_guide/enhancingperf.html#enhancingperf) section of pandas docs for some examples of this approach."
   ]
  },
  {
   "cell_type": "markdown",
   "id": "3a2d3720-6608-4107-9efb-b1cb992c490a",
   "metadata": {},
   "source": [
    "> **Warning**\n",
    ">\n",
    "> You should **never modify** something you are iterating over.\n",
    "This is not guaranteed to work in all cases. Depending on the\n",
    "data types, the iterator returns a copy and not a view, and writing\n",
    "to it will have no effect!\n",
    "> \n",
    "> For example, in the following case setting the value has no effect: "
   ]
  },
  {
   "cell_type": "code",
   "execution_count": 5,
   "id": "337c0661-9331-43de-b295-c39410c4023b",
   "metadata": {},
   "outputs": [],
   "source": [
    "df = pd.DataFrame({\"a\": [1, 2, 3], \"b\": [\"a\", \"b\", \"c\"]})\n",
    "for index, row in df.iterrows():\n",
    "    row[\"a\"] = 10"
   ]
  },
  {
   "cell_type": "code",
   "execution_count": 6,
   "id": "aa0dea33-ecc4-4cee-8b95-adf9a353f279",
   "metadata": {},
   "outputs": [
    {
     "data": {
      "text/html": [
       "<div>\n",
       "<style scoped>\n",
       "    .dataframe tbody tr th:only-of-type {\n",
       "        vertical-align: middle;\n",
       "    }\n",
       "\n",
       "    .dataframe tbody tr th {\n",
       "        vertical-align: top;\n",
       "    }\n",
       "\n",
       "    .dataframe thead th {\n",
       "        text-align: right;\n",
       "    }\n",
       "</style>\n",
       "<table border=\"1\" class=\"dataframe\">\n",
       "  <thead>\n",
       "    <tr style=\"text-align: right;\">\n",
       "      <th></th>\n",
       "      <th>a</th>\n",
       "      <th>b</th>\n",
       "    </tr>\n",
       "  </thead>\n",
       "  <tbody>\n",
       "    <tr>\n",
       "      <th>0</th>\n",
       "      <td>1</td>\n",
       "      <td>a</td>\n",
       "    </tr>\n",
       "    <tr>\n",
       "      <th>1</th>\n",
       "      <td>2</td>\n",
       "      <td>b</td>\n",
       "    </tr>\n",
       "    <tr>\n",
       "      <th>2</th>\n",
       "      <td>3</td>\n",
       "      <td>c</td>\n",
       "    </tr>\n",
       "  </tbody>\n",
       "</table>\n",
       "</div>"
      ],
      "text/plain": [
       "   a  b\n",
       "0  1  a\n",
       "1  2  b\n",
       "2  3  c"
      ]
     },
     "execution_count": 6,
     "metadata": {},
     "output_type": "execute_result"
    }
   ],
   "source": [
    "df"
   ]
  },
  {
   "cell_type": "markdown",
   "id": "c8de66c4-b958-40c8-80bd-c187189ff772",
   "metadata": {},
   "source": [
    "> **Note:**\n",
    "> To update a dataframe in pandas while iterating row by row, you can use `df.at`:"
   ]
  },
  {
   "cell_type": "code",
   "execution_count": 7,
   "id": "44918210-d3aa-4375-82dd-ea85b0dbaf50",
   "metadata": {},
   "outputs": [],
   "source": [
    "for index, row in df.iterrows():\n",
    "    df.at[index, 'a'] = 10"
   ]
  },
  {
   "cell_type": "code",
   "execution_count": 8,
   "id": "ce4242b9-b4ac-4f90-9f57-83755b726b2a",
   "metadata": {},
   "outputs": [
    {
     "data": {
      "text/html": [
       "<div>\n",
       "<style scoped>\n",
       "    .dataframe tbody tr th:only-of-type {\n",
       "        vertical-align: middle;\n",
       "    }\n",
       "\n",
       "    .dataframe tbody tr th {\n",
       "        vertical-align: top;\n",
       "    }\n",
       "\n",
       "    .dataframe thead th {\n",
       "        text-align: right;\n",
       "    }\n",
       "</style>\n",
       "<table border=\"1\" class=\"dataframe\">\n",
       "  <thead>\n",
       "    <tr style=\"text-align: right;\">\n",
       "      <th></th>\n",
       "      <th>a</th>\n",
       "      <th>b</th>\n",
       "    </tr>\n",
       "  </thead>\n",
       "  <tbody>\n",
       "    <tr>\n",
       "      <th>0</th>\n",
       "      <td>10</td>\n",
       "      <td>a</td>\n",
       "    </tr>\n",
       "    <tr>\n",
       "      <th>1</th>\n",
       "      <td>10</td>\n",
       "      <td>b</td>\n",
       "    </tr>\n",
       "    <tr>\n",
       "      <th>2</th>\n",
       "      <td>10</td>\n",
       "      <td>c</td>\n",
       "    </tr>\n",
       "  </tbody>\n",
       "</table>\n",
       "</div>"
      ],
      "text/plain": [
       "    a  b\n",
       "0  10  a\n",
       "1  10  b\n",
       "2  10  c"
      ]
     },
     "execution_count": 8,
     "metadata": {},
     "output_type": "execute_result"
    }
   ],
   "source": [
    "df"
   ]
  },
  {
   "cell_type": "markdown",
   "id": "4e71b92f-37e5-488a-b60b-1dd2d34f0966",
   "metadata": {},
   "source": [
    "<a class=\"anchor\" id=\"items\"></a>\n",
    "## items"
   ]
  },
  {
   "cell_type": "markdown",
   "id": "67f575bd-7db5-4050-922c-d11a8e2cb5a9",
   "metadata": {},
   "source": [
    "Consistent with the dict-like interface, [`items()`](../reference/api/pandas.DataFrame.items.html#pandas.DataFrame.items \"pandas.DataFrame.items\") iterates\n",
    "through key-value pairs:"
   ]
  },
  {
   "cell_type": "markdown",
   "id": "9bedb7da-2470-4111-8226-e61cf60cd731",
   "metadata": {},
   "source": [
    "For example:"
   ]
  },
  {
   "cell_type": "code",
   "execution_count": 9,
   "id": "91e83db8",
   "metadata": {},
   "outputs": [
    {
     "name": "stdout",
     "output_type": "stream",
     "text": [
      "a\n",
      "0    10\n",
      "1    10\n",
      "2    10\n",
      "Name: a, dtype: int64\n",
      "b\n",
      "0    a\n",
      "1    b\n",
      "2    c\n",
      "Name: b, dtype: object\n"
     ]
    }
   ],
   "source": [
    "for label, ser in df.items():\n",
    "    print(label)\n",
    "    print(ser)"
   ]
  },
  {
   "cell_type": "markdown",
   "id": "b7f1905b-176c-4513-a95e-732e69975ab8",
   "metadata": {},
   "source": [
    "<a class=\"anchor\" id=\"iterrows\"></a>\n",
    "## iterrows"
   ]
  },
  {
   "cell_type": "markdown",
   "id": "f6d651e4-e209-4a32-9316-14650e24c754",
   "metadata": {},
   "source": [
    "[`iterrows()`](../reference/api/pandas.DataFrame.iterrows.html#pandas.DataFrame.iterrows \"pandas.DataFrame.iterrows\") allows you to iterate through the rows of a\n",
    "DataFrame as Series objects. It returns an iterator yielding each\n",
    "index value along with a Series containing the data in each row:"
   ]
  },
  {
   "cell_type": "code",
   "execution_count": 10,
   "id": "722f8539",
   "metadata": {},
   "outputs": [
    {
     "name": "stdout",
     "output_type": "stream",
     "text": [
      "0\n",
      "a    10\n",
      "b     a\n",
      "Name: 0, dtype: object\n",
      "1\n",
      "a    10\n",
      "b     b\n",
      "Name: 1, dtype: object\n",
      "2\n",
      "a    10\n",
      "b     c\n",
      "Name: 2, dtype: object\n"
     ]
    }
   ],
   "source": [
    "for row_index, row in df.iterrows():\n",
    "    print(row_index, row, sep=\"\\n\")"
   ]
  },
  {
   "cell_type": "markdown",
   "id": "9872fc61-3154-4c54-88aa-ce2a80c3cf32",
   "metadata": {},
   "source": [
    "> **Note:**\n",
    ">‌\n",
    ">‌ Because `iterrows()` returns a Series for each row, it does **not** preserve dtypes across the rows (dtypes are preserved across columns for DataFrames). For example:"
   ]
  },
  {
   "cell_type": "code",
   "execution_count": 11,
   "id": "28cc3b6d-f6c3-4f62-819f-568fff7cdfaa",
   "metadata": {},
   "outputs": [],
   "source": [
    "df_orig = pd.DataFrame([[1, 1.5]], columns=[\"int\", \"float\"])"
   ]
  },
  {
   "cell_type": "code",
   "execution_count": 12,
   "id": "576fb4df-df8b-4d12-86dd-0dca6e279f5d",
   "metadata": {},
   "outputs": [
    {
     "data": {
      "text/plain": [
       "int        int64\n",
       "float    float64\n",
       "dtype: object"
      ]
     },
     "execution_count": 12,
     "metadata": {},
     "output_type": "execute_result"
    }
   ],
   "source": [
    "df_orig.dtypes"
   ]
  },
  {
   "cell_type": "code",
   "execution_count": 13,
   "id": "0a23bf9f-dd08-40c6-a835-11f09f637346",
   "metadata": {},
   "outputs": [],
   "source": [
    "row = next(df_orig.iterrows())[1]"
   ]
  },
  {
   "cell_type": "code",
   "execution_count": 14,
   "id": "76f1874a-5ccb-475f-ade7-568065d2ab72",
   "metadata": {},
   "outputs": [
    {
     "data": {
      "text/plain": [
       "int      1.0\n",
       "float    1.5\n",
       "Name: 0, dtype: float64"
      ]
     },
     "execution_count": 14,
     "metadata": {},
     "output_type": "execute_result"
    }
   ],
   "source": [
    "row"
   ]
  },
  {
   "cell_type": "markdown",
   "id": "6aaab772-71fa-45f7-b9d9-8f2bfa72c22d",
   "metadata": {},
   "source": [
    ">‌All values in `row`, returned as a Series, are now upcasted\n",
    "to floats, also the original integer value in column `x`:"
   ]
  },
  {
   "cell_type": "code",
   "execution_count": 15,
   "id": "b5443f05-a3e9-40dd-b59f-ab1f51f0ba22",
   "metadata": {},
   "outputs": [
    {
     "data": {
      "text/plain": [
       "dtype('float64')"
      ]
     },
     "execution_count": 15,
     "metadata": {},
     "output_type": "execute_result"
    }
   ],
   "source": [
    "row[\"int\"].dtype"
   ]
  },
  {
   "cell_type": "code",
   "execution_count": 16,
   "id": "987bf1a2-fb49-4452-a3f0-12d08664c4e6",
   "metadata": {},
   "outputs": [
    {
     "data": {
      "text/plain": [
       "dtype('int64')"
      ]
     },
     "execution_count": 16,
     "metadata": {},
     "output_type": "execute_result"
    }
   ],
   "source": [
    "df_orig[\"int\"].dtype"
   ]
  },
  {
   "cell_type": "markdown",
   "id": "71259709-fa2a-41c0-8d00-5703172c070f",
   "metadata": {},
   "source": [
    ">‌ To preserve dtypes while iterating over the rows, it is better to use `itertuples()` which returns namedtuples of the values and which is generally much faster than `iterrows()`.\n",
    ">‌ For instance, a contrived way to transpose the DataFrame would be:"
   ]
  },
  {
   "cell_type": "code",
   "execution_count": 17,
   "id": "a5f564a6-3145-465e-8f66-b23d031d1701",
   "metadata": {},
   "outputs": [],
   "source": [
    "df2 = pd.DataFrame({\"x\": [1, 2, 3], \"y\": [4, 5, 6]})"
   ]
  },
  {
   "cell_type": "code",
   "execution_count": 18,
   "id": "36c2e221-1029-4755-afc5-2f5542af64e4",
   "metadata": {},
   "outputs": [
    {
     "data": {
      "text/html": [
       "<div>\n",
       "<style scoped>\n",
       "    .dataframe tbody tr th:only-of-type {\n",
       "        vertical-align: middle;\n",
       "    }\n",
       "\n",
       "    .dataframe tbody tr th {\n",
       "        vertical-align: top;\n",
       "    }\n",
       "\n",
       "    .dataframe thead th {\n",
       "        text-align: right;\n",
       "    }\n",
       "</style>\n",
       "<table border=\"1\" class=\"dataframe\">\n",
       "  <thead>\n",
       "    <tr style=\"text-align: right;\">\n",
       "      <th></th>\n",
       "      <th>x</th>\n",
       "      <th>y</th>\n",
       "    </tr>\n",
       "  </thead>\n",
       "  <tbody>\n",
       "    <tr>\n",
       "      <th>0</th>\n",
       "      <td>1</td>\n",
       "      <td>4</td>\n",
       "    </tr>\n",
       "    <tr>\n",
       "      <th>1</th>\n",
       "      <td>2</td>\n",
       "      <td>5</td>\n",
       "    </tr>\n",
       "    <tr>\n",
       "      <th>2</th>\n",
       "      <td>3</td>\n",
       "      <td>6</td>\n",
       "    </tr>\n",
       "  </tbody>\n",
       "</table>\n",
       "</div>"
      ],
      "text/plain": [
       "   x  y\n",
       "0  1  4\n",
       "1  2  5\n",
       "2  3  6"
      ]
     },
     "execution_count": 18,
     "metadata": {},
     "output_type": "execute_result"
    }
   ],
   "source": [
    "df2"
   ]
  },
  {
   "cell_type": "code",
   "execution_count": 19,
   "id": "8f824ec5-5c6e-405b-b222-edc8a3e2704b",
   "metadata": {},
   "outputs": [
    {
     "data": {
      "text/html": [
       "<div>\n",
       "<style scoped>\n",
       "    .dataframe tbody tr th:only-of-type {\n",
       "        vertical-align: middle;\n",
       "    }\n",
       "\n",
       "    .dataframe tbody tr th {\n",
       "        vertical-align: top;\n",
       "    }\n",
       "\n",
       "    .dataframe thead th {\n",
       "        text-align: right;\n",
       "    }\n",
       "</style>\n",
       "<table border=\"1\" class=\"dataframe\">\n",
       "  <thead>\n",
       "    <tr style=\"text-align: right;\">\n",
       "      <th></th>\n",
       "      <th>0</th>\n",
       "      <th>1</th>\n",
       "      <th>2</th>\n",
       "    </tr>\n",
       "  </thead>\n",
       "  <tbody>\n",
       "    <tr>\n",
       "      <th>x</th>\n",
       "      <td>1</td>\n",
       "      <td>2</td>\n",
       "      <td>3</td>\n",
       "    </tr>\n",
       "    <tr>\n",
       "      <th>y</th>\n",
       "      <td>4</td>\n",
       "      <td>5</td>\n",
       "      <td>6</td>\n",
       "    </tr>\n",
       "  </tbody>\n",
       "</table>\n",
       "</div>"
      ],
      "text/plain": [
       "   0  1  2\n",
       "x  1  2  3\n",
       "y  4  5  6"
      ]
     },
     "execution_count": 19,
     "metadata": {},
     "output_type": "execute_result"
    }
   ],
   "source": [
    "df2.T"
   ]
  },
  {
   "cell_type": "code",
   "execution_count": 20,
   "id": "62354d97-d9e1-4f85-82e5-43d6c368b203",
   "metadata": {},
   "outputs": [],
   "source": [
    "df2_t = pd.DataFrame({idx: values for idx, values in df2.iterrows()})"
   ]
  },
  {
   "cell_type": "code",
   "execution_count": 21,
   "id": "7f159460-a971-425b-8121-2a0e07f94f8e",
   "metadata": {},
   "outputs": [
    {
     "data": {
      "text/html": [
       "<div>\n",
       "<style scoped>\n",
       "    .dataframe tbody tr th:only-of-type {\n",
       "        vertical-align: middle;\n",
       "    }\n",
       "\n",
       "    .dataframe tbody tr th {\n",
       "        vertical-align: top;\n",
       "    }\n",
       "\n",
       "    .dataframe thead th {\n",
       "        text-align: right;\n",
       "    }\n",
       "</style>\n",
       "<table border=\"1\" class=\"dataframe\">\n",
       "  <thead>\n",
       "    <tr style=\"text-align: right;\">\n",
       "      <th></th>\n",
       "      <th>0</th>\n",
       "      <th>1</th>\n",
       "      <th>2</th>\n",
       "    </tr>\n",
       "  </thead>\n",
       "  <tbody>\n",
       "    <tr>\n",
       "      <th>x</th>\n",
       "      <td>1</td>\n",
       "      <td>2</td>\n",
       "      <td>3</td>\n",
       "    </tr>\n",
       "    <tr>\n",
       "      <th>y</th>\n",
       "      <td>4</td>\n",
       "      <td>5</td>\n",
       "      <td>6</td>\n",
       "    </tr>\n",
       "  </tbody>\n",
       "</table>\n",
       "</div>"
      ],
      "text/plain": [
       "   0  1  2\n",
       "x  1  2  3\n",
       "y  4  5  6"
      ]
     },
     "execution_count": 21,
     "metadata": {},
     "output_type": "execute_result"
    }
   ],
   "source": [
    "df2_t"
   ]
  },
  {
   "cell_type": "markdown",
   "id": "70c87327-4a9c-4558-bff0-4734e1f0dcad",
   "metadata": {},
   "source": [
    "<a class=\"anchor\" id=\"itertuples\"></a>\n",
    "## itertuples"
   ]
  },
  {
   "cell_type": "markdown",
   "id": "352123ac-1c6f-474b-b1f1-741068453cfd",
   "metadata": {},
   "source": [
    "The [`itertuples()`](../reference/api/pandas.DataFrame.itertuples.html#pandas.DataFrame.itertuples \"pandas.DataFrame.itertuples\") method will return an iterator\n",
    "yielding a namedtuple for each row in the DataFrame. The first element\n",
    "of the tuple will be the row’s corresponding index value, while the\n",
    "remaining values are the row values."
   ]
  },
  {
   "cell_type": "markdown",
   "id": "a33dc0d6-834d-4a21-ae30-e36b6f7de929",
   "metadata": {},
   "source": [
    "For instance:"
   ]
  },
  {
   "cell_type": "code",
   "execution_count": 22,
   "id": "1ca5b6c1",
   "metadata": {},
   "outputs": [
    {
     "name": "stdout",
     "output_type": "stream",
     "text": [
      "Pandas(Index=0, a=10, b='a') 10 a\n",
      "Pandas(Index=1, a=10, b='b') 10 b\n",
      "Pandas(Index=2, a=10, b='c') 10 c\n"
     ]
    }
   ],
   "source": [
    "for row in df.itertuples():\n",
    "    print(row, row.a, row.b)"
   ]
  },
  {
   "cell_type": "markdown",
   "id": "b495c320-1728-4ab6-9f6d-ca1ece6e73e8",
   "metadata": {},
   "source": [
    "This method does not convert the row to a Series object; it merely\n",
    "returns the values inside a namedtuple. Therefore,\n",
    "[`itertuples()`](../reference/api/pandas.DataFrame.itertuples.html#pandas.DataFrame.itertuples \"pandas.DataFrame.itertuples\") preserves the data type of the values\n",
    "and is generally faster as [`iterrows()`](../reference/api/pandas.DataFrame.iterrows.html#pandas.DataFrame.iterrows \"pandas.DataFrame.iterrows\")."
   ]
  },
  {
   "cell_type": "markdown",
   "id": "23c527af-a29d-486e-b752-98e7a42fd57f",
   "metadata": {},
   "source": [
    "> **Note:**\n",
    "> \n",
    "> The column names will be renamed to positional names if they are invalid Python identifiers, repeated, or start with an underscore. With a large number of columns (>255), regular tuples are returned."
   ]
  },
  {
   "cell_type": "code",
   "execution_count": 23,
   "id": "0ea17339-d253-41e9-8f0c-995acf630bfc",
   "metadata": {},
   "outputs": [],
   "source": [
    "df = pd.DataFrame([[1, 1.5]], columns=[\"int number\", \"float number\"])"
   ]
  },
  {
   "cell_type": "code",
   "execution_count": 24,
   "id": "24f43c4d-abf6-489f-be86-3d0e8cf53187",
   "metadata": {},
   "outputs": [
    {
     "data": {
      "text/html": [
       "<div>\n",
       "<style scoped>\n",
       "    .dataframe tbody tr th:only-of-type {\n",
       "        vertical-align: middle;\n",
       "    }\n",
       "\n",
       "    .dataframe tbody tr th {\n",
       "        vertical-align: top;\n",
       "    }\n",
       "\n",
       "    .dataframe thead th {\n",
       "        text-align: right;\n",
       "    }\n",
       "</style>\n",
       "<table border=\"1\" class=\"dataframe\">\n",
       "  <thead>\n",
       "    <tr style=\"text-align: right;\">\n",
       "      <th></th>\n",
       "      <th>int number</th>\n",
       "      <th>float number</th>\n",
       "    </tr>\n",
       "  </thead>\n",
       "  <tbody>\n",
       "    <tr>\n",
       "      <th>0</th>\n",
       "      <td>1</td>\n",
       "      <td>1.5</td>\n",
       "    </tr>\n",
       "  </tbody>\n",
       "</table>\n",
       "</div>"
      ],
      "text/plain": [
       "   int number  float number\n",
       "0           1           1.5"
      ]
     },
     "execution_count": 24,
     "metadata": {},
     "output_type": "execute_result"
    }
   ],
   "source": [
    "df"
   ]
  },
  {
   "cell_type": "code",
   "execution_count": 25,
   "id": "0ee22b30-b1c2-4406-926b-ec6bb7652fe6",
   "metadata": {},
   "outputs": [
    {
     "name": "stdout",
     "output_type": "stream",
     "text": [
      "Pandas(Index=0, _1=1, _2=1.5) 1 1.5\n"
     ]
    }
   ],
   "source": [
    "for row in df.itertuples():\n",
    "    print(row, row._1, row._2)"
   ]
  }
 ],
 "metadata": {
  "kernelspec": {
   "display_name": "Python 3",
   "language": "python",
   "name": "python3"
  },
  "language_info": {
   "codemirror_mode": {
    "name": "ipython",
    "version": 3
   },
   "file_extension": ".py",
   "mimetype": "text/x-python",
   "name": "python",
   "nbconvert_exporter": "python",
   "pygments_lexer": "ipython3",
   "version": "3.8.11"
  }
 },
 "nbformat": 4,
 "nbformat_minor": 5
}
