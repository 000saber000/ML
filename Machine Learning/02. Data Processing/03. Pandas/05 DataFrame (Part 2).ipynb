{
 "cells": [
  {
   "cell_type": "markdown",
   "id": "8994c45b-bec7-407d-a72b-bc32194c13e5",
   "metadata": {},
   "source": [
    "<img src=\"../../../images/banners/pandas-cropped.jpeg\" width=\"600\"/>"
   ]
  },
  {
   "cell_type": "markdown",
   "id": "266a35db-8e4c-42a8-9c60-4261d6390aee",
   "metadata": {},
   "source": [
    "<a class=\"anchor\" id=\"intro_to_data_structures\"></a>\n",
    "# <img src=\"../../../images/logos/pandas.png\" width=\"23\"/> DataFrame (Part #2)"
   ]
  },
  {
   "cell_type": "markdown",
   "id": "330ed471-38ac-49e9-a3e7-cfc5f297de67",
   "metadata": {},
   "source": [
    "## <img src=\"../../../images/logos/toc.png\" width=\"20\"/> Table of Contents\n",
    "* [Assigning new columns in method chains](#assigning_new_columns_in_method_chains)\n",
    "* [Indexing / selection](#indexing_/_selection)\n",
    "* [Data alignment and arithmetic](#data_alignment_and_arithmetic)\n",
    "* [Transposing](#transposing)\n",
    "* [DataFrame interoperability with NumPy functions](#dataframe_interoperability_with_numpy_functions)\n",
    "* [Console display](#console_display)\n",
    "* [DataFrame column attribute access and IPython completion](#dataframe_column_attribute_access_and_ipython_completion)\n",
    "\n",
    "---"
   ]
  },
  {
   "cell_type": "markdown",
   "id": "728f0a8b-fe6c-432d-ab11-3fb1a2d3b73e",
   "metadata": {},
   "source": [
    "Now that you know the basics of how to create a dataframe and modify it, let's learn more."
   ]
  },
  {
   "cell_type": "markdown",
   "id": "37c3acde-aef5-4283-8986-eb5fc1984f94",
   "metadata": {},
   "source": [
    "<a class=\"anchor\" id=\"assigning_new_columns_in_method_chains\"></a>\n",
    "## Assigning new columns in method chains"
   ]
  },
  {
   "cell_type": "markdown",
   "id": "20c51721-917f-4fb5-83c4-d6c44b134303",
   "metadata": {},
   "source": [
    "Inspired by [dplyr’s](https://dplyr.tidyverse.org/reference/mutate.html)\n",
    "`mutate` verb, DataFrame has an [`assign()`](../reference/api/pandas.DataFrame.assign.html#pandas.DataFrame.assign \"pandas.DataFrame.assign\")\n",
    "method that allows you to easily create new columns that are potentially\n",
    "derived from existing columns."
   ]
  },
  {
   "cell_type": "code",
   "execution_count": 46,
   "id": "872d4538-89ab-40a7-8b6d-6dfa1e277f41",
   "metadata": {},
   "outputs": [],
   "source": [
    "iris = pd.read_csv(\"../../data/iris.data\")"
   ]
  },
  {
   "cell_type": "code",
   "execution_count": 47,
   "id": "f41518fb-84ff-461e-a0bf-da03e4a31644",
   "metadata": {},
   "outputs": [
    {
     "data": {
      "text/html": [
       "<div>\n",
       "<style scoped>\n",
       "    .dataframe tbody tr th:only-of-type {\n",
       "        vertical-align: middle;\n",
       "    }\n",
       "\n",
       "    .dataframe tbody tr th {\n",
       "        vertical-align: top;\n",
       "    }\n",
       "\n",
       "    .dataframe thead th {\n",
       "        text-align: right;\n",
       "    }\n",
       "</style>\n",
       "<table border=\"1\" class=\"dataframe\">\n",
       "  <thead>\n",
       "    <tr style=\"text-align: right;\">\n",
       "      <th></th>\n",
       "      <th>SepalLength</th>\n",
       "      <th>SepalWidth</th>\n",
       "      <th>PetalLength</th>\n",
       "      <th>PetalWidth</th>\n",
       "      <th>Name</th>\n",
       "    </tr>\n",
       "  </thead>\n",
       "  <tbody>\n",
       "    <tr>\n",
       "      <th>0</th>\n",
       "      <td>5.1</td>\n",
       "      <td>3.5</td>\n",
       "      <td>1.4</td>\n",
       "      <td>0.2</td>\n",
       "      <td>Iris-setosa</td>\n",
       "    </tr>\n",
       "    <tr>\n",
       "      <th>1</th>\n",
       "      <td>4.9</td>\n",
       "      <td>3.0</td>\n",
       "      <td>1.4</td>\n",
       "      <td>0.2</td>\n",
       "      <td>Iris-setosa</td>\n",
       "    </tr>\n",
       "    <tr>\n",
       "      <th>2</th>\n",
       "      <td>4.7</td>\n",
       "      <td>3.2</td>\n",
       "      <td>1.3</td>\n",
       "      <td>0.2</td>\n",
       "      <td>Iris-setosa</td>\n",
       "    </tr>\n",
       "    <tr>\n",
       "      <th>3</th>\n",
       "      <td>4.6</td>\n",
       "      <td>3.1</td>\n",
       "      <td>1.5</td>\n",
       "      <td>0.2</td>\n",
       "      <td>Iris-setosa</td>\n",
       "    </tr>\n",
       "    <tr>\n",
       "      <th>4</th>\n",
       "      <td>5.0</td>\n",
       "      <td>3.6</td>\n",
       "      <td>1.4</td>\n",
       "      <td>0.2</td>\n",
       "      <td>Iris-setosa</td>\n",
       "    </tr>\n",
       "  </tbody>\n",
       "</table>\n",
       "</div>"
      ],
      "text/plain": [
       "   SepalLength  SepalWidth  PetalLength  PetalWidth         Name\n",
       "0          5.1         3.5          1.4         0.2  Iris-setosa\n",
       "1          4.9         3.0          1.4         0.2  Iris-setosa\n",
       "2          4.7         3.2          1.3         0.2  Iris-setosa\n",
       "3          4.6         3.1          1.5         0.2  Iris-setosa\n",
       "4          5.0         3.6          1.4         0.2  Iris-setosa"
      ]
     },
     "execution_count": 47,
     "metadata": {},
     "output_type": "execute_result"
    }
   ],
   "source": [
    "iris.head()"
   ]
  },
  {
   "cell_type": "code",
   "execution_count": 48,
   "id": "a578a57e-ddb1-40ac-a863-879fcb1c82d8",
   "metadata": {},
   "outputs": [
    {
     "data": {
      "text/html": [
       "<div>\n",
       "<style scoped>\n",
       "    .dataframe tbody tr th:only-of-type {\n",
       "        vertical-align: middle;\n",
       "    }\n",
       "\n",
       "    .dataframe tbody tr th {\n",
       "        vertical-align: top;\n",
       "    }\n",
       "\n",
       "    .dataframe thead th {\n",
       "        text-align: right;\n",
       "    }\n",
       "</style>\n",
       "<table border=\"1\" class=\"dataframe\">\n",
       "  <thead>\n",
       "    <tr style=\"text-align: right;\">\n",
       "      <th></th>\n",
       "      <th>SepalLength</th>\n",
       "      <th>SepalWidth</th>\n",
       "      <th>PetalLength</th>\n",
       "      <th>PetalWidth</th>\n",
       "      <th>Name</th>\n",
       "      <th>sepal_ratio</th>\n",
       "    </tr>\n",
       "  </thead>\n",
       "  <tbody>\n",
       "    <tr>\n",
       "      <th>0</th>\n",
       "      <td>5.1</td>\n",
       "      <td>3.5</td>\n",
       "      <td>1.4</td>\n",
       "      <td>0.2</td>\n",
       "      <td>Iris-setosa</td>\n",
       "      <td>0.686275</td>\n",
       "    </tr>\n",
       "    <tr>\n",
       "      <th>1</th>\n",
       "      <td>4.9</td>\n",
       "      <td>3.0</td>\n",
       "      <td>1.4</td>\n",
       "      <td>0.2</td>\n",
       "      <td>Iris-setosa</td>\n",
       "      <td>0.612245</td>\n",
       "    </tr>\n",
       "    <tr>\n",
       "      <th>2</th>\n",
       "      <td>4.7</td>\n",
       "      <td>3.2</td>\n",
       "      <td>1.3</td>\n",
       "      <td>0.2</td>\n",
       "      <td>Iris-setosa</td>\n",
       "      <td>0.680851</td>\n",
       "    </tr>\n",
       "    <tr>\n",
       "      <th>3</th>\n",
       "      <td>4.6</td>\n",
       "      <td>3.1</td>\n",
       "      <td>1.5</td>\n",
       "      <td>0.2</td>\n",
       "      <td>Iris-setosa</td>\n",
       "      <td>0.673913</td>\n",
       "    </tr>\n",
       "    <tr>\n",
       "      <th>4</th>\n",
       "      <td>5.0</td>\n",
       "      <td>3.6</td>\n",
       "      <td>1.4</td>\n",
       "      <td>0.2</td>\n",
       "      <td>Iris-setosa</td>\n",
       "      <td>0.720000</td>\n",
       "    </tr>\n",
       "  </tbody>\n",
       "</table>\n",
       "</div>"
      ],
      "text/plain": [
       "   SepalLength  SepalWidth  PetalLength  PetalWidth         Name  sepal_ratio\n",
       "0          5.1         3.5          1.4         0.2  Iris-setosa     0.686275\n",
       "1          4.9         3.0          1.4         0.2  Iris-setosa     0.612245\n",
       "2          4.7         3.2          1.3         0.2  Iris-setosa     0.680851\n",
       "3          4.6         3.1          1.5         0.2  Iris-setosa     0.673913\n",
       "4          5.0         3.6          1.4         0.2  Iris-setosa     0.720000"
      ]
     },
     "execution_count": 48,
     "metadata": {},
     "output_type": "execute_result"
    }
   ],
   "source": [
    "iris.assign(sepal_ratio=iris[\"SepalWidth\"] / iris[\"SepalLength\"]).head()"
   ]
  },
  {
   "cell_type": "markdown",
   "id": "b6920c8e-c2fa-40ce-ae68-b17d2ff8d207",
   "metadata": {},
   "source": [
    "In the example above, we inserted a precomputed value. We can also pass in\n",
    "a function of one argument to be evaluated on the DataFrame being assigned to."
   ]
  },
  {
   "cell_type": "code",
   "execution_count": 49,
   "id": "53143385",
   "metadata": {},
   "outputs": [
    {
     "data": {
      "text/html": [
       "<div>\n",
       "<style scoped>\n",
       "    .dataframe tbody tr th:only-of-type {\n",
       "        vertical-align: middle;\n",
       "    }\n",
       "\n",
       "    .dataframe tbody tr th {\n",
       "        vertical-align: top;\n",
       "    }\n",
       "\n",
       "    .dataframe thead th {\n",
       "        text-align: right;\n",
       "    }\n",
       "</style>\n",
       "<table border=\"1\" class=\"dataframe\">\n",
       "  <thead>\n",
       "    <tr style=\"text-align: right;\">\n",
       "      <th></th>\n",
       "      <th>SepalLength</th>\n",
       "      <th>SepalWidth</th>\n",
       "      <th>PetalLength</th>\n",
       "      <th>PetalWidth</th>\n",
       "      <th>Name</th>\n",
       "      <th>sepal_ratio</th>\n",
       "    </tr>\n",
       "  </thead>\n",
       "  <tbody>\n",
       "    <tr>\n",
       "      <th>0</th>\n",
       "      <td>5.1</td>\n",
       "      <td>3.5</td>\n",
       "      <td>1.4</td>\n",
       "      <td>0.2</td>\n",
       "      <td>Iris-setosa</td>\n",
       "      <td>0.686275</td>\n",
       "    </tr>\n",
       "    <tr>\n",
       "      <th>1</th>\n",
       "      <td>4.9</td>\n",
       "      <td>3.0</td>\n",
       "      <td>1.4</td>\n",
       "      <td>0.2</td>\n",
       "      <td>Iris-setosa</td>\n",
       "      <td>0.612245</td>\n",
       "    </tr>\n",
       "    <tr>\n",
       "      <th>2</th>\n",
       "      <td>4.7</td>\n",
       "      <td>3.2</td>\n",
       "      <td>1.3</td>\n",
       "      <td>0.2</td>\n",
       "      <td>Iris-setosa</td>\n",
       "      <td>0.680851</td>\n",
       "    </tr>\n",
       "    <tr>\n",
       "      <th>3</th>\n",
       "      <td>4.6</td>\n",
       "      <td>3.1</td>\n",
       "      <td>1.5</td>\n",
       "      <td>0.2</td>\n",
       "      <td>Iris-setosa</td>\n",
       "      <td>0.673913</td>\n",
       "    </tr>\n",
       "    <tr>\n",
       "      <th>4</th>\n",
       "      <td>5.0</td>\n",
       "      <td>3.6</td>\n",
       "      <td>1.4</td>\n",
       "      <td>0.2</td>\n",
       "      <td>Iris-setosa</td>\n",
       "      <td>0.720000</td>\n",
       "    </tr>\n",
       "  </tbody>\n",
       "</table>\n",
       "</div>"
      ],
      "text/plain": [
       "   SepalLength  SepalWidth  PetalLength  PetalWidth         Name  sepal_ratio\n",
       "0          5.1         3.5          1.4         0.2  Iris-setosa     0.686275\n",
       "1          4.9         3.0          1.4         0.2  Iris-setosa     0.612245\n",
       "2          4.7         3.2          1.3         0.2  Iris-setosa     0.680851\n",
       "3          4.6         3.1          1.5         0.2  Iris-setosa     0.673913\n",
       "4          5.0         3.6          1.4         0.2  Iris-setosa     0.720000"
      ]
     },
     "execution_count": 49,
     "metadata": {},
     "output_type": "execute_result"
    }
   ],
   "source": [
    "iris.assign(sepal_ratio=lambda x: (x[\"SepalWidth\"] / x[\"SepalLength\"])).head()"
   ]
  },
  {
   "cell_type": "markdown",
   "id": "82f7a2b0-f8ec-4471-8961-491b602b27d3",
   "metadata": {},
   "source": [
    "`assign` **always** returns a copy of the data, leaving the original\n",
    "DataFrame untouched."
   ]
  },
  {
   "cell_type": "markdown",
   "id": "c5797a0d-e5c4-4252-bb78-ef81a8750393",
   "metadata": {},
   "source": [
    "Passing a callable, as opposed to an actual value to be inserted, is\n",
    "useful when you don’t have a reference to the DataFrame at hand. This is\n",
    "common when using `assign` in a chain of operations. For example,\n",
    "we can limit the DataFrame to just those observations with a Sepal Length\n",
    "greater than 5, calculate the ratio, and plot:"
   ]
  },
  {
   "cell_type": "code",
   "execution_count": 50,
   "id": "66fb5eb0",
   "metadata": {},
   "outputs": [
    {
     "data": {
      "text/plain": [
       "<AxesSubplot:xlabel='SepalRatio', ylabel='PetalRatio'>"
      ]
     },
     "execution_count": 50,
     "metadata": {},
     "output_type": "execute_result"
    },
    {
     "data": {
      "image/png": "[encoded data removed]",
      "text/plain": [
       "<Figure size 432x288 with 1 Axes>"
      ]
     },
     "metadata": {
      "needs_background": "light"
     },
     "output_type": "display_data"
    }
   ],
   "source": [
    "%matplotlib inline\n",
    "(\n",
    "    iris.query(\"SepalLength > 5\")\n",
    "    .assign(\n",
    "        SepalRatio=lambda x: x.SepalWidth / x.SepalLength,\n",
    "        PetalRatio=lambda x: x.PetalWidth / x.PetalLength,\n",
    "    )\n",
    "    .plot(kind=\"scatter\", x=\"SepalRatio\", y=\"PetalRatio\")\n",
    ")"
   ]
  },
  {
   "cell_type": "markdown",
   "id": "ac196d07-5d05-4b11-9390-ad29ba0bb9eb",
   "metadata": {},
   "source": [
    "<a class=\"anchor\" id=\"indexing_/_selection\"></a>\n",
    "## Indexing / selection"
   ]
  },
  {
   "cell_type": "markdown",
   "id": "52d13161-7932-4671-bc0a-448c11598f66",
   "metadata": {},
   "source": [
    "The basics of indexing are as follows:\n",
    "\n",
    "\n",
    "|Operation|Syntax|Result|\n",
    "|:--|:--|:--|\n",
    "|Select column|`df[col]`|Series|\n",
    "|Select row by label|`df.loc[label]`|Series|\n",
    "|Select row by integer location|`df.iloc[loc]`|Series|\n",
    "|Slice rows|`df[5:10]`|DataFrame|\n",
    "|Select rows by boolean vector|`df[bool_vec]`|DataFrame|"
   ]
  },
  {
   "cell_type": "markdown",
   "id": "cf3e3653-959c-4df5-8398-7a1569d219f9",
   "metadata": {},
   "source": [
    "Row selection, for example, returns a Series whose index is the columns of the\n",
    "DataFrame:"
   ]
  },
  {
   "cell_type": "code",
   "execution_count": 51,
   "id": "2a516342-a2bb-423f-879f-9377c57652da",
   "metadata": {},
   "outputs": [
    {
     "data": {
      "text/plain": [
       "one            2.0\n",
       "bar            2.0\n",
       "flag         False\n",
       "foo            bar\n",
       "one_trunc      2.0\n",
       "Name: b, dtype: object"
      ]
     },
     "execution_count": 51,
     "metadata": {},
     "output_type": "execute_result"
    }
   ],
   "source": [
    "df.loc[\"b\"]"
   ]
  },
  {
   "cell_type": "code",
   "execution_count": 52,
   "id": "056512e0-50d4-4820-abb7-6b3ce494ef60",
   "metadata": {},
   "outputs": [
    {
     "data": {
      "text/plain": [
       "one           3.0\n",
       "bar           3.0\n",
       "flag         True\n",
       "foo           bar\n",
       "one_trunc     NaN\n",
       "Name: c, dtype: object"
      ]
     },
     "execution_count": 52,
     "metadata": {},
     "output_type": "execute_result"
    }
   ],
   "source": [
    "df.iloc[2]"
   ]
  },
  {
   "cell_type": "markdown",
   "id": "bfd45a36-27f6-4df1-9500-3eb13a91da90",
   "metadata": {},
   "source": [
    "> A more exhaustive treatment of sophisticated label-based indexing and\n",
    "slicing, will be covered later. We will address the\n",
    "fundamentals of reindexing / conforming to new sets of labels."
   ]
  },
  {
   "cell_type": "markdown",
   "id": "9c78dd99-602c-4a7f-bc5e-109d1abc92f2",
   "metadata": {},
   "source": [
    "<a class=\"anchor\" id=\"data_alignment_and_arithmetic\"></a>\n",
    "## Data alignment and arithmetic"
   ]
  },
  {
   "cell_type": "markdown",
   "id": "d1981dc4-4e83-4ddb-986c-8d8c4e0dd215",
   "metadata": {},
   "source": [
    "Data alignment between DataFrame objects automatically align on **both the\n",
    "columns and the index (row labels)**. Again, the resulting object will have the\n",
    "union of the column and row labels."
   ]
  },
  {
   "cell_type": "code",
   "execution_count": 53,
   "id": "9d1a3e70-5ca1-4f23-bfbc-1870e0a25fc1",
   "metadata": {},
   "outputs": [],
   "source": [
    "df = pd.DataFrame(np.random.randn(10, 4), columns=[\"A\", \"B\", \"C\", \"D\"])"
   ]
  },
  {
   "cell_type": "code",
   "execution_count": 54,
   "id": "b75eac56-a69c-4f54-88ed-139eeb9cdaef",
   "metadata": {},
   "outputs": [],
   "source": [
    "df2 = pd.DataFrame(np.random.randn(7, 3), columns=[\"A\", \"B\", \"C\"])"
   ]
  },
  {
   "cell_type": "code",
   "execution_count": 55,
   "id": "d1758bec-5f28-4564-89d4-b9b160a90cc4",
   "metadata": {},
   "outputs": [
    {
     "data": {
      "text/html": [
       "<div>\n",
       "<style scoped>\n",
       "    .dataframe tbody tr th:only-of-type {\n",
       "        vertical-align: middle;\n",
       "    }\n",
       "\n",
       "    .dataframe tbody tr th {\n",
       "        vertical-align: top;\n",
       "    }\n",
       "\n",
       "    .dataframe thead th {\n",
       "        text-align: right;\n",
       "    }\n",
       "</style>\n",
       "<table border=\"1\" class=\"dataframe\">\n",
       "  <thead>\n",
       "    <tr style=\"text-align: right;\">\n",
       "      <th></th>\n",
       "      <th>A</th>\n",
       "      <th>B</th>\n",
       "      <th>C</th>\n",
       "      <th>D</th>\n",
       "    </tr>\n",
       "  </thead>\n",
       "  <tbody>\n",
       "    <tr>\n",
       "      <th>0</th>\n",
       "      <td>-0.801713</td>\n",
       "      <td>-1.004270</td>\n",
       "      <td>-1.399830</td>\n",
       "      <td>NaN</td>\n",
       "    </tr>\n",
       "    <tr>\n",
       "      <th>1</th>\n",
       "      <td>-0.675490</td>\n",
       "      <td>1.391420</td>\n",
       "      <td>1.511100</td>\n",
       "      <td>NaN</td>\n",
       "    </tr>\n",
       "    <tr>\n",
       "      <th>2</th>\n",
       "      <td>2.044998</td>\n",
       "      <td>-1.376368</td>\n",
       "      <td>-1.778327</td>\n",
       "      <td>NaN</td>\n",
       "    </tr>\n",
       "    <tr>\n",
       "      <th>3</th>\n",
       "      <td>2.209413</td>\n",
       "      <td>-0.517473</td>\n",
       "      <td>-1.519804</td>\n",
       "      <td>NaN</td>\n",
       "    </tr>\n",
       "    <tr>\n",
       "      <th>4</th>\n",
       "      <td>0.692652</td>\n",
       "      <td>1.428191</td>\n",
       "      <td>-0.002440</td>\n",
       "      <td>NaN</td>\n",
       "    </tr>\n",
       "    <tr>\n",
       "      <th>5</th>\n",
       "      <td>-0.932095</td>\n",
       "      <td>1.305450</td>\n",
       "      <td>-0.316591</td>\n",
       "      <td>NaN</td>\n",
       "    </tr>\n",
       "    <tr>\n",
       "      <th>6</th>\n",
       "      <td>-0.995912</td>\n",
       "      <td>0.502952</td>\n",
       "      <td>-0.008971</td>\n",
       "      <td>NaN</td>\n",
       "    </tr>\n",
       "    <tr>\n",
       "      <th>7</th>\n",
       "      <td>NaN</td>\n",
       "      <td>NaN</td>\n",
       "      <td>NaN</td>\n",
       "      <td>NaN</td>\n",
       "    </tr>\n",
       "    <tr>\n",
       "      <th>8</th>\n",
       "      <td>NaN</td>\n",
       "      <td>NaN</td>\n",
       "      <td>NaN</td>\n",
       "      <td>NaN</td>\n",
       "    </tr>\n",
       "    <tr>\n",
       "      <th>9</th>\n",
       "      <td>NaN</td>\n",
       "      <td>NaN</td>\n",
       "      <td>NaN</td>\n",
       "      <td>NaN</td>\n",
       "    </tr>\n",
       "  </tbody>\n",
       "</table>\n",
       "</div>"
      ],
      "text/plain": [
       "          A         B         C   D\n",
       "0 -0.801713 -1.004270 -1.399830 NaN\n",
       "1 -0.675490  1.391420  1.511100 NaN\n",
       "2  2.044998 -1.376368 -1.778327 NaN\n",
       "3  2.209413 -0.517473 -1.519804 NaN\n",
       "4  0.692652  1.428191 -0.002440 NaN\n",
       "5 -0.932095  1.305450 -0.316591 NaN\n",
       "6 -0.995912  0.502952 -0.008971 NaN\n",
       "7       NaN       NaN       NaN NaN\n",
       "8       NaN       NaN       NaN NaN\n",
       "9       NaN       NaN       NaN NaN"
      ]
     },
     "execution_count": 55,
     "metadata": {},
     "output_type": "execute_result"
    }
   ],
   "source": [
    "df + df2"
   ]
  },
  {
   "cell_type": "markdown",
   "id": "4a9d94af-3b70-4559-bbfd-6543f4955f1f",
   "metadata": {},
   "source": [
    "When doing an operation between DataFrame and Series, the default behavior is\n",
    "to align the Series **index** on the DataFrame **columns**, thus [broadcasting](https://numpy.org/doc/stable/user/basics.broadcasting.html)\n",
    "row-wise. For example:"
   ]
  },
  {
   "cell_type": "code",
   "execution_count": 56,
   "id": "84fd0b9d",
   "metadata": {},
   "outputs": [
    {
     "data": {
      "text/html": [
       "<div>\n",
       "<style scoped>\n",
       "    .dataframe tbody tr th:only-of-type {\n",
       "        vertical-align: middle;\n",
       "    }\n",
       "\n",
       "    .dataframe tbody tr th {\n",
       "        vertical-align: top;\n",
       "    }\n",
       "\n",
       "    .dataframe thead th {\n",
       "        text-align: right;\n",
       "    }\n",
       "</style>\n",
       "<table border=\"1\" class=\"dataframe\">\n",
       "  <thead>\n",
       "    <tr style=\"text-align: right;\">\n",
       "      <th></th>\n",
       "      <th>A</th>\n",
       "      <th>B</th>\n",
       "      <th>C</th>\n",
       "      <th>D</th>\n",
       "    </tr>\n",
       "  </thead>\n",
       "  <tbody>\n",
       "    <tr>\n",
       "      <th>0</th>\n",
       "      <td>0.000000</td>\n",
       "      <td>0.000000</td>\n",
       "      <td>0.000000</td>\n",
       "      <td>0.000000</td>\n",
       "    </tr>\n",
       "    <tr>\n",
       "      <th>1</th>\n",
       "      <td>-1.764312</td>\n",
       "      <td>-0.059506</td>\n",
       "      <td>2.481340</td>\n",
       "      <td>-1.602537</td>\n",
       "    </tr>\n",
       "    <tr>\n",
       "      <th>2</th>\n",
       "      <td>-0.241024</td>\n",
       "      <td>-2.397195</td>\n",
       "      <td>0.357747</td>\n",
       "      <td>-2.522988</td>\n",
       "    </tr>\n",
       "    <tr>\n",
       "      <th>3</th>\n",
       "      <td>0.631792</td>\n",
       "      <td>0.305899</td>\n",
       "      <td>0.502190</td>\n",
       "      <td>0.093457</td>\n",
       "    </tr>\n",
       "    <tr>\n",
       "      <th>4</th>\n",
       "      <td>0.730656</td>\n",
       "      <td>0.175708</td>\n",
       "      <td>0.367927</td>\n",
       "      <td>-0.866917</td>\n",
       "    </tr>\n",
       "    <tr>\n",
       "      <th>5</th>\n",
       "      <td>-1.177103</td>\n",
       "      <td>0.928325</td>\n",
       "      <td>2.315187</td>\n",
       "      <td>-1.279728</td>\n",
       "    </tr>\n",
       "    <tr>\n",
       "      <th>6</th>\n",
       "      <td>-1.661171</td>\n",
       "      <td>0.153009</td>\n",
       "      <td>2.211896</td>\n",
       "      <td>0.033099</td>\n",
       "    </tr>\n",
       "    <tr>\n",
       "      <th>7</th>\n",
       "      <td>-1.946002</td>\n",
       "      <td>-0.615090</td>\n",
       "      <td>1.723518</td>\n",
       "      <td>-1.232338</td>\n",
       "    </tr>\n",
       "    <tr>\n",
       "      <th>8</th>\n",
       "      <td>0.216157</td>\n",
       "      <td>-0.152853</td>\n",
       "      <td>3.696943</td>\n",
       "      <td>-1.668246</td>\n",
       "    </tr>\n",
       "    <tr>\n",
       "      <th>9</th>\n",
       "      <td>-0.520928</td>\n",
       "      <td>0.644696</td>\n",
       "      <td>1.512962</td>\n",
       "      <td>-0.359320</td>\n",
       "    </tr>\n",
       "  </tbody>\n",
       "</table>\n",
       "</div>"
      ],
      "text/plain": [
       "          A         B         C         D\n",
       "0  0.000000  0.000000  0.000000  0.000000\n",
       "1 -1.764312 -0.059506  2.481340 -1.602537\n",
       "2 -0.241024 -2.397195  0.357747 -2.522988\n",
       "3  0.631792  0.305899  0.502190  0.093457\n",
       "4  0.730656  0.175708  0.367927 -0.866917\n",
       "5 -1.177103  0.928325  2.315187 -1.279728\n",
       "6 -1.661171  0.153009  2.211896  0.033099\n",
       "7 -1.946002 -0.615090  1.723518 -1.232338\n",
       "8  0.216157 -0.152853  3.696943 -1.668246\n",
       "9 -0.520928  0.644696  1.512962 -0.359320"
      ]
     },
     "execution_count": 56,
     "metadata": {},
     "output_type": "execute_result"
    }
   ],
   "source": [
    "df - df.iloc[0]"
   ]
  },
  {
   "cell_type": "markdown",
   "id": "59e58c49-2058-43f9-9935-4f3c8c81b7f9",
   "metadata": {},
   "source": [
    "Operations with scalars are just as you would expect:"
   ]
  },
  {
   "cell_type": "code",
   "execution_count": 57,
   "id": "98c305ce-f9af-48bc-9c2c-2e603c09d46b",
   "metadata": {},
   "outputs": [
    {
     "data": {
      "text/html": [
       "<div>\n",
       "<style scoped>\n",
       "    .dataframe tbody tr th:only-of-type {\n",
       "        vertical-align: middle;\n",
       "    }\n",
       "\n",
       "    .dataframe tbody tr th {\n",
       "        vertical-align: top;\n",
       "    }\n",
       "\n",
       "    .dataframe thead th {\n",
       "        text-align: right;\n",
       "    }\n",
       "</style>\n",
       "<table border=\"1\" class=\"dataframe\">\n",
       "  <thead>\n",
       "    <tr style=\"text-align: right;\">\n",
       "      <th></th>\n",
       "      <th>A</th>\n",
       "      <th>B</th>\n",
       "      <th>C</th>\n",
       "      <th>D</th>\n",
       "    </tr>\n",
       "  </thead>\n",
       "  <tbody>\n",
       "    <tr>\n",
       "      <th>0</th>\n",
       "      <td>3.196248</td>\n",
       "      <td>3.630071</td>\n",
       "      <td>-4.827519</td>\n",
       "      <td>5.194073</td>\n",
       "    </tr>\n",
       "    <tr>\n",
       "      <th>1</th>\n",
       "      <td>-5.625314</td>\n",
       "      <td>3.332540</td>\n",
       "      <td>7.579182</td>\n",
       "      <td>-2.818613</td>\n",
       "    </tr>\n",
       "    <tr>\n",
       "      <th>2</th>\n",
       "      <td>1.991128</td>\n",
       "      <td>-8.355903</td>\n",
       "      <td>-3.038783</td>\n",
       "      <td>-7.420866</td>\n",
       "    </tr>\n",
       "    <tr>\n",
       "      <th>3</th>\n",
       "      <td>6.355209</td>\n",
       "      <td>5.159564</td>\n",
       "      <td>-2.316569</td>\n",
       "      <td>5.661360</td>\n",
       "    </tr>\n",
       "    <tr>\n",
       "      <th>4</th>\n",
       "      <td>6.849529</td>\n",
       "      <td>4.508610</td>\n",
       "      <td>-2.987883</td>\n",
       "      <td>0.859490</td>\n",
       "    </tr>\n",
       "    <tr>\n",
       "      <th>5</th>\n",
       "      <td>-2.689266</td>\n",
       "      <td>8.271698</td>\n",
       "      <td>6.748418</td>\n",
       "      <td>-1.204565</td>\n",
       "    </tr>\n",
       "    <tr>\n",
       "      <th>6</th>\n",
       "      <td>-5.109605</td>\n",
       "      <td>4.395117</td>\n",
       "      <td>6.231963</td>\n",
       "      <td>5.359569</td>\n",
       "    </tr>\n",
       "    <tr>\n",
       "      <th>7</th>\n",
       "      <td>-6.533759</td>\n",
       "      <td>0.554619</td>\n",
       "      <td>3.790073</td>\n",
       "      <td>-0.967615</td>\n",
       "    </tr>\n",
       "    <tr>\n",
       "      <th>8</th>\n",
       "      <td>4.277033</td>\n",
       "      <td>2.865804</td>\n",
       "      <td>13.657193</td>\n",
       "      <td>-3.147157</td>\n",
       "    </tr>\n",
       "    <tr>\n",
       "      <th>9</th>\n",
       "      <td>0.591610</td>\n",
       "      <td>6.853552</td>\n",
       "      <td>2.737289</td>\n",
       "      <td>3.397474</td>\n",
       "    </tr>\n",
       "  </tbody>\n",
       "</table>\n",
       "</div>"
      ],
      "text/plain": [
       "          A         B          C         D\n",
       "0  3.196248  3.630071  -4.827519  5.194073\n",
       "1 -5.625314  3.332540   7.579182 -2.818613\n",
       "2  1.991128 -8.355903  -3.038783 -7.420866\n",
       "3  6.355209  5.159564  -2.316569  5.661360\n",
       "4  6.849529  4.508610  -2.987883  0.859490\n",
       "5 -2.689266  8.271698   6.748418 -1.204565\n",
       "6 -5.109605  4.395117   6.231963  5.359569\n",
       "7 -6.533759  0.554619   3.790073 -0.967615\n",
       "8  4.277033  2.865804  13.657193 -3.147157\n",
       "9  0.591610  6.853552   2.737289  3.397474"
      ]
     },
     "execution_count": 57,
     "metadata": {},
     "output_type": "execute_result"
    }
   ],
   "source": [
    "df * 5 + 2"
   ]
  },
  {
   "cell_type": "code",
   "execution_count": 58,
   "id": "4a66e4a9-0066-4711-834a-07ad9dbb420c",
   "metadata": {},
   "outputs": [
    {
     "data": {
      "text/html": [
       "<div>\n",
       "<style scoped>\n",
       "    .dataframe tbody tr th:only-of-type {\n",
       "        vertical-align: middle;\n",
       "    }\n",
       "\n",
       "    .dataframe tbody tr th {\n",
       "        vertical-align: top;\n",
       "    }\n",
       "\n",
       "    .dataframe thead th {\n",
       "        text-align: right;\n",
       "    }\n",
       "</style>\n",
       "<table border=\"1\" class=\"dataframe\">\n",
       "  <thead>\n",
       "    <tr style=\"text-align: right;\">\n",
       "      <th></th>\n",
       "      <th>A</th>\n",
       "      <th>B</th>\n",
       "      <th>C</th>\n",
       "      <th>D</th>\n",
       "    </tr>\n",
       "  </thead>\n",
       "  <tbody>\n",
       "    <tr>\n",
       "      <th>0</th>\n",
       "      <td>4.179734</td>\n",
       "      <td>3.067351</td>\n",
       "      <td>-0.732330</td>\n",
       "      <td>1.565399</td>\n",
       "    </tr>\n",
       "    <tr>\n",
       "      <th>1</th>\n",
       "      <td>-0.655711</td>\n",
       "      <td>3.752231</td>\n",
       "      <td>0.896189</td>\n",
       "      <td>-1.037643</td>\n",
       "    </tr>\n",
       "    <tr>\n",
       "      <th>2</th>\n",
       "      <td>-563.542597</td>\n",
       "      <td>-0.482816</td>\n",
       "      <td>-0.992303</td>\n",
       "      <td>-0.530737</td>\n",
       "    </tr>\n",
       "    <tr>\n",
       "      <th>3</th>\n",
       "      <td>1.148051</td>\n",
       "      <td>1.582497</td>\n",
       "      <td>-1.158327</td>\n",
       "      <td>1.365613</td>\n",
       "    </tr>\n",
       "    <tr>\n",
       "      <th>4</th>\n",
       "      <td>1.031028</td>\n",
       "      <td>1.993135</td>\n",
       "      <td>-1.002429</td>\n",
       "      <td>-4.384002</td>\n",
       "    </tr>\n",
       "    <tr>\n",
       "      <th>5</th>\n",
       "      <td>-1.066265</td>\n",
       "      <td>0.797232</td>\n",
       "      <td>1.052982</td>\n",
       "      <td>-1.560274</td>\n",
       "    </tr>\n",
       "    <tr>\n",
       "      <th>6</th>\n",
       "      <td>-0.703274</td>\n",
       "      <td>2.087581</td>\n",
       "      <td>1.181485</td>\n",
       "      <td>1.488286</td>\n",
       "    </tr>\n",
       "    <tr>\n",
       "      <th>7</th>\n",
       "      <td>-0.585908</td>\n",
       "      <td>-3.459296</td>\n",
       "      <td>2.793182</td>\n",
       "      <td>-1.684854</td>\n",
       "    </tr>\n",
       "    <tr>\n",
       "      <th>8</th>\n",
       "      <td>2.195840</td>\n",
       "      <td>5.774977</td>\n",
       "      <td>0.428920</td>\n",
       "      <td>-0.971410</td>\n",
       "    </tr>\n",
       "    <tr>\n",
       "      <th>9</th>\n",
       "      <td>-3.550153</td>\n",
       "      <td>1.030173</td>\n",
       "      <td>6.781605</td>\n",
       "      <td>3.577884</td>\n",
       "    </tr>\n",
       "  </tbody>\n",
       "</table>\n",
       "</div>"
      ],
      "text/plain": [
       "            A         B         C         D\n",
       "0    4.179734  3.067351 -0.732330  1.565399\n",
       "1   -0.655711  3.752231  0.896189 -1.037643\n",
       "2 -563.542597 -0.482816 -0.992303 -0.530737\n",
       "3    1.148051  1.582497 -1.158327  1.365613\n",
       "4    1.031028  1.993135 -1.002429 -4.384002\n",
       "5   -1.066265  0.797232  1.052982 -1.560274\n",
       "6   -0.703274  2.087581  1.181485  1.488286\n",
       "7   -0.585908 -3.459296  2.793182 -1.684854\n",
       "8    2.195840  5.774977  0.428920 -0.971410\n",
       "9   -3.550153  1.030173  6.781605  3.577884"
      ]
     },
     "execution_count": 58,
     "metadata": {},
     "output_type": "execute_result"
    }
   ],
   "source": [
    "1 / df"
   ]
  },
  {
   "cell_type": "code",
   "execution_count": 59,
   "id": "0fe3c308-19ab-4c92-ab88-88abd2659b99",
   "metadata": {},
   "outputs": [
    {
     "data": {
      "text/html": [
       "<div>\n",
       "<style scoped>\n",
       "    .dataframe tbody tr th:only-of-type {\n",
       "        vertical-align: middle;\n",
       "    }\n",
       "\n",
       "    .dataframe tbody tr th {\n",
       "        vertical-align: top;\n",
       "    }\n",
       "\n",
       "    .dataframe thead th {\n",
       "        text-align: right;\n",
       "    }\n",
       "</style>\n",
       "<table border=\"1\" class=\"dataframe\">\n",
       "  <thead>\n",
       "    <tr style=\"text-align: right;\">\n",
       "      <th></th>\n",
       "      <th>A</th>\n",
       "      <th>B</th>\n",
       "      <th>C</th>\n",
       "      <th>D</th>\n",
       "    </tr>\n",
       "  </thead>\n",
       "  <tbody>\n",
       "    <tr>\n",
       "      <th>0</th>\n",
       "      <td>3.276465e-03</td>\n",
       "      <td>0.011297</td>\n",
       "      <td>3.476736</td>\n",
       "      <td>0.166533</td>\n",
       "    </tr>\n",
       "    <tr>\n",
       "      <th>1</th>\n",
       "      <td>5.409422e+00</td>\n",
       "      <td>0.005045</td>\n",
       "      <td>1.550251</td>\n",
       "      <td>0.862598</td>\n",
       "    </tr>\n",
       "    <tr>\n",
       "      <th>2</th>\n",
       "      <td>9.915007e-12</td>\n",
       "      <td>18.402291</td>\n",
       "      <td>1.031389</td>\n",
       "      <td>12.603269</td>\n",
       "    </tr>\n",
       "    <tr>\n",
       "      <th>3</th>\n",
       "      <td>5.756465e-01</td>\n",
       "      <td>0.159451</td>\n",
       "      <td>0.555488</td>\n",
       "      <td>0.287534</td>\n",
       "    </tr>\n",
       "    <tr>\n",
       "      <th>4</th>\n",
       "      <td>8.849486e-01</td>\n",
       "      <td>0.063365</td>\n",
       "      <td>0.990341</td>\n",
       "      <td>0.002707</td>\n",
       "    </tr>\n",
       "    <tr>\n",
       "      <th>5</th>\n",
       "      <td>7.736408e-01</td>\n",
       "      <td>2.475487</td>\n",
       "      <td>0.813422</td>\n",
       "      <td>0.168732</td>\n",
       "    </tr>\n",
       "    <tr>\n",
       "      <th>6</th>\n",
       "      <td>4.087915e+00</td>\n",
       "      <td>0.052653</td>\n",
       "      <td>0.513201</td>\n",
       "      <td>0.203823</td>\n",
       "    </tr>\n",
       "    <tr>\n",
       "      <th>7</th>\n",
       "      <td>8.485579e+00</td>\n",
       "      <td>0.006983</td>\n",
       "      <td>0.016429</td>\n",
       "      <td>0.124094</td>\n",
       "    </tr>\n",
       "    <tr>\n",
       "      <th>8</th>\n",
       "      <td>4.301277e-02</td>\n",
       "      <td>0.000899</td>\n",
       "      <td>29.545816</td>\n",
       "      <td>1.123025</td>\n",
       "    </tr>\n",
       "    <tr>\n",
       "      <th>9</th>\n",
       "      <td>6.295230e-03</td>\n",
       "      <td>0.887889</td>\n",
       "      <td>0.000473</td>\n",
       "      <td>0.006102</td>\n",
       "    </tr>\n",
       "  </tbody>\n",
       "</table>\n",
       "</div>"
      ],
      "text/plain": [
       "              A          B          C          D\n",
       "0  3.276465e-03   0.011297   3.476736   0.166533\n",
       "1  5.409422e+00   0.005045   1.550251   0.862598\n",
       "2  9.915007e-12  18.402291   1.031389  12.603269\n",
       "3  5.756465e-01   0.159451   0.555488   0.287534\n",
       "4  8.849486e-01   0.063365   0.990341   0.002707\n",
       "5  7.736408e-01   2.475487   0.813422   0.168732\n",
       "6  4.087915e+00   0.052653   0.513201   0.203823\n",
       "7  8.485579e+00   0.006983   0.016429   0.124094\n",
       "8  4.301277e-02   0.000899  29.545816   1.123025\n",
       "9  6.295230e-03   0.887889   0.000473   0.006102"
      ]
     },
     "execution_count": 59,
     "metadata": {},
     "output_type": "execute_result"
    }
   ],
   "source": [
    "df ** 4"
   ]
  },
  {
   "cell_type": "markdown",
   "id": "adf9509c-7907-41b8-b485-9be318891eb4",
   "metadata": {},
   "source": [
    "Boolean operators work as well:"
   ]
  },
  {
   "cell_type": "code",
   "execution_count": 60,
   "id": "5398d3ba-6128-4b15-894a-56b46139984a",
   "metadata": {},
   "outputs": [],
   "source": [
    "df1 = pd.DataFrame({\"a\": [1, 0, 1], \"b\": [0, 1, 1]}, dtype=bool)\n",
    "df2 = pd.DataFrame({\"a\": [0, 1, 1], \"b\": [1, 1, 0]}, dtype=bool)"
   ]
  },
  {
   "cell_type": "code",
   "execution_count": 61,
   "id": "b85e5d1d-6762-437b-b1ea-e262c580ce3b",
   "metadata": {},
   "outputs": [
    {
     "data": {
      "text/html": [
       "<div>\n",
       "<style scoped>\n",
       "    .dataframe tbody tr th:only-of-type {\n",
       "        vertical-align: middle;\n",
       "    }\n",
       "\n",
       "    .dataframe tbody tr th {\n",
       "        vertical-align: top;\n",
       "    }\n",
       "\n",
       "    .dataframe thead th {\n",
       "        text-align: right;\n",
       "    }\n",
       "</style>\n",
       "<table border=\"1\" class=\"dataframe\">\n",
       "  <thead>\n",
       "    <tr style=\"text-align: right;\">\n",
       "      <th></th>\n",
       "      <th>a</th>\n",
       "      <th>b</th>\n",
       "    </tr>\n",
       "  </thead>\n",
       "  <tbody>\n",
       "    <tr>\n",
       "      <th>0</th>\n",
       "      <td>False</td>\n",
       "      <td>False</td>\n",
       "    </tr>\n",
       "    <tr>\n",
       "      <th>1</th>\n",
       "      <td>False</td>\n",
       "      <td>True</td>\n",
       "    </tr>\n",
       "    <tr>\n",
       "      <th>2</th>\n",
       "      <td>True</td>\n",
       "      <td>False</td>\n",
       "    </tr>\n",
       "  </tbody>\n",
       "</table>\n",
       "</div>"
      ],
      "text/plain": [
       "       a      b\n",
       "0  False  False\n",
       "1  False   True\n",
       "2   True  False"
      ]
     },
     "execution_count": 61,
     "metadata": {},
     "output_type": "execute_result"
    }
   ],
   "source": [
    "df1 & df2"
   ]
  },
  {
   "cell_type": "code",
   "execution_count": 62,
   "id": "939e342e-6dc6-47d6-b9a7-ca856f2a7f27",
   "metadata": {},
   "outputs": [
    {
     "data": {
      "text/html": [
       "<div>\n",
       "<style scoped>\n",
       "    .dataframe tbody tr th:only-of-type {\n",
       "        vertical-align: middle;\n",
       "    }\n",
       "\n",
       "    .dataframe tbody tr th {\n",
       "        vertical-align: top;\n",
       "    }\n",
       "\n",
       "    .dataframe thead th {\n",
       "        text-align: right;\n",
       "    }\n",
       "</style>\n",
       "<table border=\"1\" class=\"dataframe\">\n",
       "  <thead>\n",
       "    <tr style=\"text-align: right;\">\n",
       "      <th></th>\n",
       "      <th>a</th>\n",
       "      <th>b</th>\n",
       "    </tr>\n",
       "  </thead>\n",
       "  <tbody>\n",
       "    <tr>\n",
       "      <th>0</th>\n",
       "      <td>True</td>\n",
       "      <td>True</td>\n",
       "    </tr>\n",
       "    <tr>\n",
       "      <th>1</th>\n",
       "      <td>True</td>\n",
       "      <td>True</td>\n",
       "    </tr>\n",
       "    <tr>\n",
       "      <th>2</th>\n",
       "      <td>True</td>\n",
       "      <td>True</td>\n",
       "    </tr>\n",
       "  </tbody>\n",
       "</table>\n",
       "</div>"
      ],
      "text/plain": [
       "      a     b\n",
       "0  True  True\n",
       "1  True  True\n",
       "2  True  True"
      ]
     },
     "execution_count": 62,
     "metadata": {},
     "output_type": "execute_result"
    }
   ],
   "source": [
    "df1 | df2"
   ]
  },
  {
   "cell_type": "code",
   "execution_count": 63,
   "id": "064c5857-20a8-4f42-921d-8267977bffa5",
   "metadata": {},
   "outputs": [
    {
     "data": {
      "text/html": [
       "<div>\n",
       "<style scoped>\n",
       "    .dataframe tbody tr th:only-of-type {\n",
       "        vertical-align: middle;\n",
       "    }\n",
       "\n",
       "    .dataframe tbody tr th {\n",
       "        vertical-align: top;\n",
       "    }\n",
       "\n",
       "    .dataframe thead th {\n",
       "        text-align: right;\n",
       "    }\n",
       "</style>\n",
       "<table border=\"1\" class=\"dataframe\">\n",
       "  <thead>\n",
       "    <tr style=\"text-align: right;\">\n",
       "      <th></th>\n",
       "      <th>a</th>\n",
       "      <th>b</th>\n",
       "    </tr>\n",
       "  </thead>\n",
       "  <tbody>\n",
       "    <tr>\n",
       "      <th>0</th>\n",
       "      <td>True</td>\n",
       "      <td>True</td>\n",
       "    </tr>\n",
       "    <tr>\n",
       "      <th>1</th>\n",
       "      <td>True</td>\n",
       "      <td>False</td>\n",
       "    </tr>\n",
       "    <tr>\n",
       "      <th>2</th>\n",
       "      <td>False</td>\n",
       "      <td>True</td>\n",
       "    </tr>\n",
       "  </tbody>\n",
       "</table>\n",
       "</div>"
      ],
      "text/plain": [
       "       a      b\n",
       "0   True   True\n",
       "1   True  False\n",
       "2  False   True"
      ]
     },
     "execution_count": 63,
     "metadata": {},
     "output_type": "execute_result"
    }
   ],
   "source": [
    "df1 ^ df2"
   ]
  },
  {
   "cell_type": "code",
   "execution_count": 64,
   "id": "6419af94-de7c-408c-8c3d-9ece7a06d2d2",
   "metadata": {},
   "outputs": [
    {
     "data": {
      "text/html": [
       "<div>\n",
       "<style scoped>\n",
       "    .dataframe tbody tr th:only-of-type {\n",
       "        vertical-align: middle;\n",
       "    }\n",
       "\n",
       "    .dataframe tbody tr th {\n",
       "        vertical-align: top;\n",
       "    }\n",
       "\n",
       "    .dataframe thead th {\n",
       "        text-align: right;\n",
       "    }\n",
       "</style>\n",
       "<table border=\"1\" class=\"dataframe\">\n",
       "  <thead>\n",
       "    <tr style=\"text-align: right;\">\n",
       "      <th></th>\n",
       "      <th>a</th>\n",
       "      <th>b</th>\n",
       "    </tr>\n",
       "  </thead>\n",
       "  <tbody>\n",
       "    <tr>\n",
       "      <th>0</th>\n",
       "      <td>False</td>\n",
       "      <td>True</td>\n",
       "    </tr>\n",
       "    <tr>\n",
       "      <th>1</th>\n",
       "      <td>True</td>\n",
       "      <td>False</td>\n",
       "    </tr>\n",
       "    <tr>\n",
       "      <th>2</th>\n",
       "      <td>False</td>\n",
       "      <td>False</td>\n",
       "    </tr>\n",
       "  </tbody>\n",
       "</table>\n",
       "</div>"
      ],
      "text/plain": [
       "       a      b\n",
       "0  False   True\n",
       "1   True  False\n",
       "2  False  False"
      ]
     },
     "execution_count": 64,
     "metadata": {},
     "output_type": "execute_result"
    }
   ],
   "source": [
    "-df1"
   ]
  },
  {
   "cell_type": "markdown",
   "id": "03f14bbf-167a-4bea-8e5c-40999268a9be",
   "metadata": {},
   "source": [
    "<a class=\"anchor\" id=\"transposing\"></a>\n",
    "### Transposing"
   ]
  },
  {
   "cell_type": "markdown",
   "id": "66622490-5f28-43db-a2bf-d363d5831caa",
   "metadata": {},
   "source": [
    "To transpose, access the `T` attribute (also the `transpose` function),\n",
    "similar to an ndarray:"
   ]
  },
  {
   "cell_type": "code",
   "execution_count": 65,
   "id": "a59e65e7",
   "metadata": {},
   "outputs": [
    {
     "data": {
      "text/html": [
       "<div>\n",
       "<style scoped>\n",
       "    .dataframe tbody tr th:only-of-type {\n",
       "        vertical-align: middle;\n",
       "    }\n",
       "\n",
       "    .dataframe tbody tr th {\n",
       "        vertical-align: top;\n",
       "    }\n",
       "\n",
       "    .dataframe thead th {\n",
       "        text-align: right;\n",
       "    }\n",
       "</style>\n",
       "<table border=\"1\" class=\"dataframe\">\n",
       "  <thead>\n",
       "    <tr style=\"text-align: right;\">\n",
       "      <th></th>\n",
       "      <th>0</th>\n",
       "      <th>1</th>\n",
       "      <th>2</th>\n",
       "      <th>3</th>\n",
       "      <th>4</th>\n",
       "    </tr>\n",
       "  </thead>\n",
       "  <tbody>\n",
       "    <tr>\n",
       "      <th>A</th>\n",
       "      <td>0.239250</td>\n",
       "      <td>-1.525063</td>\n",
       "      <td>-0.001774</td>\n",
       "      <td>0.871042</td>\n",
       "      <td>0.969906</td>\n",
       "    </tr>\n",
       "    <tr>\n",
       "      <th>B</th>\n",
       "      <td>0.326014</td>\n",
       "      <td>0.266508</td>\n",
       "      <td>-2.071181</td>\n",
       "      <td>0.631913</td>\n",
       "      <td>0.501722</td>\n",
       "    </tr>\n",
       "    <tr>\n",
       "      <th>C</th>\n",
       "      <td>-1.365504</td>\n",
       "      <td>1.115836</td>\n",
       "      <td>-1.007757</td>\n",
       "      <td>-0.863314</td>\n",
       "      <td>-0.997577</td>\n",
       "    </tr>\n",
       "    <tr>\n",
       "      <th>D</th>\n",
       "      <td>0.638815</td>\n",
       "      <td>-0.963723</td>\n",
       "      <td>-1.884173</td>\n",
       "      <td>0.732272</td>\n",
       "      <td>-0.228102</td>\n",
       "    </tr>\n",
       "  </tbody>\n",
       "</table>\n",
       "</div>"
      ],
      "text/plain": [
       "          0         1         2         3         4\n",
       "A  0.239250 -1.525063 -0.001774  0.871042  0.969906\n",
       "B  0.326014  0.266508 -2.071181  0.631913  0.501722\n",
       "C -1.365504  1.115836 -1.007757 -0.863314 -0.997577\n",
       "D  0.638815 -0.963723 -1.884173  0.732272 -0.228102"
      ]
     },
     "execution_count": 65,
     "metadata": {},
     "output_type": "execute_result"
    }
   ],
   "source": [
    "df[:5].T"
   ]
  },
  {
   "cell_type": "markdown",
   "id": "7cd75579-9235-4552-8c27-cfe7b5cfe8f6",
   "metadata": {},
   "source": [
    "<a class=\"anchor\" id=\"dataframe_interoperability_with_numpy_functions\"></a>\n",
    "## DataFrame interoperability with NumPy functions"
   ]
  },
  {
   "cell_type": "markdown",
   "id": "dd98f1f1-004b-4377-8c90-0b2cad8d8a16",
   "metadata": {},
   "source": [
    "Elementwise NumPy ufuncs (log, exp, sqrt, …) and various other NumPy functions\n",
    "can be used with no issues on Series and DataFrame, assuming the data within\n",
    "are numeric:"
   ]
  },
  {
   "cell_type": "code",
   "execution_count": 66,
   "id": "f2d334dd-64dc-4863-a033-9732f0b57df3",
   "metadata": {},
   "outputs": [
    {
     "data": {
      "text/html": [
       "<div>\n",
       "<style scoped>\n",
       "    .dataframe tbody tr th:only-of-type {\n",
       "        vertical-align: middle;\n",
       "    }\n",
       "\n",
       "    .dataframe tbody tr th {\n",
       "        vertical-align: top;\n",
       "    }\n",
       "\n",
       "    .dataframe thead th {\n",
       "        text-align: right;\n",
       "    }\n",
       "</style>\n",
       "<table border=\"1\" class=\"dataframe\">\n",
       "  <thead>\n",
       "    <tr style=\"text-align: right;\">\n",
       "      <th></th>\n",
       "      <th>A</th>\n",
       "      <th>B</th>\n",
       "      <th>C</th>\n",
       "      <th>D</th>\n",
       "    </tr>\n",
       "  </thead>\n",
       "  <tbody>\n",
       "    <tr>\n",
       "      <th>0</th>\n",
       "      <td>1.270296</td>\n",
       "      <td>1.385435</td>\n",
       "      <td>0.255252</td>\n",
       "      <td>1.894234</td>\n",
       "    </tr>\n",
       "    <tr>\n",
       "      <th>1</th>\n",
       "      <td>0.217607</td>\n",
       "      <td>1.305398</td>\n",
       "      <td>3.052120</td>\n",
       "      <td>0.381470</td>\n",
       "    </tr>\n",
       "    <tr>\n",
       "      <th>2</th>\n",
       "      <td>0.998227</td>\n",
       "      <td>0.126037</td>\n",
       "      <td>0.365037</td>\n",
       "      <td>0.151955</td>\n",
       "    </tr>\n",
       "    <tr>\n",
       "      <th>3</th>\n",
       "      <td>2.389399</td>\n",
       "      <td>1.881205</td>\n",
       "      <td>0.421762</td>\n",
       "      <td>2.079801</td>\n",
       "    </tr>\n",
       "    <tr>\n",
       "      <th>4</th>\n",
       "      <td>2.637696</td>\n",
       "      <td>1.651563</td>\n",
       "      <td>0.368772</td>\n",
       "      <td>0.796043</td>\n",
       "    </tr>\n",
       "    <tr>\n",
       "      <th>5</th>\n",
       "      <td>0.391467</td>\n",
       "      <td>3.505523</td>\n",
       "      <td>2.584892</td>\n",
       "      <td>0.526811</td>\n",
       "    </tr>\n",
       "    <tr>\n",
       "      <th>6</th>\n",
       "      <td>0.241250</td>\n",
       "      <td>1.614497</td>\n",
       "      <td>2.331222</td>\n",
       "      <td>1.957981</td>\n",
       "    </tr>\n",
       "    <tr>\n",
       "      <th>7</th>\n",
       "      <td>0.181454</td>\n",
       "      <td>0.748955</td>\n",
       "      <td>1.430486</td>\n",
       "      <td>0.552378</td>\n",
       "    </tr>\n",
       "    <tr>\n",
       "      <th>8</th>\n",
       "      <td>1.576814</td>\n",
       "      <td>1.189057</td>\n",
       "      <td>10.292739</td>\n",
       "      <td>0.357210</td>\n",
       "    </tr>\n",
       "    <tr>\n",
       "      <th>9</th>\n",
       "      <td>0.754517</td>\n",
       "      <td>2.639819</td>\n",
       "      <td>1.158884</td>\n",
       "      <td>1.322462</td>\n",
       "    </tr>\n",
       "  </tbody>\n",
       "</table>\n",
       "</div>"
      ],
      "text/plain": [
       "          A         B          C         D\n",
       "0  1.270296  1.385435   0.255252  1.894234\n",
       "1  0.217607  1.305398   3.052120  0.381470\n",
       "2  0.998227  0.126037   0.365037  0.151955\n",
       "3  2.389399  1.881205   0.421762  2.079801\n",
       "4  2.637696  1.651563   0.368772  0.796043\n",
       "5  0.391467  3.505523   2.584892  0.526811\n",
       "6  0.241250  1.614497   2.331222  1.957981\n",
       "7  0.181454  0.748955   1.430486  0.552378\n",
       "8  1.576814  1.189057  10.292739  0.357210\n",
       "9  0.754517  2.639819   1.158884  1.322462"
      ]
     },
     "execution_count": 66,
     "metadata": {},
     "output_type": "execute_result"
    }
   ],
   "source": [
    "np.exp(df)"
   ]
  },
  {
   "cell_type": "code",
   "execution_count": 67,
   "id": "16a27a2d-caeb-46f3-b887-6fb6d5e9a547",
   "metadata": {},
   "outputs": [
    {
     "data": {
      "text/plain": [
       "array([[ 2.39249694e-01,  3.26014207e-01, -1.36550387e+00,\n",
       "         6.38814689e-01],\n",
       "       [-1.52506275e+00,  2.66508097e-01,  1.11583631e+00,\n",
       "        -9.63722628e-01],\n",
       "       [-1.77448875e-03, -2.07118062e+00, -1.00775662e+00,\n",
       "        -1.88417311e+00],\n",
       "       [ 8.71041725e-01,  6.31912716e-01, -8.63313716e-01,\n",
       "         7.32272092e-01],\n",
       "       [ 9.69905710e-01,  5.01722065e-01, -9.97576536e-01,\n",
       "        -2.28102088e-01],\n",
       "       [-9.37853158e-01,  1.25433963e+00,  9.49683600e-01,\n",
       "        -6.40913093e-01],\n",
       "       [-1.42192100e+00,  4.79023382e-01,  8.46392511e-01,\n",
       "         6.71913735e-01],\n",
       "       [-1.70675181e+00, -2.89076140e-01,  3.58014568e-01,\n",
       "        -5.93523075e-01],\n",
       "       [ 4.55406624e-01,  1.73160875e-01,  2.33143868e+00,\n",
       "        -1.02943131e+00],\n",
       "       [-2.81677986e-01,  9.70710477e-01,  1.47457719e-01,\n",
       "         2.79494829e-01]])"
      ]
     },
     "execution_count": 67,
     "metadata": {},
     "output_type": "execute_result"
    }
   ],
   "source": [
    "np.asarray(df)"
   ]
  },
  {
   "cell_type": "markdown",
   "id": "8d70e449-c624-4f14-9204-114fc11cdfa0",
   "metadata": {},
   "source": [
    "DataFrame is not intended to be a drop-in replacement for ndarray as its\n",
    "indexing semantics and data model are quite different in places from an n-dimensional\n",
    "array."
   ]
  },
  {
   "cell_type": "markdown",
   "id": "230c22c5-c2d3-461a-b67b-ceacc4cb9338",
   "metadata": {},
   "source": [
    "[`Series`](../reference/api/pandas.Series.html#pandas.Series \"pandas.Series\") implements `__array_ufunc__`, which allows it to work with NumPy’s\n",
    "[universal functions](https://numpy.org/doc/stable/reference/ufuncs.html)."
   ]
  },
  {
   "cell_type": "markdown",
   "id": "e2181fa0-5de7-4fdf-99c1-04eef76c6601",
   "metadata": {},
   "source": [
    "The ufunc is applied to the underlying array in a Series."
   ]
  },
  {
   "cell_type": "code",
   "execution_count": 68,
   "id": "ba886377-e1a6-4854-b3a8-a00a9af9ed5e",
   "metadata": {},
   "outputs": [],
   "source": [
    "ser = pd.Series([1, 2, 3, 4])"
   ]
  },
  {
   "cell_type": "code",
   "execution_count": 69,
   "id": "657bc1eb-fde5-40f3-9784-5ff5d76df90f",
   "metadata": {},
   "outputs": [
    {
     "data": {
      "text/plain": [
       "0     2.718282\n",
       "1     7.389056\n",
       "2    20.085537\n",
       "3    54.598150\n",
       "dtype: float64"
      ]
     },
     "execution_count": 69,
     "metadata": {},
     "output_type": "execute_result"
    }
   ],
   "source": [
    "np.exp(ser)"
   ]
  },
  {
   "cell_type": "markdown",
   "id": "6c8f1911-7e7f-4c32-ae36-f3608cba0058",
   "metadata": {},
   "source": [
    "Like other parts of the library, pandas will automatically align labeled inputs\n",
    "as part of a ufunc with multiple inputs. For example, using `numpy.remainder()`\n",
    "on two [`Series`](../reference/api/pandas.Series.html#pandas.Series \"pandas.Series\") with differently ordered labels will align before the operation."
   ]
  },
  {
   "cell_type": "code",
   "execution_count": 70,
   "id": "746fb303-1e39-42ee-89e1-3c92aface0f1",
   "metadata": {},
   "outputs": [],
   "source": [
    "ser1 = pd.Series([1, 2, 3], index=[\"a\", \"b\", \"c\"])\n",
    "ser2 = pd.Series([1, 3, 5], index=[\"b\", \"a\", \"c\"])"
   ]
  },
  {
   "cell_type": "code",
   "execution_count": 71,
   "id": "aad8cb9d-62c7-4f3b-a9f4-3de009a4f6ac",
   "metadata": {},
   "outputs": [
    {
     "data": {
      "text/plain": [
       "a    1\n",
       "b    2\n",
       "c    3\n",
       "dtype: int64"
      ]
     },
     "execution_count": 71,
     "metadata": {},
     "output_type": "execute_result"
    }
   ],
   "source": [
    "ser1"
   ]
  },
  {
   "cell_type": "code",
   "execution_count": 72,
   "id": "4db69142-6d8e-46fe-8158-e40d8b42acff",
   "metadata": {},
   "outputs": [
    {
     "data": {
      "text/plain": [
       "b    1\n",
       "a    3\n",
       "c    5\n",
       "dtype: int64"
      ]
     },
     "execution_count": 72,
     "metadata": {},
     "output_type": "execute_result"
    }
   ],
   "source": [
    "ser2"
   ]
  },
  {
   "cell_type": "code",
   "execution_count": 73,
   "id": "11258331-f15a-477d-958c-85c9a9aaeb7d",
   "metadata": {},
   "outputs": [
    {
     "data": {
      "text/plain": [
       "a    1\n",
       "b    0\n",
       "c    3\n",
       "dtype: int64"
      ]
     },
     "execution_count": 73,
     "metadata": {},
     "output_type": "execute_result"
    }
   ],
   "source": [
    "np.remainder(ser1, ser2)"
   ]
  },
  {
   "cell_type": "markdown",
   "id": "55b17e6d-df56-4a56-8668-d33b755c57e7",
   "metadata": {},
   "source": [
    "As usual, the union of the two indices is taken, and non-overlapping values are filled\n",
    "with missing values."
   ]
  },
  {
   "cell_type": "code",
   "execution_count": 74,
   "id": "fd5bec60-573a-4900-91ae-06a9497aba93",
   "metadata": {},
   "outputs": [],
   "source": [
    "ser3 = pd.Series([2, 4, 6], index=[\"b\", \"c\", \"d\"])"
   ]
  },
  {
   "cell_type": "code",
   "execution_count": 75,
   "id": "be617838-b276-4265-98c4-4e7a75afa47d",
   "metadata": {},
   "outputs": [
    {
     "data": {
      "text/plain": [
       "b    2\n",
       "c    4\n",
       "d    6\n",
       "dtype: int64"
      ]
     },
     "execution_count": 75,
     "metadata": {},
     "output_type": "execute_result"
    }
   ],
   "source": [
    "ser3"
   ]
  },
  {
   "cell_type": "code",
   "execution_count": 76,
   "id": "d4c799f1-b01e-43d5-907a-e7264693f185",
   "metadata": {},
   "outputs": [
    {
     "data": {
      "text/plain": [
       "a    NaN\n",
       "b    0.0\n",
       "c    3.0\n",
       "d    NaN\n",
       "dtype: float64"
      ]
     },
     "execution_count": 76,
     "metadata": {},
     "output_type": "execute_result"
    }
   ],
   "source": [
    "np.remainder(ser1, ser3)"
   ]
  },
  {
   "cell_type": "markdown",
   "id": "8d9a828b-e890-47fb-a21b-a40a464202a3",
   "metadata": {},
   "source": [
    "<a class=\"anchor\" id=\"console_display\"></a>\n",
    "## Console display"
   ]
  },
  {
   "cell_type": "markdown",
   "id": "dd6c67f5-ee0c-495d-99dd-ff7336cfa772",
   "metadata": {},
   "source": [
    "Very large DataFrames will be truncated to display them in the console.\n",
    "You can also get a summary using [`info()`](../reference/api/pandas.DataFrame.info.html#pandas.DataFrame.info \"pandas.DataFrame.info\").\n",
    "(Here I am reading a CSV version of the **baseball** dataset from the **plyr**\n",
    "R package):"
   ]
  },
  {
   "cell_type": "code",
   "execution_count": 77,
   "id": "701da119-caae-44a4-beeb-d85ba638065e",
   "metadata": {},
   "outputs": [],
   "source": [
    "baseball = pd.read_csv(\"./../../data/baseball.csv\")"
   ]
  },
  {
   "cell_type": "code",
   "execution_count": 78,
   "id": "c0f6856b-d086-4f45-891e-0437d1a19992",
   "metadata": {},
   "outputs": [
    {
     "name": "stdout",
     "output_type": "stream",
     "text": [
      "<class 'pandas.core.frame.DataFrame'>\n",
      "RangeIndex: 100 entries, 0 to 99\n",
      "Data columns (total 23 columns):\n",
      " #   Column  Non-Null Count  Dtype  \n",
      "---  ------  --------------  -----  \n",
      " 0   id      100 non-null    int64  \n",
      " 1   player  100 non-null    object \n",
      " 2   year    100 non-null    int64  \n",
      " 3   stint   100 non-null    int64  \n",
      " 4   team    100 non-null    object \n",
      " 5   lg      100 non-null    object \n",
      " 6   g       100 non-null    int64  \n",
      " 7   ab      100 non-null    int64  \n",
      " 8   r       100 non-null    int64  \n",
      " 9   h       100 non-null    int64  \n",
      " 10  X2b     100 non-null    int64  \n",
      " 11  X3b     100 non-null    int64  \n",
      " 12  hr      100 non-null    int64  \n",
      " 13  rbi     100 non-null    float64\n",
      " 14  sb      100 non-null    float64\n",
      " 15  cs      100 non-null    float64\n",
      " 16  bb      100 non-null    int64  \n",
      " 17  so      100 non-null    float64\n",
      " 18  ibb     100 non-null    float64\n",
      " 19  hbp     100 non-null    float64\n",
      " 20  sh      100 non-null    float64\n",
      " 21  sf      100 non-null    float64\n",
      " 22  gidp    100 non-null    float64\n",
      "dtypes: float64(9), int64(11), object(3)\n",
      "memory usage: 18.1+ KB\n"
     ]
    }
   ],
   "source": [
    "baseball.info()"
   ]
  },
  {
   "cell_type": "markdown",
   "id": "68edaf0f-fb89-4061-a303-27efbbfeb617",
   "metadata": {},
   "source": [
    "You can adjust the max width of the individual columns by setting `display.max_colwidth`"
   ]
  },
  {
   "cell_type": "code",
   "execution_count": 83,
   "id": "b562df30-da0c-4583-a2c2-c926c26fd4e1",
   "metadata": {},
   "outputs": [],
   "source": [
    "datafile = {\n",
    "    \"filename\": [\"filename_01\", \"filename_02\"],\n",
    "    \"path\": [\n",
    "        \"media/user_name/storage/folder_01/filename_01\",\n",
    "        \"media/user_name/storage/folder_02/filename_02\",\n",
    "    ],\n",
    "}"
   ]
  },
  {
   "cell_type": "code",
   "execution_count": 84,
   "id": "1c156179-f03f-499c-8db2-980714393a94",
   "metadata": {},
   "outputs": [],
   "source": [
    "pd.set_option(\"display.max_colwidth\", 30)"
   ]
  },
  {
   "cell_type": "code",
   "execution_count": 85,
   "id": "7357478d-e8dc-449a-98f2-c121cbadbe63",
   "metadata": {},
   "outputs": [
    {
     "data": {
      "text/html": [
       "<div>\n",
       "<style scoped>\n",
       "    .dataframe tbody tr th:only-of-type {\n",
       "        vertical-align: middle;\n",
       "    }\n",
       "\n",
       "    .dataframe tbody tr th {\n",
       "        vertical-align: top;\n",
       "    }\n",
       "\n",
       "    .dataframe thead th {\n",
       "        text-align: right;\n",
       "    }\n",
       "</style>\n",
       "<table border=\"1\" class=\"dataframe\">\n",
       "  <thead>\n",
       "    <tr style=\"text-align: right;\">\n",
       "      <th></th>\n",
       "      <th>filename</th>\n",
       "      <th>path</th>\n",
       "    </tr>\n",
       "  </thead>\n",
       "  <tbody>\n",
       "    <tr>\n",
       "      <th>0</th>\n",
       "      <td>filename_01</td>\n",
       "      <td>media/user_name/storage/fo...</td>\n",
       "    </tr>\n",
       "    <tr>\n",
       "      <th>1</th>\n",
       "      <td>filename_02</td>\n",
       "      <td>media/user_name/storage/fo...</td>\n",
       "    </tr>\n",
       "  </tbody>\n",
       "</table>\n",
       "</div>"
      ],
      "text/plain": [
       "      filename  \\\n",
       "0  filename_01   \n",
       "1  filename_02   \n",
       "\n",
       "                            path  \n",
       "0  media/user_name/storage/fo...  \n",
       "1  media/user_name/storage/fo...  "
      ]
     },
     "execution_count": 85,
     "metadata": {},
     "output_type": "execute_result"
    }
   ],
   "source": [
    "pd.DataFrame(datafile)"
   ]
  },
  {
   "cell_type": "code",
   "execution_count": 86,
   "id": "42b7f030-2a4b-41f2-8934-e88a302cda9f",
   "metadata": {},
   "outputs": [],
   "source": [
    "pd.set_option(\"display.max_colwidth\", 100)"
   ]
  },
  {
   "cell_type": "code",
   "execution_count": 87,
   "id": "a2bdc90b-819e-4d6c-ab38-67d953b170b4",
   "metadata": {},
   "outputs": [
    {
     "data": {
      "text/html": [
       "<div>\n",
       "<style scoped>\n",
       "    .dataframe tbody tr th:only-of-type {\n",
       "        vertical-align: middle;\n",
       "    }\n",
       "\n",
       "    .dataframe tbody tr th {\n",
       "        vertical-align: top;\n",
       "    }\n",
       "\n",
       "    .dataframe thead th {\n",
       "        text-align: right;\n",
       "    }\n",
       "</style>\n",
       "<table border=\"1\" class=\"dataframe\">\n",
       "  <thead>\n",
       "    <tr style=\"text-align: right;\">\n",
       "      <th></th>\n",
       "      <th>filename</th>\n",
       "      <th>path</th>\n",
       "    </tr>\n",
       "  </thead>\n",
       "  <tbody>\n",
       "    <tr>\n",
       "      <th>0</th>\n",
       "      <td>filename_01</td>\n",
       "      <td>media/user_name/storage/folder_01/filename_01</td>\n",
       "    </tr>\n",
       "    <tr>\n",
       "      <th>1</th>\n",
       "      <td>filename_02</td>\n",
       "      <td>media/user_name/storage/folder_02/filename_02</td>\n",
       "    </tr>\n",
       "  </tbody>\n",
       "</table>\n",
       "</div>"
      ],
      "text/plain": [
       "      filename  \\\n",
       "0  filename_01   \n",
       "1  filename_02   \n",
       "\n",
       "                                            path  \n",
       "0  media/user_name/storage/folder_01/filename_01  \n",
       "1  media/user_name/storage/folder_02/filename_02  "
      ]
     },
     "execution_count": 87,
     "metadata": {},
     "output_type": "execute_result"
    }
   ],
   "source": [
    "pd.DataFrame(datafile)"
   ]
  },
  {
   "cell_type": "markdown",
   "id": "9df180b0-b7aa-486b-ac68-bf47e42c0887",
   "metadata": {},
   "source": [
    "You can also set this settings with:"
   ]
  },
  {
   "cell_type": "code",
   "execution_count": 86,
   "id": "7d7eb0f2-9356-443c-b01f-ec0de8410e39",
   "metadata": {},
   "outputs": [],
   "source": [
    "pd.options.display.max_colwidth = 100"
   ]
  },
  {
   "cell_type": "markdown",
   "id": "8552a70a-3ce7-476d-82a5-3ea465f136a1",
   "metadata": {},
   "source": [
    "Similar settings also exist for:\n",
    "- `pd.options.display.max_rows`\n",
    "- `pd.options.display.max_columns`\n",
    "- `pd.options.display.precision`\n",
    "\n",
    "The `precision` option sets the number of decimals to be displayed in a dataframe."
   ]
  },
  {
   "cell_type": "code",
   "execution_count": 90,
   "id": "61b7bd67-85b6-4304-bdee-38233f0c064d",
   "metadata": {},
   "outputs": [
    {
     "data": {
      "text/html": [
       "<div>\n",
       "<style scoped>\n",
       "    .dataframe tbody tr th:only-of-type {\n",
       "        vertical-align: middle;\n",
       "    }\n",
       "\n",
       "    .dataframe tbody tr th {\n",
       "        vertical-align: top;\n",
       "    }\n",
       "\n",
       "    .dataframe thead th {\n",
       "        text-align: right;\n",
       "    }\n",
       "</style>\n",
       "<table border=\"1\" class=\"dataframe\">\n",
       "  <thead>\n",
       "    <tr style=\"text-align: right;\">\n",
       "      <th></th>\n",
       "      <th>0</th>\n",
       "      <th>1</th>\n",
       "      <th>2</th>\n",
       "      <th>3</th>\n",
       "    </tr>\n",
       "  </thead>\n",
       "  <tbody>\n",
       "    <tr>\n",
       "      <th>0</th>\n",
       "      <td>0.561481</td>\n",
       "      <td>0.170352</td>\n",
       "      <td>0.114887</td>\n",
       "      <td>0.666560</td>\n",
       "    </tr>\n",
       "    <tr>\n",
       "      <th>1</th>\n",
       "      <td>0.173273</td>\n",
       "      <td>0.436498</td>\n",
       "      <td>0.459674</td>\n",
       "      <td>0.452534</td>\n",
       "    </tr>\n",
       "    <tr>\n",
       "      <th>2</th>\n",
       "      <td>0.186400</td>\n",
       "      <td>0.870457</td>\n",
       "      <td>0.243567</td>\n",
       "      <td>0.702583</td>\n",
       "    </tr>\n",
       "  </tbody>\n",
       "</table>\n",
       "</div>"
      ],
      "text/plain": [
       "          0         1         2         3\n",
       "0  0.561481  0.170352  0.114887  0.666560\n",
       "1  0.173273  0.436498  0.459674  0.452534\n",
       "2  0.186400  0.870457  0.243567  0.702583"
      ]
     },
     "execution_count": 90,
     "metadata": {},
     "output_type": "execute_result"
    }
   ],
   "source": [
    "df = pd.DataFrame(np.random.rand(3, 4))\n",
    "df"
   ]
  },
  {
   "cell_type": "code",
   "execution_count": 91,
   "id": "ad2d1b73-74b6-441f-8aa0-2afeed870dd5",
   "metadata": {},
   "outputs": [],
   "source": [
    "pd.options.display.precision = 3"
   ]
  },
  {
   "cell_type": "code",
   "execution_count": 92,
   "id": "e331a268-ee61-4dbc-9f0b-f4125c6188cc",
   "metadata": {},
   "outputs": [
    {
     "data": {
      "text/html": [
       "<div>\n",
       "<style scoped>\n",
       "    .dataframe tbody tr th:only-of-type {\n",
       "        vertical-align: middle;\n",
       "    }\n",
       "\n",
       "    .dataframe tbody tr th {\n",
       "        vertical-align: top;\n",
       "    }\n",
       "\n",
       "    .dataframe thead th {\n",
       "        text-align: right;\n",
       "    }\n",
       "</style>\n",
       "<table border=\"1\" class=\"dataframe\">\n",
       "  <thead>\n",
       "    <tr style=\"text-align: right;\">\n",
       "      <th></th>\n",
       "      <th>0</th>\n",
       "      <th>1</th>\n",
       "      <th>2</th>\n",
       "      <th>3</th>\n",
       "    </tr>\n",
       "  </thead>\n",
       "  <tbody>\n",
       "    <tr>\n",
       "      <th>0</th>\n",
       "      <td>0.561</td>\n",
       "      <td>0.170</td>\n",
       "      <td>0.115</td>\n",
       "      <td>0.667</td>\n",
       "    </tr>\n",
       "    <tr>\n",
       "      <th>1</th>\n",
       "      <td>0.173</td>\n",
       "      <td>0.436</td>\n",
       "      <td>0.460</td>\n",
       "      <td>0.453</td>\n",
       "    </tr>\n",
       "    <tr>\n",
       "      <th>2</th>\n",
       "      <td>0.186</td>\n",
       "      <td>0.870</td>\n",
       "      <td>0.244</td>\n",
       "      <td>0.703</td>\n",
       "    </tr>\n",
       "  </tbody>\n",
       "</table>\n",
       "</div>"
      ],
      "text/plain": [
       "       0      1      2      3\n",
       "0  0.561  0.170  0.115  0.667\n",
       "1  0.173  0.436  0.460  0.453\n",
       "2  0.186  0.870  0.244  0.703"
      ]
     },
     "execution_count": 92,
     "metadata": {},
     "output_type": "execute_result"
    }
   ],
   "source": [
    "df"
   ]
  },
  {
   "cell_type": "markdown",
   "id": "05071654-051d-4eb7-8e2b-e0ceac873c31",
   "metadata": {},
   "source": [
    "<a class=\"anchor\" id=\"dataframe_column_attribute_access_and_ipython_completion\"></a>\n",
    "## DataFrame column attribute access and IPython completion"
   ]
  },
  {
   "cell_type": "markdown",
   "id": "7d6abc65-031a-4b2e-b1f3-2c29e84f9c6a",
   "metadata": {},
   "source": [
    "If a DataFrame column label is a valid Python variable name, the column can be\n",
    "accessed like an attribute:"
   ]
  },
  {
   "cell_type": "code",
   "execution_count": 88,
   "id": "68595053-89ce-49ad-99f7-356f0f4098ee",
   "metadata": {},
   "outputs": [
    {
     "data": {
      "text/html": [
       "<div>\n",
       "<style scoped>\n",
       "    .dataframe tbody tr th:only-of-type {\n",
       "        vertical-align: middle;\n",
       "    }\n",
       "\n",
       "    .dataframe tbody tr th {\n",
       "        vertical-align: top;\n",
       "    }\n",
       "\n",
       "    .dataframe thead th {\n",
       "        text-align: right;\n",
       "    }\n",
       "</style>\n",
       "<table border=\"1\" class=\"dataframe\">\n",
       "  <thead>\n",
       "    <tr style=\"text-align: right;\">\n",
       "      <th></th>\n",
       "      <th>foo1</th>\n",
       "      <th>foo2</th>\n",
       "    </tr>\n",
       "  </thead>\n",
       "  <tbody>\n",
       "    <tr>\n",
       "      <th>0</th>\n",
       "      <td>1.347191</td>\n",
       "      <td>-1.724793</td>\n",
       "    </tr>\n",
       "    <tr>\n",
       "      <th>1</th>\n",
       "      <td>0.997323</td>\n",
       "      <td>-0.701355</td>\n",
       "    </tr>\n",
       "    <tr>\n",
       "      <th>2</th>\n",
       "      <td>-1.996298</td>\n",
       "      <td>-1.061464</td>\n",
       "    </tr>\n",
       "    <tr>\n",
       "      <th>3</th>\n",
       "      <td>1.345530</td>\n",
       "      <td>0.210715</td>\n",
       "    </tr>\n",
       "    <tr>\n",
       "      <th>4</th>\n",
       "      <td>0.014961</td>\n",
       "      <td>0.229168</td>\n",
       "    </tr>\n",
       "  </tbody>\n",
       "</table>\n",
       "</div>"
      ],
      "text/plain": [
       "       foo1      foo2\n",
       "0  1.347191 -1.724793\n",
       "1  0.997323 -0.701355\n",
       "2 -1.996298 -1.061464\n",
       "3  1.345530  0.210715\n",
       "4  0.014961  0.229168"
      ]
     },
     "execution_count": 88,
     "metadata": {},
     "output_type": "execute_result"
    }
   ],
   "source": [
    "df = pd.DataFrame({\"foo1\": np.random.randn(5), \"foo2\": np.random.randn(5)})\n",
    "df"
   ]
  },
  {
   "cell_type": "code",
   "execution_count": 89,
   "id": "e1c1dc03-d1f4-4aba-a97f-edcc9800d9ab",
   "metadata": {},
   "outputs": [
    {
     "data": {
      "text/plain": [
       "0    1.347191\n",
       "1    0.997323\n",
       "2   -1.996298\n",
       "3    1.345530\n",
       "4    0.014961\n",
       "Name: foo1, dtype: float64"
      ]
     },
     "execution_count": 89,
     "metadata": {},
     "output_type": "execute_result"
    }
   ],
   "source": [
    "df.foo1"
   ]
  },
  {
   "cell_type": "markdown",
   "id": "11b7f0e6-82df-419d-966e-029f2518245b",
   "metadata": {},
   "source": [
    "The columns are also connected to the [IPython](https://ipython.org)\n",
    "completion mechanism so they can be tab-completed:\n",
    "\n",
    "```python\n",
    "df.foo<TAB>  # noqa: E225, E999\n",
    "```"
   ]
  }
 ],
 "metadata": {
  "kernelspec": {
   "display_name": "Python 3",
   "language": "python",
   "name": "python3"
  },
  "language_info": {
   "codemirror_mode": {
    "name": "ipython",
    "version": 3
   },
   "file_extension": ".py",
   "mimetype": "text/x-python",
   "name": "python",
   "nbconvert_exporter": "python",
   "pygments_lexer": "ipython3",
   "version": "3.8.11"
  }
 },
 "nbformat": 4,
 "nbformat_minor": 5
}
