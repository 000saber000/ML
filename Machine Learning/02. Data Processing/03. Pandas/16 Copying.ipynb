{
 "cells": [
  {
   "cell_type": "markdown",
   "id": "7795f2ed-c58a-4a14-b1cf-e4ea67b3690c",
   "metadata": {},
   "source": [
    "<img src=\"../../../images/banners/pandas-cropped.jpeg\" width=\"600\"/>"
   ]
  },
  {
   "cell_type": "markdown",
   "id": "919a8a5d-5925-42d9-ae5a-d387f1e34059",
   "metadata": {},
   "source": [
    "<a class=\"anchor\" id=\"essential_basic_functionality\"></a>\n",
    "# <img src=\"../../../images/logos/pandas.png\" width=\"23\"/> Copying"
   ]
  },
  {
   "cell_type": "markdown",
   "id": "4bf99153-8064-4911-84ee-8dda9d36a0a1",
   "metadata": {
    "tags": []
   },
   "source": [
    "## <img src=\"../../../images/logos/toc.png\" width=\"20\"/> Table of Contents \n",
    "\n",
    "* [By index](#by_index)\n",
    "* [By values](#by_values)\n",
    "* [By indexes and values](#by_indexes_and_values)\n",
    "* [searchsorted](#searchsorted)\n",
    "* [smallest / largest values](#smallest_/_largest_values)\n",
    "* [Sorting by a MultiIndex column](#sorting_by_a_multiindex_column)\n",
    "\n",
    "---"
   ]
  },
  {
   "cell_type": "code",
   "execution_count": 1,
   "id": "fe37e6bb-eafc-4587-8f7b-2d0602704d2d",
   "metadata": {},
   "outputs": [],
   "source": [
    "import pandas as pd\n",
    "import numpy as np"
   ]
  },
  {
   "cell_type": "markdown",
   "id": "847268ed-0989-4368-aed7-8c5ac0ffbdf2",
   "metadata": {},
   "source": [
    "The [`copy()`](https://pandas.pydata.org/docs/reference/api/pandas.DataFrame.copy.html#pandas.DataFrame.copy) method on pandas objects copies the underlying data (though not\n",
    "the axis indexes, since they are immutable) and returns a new object. Note that\n",
    "**it is seldom necessary to copy objects**. For example, there are only a\n",
    "handful of ways to alter a DataFrame *in-place*:\n",
    "\n",
    "- Inserting, deleting, or modifying a column.\n",
    "- Assigning to the index or columns attributes.\n",
    "- For homogeneous data, directly modifying the values via the values attribute or advanced indexing (Will be discussed later in indexing section)."
   ]
  },
  {
   "cell_type": "markdown",
   "id": "981ea4e1-42db-40d7-9129-0eaaad1c9a81",
   "metadata": {},
   "source": [
    "To be clear, no pandas method has the side effect of modifying your data; almost every method returns a new object, leaving the original object untouched. **If the data is modified, it is because you did so explicitly.**"
   ]
  },
  {
   "cell_type": "markdown",
   "id": "f9be1974-406a-4d61-98a9-860f385c93ad",
   "metadata": {},
   "source": [
    "## Copy Data for Modification"
   ]
  },
  {
   "cell_type": "markdown",
   "id": "ee8ab44c-a888-4acc-b6b6-8e8699f11e2a",
   "metadata": {},
   "source": [
    "Pandas `copy()` function is used to create a copy of the Pandas object. Variables are also used to generate a copy of the object. Still, variables are just pointer to an object, and any change in new data will also change the previous data. For example:"
   ]
  },
  {
   "cell_type": "code",
   "execution_count": 2,
   "id": "8abd034a-b3d3-4139-aaef-2e6456ae98c2",
   "metadata": {},
   "outputs": [
    {
     "data": {
      "text/plain": [
       "0    a\n",
       "1    b\n",
       "2    c\n",
       "3    d\n",
       "dtype: object"
      ]
     },
     "execution_count": 2,
     "metadata": {},
     "output_type": "execute_result"
    }
   ],
   "source": [
    "s = pd.Series(['a', 'b', 'c', 'd'])\n",
    "s"
   ]
  },
  {
   "cell_type": "code",
   "execution_count": 3,
   "id": "bbb362f8-633f-4a10-b40b-4b20cd0b5862",
   "metadata": {},
   "outputs": [],
   "source": [
    "# creating reference of series\n",
    "new_s = s"
   ]
  },
  {
   "cell_type": "code",
   "execution_count": 4,
   "id": "57ff2b60-0654-420a-9add-d5a5f0eab9a5",
   "metadata": {},
   "outputs": [],
   "source": [
    "new_s[1]='Changed value'"
   ]
  },
  {
   "cell_type": "code",
   "execution_count": 5,
   "id": "11c9ad45-0dd2-4f3b-a0e5-56ce9718e95a",
   "metadata": {},
   "outputs": [
    {
     "data": {
      "text/plain": [
       "0                a\n",
       "1    Changed value\n",
       "2                c\n",
       "3                d\n",
       "dtype: object"
      ]
     },
     "execution_count": 5,
     "metadata": {},
     "output_type": "execute_result"
    }
   ],
   "source": [
    "new_s"
   ]
  },
  {
   "cell_type": "code",
   "execution_count": 6,
   "id": "b4588847-8205-44b7-b300-fcbecfe68e90",
   "metadata": {},
   "outputs": [
    {
     "data": {
      "text/plain": [
       "0                a\n",
       "1    Changed value\n",
       "2                c\n",
       "3                d\n",
       "dtype: object"
      ]
     },
     "execution_count": 6,
     "metadata": {},
     "output_type": "execute_result"
    }
   ],
   "source": [
    "s"
   ]
  },
  {
   "cell_type": "markdown",
   "id": "14f18159-954d-4506-b932-84174f80ee09",
   "metadata": {},
   "source": [
    "To copy Pandas DataFrame, use the `copy()` method. The `DataFrame.copy()` method makes a copy of the provided object’s indices and data. The `copy()` method accepts one parameter called deep, and it returns the `Series` or `DataFrame` that matches the caller."
   ]
  },
  {
   "cell_type": "code",
   "execution_count": 7,
   "id": "f0d4849f-098e-49d4-a920-0422978e436b",
   "metadata": {},
   "outputs": [
    {
     "data": {
      "text/plain": [
       "0    a\n",
       "1    b\n",
       "2    c\n",
       "3    d\n",
       "dtype: object"
      ]
     },
     "execution_count": 7,
     "metadata": {},
     "output_type": "execute_result"
    }
   ],
   "source": [
    "s = pd.Series(['a', 'b', 'c', 'd'])\n",
    "s"
   ]
  },
  {
   "cell_type": "code",
   "execution_count": 8,
   "id": "23978f5c-67f3-423e-b1c1-90f13bf4058b",
   "metadata": {},
   "outputs": [],
   "source": [
    "new_s = s.copy()"
   ]
  },
  {
   "cell_type": "code",
   "execution_count": 9,
   "id": "9d03bb16-e628-44f2-a7bf-62769dbde246",
   "metadata": {},
   "outputs": [],
   "source": [
    "new_s[1]='Changed value'"
   ]
  },
  {
   "cell_type": "code",
   "execution_count": 10,
   "id": "9a1798e8-a9ee-4077-8a51-3e6ddec82a59",
   "metadata": {},
   "outputs": [
    {
     "data": {
      "text/plain": [
       "0                a\n",
       "1    Changed value\n",
       "2                c\n",
       "3                d\n",
       "dtype: object"
      ]
     },
     "execution_count": 10,
     "metadata": {},
     "output_type": "execute_result"
    }
   ],
   "source": [
    "new_s"
   ]
  },
  {
   "cell_type": "code",
   "execution_count": 11,
   "id": "a5b6bff8-777b-4692-9060-9801c425a5fd",
   "metadata": {},
   "outputs": [
    {
     "data": {
      "text/plain": [
       "0    a\n",
       "1    b\n",
       "2    c\n",
       "3    d\n",
       "dtype: object"
      ]
     },
     "execution_count": 11,
     "metadata": {},
     "output_type": "execute_result"
    }
   ],
   "source": [
    "s"
   ]
  },
  {
   "cell_type": "markdown",
   "id": "f03da97a-a9ee-4a6d-bc20-68b4c2de1cf3",
   "metadata": {},
   "source": [
    "When `deep=True` (default), the new object will be generated with a copy of a calling object’s data and indices. Changes to the data or indices of the copy will not be flashed in the original object."
   ]
  },
  {
   "cell_type": "markdown",
   "id": "b0b145e0-60f4-4ff8-98ef-852da3f9bb29",
   "metadata": {},
   "source": [
    "<img src=\"../images/pandas/deepcopy.jpg\" width=\"400\"/>"
   ]
  },
  {
   "cell_type": "markdown",
   "id": "0b991e84-51e5-4985-9aa6-419b3e1130f9",
   "metadata": {},
   "source": [
    "When `deep=False`, the new object will be generated without copying the calling object’s data or index (only references to the data and Index are copied). Any modifications to the data of the original will be followed in the shallow copy (and vice versa)."
   ]
  },
  {
   "cell_type": "markdown",
   "id": "3d8e2ae7-a8ca-47bb-86a8-3327651dfb1c",
   "metadata": {},
   "source": [
    "<img src=\"../images/pandas/shallowcopy.jpg\" width=\"400\"/>"
   ]
  },
  {
   "cell_type": "markdown",
   "id": "ab4dbfe1-4776-4f4c-b2e2-fcfd58423a80",
   "metadata": {},
   "source": [
    "You may be wondering if shallow copy doesn't copy the data, what is the difference between shallow copy and direct assignment? Let's explore it with an example."
   ]
  },
  {
   "cell_type": "code",
   "execution_count": 12,
   "id": "a13cef83-2dbd-45b7-86d5-d9edfffb2cf1",
   "metadata": {},
   "outputs": [
    {
     "data": {
      "text/html": [
       "<div>\n",
       "<style scoped>\n",
       "    .dataframe tbody tr th:only-of-type {\n",
       "        vertical-align: middle;\n",
       "    }\n",
       "\n",
       "    .dataframe tbody tr th {\n",
       "        vertical-align: top;\n",
       "    }\n",
       "\n",
       "    .dataframe thead th {\n",
       "        text-align: right;\n",
       "    }\n",
       "</style>\n",
       "<table border=\"1\" class=\"dataframe\">\n",
       "  <thead>\n",
       "    <tr style=\"text-align: right;\">\n",
       "      <th></th>\n",
       "      <th>int</th>\n",
       "      <th>string</th>\n",
       "    </tr>\n",
       "  </thead>\n",
       "  <tbody>\n",
       "    <tr>\n",
       "      <th>0</th>\n",
       "      <td>1</td>\n",
       "      <td>a</td>\n",
       "    </tr>\n",
       "    <tr>\n",
       "      <th>1</th>\n",
       "      <td>2</td>\n",
       "      <td>b</td>\n",
       "    </tr>\n",
       "  </tbody>\n",
       "</table>\n",
       "</div>"
      ],
      "text/plain": [
       "   int string\n",
       "0    1      a\n",
       "1    2      b"
      ]
     },
     "execution_count": 12,
     "metadata": {},
     "output_type": "execute_result"
    }
   ],
   "source": [
    "df = pd.DataFrame(\n",
    "    [[1, 'a'], [2, 'b']],\n",
    "    columns=['int', 'string']\n",
    ")\n",
    "\n",
    "df"
   ]
  },
  {
   "cell_type": "code",
   "execution_count": 13,
   "id": "66e1e357-effd-40f7-b823-341227370826",
   "metadata": {},
   "outputs": [],
   "source": [
    "new_df = df"
   ]
  },
  {
   "cell_type": "code",
   "execution_count": 14,
   "id": "550fcf48-f889-4d51-a12a-c9bca316a88c",
   "metadata": {},
   "outputs": [],
   "source": [
    "new_df['new_column'] = 0"
   ]
  },
  {
   "cell_type": "code",
   "execution_count": 15,
   "id": "7812ec89-ddd3-4433-97e4-c1f02a73d8a8",
   "metadata": {},
   "outputs": [
    {
     "data": {
      "text/html": [
       "<div>\n",
       "<style scoped>\n",
       "    .dataframe tbody tr th:only-of-type {\n",
       "        vertical-align: middle;\n",
       "    }\n",
       "\n",
       "    .dataframe tbody tr th {\n",
       "        vertical-align: top;\n",
       "    }\n",
       "\n",
       "    .dataframe thead th {\n",
       "        text-align: right;\n",
       "    }\n",
       "</style>\n",
       "<table border=\"1\" class=\"dataframe\">\n",
       "  <thead>\n",
       "    <tr style=\"text-align: right;\">\n",
       "      <th></th>\n",
       "      <th>int</th>\n",
       "      <th>string</th>\n",
       "      <th>new_column</th>\n",
       "    </tr>\n",
       "  </thead>\n",
       "  <tbody>\n",
       "    <tr>\n",
       "      <th>0</th>\n",
       "      <td>1</td>\n",
       "      <td>a</td>\n",
       "      <td>0</td>\n",
       "    </tr>\n",
       "    <tr>\n",
       "      <th>1</th>\n",
       "      <td>2</td>\n",
       "      <td>b</td>\n",
       "      <td>0</td>\n",
       "    </tr>\n",
       "  </tbody>\n",
       "</table>\n",
       "</div>"
      ],
      "text/plain": [
       "   int string  new_column\n",
       "0    1      a           0\n",
       "1    2      b           0"
      ]
     },
     "execution_count": 15,
     "metadata": {},
     "output_type": "execute_result"
    }
   ],
   "source": [
    "new_df"
   ]
  },
  {
   "cell_type": "code",
   "execution_count": 16,
   "id": "b1b35f90-5a62-4d43-bf1a-831e2e49dad7",
   "metadata": {},
   "outputs": [
    {
     "data": {
      "text/html": [
       "<div>\n",
       "<style scoped>\n",
       "    .dataframe tbody tr th:only-of-type {\n",
       "        vertical-align: middle;\n",
       "    }\n",
       "\n",
       "    .dataframe tbody tr th {\n",
       "        vertical-align: top;\n",
       "    }\n",
       "\n",
       "    .dataframe thead th {\n",
       "        text-align: right;\n",
       "    }\n",
       "</style>\n",
       "<table border=\"1\" class=\"dataframe\">\n",
       "  <thead>\n",
       "    <tr style=\"text-align: right;\">\n",
       "      <th></th>\n",
       "      <th>int</th>\n",
       "      <th>string</th>\n",
       "      <th>new_column</th>\n",
       "    </tr>\n",
       "  </thead>\n",
       "  <tbody>\n",
       "    <tr>\n",
       "      <th>0</th>\n",
       "      <td>1</td>\n",
       "      <td>a</td>\n",
       "      <td>0</td>\n",
       "    </tr>\n",
       "    <tr>\n",
       "      <th>1</th>\n",
       "      <td>2</td>\n",
       "      <td>b</td>\n",
       "      <td>0</td>\n",
       "    </tr>\n",
       "  </tbody>\n",
       "</table>\n",
       "</div>"
      ],
      "text/plain": [
       "   int string  new_column\n",
       "0    1      a           0\n",
       "1    2      b           0"
      ]
     },
     "execution_count": 16,
     "metadata": {},
     "output_type": "execute_result"
    }
   ],
   "source": [
    "df"
   ]
  },
  {
   "cell_type": "code",
   "execution_count": 17,
   "id": "a22465c6-b697-4885-a633-3c12adb78595",
   "metadata": {},
   "outputs": [
    {
     "data": {
      "text/plain": [
       "(True, True)"
      ]
     },
     "execution_count": 17,
     "metadata": {},
     "output_type": "execute_result"
    }
   ],
   "source": [
    "df.int is new_df.int, df.string is new_df.string"
   ]
  },
  {
   "cell_type": "code",
   "execution_count": 18,
   "id": "a02bb32f-041f-4b4c-921f-7e526bd65b45",
   "metadata": {},
   "outputs": [
    {
     "data": {
      "text/plain": [
       "True"
      ]
     },
     "execution_count": 18,
     "metadata": {},
     "output_type": "execute_result"
    }
   ],
   "source": [
    "df.index is new_df.index"
   ]
  },
  {
   "cell_type": "code",
   "execution_count": 19,
   "id": "a475dc4b-fe9c-4886-9654-c5b1533a12ee",
   "metadata": {},
   "outputs": [
    {
     "data": {
      "text/plain": [
       "True"
      ]
     },
     "execution_count": 19,
     "metadata": {},
     "output_type": "execute_result"
    }
   ],
   "source": [
    "df.new_column is new_df.new_column"
   ]
  },
  {
   "cell_type": "markdown",
   "id": "74ecf148-62b4-49ab-9b56-0962f87e376d",
   "metadata": {},
   "source": [
    "A simple assignment reflects the changes. Let's see shallow copy now:"
   ]
  },
  {
   "cell_type": "code",
   "execution_count": 20,
   "id": "4fc10ea2-32e0-45f6-bb72-645c3a58dcce",
   "metadata": {},
   "outputs": [
    {
     "data": {
      "text/html": [
       "<div>\n",
       "<style scoped>\n",
       "    .dataframe tbody tr th:only-of-type {\n",
       "        vertical-align: middle;\n",
       "    }\n",
       "\n",
       "    .dataframe tbody tr th {\n",
       "        vertical-align: top;\n",
       "    }\n",
       "\n",
       "    .dataframe thead th {\n",
       "        text-align: right;\n",
       "    }\n",
       "</style>\n",
       "<table border=\"1\" class=\"dataframe\">\n",
       "  <thead>\n",
       "    <tr style=\"text-align: right;\">\n",
       "      <th></th>\n",
       "      <th>int</th>\n",
       "      <th>string</th>\n",
       "    </tr>\n",
       "  </thead>\n",
       "  <tbody>\n",
       "    <tr>\n",
       "      <th>0</th>\n",
       "      <td>1</td>\n",
       "      <td>a</td>\n",
       "    </tr>\n",
       "    <tr>\n",
       "      <th>1</th>\n",
       "      <td>2</td>\n",
       "      <td>b</td>\n",
       "    </tr>\n",
       "  </tbody>\n",
       "</table>\n",
       "</div>"
      ],
      "text/plain": [
       "   int string\n",
       "0    1      a\n",
       "1    2      b"
      ]
     },
     "execution_count": 20,
     "metadata": {},
     "output_type": "execute_result"
    }
   ],
   "source": [
    "df = pd.DataFrame(\n",
    "    [[1, 'a'], [2, 'b']],\n",
    "    columns=['int', 'string']\n",
    ")\n",
    "\n",
    "df"
   ]
  },
  {
   "cell_type": "code",
   "execution_count": 21,
   "id": "15464a08-aef8-4a84-ae0d-30ba8eff4391",
   "metadata": {},
   "outputs": [],
   "source": [
    "new_df = df.copy(deep=False)"
   ]
  },
  {
   "cell_type": "code",
   "execution_count": 22,
   "id": "de284030-c5a0-4125-a365-e014607ffd41",
   "metadata": {},
   "outputs": [],
   "source": [
    "new_df['new_column'] = 0"
   ]
  },
  {
   "cell_type": "code",
   "execution_count": 23,
   "id": "29f15a1e-7b47-44ed-99a6-bebe6b339554",
   "metadata": {},
   "outputs": [
    {
     "data": {
      "text/html": [
       "<div>\n",
       "<style scoped>\n",
       "    .dataframe tbody tr th:only-of-type {\n",
       "        vertical-align: middle;\n",
       "    }\n",
       "\n",
       "    .dataframe tbody tr th {\n",
       "        vertical-align: top;\n",
       "    }\n",
       "\n",
       "    .dataframe thead th {\n",
       "        text-align: right;\n",
       "    }\n",
       "</style>\n",
       "<table border=\"1\" class=\"dataframe\">\n",
       "  <thead>\n",
       "    <tr style=\"text-align: right;\">\n",
       "      <th></th>\n",
       "      <th>int</th>\n",
       "      <th>string</th>\n",
       "      <th>new_column</th>\n",
       "    </tr>\n",
       "  </thead>\n",
       "  <tbody>\n",
       "    <tr>\n",
       "      <th>0</th>\n",
       "      <td>1</td>\n",
       "      <td>a</td>\n",
       "      <td>0</td>\n",
       "    </tr>\n",
       "    <tr>\n",
       "      <th>1</th>\n",
       "      <td>2</td>\n",
       "      <td>b</td>\n",
       "      <td>0</td>\n",
       "    </tr>\n",
       "  </tbody>\n",
       "</table>\n",
       "</div>"
      ],
      "text/plain": [
       "   int string  new_column\n",
       "0    1      a           0\n",
       "1    2      b           0"
      ]
     },
     "execution_count": 23,
     "metadata": {},
     "output_type": "execute_result"
    }
   ],
   "source": [
    "new_df"
   ]
  },
  {
   "cell_type": "code",
   "execution_count": 24,
   "id": "356f3d3e-f134-444f-aff2-00f8d9fe1693",
   "metadata": {},
   "outputs": [
    {
     "data": {
      "text/html": [
       "<div>\n",
       "<style scoped>\n",
       "    .dataframe tbody tr th:only-of-type {\n",
       "        vertical-align: middle;\n",
       "    }\n",
       "\n",
       "    .dataframe tbody tr th {\n",
       "        vertical-align: top;\n",
       "    }\n",
       "\n",
       "    .dataframe thead th {\n",
       "        text-align: right;\n",
       "    }\n",
       "</style>\n",
       "<table border=\"1\" class=\"dataframe\">\n",
       "  <thead>\n",
       "    <tr style=\"text-align: right;\">\n",
       "      <th></th>\n",
       "      <th>int</th>\n",
       "      <th>string</th>\n",
       "    </tr>\n",
       "  </thead>\n",
       "  <tbody>\n",
       "    <tr>\n",
       "      <th>0</th>\n",
       "      <td>1</td>\n",
       "      <td>a</td>\n",
       "    </tr>\n",
       "    <tr>\n",
       "      <th>1</th>\n",
       "      <td>2</td>\n",
       "      <td>b</td>\n",
       "    </tr>\n",
       "  </tbody>\n",
       "</table>\n",
       "</div>"
      ],
      "text/plain": [
       "   int string\n",
       "0    1      a\n",
       "1    2      b"
      ]
     },
     "execution_count": 24,
     "metadata": {},
     "output_type": "execute_result"
    }
   ],
   "source": [
    "df"
   ]
  },
  {
   "cell_type": "markdown",
   "id": "6f254f7c-48f4-4ba7-ba6b-9dcd2ab5abdc",
   "metadata": {},
   "source": [
    "As you can see, the new column is not added to the original dataframe as the reference to the dataframe has been copied. In general, a shallow copy allows you\n",
    "\n",
    "- Have access to frames data without copying it (memory optimization, etc.)\n",
    "- Modify frames structure without reflecting it to the original dataframe"
   ]
  },
  {
   "cell_type": "markdown",
   "id": "8e770683-06e0-47f9-9f00-974749adf9a2",
   "metadata": {},
   "source": [
    "Of course, if you won't create a shallow copy, those changes to dataframe structure will reflect in the original one."
   ]
  },
  {
   "cell_type": "markdown",
   "id": "04633c99-e649-4714-b688-cc7a18e9b9f6",
   "metadata": {},
   "source": [
    "Note that the original data is still shared:"
   ]
  },
  {
   "cell_type": "code",
   "execution_count": 25,
   "id": "f83f1eb8-b227-4a71-b7a1-0e0cf211f716",
   "metadata": {},
   "outputs": [
    {
     "data": {
      "text/plain": [
       "True"
      ]
     },
     "execution_count": 25,
     "metadata": {},
     "output_type": "execute_result"
    }
   ],
   "source": [
    "np.may_share_memory(df.string, new_df.string)"
   ]
  },
  {
   "cell_type": "code",
   "execution_count": 26,
   "id": "4aaa4288-c9b1-4717-9e97-a2bba7f69b47",
   "metadata": {},
   "outputs": [
    {
     "data": {
      "text/plain": [
       "True"
      ]
     },
     "execution_count": 26,
     "metadata": {},
     "output_type": "execute_result"
    }
   ],
   "source": [
    "np.may_share_memory(df.int, new_df.int)"
   ]
  },
  {
   "cell_type": "code",
   "execution_count": 27,
   "id": "908c8485-85dd-4f14-a11f-3073e0cd3f30",
   "metadata": {},
   "outputs": [
    {
     "data": {
      "text/plain": [
       "True"
      ]
     },
     "execution_count": 27,
     "metadata": {},
     "output_type": "execute_result"
    }
   ],
   "source": [
    "np.may_share_memory(df.index, new_df.index)"
   ]
  },
  {
   "cell_type": "code",
   "execution_count": 28,
   "id": "159bc5b6-d84c-4df1-a9cd-a1736b6e117a",
   "metadata": {},
   "outputs": [],
   "source": [
    "new_df.at[0, 'string'] = 'new value'"
   ]
  },
  {
   "cell_type": "code",
   "execution_count": 29,
   "id": "773dbfd5-c220-4e48-9a8c-489acc5a64ce",
   "metadata": {},
   "outputs": [
    {
     "data": {
      "text/html": [
       "<div>\n",
       "<style scoped>\n",
       "    .dataframe tbody tr th:only-of-type {\n",
       "        vertical-align: middle;\n",
       "    }\n",
       "\n",
       "    .dataframe tbody tr th {\n",
       "        vertical-align: top;\n",
       "    }\n",
       "\n",
       "    .dataframe thead th {\n",
       "        text-align: right;\n",
       "    }\n",
       "</style>\n",
       "<table border=\"1\" class=\"dataframe\">\n",
       "  <thead>\n",
       "    <tr style=\"text-align: right;\">\n",
       "      <th></th>\n",
       "      <th>int</th>\n",
       "      <th>string</th>\n",
       "      <th>new_column</th>\n",
       "    </tr>\n",
       "  </thead>\n",
       "  <tbody>\n",
       "    <tr>\n",
       "      <th>0</th>\n",
       "      <td>1</td>\n",
       "      <td>new value</td>\n",
       "      <td>0</td>\n",
       "    </tr>\n",
       "    <tr>\n",
       "      <th>1</th>\n",
       "      <td>2</td>\n",
       "      <td>b</td>\n",
       "      <td>0</td>\n",
       "    </tr>\n",
       "  </tbody>\n",
       "</table>\n",
       "</div>"
      ],
      "text/plain": [
       "   int     string  new_column\n",
       "0    1  new value           0\n",
       "1    2          b           0"
      ]
     },
     "execution_count": 29,
     "metadata": {},
     "output_type": "execute_result"
    }
   ],
   "source": [
    "new_df"
   ]
  },
  {
   "cell_type": "code",
   "execution_count": 30,
   "id": "82d3c1b8-edaf-479b-af49-97260ca6d487",
   "metadata": {},
   "outputs": [
    {
     "data": {
      "text/html": [
       "<div>\n",
       "<style scoped>\n",
       "    .dataframe tbody tr th:only-of-type {\n",
       "        vertical-align: middle;\n",
       "    }\n",
       "\n",
       "    .dataframe tbody tr th {\n",
       "        vertical-align: top;\n",
       "    }\n",
       "\n",
       "    .dataframe thead th {\n",
       "        text-align: right;\n",
       "    }\n",
       "</style>\n",
       "<table border=\"1\" class=\"dataframe\">\n",
       "  <thead>\n",
       "    <tr style=\"text-align: right;\">\n",
       "      <th></th>\n",
       "      <th>int</th>\n",
       "      <th>string</th>\n",
       "    </tr>\n",
       "  </thead>\n",
       "  <tbody>\n",
       "    <tr>\n",
       "      <th>0</th>\n",
       "      <td>1</td>\n",
       "      <td>new value</td>\n",
       "    </tr>\n",
       "    <tr>\n",
       "      <th>1</th>\n",
       "      <td>2</td>\n",
       "      <td>b</td>\n",
       "    </tr>\n",
       "  </tbody>\n",
       "</table>\n",
       "</div>"
      ],
      "text/plain": [
       "   int     string\n",
       "0    1  new value\n",
       "1    2          b"
      ]
     },
     "execution_count": 30,
     "metadata": {},
     "output_type": "execute_result"
    }
   ],
   "source": [
    "df"
   ]
  }
 ],
 "metadata": {
  "kernelspec": {
   "display_name": "Python 3",
   "language": "python",
   "name": "python3"
  },
  "language_info": {
   "codemirror_mode": {
    "name": "ipython",
    "version": 3
   },
   "file_extension": ".py",
   "mimetype": "text/x-python",
   "name": "python",
   "nbconvert_exporter": "python",
   "pygments_lexer": "ipython3",
   "version": "3.8.11"
  }
 },
 "nbformat": 4,
 "nbformat_minor": 5
}
