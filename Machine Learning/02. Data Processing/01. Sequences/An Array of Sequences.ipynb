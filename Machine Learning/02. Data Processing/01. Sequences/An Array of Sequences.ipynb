{
 "cells": [
  {
   "cell_type": "markdown",
   "id": "d91592d2-aeba-4ef9-8edd-3961832b7652",
   "metadata": {},
   "source": [
    "<img src=\"../../../images/banners/data_processing.png\" width=\"600\"/>"
   ]
  },
  {
   "cell_type": "markdown",
   "id": "9b027cba-2dc7-48ea-9234-daa02bff1a23",
   "metadata": {
    "tags": []
   },
   "source": [
    "# <img src=\"../../../../images/logos/python.png\" width=\"23\"/> An Array of Sequences \n"
   ]
  },
  {
   "cell_type": "markdown",
   "id": "b9476626",
   "metadata": {},
   "source": [
    "## <img src=\"../../../../images/logos/toc.png\" width=\"20\"/> Table of Contents \n",
    "* [When a List Is Not the Answer](#when_a_list_is_not_the_answer)\n",
    "* [Overview of Built-In Sequences](#overview_of_built-in_sequences)\n",
    "* [Arrays](#arrays)\n",
    "    * [Memory Views](#memory_views)\n",
    "\n",
    "---"
   ]
  },
  {
   "cell_type": "markdown",
   "id": "09345dfa-de2d-4154-938e-6a5ce6c7a723",
   "metadata": {},
   "source": [
    "Before creating Python, Guido was a contributor to the ABC language—a 10-year research project to design a programming environment for beginners. ABC introduced many ideas we now consider “Pythonic”: generic operations on different types of sequences, built-in tuple and mapping types, structure by indentation, strong typing without variable declarations, and more. It’s no accident that Python is so user-friendly."
   ]
  },
  {
   "cell_type": "markdown",
   "id": "5f185ce2-995e-45f1-abe2-40136d0e3758",
   "metadata": {},
   "source": [
    "Python inherited from ABC the uniform handling of sequences. Strings, lists, byte sequences, arrays, XML elements, and database results share a rich set of common operations, including iteration, slicing, sorting, and concatenation."
   ]
  },
  {
   "cell_type": "markdown",
   "id": "c68206a5-6792-41ed-b458-1311cb430062",
   "metadata": {},
   "source": [
    "Understanding the variety of sequences available in Python saves us from reinventing the wheel, and their common interface inspires us to create APIs that properly support and leverage existing and future sequence types."
   ]
  },
  {
   "cell_type": "markdown",
   "id": "7c5ac292-2b57-4eec-b862-e328c49d2063",
   "metadata": {},
   "source": [
    "Most of the discussion in this chapter applies to `list` and `array`. Other general sequences such as `tuple` and `queue` are not for discussion here."
   ]
  },
  {
   "cell_type": "markdown",
   "id": "e07af5ef-6b63-48f0-94ff-c8f81182df1b",
   "metadata": {},
   "source": [
    "<a class=\"anchor\" id=\"when_a_list_is_not_the_answer\"></a>\n",
    "\n",
    "## When a List Is Not the Answer"
   ]
  },
  {
   "cell_type": "markdown",
   "id": "09fcb554-6090-4bce-bde9-4e983603ac45",
   "metadata": {},
   "source": [
    "The `list` type is flexible and easy to use, but depending on specific requirements, there are better options. For example, an `array` saves a lot of memory when you need to handle millions of floating-point values (arrays will be discussed later in details). On the other hand, if you are constantly adding and removing items from opposite ends of a list, it’s good to know that a `deque` (double-ended queue) is a more efficient FIFO14 data structure."
   ]
  },
  {
   "cell_type": "markdown",
   "id": "a0cc008d-a8c5-4bd1-8f7c-e6085177eb85",
   "metadata": {},
   "source": [
    "<a class=\"anchor\" id=\"overview_of_built-in_sequences\"></a>\n",
    "\n",
    "## Overview of Built-In Sequences"
   ]
  },
  {
   "cell_type": "markdown",
   "id": "03abf396-58cd-499d-be67-e064d41e6ede",
   "metadata": {},
   "source": [
    "The standard library offers a rich selection of sequence types implemented in C:\n",
    "\n",
    "- Container sequences\n",
    "> Can hold items of different types, including nested containers. Some examples: `list`, `tuple`, and `collections.deque`.\n",
    "\n",
    "- Flat sequences\n",
    "> Hold items of one simple type. Some examples: `str`, `bytes`, and `array.array`."
   ]
  },
  {
   "cell_type": "markdown",
   "id": "79f14c2e-87f1-4929-b036-b67c51cfd620",
   "metadata": {},
   "source": [
    "A **container sequence** holds references to the objects it contains, which may be of any type, while a **flat sequence** stores the value of its contents in its own memory space, not as distinct Python objects. See Figure 2-1."
   ]
  },
  {
   "cell_type": "markdown",
   "id": "45bd16cf-5c91-4ff0-8d34-7b21e02362f7",
   "metadata": {},
   "source": [
    "<img src=\"../images/an-array-of-sequences/array_list.png\" width=\"600\"/>"
   ]
  },
  {
   "cell_type": "markdown",
   "id": "aaf42b9d-ff58-49b7-a71c-596f2ec05815",
   "metadata": {},
   "source": [
    "Thus, `flat` sequences are more compact, but they are limited to holding primitive machine values like bytes, integers, and floats."
   ]
  },
  {
   "cell_type": "markdown",
   "id": "612f8a14-cbe4-4e8a-af6f-979158ab6a31",
   "metadata": {},
   "source": [
    "Every Python object in memory has a header with metadata. The simplest Python object, a float, has a value field and two metadata fields:\n",
    "\n",
    "- `ob_refcnt`: the object’s reference count\n",
    "- `ob_type`: a pointer to the object’s type\n",
    "- `ob_fval`: a C `double` holding the value of the `float`"
   ]
  },
  {
   "cell_type": "markdown",
   "id": "96d31b28-5c87-4a78-b9cc-4a6f874d5c27",
   "metadata": {},
   "source": [
    "On a 64-bit Python build, each of those fields takes 8 bytes. That’s why an array of floats is much more compact than a tuple of floats: the array is a single object holding the raw values of the floats, while the tuple consists of several objects—the tuple itself and each float object contained in it."
   ]
  },
  {
   "cell_type": "markdown",
   "id": "c440be63-b25e-422f-a54e-d42e13a45b7d",
   "metadata": {},
   "source": [
    "For the remainder of this chapter, we discuss mutable sequence types that can replace lists in many cases, starting with arrays."
   ]
  },
  {
   "cell_type": "markdown",
   "id": "7bf4ba3c-eaa3-4fdb-b25d-f18d287951b0",
   "metadata": {},
   "source": [
    "<a class=\"anchor\" id=\"arrays\"></a>\n",
    "\n",
    "## Arrays"
   ]
  },
  {
   "cell_type": "markdown",
   "id": "bc0fe602-500a-4711-885a-9eb33e80ac85",
   "metadata": {},
   "source": [
    "If a list only contains numbers, an `array.array` is a more efficient replacement. Arrays support all mutable sequence operations (including `.pop`, `.insert`, and `.extend`), as well as additional methods for fast loading and saving, such as `.frombytes` and `.tofile`."
   ]
  },
  {
   "cell_type": "markdown",
   "id": "2987dd2a-a2dd-4a8a-9584-6cc55d292691",
   "metadata": {},
   "source": [
    "Arrays are sequence types and behave very much like lists, except that the type of objects stored in them is constrained. The type is specified at object creation time by using a type code, which is a single character. The following type codes are defined:\n",
    "\n",
    "| Type code| C Type| Python Type| Minimum size in bytes|\n",
    "|:-- |:-- |:-- |:-- |\n",
    "| `'b'` | signed char | int | 1 |\n",
    "| `'B'`| unsigned char| int| 1 |\n",
    "| `'u'` | wchar_t | Unicode character | 2 |\n",
    "| `'h'` | signed short | int | 2 |\n",
    "| `'H'` | unsigned short | int | 2 |\n",
    "| `'i'` | signed int | int | 2 |\n",
    "| `'I'` | unsigned int | int | 2 |\n",
    "| `'l'` | signed long | int | 4 |\n",
    "| `'L'` | unsigned long | int | 4 |\n",
    "| `'q'` | signed long long | int | 8 |\n",
    "| `'Q'` | unsigned long long | int | 8 |\n",
    "| `'f'` | float | float | 4 |\n",
    "| `'d'` | double | float | 8 |"
   ]
  },
  {
   "cell_type": "markdown",
   "id": "ba2a9f07-091f-4587-977f-6814974fa7ee",
   "metadata": {},
   "source": [
    "A Python array is as lean as a C array. As shown in the image above, an `array` of `float` values does not hold full-fledged `float` instances, but only the packed bytes representing their machine values—similar to an array of `double` in the C language. When creating an `array`, you provide a typecode, a letter to determine the underlying C type used to store each item in the array. For example, `b` is the typecode for what C calls a `signed char`, an integer ranging from –128 to 127. If you create an `array('b')`, then each item will be stored in a single byte and interpreted as an integer. For large sequences of numbers, this saves a lot of memory. And Python will not let you put any number that does not match the type for the array."
   ]
  },
  {
   "cell_type": "code",
   "execution_count": 38,
   "id": "673d9129-b998-4f31-b9d0-9873e96b9875",
   "metadata": {},
   "outputs": [],
   "source": [
    "from array import array\n",
    "from random import random"
   ]
  },
  {
   "cell_type": "code",
   "execution_count": 4,
   "id": "1699618e-d76a-495a-a9d9-1488a3b4b617",
   "metadata": {},
   "outputs": [],
   "source": [
    "floats = array('d', (random() for i in range(10**7)))"
   ]
  },
  {
   "cell_type": "code",
   "execution_count": 7,
   "id": "3a7667e8-9d4d-4f72-8142-25cdaa0b5265",
   "metadata": {},
   "outputs": [
    {
     "data": {
      "text/plain": [
       "0.09549897660590423"
      ]
     },
     "execution_count": 7,
     "metadata": {},
     "output_type": "execute_result"
    }
   ],
   "source": [
    "floats[-1]"
   ]
  },
  {
   "cell_type": "code",
   "execution_count": 8,
   "id": "fffc9217-bd4d-4abd-a808-8df90b8c8d40",
   "metadata": {},
   "outputs": [],
   "source": [
    "with open('floats.bin', 'wb') as f:\n",
    "    floats.tofile(f)"
   ]
  },
  {
   "cell_type": "code",
   "execution_count": 9,
   "id": "def27fb8-2e24-4227-bebe-e986660f26a2",
   "metadata": {},
   "outputs": [],
   "source": [
    "floats_2 = array('d')"
   ]
  },
  {
   "cell_type": "code",
   "execution_count": 10,
   "id": "06d16a5e-f949-443d-8372-ddf4ed804910",
   "metadata": {},
   "outputs": [],
   "source": [
    "with open('floats.bin', 'rb') as f:\n",
    "    floats_2.fromfile(f, 10**7)"
   ]
  },
  {
   "cell_type": "code",
   "execution_count": 12,
   "id": "83ace090-7ba5-4a0d-8535-e8db3e49909b",
   "metadata": {},
   "outputs": [
    {
     "data": {
      "text/plain": [
       "0.09549897660590423"
      ]
     },
     "execution_count": 12,
     "metadata": {},
     "output_type": "execute_result"
    }
   ],
   "source": [
    "# Verify that the contents of the arrays match.\n",
    "floats_2[-1]"
   ]
  },
  {
   "cell_type": "code",
   "execution_count": 13,
   "id": "b9ca7dbe-5034-4f4a-b827-d39e45519c85",
   "metadata": {},
   "outputs": [
    {
     "data": {
      "text/plain": [
       "True"
      ]
     },
     "execution_count": 13,
     "metadata": {},
     "output_type": "execute_result"
    }
   ],
   "source": [
    "floats_2 == floats"
   ]
  },
  {
   "cell_type": "markdown",
   "id": "83344225-c1ca-4f7c-ae08-8a442211cb2b",
   "metadata": {},
   "source": [
    "As you can see, `array.tofile` and `array.fromfile` are easy to use. If you try the example, you’ll notice they are also very fast. A quick experiment shows that it takes about 0.1 seconds for `array.fromfile` to load 10 million double-precision floats from a binary file created with `array.tofile`. That is nearly **60 times faster than reading the numbers from a text file**, which also involves parsing each line with the float built-in. Saving with `array.tofile` is about **seven times faster than writing one float per line in a text file**. In addition, the size of the binary file with 10 million doubles is **80,000,000 bytes (8 bytes per double, zero overhead), while the text file has 181,515,739 bytes for the same data**.\n"
   ]
  },
  {
   "cell_type": "markdown",
   "id": "e320a9e8-707f-4af1-bb08-ac040aeda476",
   "metadata": {},
   "source": [
    "If you do a lot of work with arrays and don’t know about memoryview, you’re missing out. See the next topic."
   ]
  },
  {
   "cell_type": "markdown",
   "id": "71951291-5483-4f56-b0bb-100c6080500b",
   "metadata": {},
   "source": [
    "<a class=\"anchor\" id=\"memory_views\"></a>\n",
    "\n",
    "### Memory Views"
   ]
  },
  {
   "cell_type": "markdown",
   "id": "3cb92e94-da24-44ed-b2a1-860eb74efae5",
   "metadata": {},
   "source": [
    "A `memoryview` is essentially a generalized NumPy array structure in Python itself (without the math). It allows you to share memory between data-structures (things like PIL images, SQLlite data-bases, NumPy arrays, etc.) without first copying. This is very important for large data sets."
   ]
  },
  {
   "cell_type": "markdown",
   "id": "070fe63e-6af6-4c54-aed1-87675ff156a9",
   "metadata": {},
   "source": [
    "With it you can do things like memory-map to a very large file, slice a piece of that file and do calculations on that piece (easiest if you are using NumPy)."
   ]
  },
  {
   "cell_type": "markdown",
   "id": "cf8e1a30-c219-4a58-b0c5-94d7c8dfab2f",
   "metadata": {},
   "source": [
    "The built-in `memoryview` class is a shared-memory sequence type that lets you handle slices of arrays without copying bytes. It was inspired by the NumPy library (which we’ll discuss shortly in “NumPy”). Travis Oliphant, lead author of [NumPy](https://learning.oreilly.com/library/view/fluent-python-2nd/9781492056348/ch02.html#numpy_sec), answers the question, [“When should a memoryview be used?”](https://fpy.li/2-17) like this:\n",
    "\n",
    "> A memoryview is essentially a generalized NumPy array structure in Python itself (without the math). It allows you to share memory between data-structures (things like PIL images, SQLite databases, NumPy arrays, etc.) without first copying. This is very important for large data sets."
   ]
  },
  {
   "cell_type": "markdown",
   "id": "ae11ff0b-a5c4-4acd-bc41-6118e4458cec",
   "metadata": {},
   "source": [
    "Using notation similar to the `array` module, the `memoryview.cast` method lets you change the way multiple bytes are read or written as units without moving bits around. `memoryview.cast` returns yet another `memoryview` object, always sharing the same memory."
   ]
  },
  {
   "cell_type": "code",
   "execution_count": 30,
   "id": "1adaccb3-b571-42ae-9ae7-7060c66a0897",
   "metadata": {},
   "outputs": [],
   "source": [
    "from array import array\n",
    "octets = array('b', range(6))"
   ]
  },
  {
   "cell_type": "code",
   "execution_count": 31,
   "id": "11b663af-5511-400d-8c28-e495ba235aa5",
   "metadata": {},
   "outputs": [],
   "source": [
    "m1 = memoryview(octets)"
   ]
  },
  {
   "cell_type": "code",
   "execution_count": 32,
   "id": "3a5ee5b9-b8df-4ad3-bac7-ee7cb6c27927",
   "metadata": {},
   "outputs": [
    {
     "data": {
      "text/plain": [
       "[0, 1, 2, 3, 4, 5]"
      ]
     },
     "execution_count": 32,
     "metadata": {},
     "output_type": "execute_result"
    }
   ],
   "source": [
    "m1.tolist()"
   ]
  },
  {
   "cell_type": "code",
   "execution_count": 33,
   "id": "d4638831-8afa-4337-be17-f7837db20daf",
   "metadata": {},
   "outputs": [],
   "source": [
    "m2 = m1.cast('b', [2, 3])\n",
    "m3 = m1.cast('B', [3, 2])"
   ]
  },
  {
   "cell_type": "code",
   "execution_count": 34,
   "id": "65aebc7e-b934-414b-9558-cc210b61b17e",
   "metadata": {},
   "outputs": [
    {
     "data": {
      "text/plain": [
       "[[0, 1, 2], [3, 4, 5]]"
      ]
     },
     "execution_count": 34,
     "metadata": {},
     "output_type": "execute_result"
    }
   ],
   "source": [
    "m2.tolist()"
   ]
  },
  {
   "cell_type": "code",
   "execution_count": 35,
   "id": "7b152382-9a11-4ce0-aee7-666f5e5a957f",
   "metadata": {},
   "outputs": [],
   "source": [
    "m2[1, 1] = 22"
   ]
  },
  {
   "cell_type": "code",
   "execution_count": 36,
   "id": "5c8ed496-1c40-47d6-b740-c9325210d824",
   "metadata": {},
   "outputs": [],
   "source": [
    "m3[1,1] = 33"
   ]
  },
  {
   "cell_type": "code",
   "execution_count": 37,
   "id": "3a1628a2-4cd8-4d15-8494-a742f2880f42",
   "metadata": {},
   "outputs": [
    {
     "data": {
      "text/plain": [
       "array('b', [0, 1, 2, 33, 22, 5])"
      ]
     },
     "execution_count": 37,
     "metadata": {},
     "output_type": "execute_result"
    }
   ],
   "source": [
    "octets"
   ]
  },
  {
   "cell_type": "markdown",
   "id": "d8a93b90-8ce3-4836-9767-d659a43047db",
   "metadata": {},
   "source": [
    "Meanwhile, if you are doing advanced numeric processing in arrays, you should be using the NumPy libraries. We’ll cover numpy arrays later."
   ]
  }
 ],
 "metadata": {
  "kernelspec": {
   "display_name": "Python 3",
   "language": "python",
   "name": "python3"
  },
  "language_info": {
   "codemirror_mode": {
    "name": "ipython",
    "version": 3
   },
   "file_extension": ".py",
   "mimetype": "text/x-python",
   "name": "python",
   "nbconvert_exporter": "python",
   "pygments_lexer": "ipython3",
   "version": "3.8.11"
  }
 },
 "nbformat": 4,
 "nbformat_minor": 5
}
